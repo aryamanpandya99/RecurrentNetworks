{
 "cells": [
  {
   "cell_type": "code",
   "execution_count": 1,
   "metadata": {},
   "outputs": [],
   "source": [
    "'''\n",
    "Aryaman Pandya \n",
    "Sequential Machine Learning \n",
    "Building a Vanilla RNN \n",
    "Model and trainer implementation \n",
    "Following https://github.com/rasbt/deeplearning-models/blob/master/pytorch_ipynb/rnn/rnn_bi_multilayer_lstm_own_csv_agnews.ipynb\n",
    "implementation minus the memory unit for now \n",
    "'''\n",
    "import torch \n",
    "import pandas as pd\n",
    "import numpy as np\n",
    "from torch.utils.data import random_split\n",
    "from torchtext.data.utils import get_tokenizer\n",
    "from torchtext.vocab import build_vocab_from_iterator\n",
    "import plotly\n",
    "from torchtext.datasets import AG_NEWS\n",
    "from torch import nn\n",
    "from torch.utils.data import Dataset, DataLoader\n",
    "\n",
    "#Class definition of Vanilla RNN \n",
    "class VanillaRNN(nn.Module): \n",
    "    \n",
    "    def __init__(self, vocab_size, embed_size, hidden_size, output_len, num_layers) -> None:\n",
    "        super(VanillaRNN, self).__init__()\n",
    "        \n",
    "        self.encoder = nn.Embedding(vocab_size, embed_size, padding_idx=0)\n",
    "        self.hidden_size = hidden_size \n",
    "        self.output_len = output_len \n",
    "        \n",
    "        self.rnn = nn.RNN(input_size=embed_size, hidden_size=hidden_size, num_layers=num_layers,\n",
    "                                batch_first=True, bidirectional=True)\n",
    "        \n",
    "        self.hidden2label = nn.Linear(2*hidden_size, 4)\n",
    "        self.softmax = nn.LogSoftmax(dim=1)\n",
    "        self.dropoutLayer = nn.Dropout(p=0.5)\n",
    "\n",
    "    def forward(self, x, x_len):\n",
    "        embedded = self.encoder(x)\n",
    "        x_packed = nn.utils.rnn.pack_padded_sequence(embedded, x_len, batch_first=True, enforce_sorted=False)\n",
    "        output, hidden = self.rnn(x_packed)  # Pass the initial hidden state 'h' to the RNN\n",
    "        \n",
    "        \n",
    "        hidden = self.dropoutLayer(torch.cat((hidden[-2,:,:], hidden[-1,:,:]), dim=1))\n",
    "        \n",
    "        # Linear layer and softmax\n",
    "        label_space = self.hidden2label(hidden)\n",
    "        \n",
    "        return label_space\n",
    "\n",
    "    def init_h(self):\n",
    "        return torch.zeros(1, self.hidden_size)"
   ]
  },
  {
   "cell_type": "code",
   "execution_count": 2,
   "metadata": {},
   "outputs": [],
   "source": [
    "train_iter = AG_NEWS(split='train')\n",
    "\n",
    "# Convert to list to enable random splitting\n",
    "train_dataset = list(train_iter)\n",
    "\n",
    "#80-20 train-val split \n",
    "train_size = int(len(train_dataset) * 0.8)  \n",
    "val_size = len(train_dataset) - train_size  \n",
    "train_data, val_data = random_split(train_dataset, [train_size, val_size])\n",
    "\n",
    "tokenizer = get_tokenizer(\"basic_english\")\n",
    "\n",
    "def yield_tokens(data_iter):\n",
    "    for text in data_iter:\n",
    "        yield tokenizer(text)\n",
    "\n",
    "VOCAB_SIZE = 5000\n",
    "\n",
    "# Build vocab based on the train_data\n",
    "train_data_iter = (text for _, text in train_data)\n",
    "vocab = build_vocab_from_iterator(yield_tokens(train_data_iter), specials=[\"<unk>\"], max_tokens=VOCAB_SIZE)\n",
    "vocab.set_default_index(vocab[\"<unk>\"])"
   ]
  },
  {
   "cell_type": "code",
   "execution_count": 3,
   "metadata": {},
   "outputs": [],
   "source": [
    "vocab_size = len(vocab)"
   ]
  },
  {
   "cell_type": "code",
   "execution_count": 4,
   "metadata": {},
   "outputs": [
    {
     "name": "stdout",
     "output_type": "stream",
     "text": [
      "5000\n"
     ]
    }
   ],
   "source": [
    "print(vocab_size)"
   ]
  },
  {
   "attachments": {},
   "cell_type": "markdown",
   "metadata": {},
   "source": [
    "Building the vocabulary builds a dictionary of the most frequently observed words. This dictionary however, is pretty meaningless- it doesn't encode any semantic information about the words and is a simple string to integer mapping for further processing. In our nn model, the encoder (nn.Embedding) takes these integers and maps them to a higher dimensional space in which semantics and meaning is embedded. For example synonyms would be close to one another in vector space. nn.Embedding learns a look-up table that takes in indices of words and returns the corresponding embedding vectors. "
   ]
  },
  {
   "cell_type": "code",
   "execution_count": 5,
   "metadata": {},
   "outputs": [
    {
     "data": {
      "text/plain": [
       "[2125, 1673, 4572, 0]"
      ]
     },
     "execution_count": 5,
     "metadata": {},
     "output_type": "execute_result"
    }
   ],
   "source": [
    "vocab(['word', 'probably', 'unknown', 'gibberish'])"
   ]
  },
  {
   "cell_type": "code",
   "execution_count": 6,
   "metadata": {},
   "outputs": [],
   "source": [
    "text_pipeline = lambda x: vocab(tokenizer(x))\n",
    "label_pipeline = lambda x: int(x) - 1"
   ]
  },
  {
   "cell_type": "code",
   "execution_count": 7,
   "metadata": {},
   "outputs": [
    {
     "data": {
      "text/plain": [
       "['sparks']"
      ]
     },
     "execution_count": 7,
     "metadata": {},
     "output_type": "execute_result"
    }
   ],
   "source": [
    "vocab.lookup_tokens([4999])"
   ]
  },
  {
   "cell_type": "code",
   "execution_count": 8,
   "metadata": {},
   "outputs": [],
   "source": [
    "from torch.nn.utils.rnn import pad_sequence\n",
    "\n",
    "def collate_batch(batch):\n",
    "    device = torch.device(\"cuda\" if torch.cuda.is_available() else \"cpu\")\n",
    "    label_list, text_list, lengths = [], [], []\n",
    "    \n",
    "    # Sort the batch in the descending order\n",
    "    batch.sort(key=lambda x: len(x[1]), reverse=True)\n",
    "    \n",
    "    for _label, _text in batch:\n",
    "        label_list.append(label_pipeline(_label))\n",
    "        processed_text = torch.tensor(text_pipeline(_text), dtype=torch.int64)\n",
    "        text_list.append(processed_text)\n",
    "        lengths.append(processed_text.size(0))\n",
    "        \n",
    "    label_list = torch.tensor(label_list, dtype=torch.int64)\n",
    "    lengths = torch.tensor(lengths, dtype=torch.int64)\n",
    "    \n",
    "    # Pad sequences\n",
    "    text_list = pad_sequence(text_list, batch_first=True)\n",
    "    \n",
    "    return label_list.to(device), text_list.to(device), lengths"
   ]
  },
  {
   "cell_type": "code",
   "execution_count": 9,
   "metadata": {},
   "outputs": [],
   "source": [
    "train_loader = DataLoader(train_data, batch_size = 8, shuffle = True, collate_fn = collate_batch)\n",
    "val_loader = DataLoader(val_data, batch_size = 8, shuffle = False, collate_fn = collate_batch)"
   ]
  },
  {
   "cell_type": "code",
   "execution_count": 10,
   "metadata": {},
   "outputs": [],
   "source": [
    "batch = next(iter(train_loader))\n",
    "\n",
    "# Inspect the shape of the input data\n",
    "input_data = batch[1]  # Assuming the input data is the first element of the batch\n",
    "input_shape = input_data.shape[0]"
   ]
  },
  {
   "cell_type": "code",
   "execution_count": 11,
   "metadata": {},
   "outputs": [
    {
     "data": {
      "text/plain": [
       "8"
      ]
     },
     "execution_count": 11,
     "metadata": {},
     "output_type": "execute_result"
    }
   ],
   "source": [
    "input_shape"
   ]
  },
  {
   "cell_type": "code",
   "execution_count": 12,
   "metadata": {},
   "outputs": [
    {
     "name": "stdout",
     "output_type": "stream",
     "text": [
      "tensor([2, 3, 2, 2, 3, 2, 2, 2], device='cuda:0')\n",
      "tensor([[3499,   16,    9,  457, 1970,   44, 4350,  106,  571,  606,   13,   27,\n",
      "           14,   15, 3499,   16,    9,   87,    1,   41,    5,  262,  258,    1,\n",
      "          264,    1,   27,    1,  312,    1,  311,   80,    0,    1,  137,  313,\n",
      "            0,    1,  513,  260,   10,   57,   26,  581,  457, 1970,  327, 4350,\n",
      "          106,    3,    7,  525,   18,    5,    0,  721,    2,   55,  856,   68,\n",
      "           85,    3,  734,   24,  387,  123,    7,    2,   88,  158,    8,    5,\n",
      "          618, 2696,    1],\n",
      "        [  78,    4,  359,  111,  472,    6,  310,    7,  968,   24,    0,    0,\n",
      "          855,   13,   31,   14,   53,   78,   87,    1,   13, 2660,   14,   33,\n",
      "          665,    5,    0,   23,  171,   11,    0,    8,    0,  263,   90,   25,\n",
      "         2009,    2,  111,  472,    6,   22,  310,  676,  269,   19,  245,    7,\n",
      "          968,    1,    1,    1,    0,    0,    0,    0,    0,    0,    0,    0,\n",
      "            0,    0,    0,    0,    0,    0,    0,    0,    0,    0,    0,    0,\n",
      "            0,    0,    0],\n",
      "        [   0,  781,    3,  666,    0,    0,  684,   13,   27,   14,   27,   15,\n",
      "            2, 4221,    0,    6, 2411,  781,    0,    0,    0,    0,    2,  779,\n",
      "          242,  334,    0,  192,  253,    3, 1288,   93,    6,    2,  131,  156,\n",
      "           51,    1,    9,    1,    0, 1043,  581, 1057,   10,   56,    1,    0,\n",
      "            0,    0,    0,    0,    0,    0,    0,    0,    0,    0,    0,    0,\n",
      "            0,    0,    0,    0,    0,    0,    0,    0,    0,    0,    0,    0,\n",
      "            0,    0,    0],\n",
      "        [   0,  331,   33, 2109,  376,   12,    9, 3479,  517,  226,    0,   87,\n",
      "            1,   33, 1577,  884,    8, 2109,    2,  111,  472,    6,  376,   12,\n",
      "            9, 3595, 1088, 1119,  339,  161,   25,    0,    0,    7, 1321,   59,\n",
      "           22, 4928,    1,    0,    0,    0,    0,    0,    0,    0,    0,    0,\n",
      "            0,    0,    0,    0,    0,    0,    0,    0,    0,    0,    0,    0,\n",
      "            0,    0,    0,    0,    0,    0,    0,    0,    0,    0,    0,    0,\n",
      "            0,    0,    0],\n",
      "        [2423,    0,    0,  219,    1,  629, 2423,   28,   99,  132,    0,    0,\n",
      "          219,    1,  629,    1,   23, 1536, 2112,    2,    0,    0,    3, 2025,\n",
      "          290, 1035,    7,    2, 1005,  472,    6,    0,    3,    8,   23, 1308,\n",
      "            0,    0,   19,  570,   19,    2, 2610,    4,  400, 4991, 1282,    1,\n",
      "            0,    0,    0,    0,    0,    0,    0,    0,    0,    0,    0,    0,\n",
      "            0,    0,    0,    0,    0,    0,    0,    0,    0,    0,    0,    0,\n",
      "            0,    0,    0],\n",
      "        [1095,    4, 1003, 1716,    7,  117,  605, 1344, 1360,   13, 1038,    1,\n",
      "         1340,   14,   53,   36,  849,  247, 1095,   13,    0,   14,   28,    0,\n",
      "            4,  830,    8,   26,   25,   33, 1003, 1716,    7,   22,  605,    7,\n",
      "          117,    4,    0,  161, 1028, 2026,   25,    3,    2,  117, 1605, 1335,\n",
      "          185,    1,    0,    0,    0,    0,    0,    0,    0,    0,    0,    0,\n",
      "            0,    0,    0,    0,    0,    0,    0,    0,    0,    0,    0,    0,\n",
      "            0,    0,    0],\n",
      "        [   0,    0,  150,   44,    3, 4018,  750,    0,    0,   95,   65,    1,\n",
      "           13,    0,    1,  137,  489,    3,  559,    3,  205,   14,    3,    2,\n",
      "          237,    0,    6,    0,    0,    3,   10,   57,   26,  581,  150,  327,\n",
      "           10, 4040,  252,    7,    2,   88,  158,    8,  360,    0,    0,    0,\n",
      "            0,    0,    0,    0,    0,    0,    0,    0,    0,    0,    0,    0,\n",
      "            0,    0,    0,    0,    0,    0,    0,    0,    0,    0,    0,    0,\n",
      "            0,    0,    0],\n",
      "        [ 361,  383, 1310,   11, 3715,   80,    7,    5,    0, 2618,  121,    3,\n",
      "         3715,   13,  489,    3, 2138,   14,   28, 1521,    5, 3640, 1522, 3195,\n",
      "         1984,   18,  546, 2603,   17, 2131,  148,    4, 1573,   22,    0,   13,\n",
      "            0,   14,    0,    1,    0,    0,    0,    0,    0,    0,    0,    0,\n",
      "            0,    0,    0,    0,    0,    0,    0,    0,    0,    0,    0,    0,\n",
      "            0,    0,    0,    0,    0,    0,    0,    0,    0,    0,    0,    0,\n",
      "            0,    0,    0]], device='cuda:0')\n"
     ]
    }
   ],
   "source": [
    "print(batch[0])\n",
    "print(batch[1])"
   ]
  },
  {
   "cell_type": "code",
   "execution_count": 13,
   "metadata": {},
   "outputs": [],
   "source": [
    "LEARNING_RATE = 1e-3\n",
    "BATCH_SIZE = 128\n",
    "NUM_EPOCHS = 50\n",
    "DROPOUT = 0.5\n",
    "DEVICE = torch.device('cuda:0' if torch.cuda.is_available() else 'cpu')\n",
    "\n",
    "EMBEDDING_DIM = 128\n",
    "BIDIRECTIONAL = True\n",
    "HIDDEN_DIM = 256\n",
    "NUM_LAYERS = 2\n",
    "OUTPUT_DIM = 4"
   ]
  },
  {
   "cell_type": "code",
   "execution_count": 14,
   "metadata": {},
   "outputs": [],
   "source": [
    "model = VanillaRNN(vocab_size, EMBEDDING_DIM, HIDDEN_DIM, OUTPUT_DIM, NUM_LAYERS)\n",
    "model = model.to(DEVICE)\n",
    "optimizer = torch.optim.Adam(model.parameters(), lr=LEARNING_RATE)"
   ]
  },
  {
   "cell_type": "code",
   "execution_count": 15,
   "metadata": {},
   "outputs": [],
   "source": [
    "def train(model, train_loader, val_loader, loss_function, optim, epochs, device):\n",
    "    losses = [] #group losses for loss visualization \n",
    "    running_loss = 0.0\n",
    "    for epoch in range(epochs):\n",
    "        model.train()\n",
    "        print(\"Epoch %d / %d\" % (epoch+1, epochs))\n",
    "        print(\"-\"*10)\n",
    "    \n",
    "        for i, batch_data in enumerate(train_loader):\n",
    "            \n",
    "            model.train()\n",
    "            (y, x, x_size) = batch_data\n",
    "            #print(\"Labels: {}, data: {}, x_size.cpu(): {}\".format(batch_data[0], x.shape,x_size.cpu()))\n",
    "\n",
    "            logits = model(x, x_size.cpu())\n",
    "            #print(\"Target size: {}, pred_size: {}\".format(y.size(), logits.size()))\n",
    "            loss = loss_function(logits, y)\n",
    "            optim.zero_grad()\n",
    "            loss.backward()\n",
    "            optim.step()\n",
    "            \n",
    "            running_loss += loss.item()\n",
    "            losses.append(loss)\n",
    "\n",
    "            if (i+1) % 1000 == 0:\n",
    "                print(\"Step: {}, average training loss over last 2000 steps: {:.4f}\".format(i+1, running_loss/1000))\n",
    "                running_loss = 0.0\n",
    "            \n",
    "            model.eval()\n",
    "            val_loss = 0.0\n",
    "        \n",
    "        with torch.no_grad():\n",
    "            for i, batch_data in enumerate(val_loader):\n",
    "                (y, x, x_size) = batch_data\n",
    "                y, x, x_size = y.to(device), x.to(device), x_size.to(device)\n",
    "                \n",
    "                logits = model(x, x_size.cpu())\n",
    "                loss = loss_function(logits, y)\n",
    "                \n",
    "                val_loss += loss.item()\n",
    "        \n",
    "        print(\"Epoch: {}, validation loss: {:.4f}\".format(epoch+1, val_loss/len(val_loader)))"
   ]
  },
  {
   "cell_type": "code",
   "execution_count": 16,
   "metadata": {},
   "outputs": [
    {
     "name": "stdout",
     "output_type": "stream",
     "text": [
      "Epoch 1 / 50\n",
      "----------\n",
      "Step: 1000, average training loss over last 2000 steps: 1.4474\n",
      "Step: 2000, average training loss over last 2000 steps: 1.3629\n",
      "Step: 3000, average training loss over last 2000 steps: 1.2711\n",
      "Step: 4000, average training loss over last 2000 steps: 1.2085\n",
      "Step: 5000, average training loss over last 2000 steps: 1.1605\n",
      "Step: 6000, average training loss over last 2000 steps: 1.1226\n",
      "Step: 7000, average training loss over last 2000 steps: 1.0438\n",
      "Step: 8000, average training loss over last 2000 steps: 1.0283\n",
      "Step: 9000, average training loss over last 2000 steps: 1.0010\n",
      "Step: 10000, average training loss over last 2000 steps: 1.0271\n",
      "Step: 11000, average training loss over last 2000 steps: 0.9627\n",
      "Step: 12000, average training loss over last 2000 steps: 0.9934\n",
      "Epoch: 1, validation loss: 0.8781\n",
      "Epoch 2 / 50\n",
      "----------\n",
      "Step: 1000, average training loss over last 2000 steps: 0.9513\n",
      "Step: 2000, average training loss over last 2000 steps: 0.9146\n",
      "Step: 3000, average training loss over last 2000 steps: 0.8444\n",
      "Step: 4000, average training loss over last 2000 steps: 0.8056\n",
      "Step: 5000, average training loss over last 2000 steps: 0.7359\n",
      "Step: 6000, average training loss over last 2000 steps: 0.6625\n",
      "Step: 7000, average training loss over last 2000 steps: 0.6556\n",
      "Step: 8000, average training loss over last 2000 steps: 0.6651\n",
      "Step: 9000, average training loss over last 2000 steps: 0.8290\n",
      "Step: 10000, average training loss over last 2000 steps: 0.8950\n",
      "Step: 11000, average training loss over last 2000 steps: 0.8122\n",
      "Step: 12000, average training loss over last 2000 steps: 0.7213\n",
      "Epoch: 2, validation loss: 0.6967\n",
      "Epoch 3 / 50\n",
      "----------\n",
      "Step: 1000, average training loss over last 2000 steps: 0.6835\n",
      "Step: 2000, average training loss over last 2000 steps: 0.7124\n",
      "Step: 3000, average training loss over last 2000 steps: 0.7330\n",
      "Step: 4000, average training loss over last 2000 steps: 0.6973\n",
      "Step: 5000, average training loss over last 2000 steps: 0.7229\n",
      "Step: 6000, average training loss over last 2000 steps: 0.7332\n",
      "Step: 7000, average training loss over last 2000 steps: 0.7046\n",
      "Step: 8000, average training loss over last 2000 steps: 0.7095\n",
      "Step: 9000, average training loss over last 2000 steps: 0.6693\n",
      "Step: 10000, average training loss over last 2000 steps: 0.6374\n",
      "Step: 11000, average training loss over last 2000 steps: 0.7362\n",
      "Step: 12000, average training loss over last 2000 steps: 0.6673\n",
      "Epoch: 3, validation loss: 0.6063\n",
      "Epoch 4 / 50\n",
      "----------\n",
      "Step: 1000, average training loss over last 2000 steps: 0.6671\n",
      "Step: 2000, average training loss over last 2000 steps: 0.6538\n",
      "Step: 3000, average training loss over last 2000 steps: 0.6528\n",
      "Step: 4000, average training loss over last 2000 steps: 0.6042\n",
      "Step: 5000, average training loss over last 2000 steps: 0.5986\n",
      "Step: 6000, average training loss over last 2000 steps: 0.6701\n",
      "Step: 7000, average training loss over last 2000 steps: 0.6733\n",
      "Step: 8000, average training loss over last 2000 steps: 0.6175\n",
      "Step: 9000, average training loss over last 2000 steps: 0.6758\n",
      "Step: 10000, average training loss over last 2000 steps: 0.6041\n",
      "Step: 11000, average training loss over last 2000 steps: 0.5893\n",
      "Step: 12000, average training loss over last 2000 steps: 0.6101\n",
      "Epoch: 4, validation loss: 0.5734\n",
      "Epoch 5 / 50\n",
      "----------\n",
      "Step: 1000, average training loss over last 2000 steps: 0.5913\n",
      "Step: 2000, average training loss over last 2000 steps: 0.5908\n",
      "Step: 3000, average training loss over last 2000 steps: 0.5445\n",
      "Step: 4000, average training loss over last 2000 steps: 0.6511\n",
      "Step: 5000, average training loss over last 2000 steps: 0.5819\n",
      "Step: 6000, average training loss over last 2000 steps: 0.5949\n",
      "Step: 7000, average training loss over last 2000 steps: 0.5473\n"
     ]
    }
   ],
   "source": [
    "train(model, train_loader, val_loader, torch.nn.functional.cross_entropy, optimizer, NUM_EPOCHS, DEVICE)"
   ]
  }
 ],
 "metadata": {
  "kernelspec": {
   "display_name": "ml_accel",
   "language": "python",
   "name": "python3"
  },
  "language_info": {
   "codemirror_mode": {
    "name": "ipython",
    "version": 3
   },
   "file_extension": ".py",
   "mimetype": "text/x-python",
   "name": "python",
   "nbconvert_exporter": "python",
   "pygments_lexer": "ipython3",
   "version": "3.8.10"
  },
  "orig_nbformat": 4
 },
 "nbformat": 4,
 "nbformat_minor": 2
}
