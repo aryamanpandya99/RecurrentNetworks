{
 "cells": [
  {
   "cell_type": "code",
   "execution_count": 532,
   "metadata": {},
   "outputs": [],
   "source": [
    "import pandas as pd\n",
    "import matplotlib.pyplot as plt\n",
    "import csv\n",
    "import torch \n",
    "import numpy as np\n",
    "import plotly\n",
    "from torch import nn\n",
    "from sklearn.model_selection import train_test_split"
   ]
  },
  {
   "cell_type": "code",
   "execution_count": 533,
   "metadata": {},
   "outputs": [
    {
     "name": "stdout",
     "output_type": "stream",
     "text": [
      "             Date         Low        Open   Volume        High       Close  \\\n",
      "0      02-01-1970   17.399618   17.423517   330536   17.483271   17.435469   \n",
      "1      05-01-1970   17.495220   17.495220   443504   17.602772   17.602772   \n",
      "2      06-01-1970   17.507170   17.602772   510448   17.638622   17.614723   \n",
      "3      07-01-1970   17.507170   17.614723   479068   17.626673   17.626673   \n",
      "4      08-01-1970   17.566921   17.626673   740568   17.662523   17.662523   \n",
      "...           ...         ...         ...      ...         ...         ...   \n",
      "13351  06-12-2022  146.699997  147.300003  2847600  147.800003  147.500000   \n",
      "13352  07-12-2022  146.289993  147.330002  3971300  148.100006  147.270004   \n",
      "13353  08-12-2022  147.369995  147.899994  2665700  149.149994  147.779999   \n",
      "13354  09-12-2022  146.970001  147.399994  3047600  148.339996  147.050003   \n",
      "13355  12-12-2022  146.942596  147.820007  1049947  148.279999  147.589996   \n",
      "\n",
      "       Adjusted Close  \n",
      "0            4.003040  \n",
      "1            4.041449  \n",
      "2            4.044193  \n",
      "3            4.046936  \n",
      "4            4.055170  \n",
      "...               ...  \n",
      "13351      147.500000  \n",
      "13352      147.270004  \n",
      "13353      147.779999  \n",
      "13354      147.050003  \n",
      "13355      147.589996  \n",
      "\n",
      "[13356 rows x 7 columns]\n"
     ]
    }
   ],
   "source": [
    "df = pd.read_csv('IBM.csv')\n",
    "print(df)"
   ]
  },
  {
   "cell_type": "code",
   "execution_count": 534,
   "metadata": {},
   "outputs": [
    {
     "name": "stdout",
     "output_type": "stream",
     "text": [
      "<class 'pandas.core.frame.DataFrame'>\n",
      "RangeIndex: 13356 entries, 0 to 13355\n",
      "Data columns (total 7 columns):\n",
      " #   Column          Non-Null Count  Dtype  \n",
      "---  ------          --------------  -----  \n",
      " 0   Date            13356 non-null  object \n",
      " 1   Low             13356 non-null  float64\n",
      " 2   Open            13356 non-null  float64\n",
      " 3   Volume          13356 non-null  int64  \n",
      " 4   High            13356 non-null  float64\n",
      " 5   Close           13356 non-null  float64\n",
      " 6   Adjusted Close  13356 non-null  float64\n",
      "dtypes: float64(5), int64(1), object(1)\n",
      "memory usage: 730.5+ KB\n"
     ]
    }
   ],
   "source": [
    "df.info()"
   ]
  },
  {
   "cell_type": "code",
   "execution_count": 535,
   "metadata": {},
   "outputs": [
    {
     "name": "stderr",
     "output_type": "stream",
     "text": [
      "/tmp/ipykernel_36650/2394721818.py:1: UserWarning: Parsing dates in DD/MM/YYYY format when dayfirst=False (the default) was specified. This may lead to inconsistently parsed dates! Specify a format to ensure consistent parsing.\n",
      "  df['Date'] = pd.to_datetime(df['Date'])\n"
     ]
    }
   ],
   "source": [
    "df['Date'] = pd.to_datetime(df['Date'])"
   ]
  },
  {
   "cell_type": "code",
   "execution_count": 536,
   "metadata": {},
   "outputs": [],
   "source": [
    "df.set_index('Date',inplace=True)"
   ]
  },
  {
   "cell_type": "code",
   "execution_count": 537,
   "metadata": {},
   "outputs": [
    {
     "data": {
      "text/html": [
       "<div>\n",
       "<style scoped>\n",
       "    .dataframe tbody tr th:only-of-type {\n",
       "        vertical-align: middle;\n",
       "    }\n",
       "\n",
       "    .dataframe tbody tr th {\n",
       "        vertical-align: top;\n",
       "    }\n",
       "\n",
       "    .dataframe thead th {\n",
       "        text-align: right;\n",
       "    }\n",
       "</style>\n",
       "<table border=\"1\" class=\"dataframe\">\n",
       "  <thead>\n",
       "    <tr style=\"text-align: right;\">\n",
       "      <th></th>\n",
       "      <th>Low</th>\n",
       "      <th>Open</th>\n",
       "      <th>Volume</th>\n",
       "      <th>High</th>\n",
       "      <th>Close</th>\n",
       "      <th>Adjusted Close</th>\n",
       "    </tr>\n",
       "    <tr>\n",
       "      <th>Date</th>\n",
       "      <th></th>\n",
       "      <th></th>\n",
       "      <th></th>\n",
       "      <th></th>\n",
       "      <th></th>\n",
       "      <th></th>\n",
       "    </tr>\n",
       "  </thead>\n",
       "  <tbody>\n",
       "    <tr>\n",
       "      <th>1970-02-01</th>\n",
       "      <td>17.399618</td>\n",
       "      <td>17.423517</td>\n",
       "      <td>330536</td>\n",
       "      <td>17.483271</td>\n",
       "      <td>17.435469</td>\n",
       "      <td>4.003040</td>\n",
       "    </tr>\n",
       "    <tr>\n",
       "      <th>1970-05-01</th>\n",
       "      <td>17.495220</td>\n",
       "      <td>17.495220</td>\n",
       "      <td>443504</td>\n",
       "      <td>17.602772</td>\n",
       "      <td>17.602772</td>\n",
       "      <td>4.041449</td>\n",
       "    </tr>\n",
       "    <tr>\n",
       "      <th>1970-06-01</th>\n",
       "      <td>17.507170</td>\n",
       "      <td>17.602772</td>\n",
       "      <td>510448</td>\n",
       "      <td>17.638622</td>\n",
       "      <td>17.614723</td>\n",
       "      <td>4.044193</td>\n",
       "    </tr>\n",
       "    <tr>\n",
       "      <th>1970-07-01</th>\n",
       "      <td>17.507170</td>\n",
       "      <td>17.614723</td>\n",
       "      <td>479068</td>\n",
       "      <td>17.626673</td>\n",
       "      <td>17.626673</td>\n",
       "      <td>4.046936</td>\n",
       "    </tr>\n",
       "    <tr>\n",
       "      <th>1970-08-01</th>\n",
       "      <td>17.566921</td>\n",
       "      <td>17.626673</td>\n",
       "      <td>740568</td>\n",
       "      <td>17.662523</td>\n",
       "      <td>17.662523</td>\n",
       "      <td>4.055170</td>\n",
       "    </tr>\n",
       "  </tbody>\n",
       "</table>\n",
       "</div>"
      ],
      "text/plain": [
       "                  Low       Open  Volume       High      Close  Adjusted Close\n",
       "Date                                                                          \n",
       "1970-02-01  17.399618  17.423517  330536  17.483271  17.435469        4.003040\n",
       "1970-05-01  17.495220  17.495220  443504  17.602772  17.602772        4.041449\n",
       "1970-06-01  17.507170  17.602772  510448  17.638622  17.614723        4.044193\n",
       "1970-07-01  17.507170  17.614723  479068  17.626673  17.626673        4.046936\n",
       "1970-08-01  17.566921  17.626673  740568  17.662523  17.662523        4.055170"
      ]
     },
     "execution_count": 537,
     "metadata": {},
     "output_type": "execute_result"
    }
   ],
   "source": [
    "df.head()"
   ]
  },
  {
   "cell_type": "code",
   "execution_count": 538,
   "metadata": {},
   "outputs": [
    {
     "data": {
      "text/html": [
       "<div>\n",
       "<style scoped>\n",
       "    .dataframe tbody tr th:only-of-type {\n",
       "        vertical-align: middle;\n",
       "    }\n",
       "\n",
       "    .dataframe tbody tr th {\n",
       "        vertical-align: top;\n",
       "    }\n",
       "\n",
       "    .dataframe thead th {\n",
       "        text-align: right;\n",
       "    }\n",
       "</style>\n",
       "<table border=\"1\" class=\"dataframe\">\n",
       "  <thead>\n",
       "    <tr style=\"text-align: right;\">\n",
       "      <th></th>\n",
       "      <th>Low</th>\n",
       "      <th>Open</th>\n",
       "      <th>Volume</th>\n",
       "      <th>High</th>\n",
       "      <th>Close</th>\n",
       "      <th>Adjusted Close</th>\n",
       "    </tr>\n",
       "    <tr>\n",
       "      <th>Date</th>\n",
       "      <th></th>\n",
       "      <th></th>\n",
       "      <th></th>\n",
       "      <th></th>\n",
       "      <th></th>\n",
       "      <th></th>\n",
       "    </tr>\n",
       "  </thead>\n",
       "  <tbody>\n",
       "    <tr>\n",
       "      <th>2022-06-12</th>\n",
       "      <td>146.699997</td>\n",
       "      <td>147.300003</td>\n",
       "      <td>2847600</td>\n",
       "      <td>147.800003</td>\n",
       "      <td>147.500000</td>\n",
       "      <td>147.500000</td>\n",
       "    </tr>\n",
       "    <tr>\n",
       "      <th>2022-07-12</th>\n",
       "      <td>146.289993</td>\n",
       "      <td>147.330002</td>\n",
       "      <td>3971300</td>\n",
       "      <td>148.100006</td>\n",
       "      <td>147.270004</td>\n",
       "      <td>147.270004</td>\n",
       "    </tr>\n",
       "    <tr>\n",
       "      <th>2022-08-12</th>\n",
       "      <td>147.369995</td>\n",
       "      <td>147.899994</td>\n",
       "      <td>2665700</td>\n",
       "      <td>149.149994</td>\n",
       "      <td>147.779999</td>\n",
       "      <td>147.779999</td>\n",
       "    </tr>\n",
       "    <tr>\n",
       "      <th>2022-09-12</th>\n",
       "      <td>146.970001</td>\n",
       "      <td>147.399994</td>\n",
       "      <td>3047600</td>\n",
       "      <td>148.339996</td>\n",
       "      <td>147.050003</td>\n",
       "      <td>147.050003</td>\n",
       "    </tr>\n",
       "    <tr>\n",
       "      <th>2022-12-12</th>\n",
       "      <td>146.942596</td>\n",
       "      <td>147.820007</td>\n",
       "      <td>1049947</td>\n",
       "      <td>148.279999</td>\n",
       "      <td>147.589996</td>\n",
       "      <td>147.589996</td>\n",
       "    </tr>\n",
       "  </tbody>\n",
       "</table>\n",
       "</div>"
      ],
      "text/plain": [
       "                   Low        Open   Volume        High       Close  \\\n",
       "Date                                                                  \n",
       "2022-06-12  146.699997  147.300003  2847600  147.800003  147.500000   \n",
       "2022-07-12  146.289993  147.330002  3971300  148.100006  147.270004   \n",
       "2022-08-12  147.369995  147.899994  2665700  149.149994  147.779999   \n",
       "2022-09-12  146.970001  147.399994  3047600  148.339996  147.050003   \n",
       "2022-12-12  146.942596  147.820007  1049947  148.279999  147.589996   \n",
       "\n",
       "            Adjusted Close  \n",
       "Date                        \n",
       "2022-06-12      147.500000  \n",
       "2022-07-12      147.270004  \n",
       "2022-08-12      147.779999  \n",
       "2022-09-12      147.050003  \n",
       "2022-12-12      147.589996  "
      ]
     },
     "execution_count": 538,
     "metadata": {},
     "output_type": "execute_result"
    }
   ],
   "source": [
    "df.tail()"
   ]
  },
  {
   "cell_type": "code",
   "execution_count": 539,
   "metadata": {},
   "outputs": [
    {
     "data": {
      "image/png": "[encoded data removed]",
      "text/plain": [
       "<Figure size 640x480 with 1 Axes>"
      ]
     },
     "metadata": {},
     "output_type": "display_data"
    }
   ],
   "source": [
    "plt.plot(df['Close'], linestyle='--')\n",
    "plt.show()"
   ]
  },
  {
   "cell_type": "code",
   "execution_count": 540,
   "metadata": {},
   "outputs": [],
   "source": [
    "class VanillaRNN(nn.Module): \n",
    "    \n",
    "    def __init__(self, len_in, len_h, len_out):\n",
    "        super(VanillaRNN, self).__init__()\n",
    "        self.len_h = len_h #size of hidden state\n",
    "        self.in_h = nn.Linear(len_in + len_h, len_h) #graph module to compute next hidden state \n",
    "        self.in_out = nn.Linear(len_in + len_h, len_out) #computes output \n",
    "\n",
    "    def forward(self, x, h):\n",
    "        #here we choose to concatenate the hidden state and input \n",
    "        #another approach would be to multiply these vectors \n",
    "        combined = torch.cat((x, h), 2) \n",
    "        h_out = nn.Tanh(self.in_h(combined)) \n",
    "        #we choose to produce an output at each timestep\n",
    "        y = self.in_out(combined) \n",
    "        return y, h_out \n",
    "\n",
    "    def init_h(self, batch_size, sequence_length):\n",
    "        #zero initialization \n",
    "        #alternatives include but not limited to Xavier/Kaiminh initialization\n",
    "        return torch.zeros(batch_size, sequence_length, self.len_h, requires_grad=False)"
   ]
  },
  {
   "cell_type": "code",
   "execution_count": 541,
   "metadata": {},
   "outputs": [],
   "source": [
    "def train(model, data_loader, loss_function, optim, epochs, device):\n",
    "    \n",
    "    losses = [] #group losses for loss visualization \n",
    "    \n",
    "    for epoch in range(epochs):\n",
    "        \n",
    "        print(\"Epoch %d / %d\" % (epoch+1, epochs))\n",
    "        print(\"-\"*10)\n",
    "    \n",
    "        for i, (x, y) in enumerate(data_loader):\n",
    "            \n",
    "            if i == 0: \n",
    "                h_s = model.init_h(x.shape[0], x.shape[1]).to(device) \n",
    "            x = x.to(device)\n",
    "            y = y.to(device)\n",
    "            print(x.device)\n",
    "            print(h_s.device)\n",
    "            y_pred, h_out = model(x, h_s)\n",
    "            h_s = h_out\n",
    "            \n",
    "            loss = loss_function(y_pred, y) \n",
    "            losses.append(loss)\n",
    "        \n",
    "            optim.zero_grad()\n",
    "            loss.backward() #backprop \n",
    "            optim.step() #update weights\n",
    "\n",
    "            if(i % 10):\n",
    "              print(\"Step: {}/{}, current Epoch loss: {:.4f}\".format(i, len(data_loader), loss))  "
   ]
  },
  {
   "cell_type": "code",
   "execution_count": 542,
   "metadata": {},
   "outputs": [],
   "source": [
    "def load_data(stock, sequence_length):\n",
    "    # Convert pandas dataframe to numpy array\n",
    "    data_raw = stock.to_numpy()\n",
    "\n",
    "    data = []\n",
    "\n",
    "    # Loop over the stock data to generate sequences of 'sequence_length' consecutive data points\n",
    "    # This is done because RNNs learn to predict data in a sequence from past sequence\n",
    "    for index in range(len(data_raw) - sequence_length):\n",
    "        data.append(data_raw[index: index + sequence_length])\n",
    "\n",
    "    data = np.array(data)\n",
    "    print(data.dtype)\n",
    "    set_size = int(data.shape[0])\n",
    "\n",
    "    # Generate the train data\n",
    "    # x_train is all sequences excluding the last data point from each sequence\n",
    "    x = data[:set_size,:-1,:]\n",
    "    # y_train is the last data point from each sequence\n",
    "    y = data[:set_size,-1,:]\n",
    "\n",
    "    # Return the train and test data\n",
    "    return [x, y]"
   ]
  },
  {
   "cell_type": "code",
   "execution_count": 543,
   "metadata": {},
   "outputs": [
    {
     "name": "stdout",
     "output_type": "stream",
     "text": [
      "float64\n",
      "float64\n"
     ]
    },
    {
     "name": "stderr",
     "output_type": "stream",
     "text": [
      "/tmp/ipykernel_36650/1695855018.py:2: UserWarning: Parsing dates in DD/MM/YYYY format when dayfirst=False (the default) was specified. This may lead to inconsistently parsed dates! Specify a format to ensure consistent parsing.\n",
      "  ibm_df['Date'] = pd.to_datetime(ibm_df['Date'])\n"
     ]
    }
   ],
   "source": [
    "ibm_df = pd.read_csv('IBM.csv')\n",
    "ibm_df['Date'] = pd.to_datetime(ibm_df['Date'])\n",
    "ibm_df.set_index('Date',inplace=True)\n",
    "\n",
    "\n",
    "# Get the number of rows in the DataFrame\n",
    "num_rows = ibm_df.shape[0]\n",
    "\n",
    "# Compute the split point\n",
    "split_point = int(num_rows*0.8)\n",
    "\n",
    "# Split the DataFrame\n",
    "train_df = ibm_df.iloc[:split_point]\n",
    "test_df = ibm_df.iloc[split_point:]\n",
    "\n",
    "x_train, y_train = load_data(train_df, 10) \n",
    "x_test, y_test = load_data(test_df, 10) "
   ]
  },
  {
   "cell_type": "code",
   "execution_count": 544,
   "metadata": {},
   "outputs": [
    {
     "name": "stdout",
     "output_type": "stream",
     "text": [
      "                  Low       Open  Volume       High      Close  Adjusted Close\n",
      "Date                                                                          \n",
      "1970-02-01  17.399618  17.423517  330536  17.483271  17.435469        4.003040\n",
      "1970-05-01  17.495220  17.495220  443504  17.602772  17.602772        4.041449\n",
      "1970-06-01  17.507170  17.602772  510448  17.638622  17.614723        4.044193\n",
      "1970-07-01  17.507170  17.614723  479068  17.626673  17.626673        4.046936\n",
      "1970-08-01  17.566921  17.626673  740568  17.662523  17.662523        4.055170\n"
     ]
    }
   ],
   "source": [
    "print(train_df.head()) #to ensure no shuffling accidentally occurred "
   ]
  },
  {
   "cell_type": "code",
   "execution_count": 545,
   "metadata": {},
   "outputs": [
    {
     "name": "stdout",
     "output_type": "stream",
     "text": [
      "                   Low        Open   Volume        High       Close  \\\n",
      "Date                                                                  \n",
      "2022-06-12  146.699997  147.300003  2847600  147.800003  147.500000   \n",
      "2022-07-12  146.289993  147.330002  3971300  148.100006  147.270004   \n",
      "2022-08-12  147.369995  147.899994  2665700  149.149994  147.779999   \n",
      "2022-09-12  146.970001  147.399994  3047600  148.339996  147.050003   \n",
      "2022-12-12  146.942596  147.820007  1049947  148.279999  147.589996   \n",
      "\n",
      "            Adjusted Close  \n",
      "Date                        \n",
      "2022-06-12      147.500000  \n",
      "2022-07-12      147.270004  \n",
      "2022-08-12      147.779999  \n",
      "2022-09-12      147.050003  \n",
      "2022-12-12      147.589996  \n"
     ]
    }
   ],
   "source": [
    "print(test_df.tail())"
   ]
  },
  {
   "cell_type": "code",
   "execution_count": 546,
   "metadata": {},
   "outputs": [
    {
     "name": "stdout",
     "output_type": "stream",
     "text": [
      "Train input data shape: (10674, 9, 6), target shape: (10674, 6)\n"
     ]
    }
   ],
   "source": [
    "print(\"Train input data shape: {}, target shape: {}\".format(x_train.shape, y_train.shape)) "
   ]
  },
  {
   "cell_type": "code",
   "execution_count": 547,
   "metadata": {},
   "outputs": [
    {
     "name": "stdout",
     "output_type": "stream",
     "text": [
      "Test input data shape: (2662, 9, 6), target shape: (2662, 6)\n"
     ]
    }
   ],
   "source": [
    "print(\"Test input data shape: {}, target shape: {}\".format(x_test.shape, y_test.shape)) "
   ]
  },
  {
   "cell_type": "code",
   "execution_count": 548,
   "metadata": {},
   "outputs": [],
   "source": [
    "x_train = torch.from_numpy(x_train).type(torch.Tensor)\n",
    "x_test = torch.from_numpy(x_test).type(torch.Tensor)\n",
    "y_train = torch.from_numpy(y_train).type(torch.Tensor)\n",
    "y_test = torch.from_numpy(y_test).type(torch.Tensor)"
   ]
  },
  {
   "cell_type": "code",
   "execution_count": 549,
   "metadata": {},
   "outputs": [],
   "source": [
    "train_set = torch.utils.data.TensorDataset(x_train,y_train)\n",
    "test_set = torch.utils.data.TensorDataset(x_test,y_test)"
   ]
  },
  {
   "cell_type": "code",
   "execution_count": 550,
   "metadata": {},
   "outputs": [],
   "source": [
    "NUM_EPOCHS = 50 \n",
    "BATCH_SIZE = 30 \n",
    "LEARNING_RATE = 3e-4\n",
    "INPUT_DIM = 6 \n",
    "OUTPUT_DIM = 1 \n",
    "HIDDEN_DIM = 32 "
   ]
  },
  {
   "cell_type": "code",
   "execution_count": 551,
   "metadata": {},
   "outputs": [],
   "source": [
    "train_loader = torch.utils.data.DataLoader(dataset=train_set, \n",
    "                                           batch_size=BATCH_SIZE, \n",
    "                                           shuffle=False)\n",
    "\n",
    "test_loader = torch.utils.data.DataLoader(dataset=test_set, \n",
    "                                          batch_size=BATCH_SIZE, \n",
    "                                          shuffle=False)"
   ]
  },
  {
   "cell_type": "code",
   "execution_count": 552,
   "metadata": {},
   "outputs": [],
   "source": [
    "model = VanillaRNN(len_in=INPUT_DIM, len_h=HIDDEN_DIM, len_out=OUTPUT_DIM)"
   ]
  },
  {
   "cell_type": "code",
   "execution_count": 553,
   "metadata": {},
   "outputs": [],
   "source": [
    "optimizer = torch.optim.Adam(model.parameters(), lr=LEARNING_RATE)"
   ]
  },
  {
   "cell_type": "code",
   "execution_count": 554,
   "metadata": {},
   "outputs": [],
   "source": [
    "device = torch.device(\"cuda\" if torch.cuda.is_available() else \"cpu\")"
   ]
  },
  {
   "cell_type": "code",
   "execution_count": null,
   "metadata": {},
   "outputs": [],
   "source": [
    "train(model=model, data_loader=train_loader, loss_function=torch.nn.functional.cross_entropy, optim=optimizer, epochs=NUM_EPOCHS, device=device)"
   ]
  }
 ],
 "metadata": {
  "kernelspec": {
   "display_name": "Python 3",
   "language": "python",
   "name": "python3"
  },
  "language_info": {
   "codemirror_mode": {
    "name": "ipython",
    "version": 3
   },
   "file_extension": ".py",
   "mimetype": "text/x-python",
   "name": "python",
   "nbconvert_exporter": "python",
   "pygments_lexer": "ipython3",
   "version": "3.8.10"
  },
  "orig_nbformat": 4,
  "vscode": {
   "interpreter": {
    "hash": "f9f85f796d01129d0dd105a088854619f454435301f6ffec2fea96ecbd9be4ac"
   }
  }
 },
 "nbformat": 4,
 "nbformat_minor": 2
}
