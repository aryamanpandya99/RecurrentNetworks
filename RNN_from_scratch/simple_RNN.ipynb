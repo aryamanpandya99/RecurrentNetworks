{
 "cells": [
  {
   "cell_type": "code",
   "execution_count": 1,
   "metadata": {},
   "outputs": [],
   "source": [
    "import pandas as pd\n",
    "import matplotlib.pyplot as plt\n",
    "import csv\n",
    "import torch \n",
    "import numpy as np\n",
    "import plotly\n",
    "from torch import nn"
   ]
  },
  {
   "cell_type": "code",
   "execution_count": 2,
   "metadata": {},
   "outputs": [
    {
     "name": "stdout",
     "output_type": "stream",
     "text": [
      "             Date         Low        Open   Volume        High       Close  \\\n",
      "0      02-01-1970   17.399618   17.423517   330536   17.483271   17.435469   \n",
      "1      05-01-1970   17.495220   17.495220   443504   17.602772   17.602772   \n",
      "2      06-01-1970   17.507170   17.602772   510448   17.638622   17.614723   \n",
      "3      07-01-1970   17.507170   17.614723   479068   17.626673   17.626673   \n",
      "4      08-01-1970   17.566921   17.626673   740568   17.662523   17.662523   \n",
      "...           ...         ...         ...      ...         ...         ...   \n",
      "13351  06-12-2022  146.699997  147.300003  2847600  147.800003  147.500000   \n",
      "13352  07-12-2022  146.289993  147.330002  3971300  148.100006  147.270004   \n",
      "13353  08-12-2022  147.369995  147.899994  2665700  149.149994  147.779999   \n",
      "13354  09-12-2022  146.970001  147.399994  3047600  148.339996  147.050003   \n",
      "13355  12-12-2022  146.942596  147.820007  1049947  148.279999  147.589996   \n",
      "\n",
      "       Adjusted Close  \n",
      "0            4.003040  \n",
      "1            4.041449  \n",
      "2            4.044193  \n",
      "3            4.046936  \n",
      "4            4.055170  \n",
      "...               ...  \n",
      "13351      147.500000  \n",
      "13352      147.270004  \n",
      "13353      147.779999  \n",
      "13354      147.050003  \n",
      "13355      147.589996  \n",
      "\n",
      "[13356 rows x 7 columns]\n"
     ]
    }
   ],
   "source": [
    "df = pd.read_csv('IBM.csv')\n",
    "print(df)"
   ]
  },
  {
   "cell_type": "code",
   "execution_count": 4,
   "metadata": {},
   "outputs": [
    {
     "name": "stdout",
     "output_type": "stream",
     "text": [
      "<class 'pandas.core.frame.DataFrame'>\n",
      "RangeIndex: 13356 entries, 0 to 13355\n",
      "Data columns (total 7 columns):\n",
      " #   Column          Non-Null Count  Dtype  \n",
      "---  ------          --------------  -----  \n",
      " 0   Date            13356 non-null  object \n",
      " 1   Low             13356 non-null  float64\n",
      " 2   Open            13356 non-null  float64\n",
      " 3   Volume          13356 non-null  int64  \n",
      " 4   High            13356 non-null  float64\n",
      " 5   Close           13356 non-null  float64\n",
      " 6   Adjusted Close  13356 non-null  float64\n",
      "dtypes: float64(5), int64(1), object(1)\n",
      "memory usage: 730.5+ KB\n"
     ]
    }
   ],
   "source": [
    "df.info()"
   ]
  },
  {
   "cell_type": "code",
   "execution_count": 6,
   "metadata": {},
   "outputs": [],
   "source": [
    "df['Date'] = pd.to_datetime(df['Date'])"
   ]
  },
  {
   "cell_type": "code",
   "execution_count": 8,
   "metadata": {},
   "outputs": [],
   "source": [
    "df.set_index('Date',inplace=True)"
   ]
  },
  {
   "cell_type": "code",
   "execution_count": 9,
   "metadata": {},
   "outputs": [
    {
     "data": {
      "text/html": [
       "<div>\n",
       "<style scoped>\n",
       "    .dataframe tbody tr th:only-of-type {\n",
       "        vertical-align: middle;\n",
       "    }\n",
       "\n",
       "    .dataframe tbody tr th {\n",
       "        vertical-align: top;\n",
       "    }\n",
       "\n",
       "    .dataframe thead th {\n",
       "        text-align: right;\n",
       "    }\n",
       "</style>\n",
       "<table border=\"1\" class=\"dataframe\">\n",
       "  <thead>\n",
       "    <tr style=\"text-align: right;\">\n",
       "      <th></th>\n",
       "      <th>Low</th>\n",
       "      <th>Open</th>\n",
       "      <th>Volume</th>\n",
       "      <th>High</th>\n",
       "      <th>Close</th>\n",
       "      <th>Adjusted Close</th>\n",
       "    </tr>\n",
       "    <tr>\n",
       "      <th>Date</th>\n",
       "      <th></th>\n",
       "      <th></th>\n",
       "      <th></th>\n",
       "      <th></th>\n",
       "      <th></th>\n",
       "      <th></th>\n",
       "    </tr>\n",
       "  </thead>\n",
       "  <tbody>\n",
       "    <tr>\n",
       "      <th>1970-02-01</th>\n",
       "      <td>17.399618</td>\n",
       "      <td>17.423517</td>\n",
       "      <td>330536</td>\n",
       "      <td>17.483271</td>\n",
       "      <td>17.435469</td>\n",
       "      <td>4.003040</td>\n",
       "    </tr>\n",
       "    <tr>\n",
       "      <th>1970-05-01</th>\n",
       "      <td>17.495220</td>\n",
       "      <td>17.495220</td>\n",
       "      <td>443504</td>\n",
       "      <td>17.602772</td>\n",
       "      <td>17.602772</td>\n",
       "      <td>4.041449</td>\n",
       "    </tr>\n",
       "    <tr>\n",
       "      <th>1970-06-01</th>\n",
       "      <td>17.507170</td>\n",
       "      <td>17.602772</td>\n",
       "      <td>510448</td>\n",
       "      <td>17.638622</td>\n",
       "      <td>17.614723</td>\n",
       "      <td>4.044193</td>\n",
       "    </tr>\n",
       "    <tr>\n",
       "      <th>1970-07-01</th>\n",
       "      <td>17.507170</td>\n",
       "      <td>17.614723</td>\n",
       "      <td>479068</td>\n",
       "      <td>17.626673</td>\n",
       "      <td>17.626673</td>\n",
       "      <td>4.046936</td>\n",
       "    </tr>\n",
       "    <tr>\n",
       "      <th>1970-08-01</th>\n",
       "      <td>17.566921</td>\n",
       "      <td>17.626673</td>\n",
       "      <td>740568</td>\n",
       "      <td>17.662523</td>\n",
       "      <td>17.662523</td>\n",
       "      <td>4.055170</td>\n",
       "    </tr>\n",
       "  </tbody>\n",
       "</table>\n",
       "</div>"
      ],
      "text/plain": [
       "                  Low       Open  Volume       High      Close  Adjusted Close\n",
       "Date                                                                          \n",
       "1970-02-01  17.399618  17.423517  330536  17.483271  17.435469        4.003040\n",
       "1970-05-01  17.495220  17.495220  443504  17.602772  17.602772        4.041449\n",
       "1970-06-01  17.507170  17.602772  510448  17.638622  17.614723        4.044193\n",
       "1970-07-01  17.507170  17.614723  479068  17.626673  17.626673        4.046936\n",
       "1970-08-01  17.566921  17.626673  740568  17.662523  17.662523        4.055170"
      ]
     },
     "execution_count": 9,
     "metadata": {},
     "output_type": "execute_result"
    }
   ],
   "source": [
    "df.head()"
   ]
  },
  {
   "cell_type": "code",
   "execution_count": 10,
   "metadata": {},
   "outputs": [
    {
     "data": {
      "text/html": [
       "<div>\n",
       "<style scoped>\n",
       "    .dataframe tbody tr th:only-of-type {\n",
       "        vertical-align: middle;\n",
       "    }\n",
       "\n",
       "    .dataframe tbody tr th {\n",
       "        vertical-align: top;\n",
       "    }\n",
       "\n",
       "    .dataframe thead th {\n",
       "        text-align: right;\n",
       "    }\n",
       "</style>\n",
       "<table border=\"1\" class=\"dataframe\">\n",
       "  <thead>\n",
       "    <tr style=\"text-align: right;\">\n",
       "      <th></th>\n",
       "      <th>Low</th>\n",
       "      <th>Open</th>\n",
       "      <th>Volume</th>\n",
       "      <th>High</th>\n",
       "      <th>Close</th>\n",
       "      <th>Adjusted Close</th>\n",
       "    </tr>\n",
       "    <tr>\n",
       "      <th>Date</th>\n",
       "      <th></th>\n",
       "      <th></th>\n",
       "      <th></th>\n",
       "      <th></th>\n",
       "      <th></th>\n",
       "      <th></th>\n",
       "    </tr>\n",
       "  </thead>\n",
       "  <tbody>\n",
       "    <tr>\n",
       "      <th>2022-06-12</th>\n",
       "      <td>146.699997</td>\n",
       "      <td>147.300003</td>\n",
       "      <td>2847600</td>\n",
       "      <td>147.800003</td>\n",
       "      <td>147.500000</td>\n",
       "      <td>147.500000</td>\n",
       "    </tr>\n",
       "    <tr>\n",
       "      <th>2022-07-12</th>\n",
       "      <td>146.289993</td>\n",
       "      <td>147.330002</td>\n",
       "      <td>3971300</td>\n",
       "      <td>148.100006</td>\n",
       "      <td>147.270004</td>\n",
       "      <td>147.270004</td>\n",
       "    </tr>\n",
       "    <tr>\n",
       "      <th>2022-08-12</th>\n",
       "      <td>147.369995</td>\n",
       "      <td>147.899994</td>\n",
       "      <td>2665700</td>\n",
       "      <td>149.149994</td>\n",
       "      <td>147.779999</td>\n",
       "      <td>147.779999</td>\n",
       "    </tr>\n",
       "    <tr>\n",
       "      <th>2022-09-12</th>\n",
       "      <td>146.970001</td>\n",
       "      <td>147.399994</td>\n",
       "      <td>3047600</td>\n",
       "      <td>148.339996</td>\n",
       "      <td>147.050003</td>\n",
       "      <td>147.050003</td>\n",
       "    </tr>\n",
       "    <tr>\n",
       "      <th>2022-12-12</th>\n",
       "      <td>146.942596</td>\n",
       "      <td>147.820007</td>\n",
       "      <td>1049947</td>\n",
       "      <td>148.279999</td>\n",
       "      <td>147.589996</td>\n",
       "      <td>147.589996</td>\n",
       "    </tr>\n",
       "  </tbody>\n",
       "</table>\n",
       "</div>"
      ],
      "text/plain": [
       "                   Low        Open   Volume        High       Close  \\\n",
       "Date                                                                  \n",
       "2022-06-12  146.699997  147.300003  2847600  147.800003  147.500000   \n",
       "2022-07-12  146.289993  147.330002  3971300  148.100006  147.270004   \n",
       "2022-08-12  147.369995  147.899994  2665700  149.149994  147.779999   \n",
       "2022-09-12  146.970001  147.399994  3047600  148.339996  147.050003   \n",
       "2022-12-12  146.942596  147.820007  1049947  148.279999  147.589996   \n",
       "\n",
       "            Adjusted Close  \n",
       "Date                        \n",
       "2022-06-12      147.500000  \n",
       "2022-07-12      147.270004  \n",
       "2022-08-12      147.779999  \n",
       "2022-09-12      147.050003  \n",
       "2022-12-12      147.589996  "
      ]
     },
     "execution_count": 10,
     "metadata": {},
     "output_type": "execute_result"
    }
   ],
   "source": [
    "df.tail()"
   ]
  },
  {
   "cell_type": "code",
   "execution_count": 20,
   "metadata": {},
   "outputs": [
    {
     "data": {
      "image/png": "[encoded data removed]",
      "text/plain": [
       "<Figure size 640x480 with 1 Axes>"
      ]
     },
     "metadata": {},
     "output_type": "display_data"
    }
   ],
   "source": [
    "plt.plot(df['Close'], linestyle='--')\n",
    "plt.show()"
   ]
  },
  {
   "cell_type": "code",
   "execution_count": null,
   "metadata": {},
   "outputs": [],
   "source": [
    "class VanillaRNN(nn.Module): \n",
    "    \n",
    "    def __init__(self, len_in, len_h, len_out):\n",
    "        super(VanillaRNN, self).__init__()\n",
    "        self.len_h = len_h #size of hidden state\n",
    "        self.in_h = nn.Linear(len_in + len_h, len_h) #graph module to compute next hidden state \n",
    "        self.in_out = nn.Linear(len_in + len_h, len_out) #computes output \n",
    "\n",
    "    def forward(self, x, h):\n",
    "        #here we choose to concatenate the hidden state and input \n",
    "        #another approach would be to multiply these vectors \n",
    "        combined = torch.cat((x, h), 1) \n",
    "        h_out = nn.Tanh(self.in_h(combined)) \n",
    "        #we choose to produce an output at each timestep\n",
    "        y = self.in_out(combined) \n",
    "        return y, h_out \n",
    "\n",
    "    def init_h(self):\n",
    "        #zero initialization \n",
    "        #alternatives include but not limited to Xavier/Kaiminh initialization\n",
    "        return torch.zeros(1, self.len_h)"
   ]
  },
  {
   "cell_type": "code",
   "execution_count": null,
   "metadata": {},
   "outputs": [],
   "source": [
    "def train(model, dataset, loss_function, optim, epochs, device):\n",
    "    losses = [] #group losses for loss visualization \n",
    "    \n",
    "    for epoch in range(epochs):\n",
    "        print(\"Epoch %d / %d\" % (epoch+1, epochs))\n",
    "        print(\"-\"*10)\n",
    "    \n",
    "        for i, (x, y) in enumerate(dataset):\n",
    "            h_s = model.init_h() #initialize hidden state for each new sequence \n",
    "            for dp in dataset:\n",
    "                y_pred, h_out = model('''Enter inputs here''')\n",
    "            loss = loss_function(y_pred, y) \n",
    "            losses.append(loss)\n",
    "        \n",
    "            optim.zero_grad()\n",
    "            loss.backward() #backprop \n",
    "            optim.step() #update weights\n",
    "\n",
    "            if(i % 10):\n",
    "              print(\"Step: {}/{}, current Epoch loss: {:.4f}\".format(i, len(dataset), loss))  \n",
    "\n",
    "#splits dataset into training and testing sets \n",
    "def test_train_split(df):\n",
    "    \n",
    "    mask = np.random.rand(len(df)) < 0.8\n",
    "    train = df[mask]\n",
    "    test = df[~mask]\n",
    "\n",
    "    return train[['Date', 'Close']], test[['Date', 'Close']] \n",
    "\n",
    "def batched_data(df, n):\n",
    "    x, y = [], []\n",
    "    for i in range(len(df)-n):\n",
    "        tmp = df[i:(i+n), :]\n",
    "        x.append(tmp)\n",
    "        y.append(df[i+n,:])\n",
    "    return np.array(x), np.array(y)"
   ]
  },
  {
   "cell_type": "code",
   "execution_count": null,
   "metadata": {},
   "outputs": [],
   "source": [
    "ibm_df = pd.read_csv('IBM.csv')\n",
    "train_set, test_set = test_train_split(ibm_df)\n",
    "\n",
    "x, y = batched_data(train_set, 10) # why am I doing this instead of building a dataloader from a dataset \n",
    "\n",
    "print(x)\n",
    "print(y)\n",
    "\n",
    "print(x.size)\n",
    "print(y.size)"
   ]
  }
 ],
 "metadata": {
  "kernelspec": {
   "display_name": "Python 3",
   "language": "python",
   "name": "python3"
  },
  "language_info": {
   "codemirror_mode": {
    "name": "ipython",
    "version": 3
   },
   "file_extension": ".py",
   "mimetype": "text/x-python",
   "name": "python",
   "nbconvert_exporter": "python",
   "pygments_lexer": "ipython3",
   "version": "3.8.10"
  },
  "orig_nbformat": 4,
  "vscode": {
   "interpreter": {
    "hash": "f9f85f796d01129d0dd105a088854619f454435301f6ffec2fea96ecbd9be4ac"
   }
  }
 },
 "nbformat": 4,
 "nbformat_minor": 2
}
