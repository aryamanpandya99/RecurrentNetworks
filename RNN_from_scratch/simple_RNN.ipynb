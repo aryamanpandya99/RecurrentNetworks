{
 "cells": [
  {
   "cell_type": "markdown",
   "metadata": {},
   "source": [
    "## Time Series Prediction of IBM Stock Prices with a Simple RNN\n",
    "This notebook aims to leverage the power of recurrent neural networks (RNNs) to predict the closing stock prices of IBM. We exploit the historical trends and patterns inherent in financial market data to build and train our RNN model, a task that recurrent networks are naturally suited for, given their ability to maintain a sort of \"memory\" of past information.\n",
    "\n",
    "The dataset used for this analysis is publicly available on Kaggle and contains historical stock prices for IBM. It can be accessed through the following link: https://www.kaggle.com/datasets/bhanuprasanna527/stock-market-prediction. The data includes various attributes like 'Low', 'Open', 'Volume', 'High', 'Close', and 'Adjusted Close' recorded over several years. For the scope of this model, we will focus solely on the 'Close' column, which represents the closing price of the stock each day."
   ]
  },
  {
   "cell_type": "code",
   "execution_count": 238,
   "metadata": {},
   "outputs": [],
   "source": [
    "import pandas as pd\n",
    "import matplotlib.pyplot as plt\n",
    "import csv\n",
    "import torch \n",
    "import numpy as np\n",
    "import plotly\n",
    "from torch import nn\n",
    "from sklearn.model_selection import train_test_split"
   ]
  },
  {
   "cell_type": "code",
   "execution_count": 239,
   "metadata": {},
   "outputs": [
    {
     "name": "stdout",
     "output_type": "stream",
     "text": [
      "             Date         Low        Open   Volume        High       Close  \\\n",
      "0      02-01-1970   17.399618   17.423517   330536   17.483271   17.435469   \n",
      "1      05-01-1970   17.495220   17.495220   443504   17.602772   17.602772   \n",
      "2      06-01-1970   17.507170   17.602772   510448   17.638622   17.614723   \n",
      "3      07-01-1970   17.507170   17.614723   479068   17.626673   17.626673   \n",
      "4      08-01-1970   17.566921   17.626673   740568   17.662523   17.662523   \n",
      "...           ...         ...         ...      ...         ...         ...   \n",
      "13351  06-12-2022  146.699997  147.300003  2847600  147.800003  147.500000   \n",
      "13352  07-12-2022  146.289993  147.330002  3971300  148.100006  147.270004   \n",
      "13353  08-12-2022  147.369995  147.899994  2665700  149.149994  147.779999   \n",
      "13354  09-12-2022  146.970001  147.399994  3047600  148.339996  147.050003   \n",
      "13355  12-12-2022  146.942596  147.820007  1049947  148.279999  147.589996   \n",
      "\n",
      "       Adjusted Close  \n",
      "0            4.003040  \n",
      "1            4.041449  \n",
      "2            4.044193  \n",
      "3            4.046936  \n",
      "4            4.055170  \n",
      "...               ...  \n",
      "13351      147.500000  \n",
      "13352      147.270004  \n",
      "13353      147.779999  \n",
      "13354      147.050003  \n",
      "13355      147.589996  \n",
      "\n",
      "[13356 rows x 7 columns]\n"
     ]
    }
   ],
   "source": [
    "df = pd.read_csv('IBM.csv')\n",
    "print(df)"
   ]
  },
  {
   "cell_type": "code",
   "execution_count": 240,
   "metadata": {},
   "outputs": [
    {
     "name": "stdout",
     "output_type": "stream",
     "text": [
      "<class 'pandas.core.frame.DataFrame'>\n",
      "RangeIndex: 13356 entries, 0 to 13355\n",
      "Data columns (total 7 columns):\n",
      " #   Column          Non-Null Count  Dtype  \n",
      "---  ------          --------------  -----  \n",
      " 0   Date            13356 non-null  object \n",
      " 1   Low             13356 non-null  float64\n",
      " 2   Open            13356 non-null  float64\n",
      " 3   Volume          13356 non-null  int64  \n",
      " 4   High            13356 non-null  float64\n",
      " 5   Close           13356 non-null  float64\n",
      " 6   Adjusted Close  13356 non-null  float64\n",
      "dtypes: float64(5), int64(1), object(1)\n",
      "memory usage: 730.5+ KB\n"
     ]
    }
   ],
   "source": [
    "df.info()"
   ]
  },
  {
   "cell_type": "code",
   "execution_count": 241,
   "metadata": {},
   "outputs": [
    {
     "name": "stderr",
     "output_type": "stream",
     "text": [
      "/tmp/ipykernel_58776/2394721818.py:1: UserWarning:\n",
      "\n",
      "Parsing dates in DD/MM/YYYY format when dayfirst=False (the default) was specified. This may lead to inconsistently parsed dates! Specify a format to ensure consistent parsing.\n",
      "\n"
     ]
    }
   ],
   "source": [
    "df['Date'] = pd.to_datetime(df['Date'])"
   ]
  },
  {
   "cell_type": "code",
   "execution_count": 242,
   "metadata": {},
   "outputs": [],
   "source": [
    "df.set_index('Date',inplace=True)"
   ]
  },
  {
   "cell_type": "code",
   "execution_count": 243,
   "metadata": {},
   "outputs": [
    {
     "data": {
      "text/html": [
       "<div>\n",
       "<style scoped>\n",
       "    .dataframe tbody tr th:only-of-type {\n",
       "        vertical-align: middle;\n",
       "    }\n",
       "\n",
       "    .dataframe tbody tr th {\n",
       "        vertical-align: top;\n",
       "    }\n",
       "\n",
       "    .dataframe thead th {\n",
       "        text-align: right;\n",
       "    }\n",
       "</style>\n",
       "<table border=\"1\" class=\"dataframe\">\n",
       "  <thead>\n",
       "    <tr style=\"text-align: right;\">\n",
       "      <th></th>\n",
       "      <th>Low</th>\n",
       "      <th>Open</th>\n",
       "      <th>Volume</th>\n",
       "      <th>High</th>\n",
       "      <th>Close</th>\n",
       "      <th>Adjusted Close</th>\n",
       "    </tr>\n",
       "    <tr>\n",
       "      <th>Date</th>\n",
       "      <th></th>\n",
       "      <th></th>\n",
       "      <th></th>\n",
       "      <th></th>\n",
       "      <th></th>\n",
       "      <th></th>\n",
       "    </tr>\n",
       "  </thead>\n",
       "  <tbody>\n",
       "    <tr>\n",
       "      <th>1970-02-01</th>\n",
       "      <td>17.399618</td>\n",
       "      <td>17.423517</td>\n",
       "      <td>330536</td>\n",
       "      <td>17.483271</td>\n",
       "      <td>17.435469</td>\n",
       "      <td>4.003040</td>\n",
       "    </tr>\n",
       "    <tr>\n",
       "      <th>1970-05-01</th>\n",
       "      <td>17.495220</td>\n",
       "      <td>17.495220</td>\n",
       "      <td>443504</td>\n",
       "      <td>17.602772</td>\n",
       "      <td>17.602772</td>\n",
       "      <td>4.041449</td>\n",
       "    </tr>\n",
       "    <tr>\n",
       "      <th>1970-06-01</th>\n",
       "      <td>17.507170</td>\n",
       "      <td>17.602772</td>\n",
       "      <td>510448</td>\n",
       "      <td>17.638622</td>\n",
       "      <td>17.614723</td>\n",
       "      <td>4.044193</td>\n",
       "    </tr>\n",
       "    <tr>\n",
       "      <th>1970-07-01</th>\n",
       "      <td>17.507170</td>\n",
       "      <td>17.614723</td>\n",
       "      <td>479068</td>\n",
       "      <td>17.626673</td>\n",
       "      <td>17.626673</td>\n",
       "      <td>4.046936</td>\n",
       "    </tr>\n",
       "    <tr>\n",
       "      <th>1970-08-01</th>\n",
       "      <td>17.566921</td>\n",
       "      <td>17.626673</td>\n",
       "      <td>740568</td>\n",
       "      <td>17.662523</td>\n",
       "      <td>17.662523</td>\n",
       "      <td>4.055170</td>\n",
       "    </tr>\n",
       "  </tbody>\n",
       "</table>\n",
       "</div>"
      ],
      "text/plain": [
       "                  Low       Open  Volume       High      Close  Adjusted Close\n",
       "Date                                                                          \n",
       "1970-02-01  17.399618  17.423517  330536  17.483271  17.435469        4.003040\n",
       "1970-05-01  17.495220  17.495220  443504  17.602772  17.602772        4.041449\n",
       "1970-06-01  17.507170  17.602772  510448  17.638622  17.614723        4.044193\n",
       "1970-07-01  17.507170  17.614723  479068  17.626673  17.626673        4.046936\n",
       "1970-08-01  17.566921  17.626673  740568  17.662523  17.662523        4.055170"
      ]
     },
     "execution_count": 243,
     "metadata": {},
     "output_type": "execute_result"
    }
   ],
   "source": [
    "df.head()"
   ]
  },
  {
   "cell_type": "code",
   "execution_count": 244,
   "metadata": {},
   "outputs": [
    {
     "data": {
      "text/html": [
       "<div>\n",
       "<style scoped>\n",
       "    .dataframe tbody tr th:only-of-type {\n",
       "        vertical-align: middle;\n",
       "    }\n",
       "\n",
       "    .dataframe tbody tr th {\n",
       "        vertical-align: top;\n",
       "    }\n",
       "\n",
       "    .dataframe thead th {\n",
       "        text-align: right;\n",
       "    }\n",
       "</style>\n",
       "<table border=\"1\" class=\"dataframe\">\n",
       "  <thead>\n",
       "    <tr style=\"text-align: right;\">\n",
       "      <th></th>\n",
       "      <th>Low</th>\n",
       "      <th>Open</th>\n",
       "      <th>Volume</th>\n",
       "      <th>High</th>\n",
       "      <th>Close</th>\n",
       "      <th>Adjusted Close</th>\n",
       "    </tr>\n",
       "    <tr>\n",
       "      <th>Date</th>\n",
       "      <th></th>\n",
       "      <th></th>\n",
       "      <th></th>\n",
       "      <th></th>\n",
       "      <th></th>\n",
       "      <th></th>\n",
       "    </tr>\n",
       "  </thead>\n",
       "  <tbody>\n",
       "    <tr>\n",
       "      <th>2022-06-12</th>\n",
       "      <td>146.699997</td>\n",
       "      <td>147.300003</td>\n",
       "      <td>2847600</td>\n",
       "      <td>147.800003</td>\n",
       "      <td>147.500000</td>\n",
       "      <td>147.500000</td>\n",
       "    </tr>\n",
       "    <tr>\n",
       "      <th>2022-07-12</th>\n",
       "      <td>146.289993</td>\n",
       "      <td>147.330002</td>\n",
       "      <td>3971300</td>\n",
       "      <td>148.100006</td>\n",
       "      <td>147.270004</td>\n",
       "      <td>147.270004</td>\n",
       "    </tr>\n",
       "    <tr>\n",
       "      <th>2022-08-12</th>\n",
       "      <td>147.369995</td>\n",
       "      <td>147.899994</td>\n",
       "      <td>2665700</td>\n",
       "      <td>149.149994</td>\n",
       "      <td>147.779999</td>\n",
       "      <td>147.779999</td>\n",
       "    </tr>\n",
       "    <tr>\n",
       "      <th>2022-09-12</th>\n",
       "      <td>146.970001</td>\n",
       "      <td>147.399994</td>\n",
       "      <td>3047600</td>\n",
       "      <td>148.339996</td>\n",
       "      <td>147.050003</td>\n",
       "      <td>147.050003</td>\n",
       "    </tr>\n",
       "    <tr>\n",
       "      <th>2022-12-12</th>\n",
       "      <td>146.942596</td>\n",
       "      <td>147.820007</td>\n",
       "      <td>1049947</td>\n",
       "      <td>148.279999</td>\n",
       "      <td>147.589996</td>\n",
       "      <td>147.589996</td>\n",
       "    </tr>\n",
       "  </tbody>\n",
       "</table>\n",
       "</div>"
      ],
      "text/plain": [
       "                   Low        Open   Volume        High       Close  \\\n",
       "Date                                                                  \n",
       "2022-06-12  146.699997  147.300003  2847600  147.800003  147.500000   \n",
       "2022-07-12  146.289993  147.330002  3971300  148.100006  147.270004   \n",
       "2022-08-12  147.369995  147.899994  2665700  149.149994  147.779999   \n",
       "2022-09-12  146.970001  147.399994  3047600  148.339996  147.050003   \n",
       "2022-12-12  146.942596  147.820007  1049947  148.279999  147.589996   \n",
       "\n",
       "            Adjusted Close  \n",
       "Date                        \n",
       "2022-06-12      147.500000  \n",
       "2022-07-12      147.270004  \n",
       "2022-08-12      147.779999  \n",
       "2022-09-12      147.050003  \n",
       "2022-12-12      147.589996  "
      ]
     },
     "execution_count": 244,
     "metadata": {},
     "output_type": "execute_result"
    }
   ],
   "source": [
    "df.tail()"
   ]
  },
  {
   "cell_type": "code",
   "execution_count": 245,
   "metadata": {},
   "outputs": [
    {
     "data": {
      "image/png": "[encoded data removed]",
      "text/plain": [
       "<Figure size 640x480 with 1 Axes>"
      ]
     },
     "metadata": {},
     "output_type": "display_data"
    }
   ],
   "source": [
    "plt.plot(df['Close'], linestyle='--')\n",
    "plt.show()"
   ]
  },
  {
   "cell_type": "markdown",
   "metadata": {},
   "source": [
    "### Model Architecture\n",
    "We use a simple RNN built using PyTorch. The model is structured with two main layers: an input-to-hidden layer (in_h) and an input-to-output layer (in_out). The hidden layer serves to compute the next hidden state, while the output layer computes the output.\n",
    "\n",
    "The model follows a specific sequence: input and hidden states are concatenated and passed through the in_h layer, activated by the tanh function to compute the h_out. Next, an output is produced at each timestep using the in_out layer."
   ]
  },
  {
   "cell_type": "code",
   "execution_count": 246,
   "metadata": {},
   "outputs": [],
   "source": [
    "class VanillaRNN(nn.Module): \n",
    "    \n",
    "    def __init__(self, len_in, len_h, len_out):\n",
    "        super(VanillaRNN, self).__init__()\n",
    "        self.len_h = len_h #size of hidden state\n",
    "        self.in_h = nn.Linear(len_in + len_h, len_h) #graph module to compute next hidden state \n",
    "        self.in_out = nn.Linear(len_in + len_h, len_out) #computes output \n",
    "        self.tanh = nn.Tanh()\n",
    "\n",
    "    def forward(self, x, h):\n",
    "        #here we choose to concatenate the hidden state and input \n",
    "        #another approach would be to multiply these vectors \n",
    "        combined = torch.cat((x, h), 2) \n",
    "        h_out = self.tanh(self.in_h(combined)) \n",
    "        #we choose to produce an output at each timestep\n",
    "        y = self.in_out(combined) \n",
    "        return y, h_out \n",
    "\n",
    "    def init_h(self, batch_size, sequence_length):\n",
    "        #zero initialization \n",
    "        #alternatives include but not limited to Xavier/Kaiminh initialization\n",
    "        return torch.zeros(batch_size, sequence_length, self.len_h, requires_grad=False)"
   ]
  },
  {
   "cell_type": "markdown",
   "metadata": {},
   "source": [
    "## Training"
   ]
  },
  {
   "cell_type": "code",
   "execution_count": 247,
   "metadata": {},
   "outputs": [],
   "source": [
    "def train(model, data_loader, loss_function, optim, epochs, device, scheduler, start_decay):\n",
    "    \n",
    "    losses = [] #group losses for loss visualization \n",
    "    \n",
    "    for epoch in range(epochs):\n",
    "        running_loss = 0 \n",
    "        print(\"Epoch %d / %d\" % (epoch+1, epochs))\n",
    "        print(\"-\"*10)\n",
    "        if (epoch > start_decay): \n",
    "            scheduler.step()\n",
    "    \n",
    "        for i, (x, y) in enumerate(data_loader):\n",
    "            h_s = model.init_h(x.shape[0], x.shape[1]).to(device) \n",
    "                \n",
    "            x = x.to(device)\n",
    "            y = y.to(device)\n",
    "            y_pred, h_out = model(x, h_s)\n",
    "            y_pred = y_pred[:, -1, :]\n",
    "            h_s = h_out\n",
    "            \n",
    "            loss = loss_function(y_pred, y) \n",
    "            running_loss+=loss.item()\n",
    "            \n",
    "        \n",
    "            optim.zero_grad()\n",
    "            loss.backward() #backprop \n",
    "            optim.step() #update weights\n",
    "  \n",
    "        losses.append((running_loss / i))\n",
    "        print(\"Step: {}/{}, current Epoch loss: {:.4f}\".format(i, len(data_loader), (running_loss / i)))\n",
    "        \n",
    "    return losses"
   ]
  },
  {
   "cell_type": "code",
   "execution_count": 248,
   "metadata": {},
   "outputs": [],
   "source": [
    "def load_data(stock, sequence_length):\n",
    "    # Convert pandas dataframe to numpy array\n",
    "    data_raw = stock.to_numpy()\n",
    "\n",
    "    data = []\n",
    "\n",
    "    # Loop over the stock data to generate sequences of 'sequence_length' consecutive data points\n",
    "    # This is done because RNNs learn to predict data in a sequence from past sequence\n",
    "    for index in range(len(data_raw) - sequence_length):\n",
    "        data.append(data_raw[index: index + sequence_length])\n",
    "\n",
    "    data = np.array(data)\n",
    "    set_size = int(data.shape[0])\n",
    "\n",
    "    # Generate the train data\n",
    "    # x_train is all sequences excluding the last data point from each sequence\n",
    "    x = data[:,:-1,:]\n",
    "    # y_train is the last data point from each sequence\n",
    "    y = data[:,-1,:]\n",
    "    \n",
    "\n",
    "    # Return the train and test data\n",
    "    return [x, y]"
   ]
  },
  {
   "cell_type": "code",
   "execution_count": 249,
   "metadata": {},
   "outputs": [
    {
     "name": "stderr",
     "output_type": "stream",
     "text": [
      "/tmp/ipykernel_58776/1878278836.py:2: UserWarning:\n",
      "\n",
      "Parsing dates in DD/MM/YYYY format when dayfirst=False (the default) was specified. This may lead to inconsistently parsed dates! Specify a format to ensure consistent parsing.\n",
      "\n"
     ]
    }
   ],
   "source": [
    "ibm_df = pd.read_csv('IBM.csv')\n",
    "ibm_df['Date'] = pd.to_datetime(ibm_df['Date'])\n",
    "ibm_df.set_index('Date',inplace=True)\n",
    "ibm_df = ibm_df[['Close']]\n",
    "\n",
    "# Get the number of rows in the DataFrame\n",
    "num_rows = ibm_df.shape[0]\n",
    "\n",
    "# Compute the split point\n",
    "split_point = int(num_rows*0.8)\n",
    "\n",
    "# Split the DataFrame\n",
    "train_df = ibm_df.iloc[:split_point]\n",
    "test_df = ibm_df.iloc[split_point:]\n",
    "\n",
    "x_train, y_train = load_data(train_df, 10) \n",
    "x_test, y_test = load_data(test_df, 10) "
   ]
  },
  {
   "cell_type": "code",
   "execution_count": 250,
   "metadata": {},
   "outputs": [
    {
     "name": "stdout",
     "output_type": "stream",
     "text": [
      "                Close\n",
      "Date                 \n",
      "1970-02-01  17.435469\n",
      "1970-05-01  17.602772\n",
      "1970-06-01  17.614723\n",
      "1970-07-01  17.626673\n",
      "1970-08-01  17.662523\n"
     ]
    }
   ],
   "source": [
    "print(train_df.head()) #to ensure no shuffling accidentally occurred "
   ]
  },
  {
   "cell_type": "code",
   "execution_count": 251,
   "metadata": {},
   "outputs": [
    {
     "name": "stdout",
     "output_type": "stream",
     "text": [
      "                 Close\n",
      "Date                  \n",
      "2022-06-12  147.500000\n",
      "2022-07-12  147.270004\n",
      "2022-08-12  147.779999\n",
      "2022-09-12  147.050003\n",
      "2022-12-12  147.589996\n"
     ]
    }
   ],
   "source": [
    "print(test_df.tail())"
   ]
  },
  {
   "cell_type": "code",
   "execution_count": 252,
   "metadata": {},
   "outputs": [
    {
     "name": "stdout",
     "output_type": "stream",
     "text": [
      "Train input data shape: (10674, 9, 1), target shape: (10674, 1)\n"
     ]
    }
   ],
   "source": [
    "print(\"Train input data shape: {}, target shape: {}\".format(x_train.shape, y_train.shape)) "
   ]
  },
  {
   "cell_type": "code",
   "execution_count": 253,
   "metadata": {},
   "outputs": [
    {
     "name": "stdout",
     "output_type": "stream",
     "text": [
      "Test input data shape: (2662, 9, 1), target shape: (2662, 1)\n"
     ]
    }
   ],
   "source": [
    "print(\"Test input data shape: {}, target shape: {}\".format(x_test.shape, y_test.shape)) "
   ]
  },
  {
   "cell_type": "code",
   "execution_count": 254,
   "metadata": {},
   "outputs": [],
   "source": [
    "x_train = torch.from_numpy(x_train).type(torch.Tensor)\n",
    "x_test = torch.from_numpy(x_test).type(torch.Tensor)\n",
    "y_train = torch.from_numpy(y_train).type(torch.Tensor)\n",
    "y_test = torch.from_numpy(y_test).type(torch.Tensor)"
   ]
  },
  {
   "cell_type": "code",
   "execution_count": 255,
   "metadata": {},
   "outputs": [],
   "source": [
    "train_set = torch.utils.data.TensorDataset(x_train,y_train)\n",
    "test_set = torch.utils.data.TensorDataset(x_test,y_test)"
   ]
  },
  {
   "cell_type": "code",
   "execution_count": 256,
   "metadata": {},
   "outputs": [],
   "source": [
    "NUM_EPOCHS = 100\n",
    "BATCH_SIZE = 30 \n",
    "LEARNING_RATE = 3e-4\n",
    "INPUT_DIM = 1 \n",
    "OUTPUT_DIM = 1 \n",
    "HIDDEN_DIM = 32 "
   ]
  },
  {
   "cell_type": "code",
   "execution_count": 257,
   "metadata": {},
   "outputs": [],
   "source": [
    "train_loader = torch.utils.data.DataLoader(dataset=train_set, \n",
    "                                           batch_size=BATCH_SIZE, \n",
    "                                           shuffle=False)\n",
    "\n",
    "test_loader = torch.utils.data.DataLoader(dataset=test_set, \n",
    "                                          batch_size=BATCH_SIZE, \n",
    "                                          shuffle=False)"
   ]
  },
  {
   "cell_type": "code",
   "execution_count": 258,
   "metadata": {},
   "outputs": [],
   "source": [
    "model = VanillaRNN(len_in=INPUT_DIM, len_h=HIDDEN_DIM, len_out=OUTPUT_DIM)"
   ]
  },
  {
   "cell_type": "code",
   "execution_count": 259,
   "metadata": {},
   "outputs": [],
   "source": [
    "optimizer = torch.optim.Adam(model.parameters(), lr=LEARNING_RATE)\n",
    "DECAY_FACTOR = 0.1\n",
    "DECAY_EPOCHS = 20\n",
    "START_DECAY_EPOCH = 50\n",
    "scheduler = torch.optim.lr_scheduler.StepLR(optimizer, step_size=DECAY_EPOCHS, gamma=DECAY_FACTOR)"
   ]
  },
  {
   "cell_type": "code",
   "execution_count": 260,
   "metadata": {},
   "outputs": [],
   "source": [
    "device = torch.device(\"cuda\" if torch.cuda.is_available() else \"cpu\")"
   ]
  },
  {
   "cell_type": "code",
   "execution_count": 261,
   "metadata": {},
   "outputs": [],
   "source": [
    "model = model.to(device)"
   ]
  },
  {
   "cell_type": "code",
   "execution_count": 262,
   "metadata": {},
   "outputs": [
    {
     "name": "stdout",
     "output_type": "stream",
     "text": [
      "Epoch 1 / 100\n",
      "----------\n"
     ]
    },
    {
     "name": "stderr",
     "output_type": "stream",
     "text": [
      "/home/aryaman.pandya/ml_accel/lib/python3.8/site-packages/torch/nn/_reduction.py:42: UserWarning:\n",
      "\n",
      "size_average and reduce args will be deprecated, please use reduction='mean' instead.\n",
      "\n"
     ]
    },
    {
     "name": "stdout",
     "output_type": "stream",
     "text": [
      "Step: 355/356, current Epoch loss: 4171.5463\n",
      "Epoch 2 / 100\n",
      "----------\n",
      "Step: 355/356, current Epoch loss: 3568.5751\n",
      "Epoch 3 / 100\n",
      "----------\n",
      "Step: 355/356, current Epoch loss: 3127.4257\n",
      "Epoch 4 / 100\n",
      "----------\n",
      "Step: 355/356, current Epoch loss: 2738.5219\n",
      "Epoch 5 / 100\n",
      "----------\n",
      "Step: 355/356, current Epoch loss: 2388.8793\n",
      "Epoch 6 / 100\n",
      "----------\n",
      "Step: 355/356, current Epoch loss: 2072.7165\n",
      "Epoch 7 / 100\n",
      "----------\n",
      "Step: 355/356, current Epoch loss: 1786.5382\n",
      "Epoch 8 / 100\n",
      "----------\n",
      "Step: 355/356, current Epoch loss: 1527.8988\n",
      "Epoch 9 / 100\n",
      "----------\n",
      "Step: 355/356, current Epoch loss: 1294.9172\n",
      "Epoch 10 / 100\n",
      "----------\n",
      "Step: 355/356, current Epoch loss: 1086.0598\n",
      "Epoch 11 / 100\n",
      "----------\n",
      "Step: 355/356, current Epoch loss: 900.0102\n",
      "Epoch 12 / 100\n",
      "----------\n",
      "Step: 355/356, current Epoch loss: 735.5871\n",
      "Epoch 13 / 100\n",
      "----------\n",
      "Step: 355/356, current Epoch loss: 591.6788\n",
      "Epoch 14 / 100\n",
      "----------\n",
      "Step: 355/356, current Epoch loss: 467.2026\n",
      "Epoch 15 / 100\n",
      "----------\n",
      "Step: 355/356, current Epoch loss: 361.0564\n",
      "Epoch 16 / 100\n",
      "----------\n",
      "Step: 355/356, current Epoch loss: 272.0864\n",
      "Epoch 17 / 100\n",
      "----------\n",
      "Step: 355/356, current Epoch loss: 199.0598\n",
      "Epoch 18 / 100\n",
      "----------\n",
      "Step: 355/356, current Epoch loss: 140.6372\n",
      "Epoch 19 / 100\n",
      "----------\n",
      "Step: 355/356, current Epoch loss: 95.3502\n",
      "Epoch 20 / 100\n",
      "----------\n",
      "Step: 355/356, current Epoch loss: 61.5945\n",
      "Epoch 21 / 100\n",
      "----------\n",
      "Step: 355/356, current Epoch loss: 37.6393\n",
      "Epoch 22 / 100\n",
      "----------\n",
      "Step: 355/356, current Epoch loss: 21.6575\n",
      "Epoch 23 / 100\n",
      "----------\n",
      "Step: 355/356, current Epoch loss: 11.7988\n",
      "Epoch 24 / 100\n",
      "----------\n",
      "Step: 355/356, current Epoch loss: 6.2936\n",
      "Epoch 25 / 100\n",
      "----------\n",
      "Step: 355/356, current Epoch loss: 3.5872\n",
      "Epoch 26 / 100\n",
      "----------\n",
      "Step: 355/356, current Epoch loss: 2.4582\n",
      "Epoch 27 / 100\n",
      "----------\n",
      "Step: 355/356, current Epoch loss: 2.0792\n",
      "Epoch 28 / 100\n",
      "----------\n",
      "Step: 355/356, current Epoch loss: 1.9846\n",
      "Epoch 29 / 100\n",
      "----------\n",
      "Step: 355/356, current Epoch loss: 1.9670\n",
      "Epoch 30 / 100\n",
      "----------\n",
      "Step: 355/356, current Epoch loss: 1.9576\n",
      "Epoch 31 / 100\n",
      "----------\n",
      "Step: 355/356, current Epoch loss: 1.9423\n",
      "Epoch 32 / 100\n",
      "----------\n",
      "Step: 355/356, current Epoch loss: 1.9212\n",
      "Epoch 33 / 100\n",
      "----------\n",
      "Step: 355/356, current Epoch loss: 1.8958\n",
      "Epoch 34 / 100\n",
      "----------\n",
      "Step: 355/356, current Epoch loss: 1.8667\n",
      "Epoch 35 / 100\n",
      "----------\n",
      "Step: 355/356, current Epoch loss: 1.8342\n",
      "Epoch 36 / 100\n",
      "----------\n",
      "Step: 355/356, current Epoch loss: 1.7988\n",
      "Epoch 37 / 100\n",
      "----------\n",
      "Step: 355/356, current Epoch loss: 1.7608\n",
      "Epoch 38 / 100\n",
      "----------\n",
      "Step: 355/356, current Epoch loss: 1.7210\n",
      "Epoch 39 / 100\n",
      "----------\n",
      "Step: 355/356, current Epoch loss: 1.6804\n",
      "Epoch 40 / 100\n",
      "----------\n",
      "Step: 355/356, current Epoch loss: 1.6398\n",
      "Epoch 41 / 100\n",
      "----------\n",
      "Step: 355/356, current Epoch loss: 1.6002\n",
      "Epoch 42 / 100\n",
      "----------\n",
      "Step: 355/356, current Epoch loss: 1.5623\n",
      "Epoch 43 / 100\n",
      "----------\n",
      "Step: 355/356, current Epoch loss: 1.5265\n",
      "Epoch 44 / 100\n",
      "----------\n",
      "Step: 355/356, current Epoch loss: 1.4930\n",
      "Epoch 45 / 100\n",
      "----------\n",
      "Step: 355/356, current Epoch loss: 1.4621\n",
      "Epoch 46 / 100\n",
      "----------\n",
      "Step: 355/356, current Epoch loss: 1.4337\n",
      "Epoch 47 / 100\n",
      "----------\n",
      "Step: 355/356, current Epoch loss: 1.4078\n",
      "Epoch 48 / 100\n",
      "----------\n",
      "Step: 355/356, current Epoch loss: 1.3845\n",
      "Epoch 49 / 100\n",
      "----------\n",
      "Step: 355/356, current Epoch loss: 1.3636\n",
      "Epoch 50 / 100\n",
      "----------\n",
      "Step: 355/356, current Epoch loss: 1.3449\n",
      "Epoch 51 / 100\n",
      "----------\n",
      "Step: 355/356, current Epoch loss: 1.3284\n",
      "Epoch 52 / 100\n",
      "----------\n",
      "Step: 355/356, current Epoch loss: 1.3139\n",
      "Epoch 53 / 100\n",
      "----------\n",
      "Step: 355/356, current Epoch loss: 1.3011\n",
      "Epoch 54 / 100\n",
      "----------\n",
      "Step: 355/356, current Epoch loss: 1.2900\n",
      "Epoch 55 / 100\n",
      "----------\n",
      "Step: 355/356, current Epoch loss: 1.2805\n",
      "Epoch 56 / 100\n",
      "----------\n",
      "Step: 355/356, current Epoch loss: 1.2723\n",
      "Epoch 57 / 100\n",
      "----------\n",
      "Step: 355/356, current Epoch loss: 1.2653\n",
      "Epoch 58 / 100\n",
      "----------\n",
      "Step: 355/356, current Epoch loss: 1.2593\n",
      "Epoch 59 / 100\n",
      "----------\n",
      "Step: 355/356, current Epoch loss: 1.2544\n",
      "Epoch 60 / 100\n",
      "----------\n",
      "Step: 355/356, current Epoch loss: 1.2503\n",
      "Epoch 61 / 100\n",
      "----------\n",
      "Step: 355/356, current Epoch loss: 1.2469\n",
      "Epoch 62 / 100\n",
      "----------\n",
      "Step: 355/356, current Epoch loss: 1.2441\n",
      "Epoch 63 / 100\n",
      "----------\n",
      "Step: 355/356, current Epoch loss: 1.2419\n",
      "Epoch 64 / 100\n",
      "----------\n",
      "Step: 355/356, current Epoch loss: 1.2401\n",
      "Epoch 65 / 100\n",
      "----------\n",
      "Step: 355/356, current Epoch loss: 1.2387\n",
      "Epoch 66 / 100\n",
      "----------\n",
      "Step: 355/356, current Epoch loss: 1.2376\n",
      "Epoch 67 / 100\n",
      "----------\n",
      "Step: 355/356, current Epoch loss: 1.2367\n",
      "Epoch 68 / 100\n",
      "----------\n",
      "Step: 355/356, current Epoch loss: 1.2360\n",
      "Epoch 69 / 100\n",
      "----------\n",
      "Step: 355/356, current Epoch loss: 1.2355\n",
      "Epoch 70 / 100\n",
      "----------\n",
      "Step: 355/356, current Epoch loss: 1.2351\n",
      "Epoch 71 / 100\n",
      "----------\n",
      "Step: 355/356, current Epoch loss: 1.2361\n",
      "Epoch 72 / 100\n",
      "----------\n",
      "Step: 355/356, current Epoch loss: 1.2341\n",
      "Epoch 73 / 100\n",
      "----------\n",
      "Step: 355/356, current Epoch loss: 1.2340\n",
      "Epoch 74 / 100\n",
      "----------\n",
      "Step: 355/356, current Epoch loss: 1.2339\n",
      "Epoch 75 / 100\n",
      "----------\n",
      "Step: 355/356, current Epoch loss: 1.2338\n",
      "Epoch 76 / 100\n",
      "----------\n",
      "Step: 355/356, current Epoch loss: 1.2338\n",
      "Epoch 77 / 100\n",
      "----------\n",
      "Step: 355/356, current Epoch loss: 1.2337\n",
      "Epoch 78 / 100\n",
      "----------\n",
      "Step: 355/356, current Epoch loss: 1.2336\n",
      "Epoch 79 / 100\n",
      "----------\n",
      "Step: 355/356, current Epoch loss: 1.2336\n",
      "Epoch 80 / 100\n",
      "----------\n",
      "Step: 355/356, current Epoch loss: 1.2335\n",
      "Epoch 81 / 100\n",
      "----------\n",
      "Step: 355/356, current Epoch loss: 1.2335\n",
      "Epoch 82 / 100\n",
      "----------\n",
      "Step: 355/356, current Epoch loss: 1.2334\n",
      "Epoch 83 / 100\n",
      "----------\n",
      "Step: 355/356, current Epoch loss: 1.2334\n",
      "Epoch 84 / 100\n",
      "----------\n",
      "Step: 355/356, current Epoch loss: 1.2334\n",
      "Epoch 85 / 100\n",
      "----------\n",
      "Step: 355/356, current Epoch loss: 1.2333\n",
      "Epoch 86 / 100\n",
      "----------\n",
      "Step: 355/356, current Epoch loss: 1.2333\n",
      "Epoch 87 / 100\n",
      "----------\n",
      "Step: 355/356, current Epoch loss: 1.2332\n",
      "Epoch 88 / 100\n",
      "----------\n",
      "Step: 355/356, current Epoch loss: 1.2332\n",
      "Epoch 89 / 100\n",
      "----------\n",
      "Step: 355/356, current Epoch loss: 1.2332\n",
      "Epoch 90 / 100\n",
      "----------\n",
      "Step: 355/356, current Epoch loss: 1.2331\n",
      "Epoch 91 / 100\n",
      "----------\n",
      "Step: 355/356, current Epoch loss: 1.2327\n",
      "Epoch 92 / 100\n",
      "----------\n",
      "Step: 355/356, current Epoch loss: 1.2327\n",
      "Epoch 93 / 100\n",
      "----------\n",
      "Step: 355/356, current Epoch loss: 1.2327\n",
      "Epoch 94 / 100\n",
      "----------\n",
      "Step: 355/356, current Epoch loss: 1.2327\n",
      "Epoch 95 / 100\n",
      "----------\n",
      "Step: 355/356, current Epoch loss: 1.2326\n",
      "Epoch 96 / 100\n",
      "----------\n",
      "Step: 355/356, current Epoch loss: 1.2326\n",
      "Epoch 97 / 100\n",
      "----------\n",
      "Step: 355/356, current Epoch loss: 1.2326\n",
      "Epoch 98 / 100\n",
      "----------\n",
      "Step: 355/356, current Epoch loss: 1.2326\n",
      "Epoch 99 / 100\n",
      "----------\n",
      "Step: 355/356, current Epoch loss: 1.2326\n",
      "Epoch 100 / 100\n",
      "----------\n",
      "Step: 355/356, current Epoch loss: 1.2326\n"
     ]
    }
   ],
   "source": [
    "losses = train(model=model, data_loader=train_loader, loss_function=torch.nn.MSELoss(size_average=True), optim=optimizer, epochs=NUM_EPOCHS, device=device, scheduler=scheduler, \\\n",
    "    start_decay=START_DECAY_EPOCH)"
   ]
  },
  {
   "cell_type": "code",
   "execution_count": 263,
   "metadata": {},
   "outputs": [
    {
     "data": {
      "image/png": "[encoded data removed]",
      "text/plain": [
       "<Figure size 640x480 with 1 Axes>"
      ]
     },
     "metadata": {},
     "output_type": "display_data"
    }
   ],
   "source": [
    "plt.plot(losses)\n",
    "plt.show()"
   ]
  },
  {
   "cell_type": "code",
   "execution_count": 264,
   "metadata": {},
   "outputs": [
    {
     "data": {
      "application/vnd.plotly.v1+json": {
       "config": {
        "plotlyServerURL": "https://plot.ly"
       },
       "data": [
        {
         "mode": "lines+markers",
         "name": "Train",
         "type": "scatter",
         "x": [
          0,
          1,
          2,
          3,
          4,
          5,
          6,
          7,
          8,
          9,
          10,
          11,
          12,
          13,
          14,
          15,
          16,
          17,
          18,
          19,
          20,
          21,
          22,
          23,
          24,
          25,
          26,
          27,
          28,
          29,
          30,
          31,
          32,
          33,
          34,
          35,
          36,
          37,
          38,
          39,
          40,
          41,
          42,
          43,
          44,
          45,
          46,
          47,
          48,
          49,
          50,
          51,
          52,
          53,
          54,
          55,
          56,
          57,
          58,
          59,
          60,
          61,
          62,
          63,
          64,
          65,
          66,
          67,
          68,
          69,
          70,
          71,
          72,
          73,
          74,
          75,
          76,
          77,
          78,
          79,
          80,
          81,
          82,
          83,
          84,
          85,
          86,
          87,
          88,
          89,
          90,
          91,
          92,
          93,
          94,
          95,
          96,
          97,
          98,
          99
         ],
         "y": [
          4171.546276726522,
          3568.575119727766,
          3127.42572958503,
          2738.5219197877695,
          2388.8793234704244,
          2072.7165067645865,
          1786.5382054718448,
          1527.898775761564,
          1294.9172112155968,
          1086.0598167580617,
          900.0101552667752,
          735.5871262133961,
          591.6788197960652,
          467.2025640474239,
          361.0564115403404,
          272.08642753010065,
          199.05980084580435,
          140.63715181787248,
          95.35024607013649,
          61.59453807909724,
          37.63929235375893,
          21.657472156533892,
          11.798815497268043,
          6.293646471769037,
          3.5872149934756083,
          2.4582321373089937,
          2.0791645879476843,
          1.9846379364880038,
          1.9670092549962057,
          1.9576175975127958,
          1.9423243787926687,
          1.9212153528777647,
          1.8957540057914357,
          1.8666512804971613,
          1.834227475649874,
          1.7987570826436432,
          1.7607852446361327,
          1.7210200938540445,
          1.6803700059232578,
          1.6398142639180304,
          1.6002299757070944,
          1.5623010161896826,
          1.5264842933332416,
          1.4930262093812647,
          1.4620621847434783,
          1.4336571298644576,
          1.4078133568587436,
          1.3844803865107012,
          1.3635576911795306,
          1.344917099765489,
          1.3284018130894277,
          1.313855685692438,
          1.3011214942684475,
          1.2900414897417518,
          1.2804674153491644,
          1.2722528244617959,
          1.2652581728155343,
          1.2593483908915184,
          1.254398364815074,
          1.2502882258782924,
          1.2469055844444623,
          1.2441458694584353,
          1.2419139926649736,
          1.2401244263518865,
          1.2387009839041971,
          1.2375764324421614,
          1.2366938501071763,
          1.2360046030297664,
          1.2354686223390237,
          1.2350533032133966,
          1.2361302311046862,
          1.2341425345187456,
          1.2339742195123518,
          1.2338985170880463,
          1.233831664623404,
          1.233768550597761,
          1.2337075990559139,
          1.2336489265023822,
          1.2335936145961914,
          1.2335409057129856,
          1.2334905674208847,
          1.233441885886058,
          1.2333956318789385,
          1.2333507299633093,
          1.2333091724663974,
          1.2332691481940343,
          1.2332298584072523,
          1.233194919022351,
          1.2331594705529196,
          1.2331258812840555,
          1.2327300101439929,
          1.2326975328716594,
          1.2326740113388694,
          1.2326580653386847,
          1.2326453240273494,
          1.2326357800697147,
          1.2326285566190178,
          1.2326230718216427,
          1.232618472819597,
          1.232614145797848
         ]
        }
       ],
       "layout": {
        "template": {
         "data": {
          "bar": [
           {
            "error_x": {
             "color": "#2a3f5f"
            },
            "error_y": {
             "color": "#2a3f5f"
            },
            "marker": {
             "line": {
              "color": "#E5ECF6",
              "width": 0.5
             },
             "pattern": {
              "fillmode": "overlay",
              "size": 10,
              "solidity": 0.2
             }
            },
            "type": "bar"
           }
          ],
          "barpolar": [
           {
            "marker": {
             "line": {
              "color": "#E5ECF6",
              "width": 0.5
             },
             "pattern": {
              "fillmode": "overlay",
              "size": 10,
              "solidity": 0.2
             }
            },
            "type": "barpolar"
           }
          ],
          "carpet": [
           {
            "aaxis": {
             "endlinecolor": "#2a3f5f",
             "gridcolor": "white",
             "linecolor": "white",
             "minorgridcolor": "white",
             "startlinecolor": "#2a3f5f"
            },
            "baxis": {
             "endlinecolor": "#2a3f5f",
             "gridcolor": "white",
             "linecolor": "white",
             "minorgridcolor": "white",
             "startlinecolor": "#2a3f5f"
            },
            "type": "carpet"
           }
          ],
          "choropleth": [
           {
            "colorbar": {
             "outlinewidth": 0,
             "ticks": ""
            },
            "type": "choropleth"
           }
          ],
          "contour": [
           {
            "colorbar": {
             "outlinewidth": 0,
             "ticks": ""
            },
            "colorscale": [
             [
              0,
              "#0d0887"
             ],
             [
              0.1111111111111111,
              "#46039f"
             ],
             [
              0.2222222222222222,
              "#7201a8"
             ],
             [
              0.3333333333333333,
              "#9c179e"
             ],
             [
              0.4444444444444444,
              "#bd3786"
             ],
             [
              0.5555555555555556,
              "#d8576b"
             ],
             [
              0.6666666666666666,
              "#ed7953"
             ],
             [
              0.7777777777777778,
              "#fb9f3a"
             ],
             [
              0.8888888888888888,
              "#fdca26"
             ],
             [
              1,
              "#f0f921"
             ]
            ],
            "type": "contour"
           }
          ],
          "contourcarpet": [
           {
            "colorbar": {
             "outlinewidth": 0,
             "ticks": ""
            },
            "type": "contourcarpet"
           }
          ],
          "heatmap": [
           {
            "colorbar": {
             "outlinewidth": 0,
             "ticks": ""
            },
            "colorscale": [
             [
              0,
              "#0d0887"
             ],
             [
              0.1111111111111111,
              "#46039f"
             ],
             [
              0.2222222222222222,
              "#7201a8"
             ],
             [
              0.3333333333333333,
              "#9c179e"
             ],
             [
              0.4444444444444444,
              "#bd3786"
             ],
             [
              0.5555555555555556,
              "#d8576b"
             ],
             [
              0.6666666666666666,
              "#ed7953"
             ],
             [
              0.7777777777777778,
              "#fb9f3a"
             ],
             [
              0.8888888888888888,
              "#fdca26"
             ],
             [
              1,
              "#f0f921"
             ]
            ],
            "type": "heatmap"
           }
          ],
          "heatmapgl": [
           {
            "colorbar": {
             "outlinewidth": 0,
             "ticks": ""
            },
            "colorscale": [
             [
              0,
              "#0d0887"
             ],
             [
              0.1111111111111111,
              "#46039f"
             ],
             [
              0.2222222222222222,
              "#7201a8"
             ],
             [
              0.3333333333333333,
              "#9c179e"
             ],
             [
              0.4444444444444444,
              "#bd3786"
             ],
             [
              0.5555555555555556,
              "#d8576b"
             ],
             [
              0.6666666666666666,
              "#ed7953"
             ],
             [
              0.7777777777777778,
              "#fb9f3a"
             ],
             [
              0.8888888888888888,
              "#fdca26"
             ],
             [
              1,
              "#f0f921"
             ]
            ],
            "type": "heatmapgl"
           }
          ],
          "histogram": [
           {
            "marker": {
             "pattern": {
              "fillmode": "overlay",
              "size": 10,
              "solidity": 0.2
             }
            },
            "type": "histogram"
           }
          ],
          "histogram2d": [
           {
            "colorbar": {
             "outlinewidth": 0,
             "ticks": ""
            },
            "colorscale": [
             [
              0,
              "#0d0887"
             ],
             [
              0.1111111111111111,
              "#46039f"
             ],
             [
              0.2222222222222222,
              "#7201a8"
             ],
             [
              0.3333333333333333,
              "#9c179e"
             ],
             [
              0.4444444444444444,
              "#bd3786"
             ],
             [
              0.5555555555555556,
              "#d8576b"
             ],
             [
              0.6666666666666666,
              "#ed7953"
             ],
             [
              0.7777777777777778,
              "#fb9f3a"
             ],
             [
              0.8888888888888888,
              "#fdca26"
             ],
             [
              1,
              "#f0f921"
             ]
            ],
            "type": "histogram2d"
           }
          ],
          "histogram2dcontour": [
           {
            "colorbar": {
             "outlinewidth": 0,
             "ticks": ""
            },
            "colorscale": [
             [
              0,
              "#0d0887"
             ],
             [
              0.1111111111111111,
              "#46039f"
             ],
             [
              0.2222222222222222,
              "#7201a8"
             ],
             [
              0.3333333333333333,
              "#9c179e"
             ],
             [
              0.4444444444444444,
              "#bd3786"
             ],
             [
              0.5555555555555556,
              "#d8576b"
             ],
             [
              0.6666666666666666,
              "#ed7953"
             ],
             [
              0.7777777777777778,
              "#fb9f3a"
             ],
             [
              0.8888888888888888,
              "#fdca26"
             ],
             [
              1,
              "#f0f921"
             ]
            ],
            "type": "histogram2dcontour"
           }
          ],
          "mesh3d": [
           {
            "colorbar": {
             "outlinewidth": 0,
             "ticks": ""
            },
            "type": "mesh3d"
           }
          ],
          "parcoords": [
           {
            "line": {
             "colorbar": {
              "outlinewidth": 0,
              "ticks": ""
             }
            },
            "type": "parcoords"
           }
          ],
          "pie": [
           {
            "automargin": true,
            "type": "pie"
           }
          ],
          "scatter": [
           {
            "fillpattern": {
             "fillmode": "overlay",
             "size": 10,
             "solidity": 0.2
            },
            "type": "scatter"
           }
          ],
          "scatter3d": [
           {
            "line": {
             "colorbar": {
              "outlinewidth": 0,
              "ticks": ""
             }
            },
            "marker": {
             "colorbar": {
              "outlinewidth": 0,
              "ticks": ""
             }
            },
            "type": "scatter3d"
           }
          ],
          "scattercarpet": [
           {
            "marker": {
             "colorbar": {
              "outlinewidth": 0,
              "ticks": ""
             }
            },
            "type": "scattercarpet"
           }
          ],
          "scattergeo": [
           {
            "marker": {
             "colorbar": {
              "outlinewidth": 0,
              "ticks": ""
             }
            },
            "type": "scattergeo"
           }
          ],
          "scattergl": [
           {
            "marker": {
             "colorbar": {
              "outlinewidth": 0,
              "ticks": ""
             }
            },
            "type": "scattergl"
           }
          ],
          "scattermapbox": [
           {
            "marker": {
             "colorbar": {
              "outlinewidth": 0,
              "ticks": ""
             }
            },
            "type": "scattermapbox"
           }
          ],
          "scatterpolar": [
           {
            "marker": {
             "colorbar": {
              "outlinewidth": 0,
              "ticks": ""
             }
            },
            "type": "scatterpolar"
           }
          ],
          "scatterpolargl": [
           {
            "marker": {
             "colorbar": {
              "outlinewidth": 0,
              "ticks": ""
             }
            },
            "type": "scatterpolargl"
           }
          ],
          "scatterternary": [
           {
            "marker": {
             "colorbar": {
              "outlinewidth": 0,
              "ticks": ""
             }
            },
            "type": "scatterternary"
           }
          ],
          "surface": [
           {
            "colorbar": {
             "outlinewidth": 0,
             "ticks": ""
            },
            "colorscale": [
             [
              0,
              "#0d0887"
             ],
             [
              0.1111111111111111,
              "#46039f"
             ],
             [
              0.2222222222222222,
              "#7201a8"
             ],
             [
              0.3333333333333333,
              "#9c179e"
             ],
             [
              0.4444444444444444,
              "#bd3786"
             ],
             [
              0.5555555555555556,
              "#d8576b"
             ],
             [
              0.6666666666666666,
              "#ed7953"
             ],
             [
              0.7777777777777778,
              "#fb9f3a"
             ],
             [
              0.8888888888888888,
              "#fdca26"
             ],
             [
              1,
              "#f0f921"
             ]
            ],
            "type": "surface"
           }
          ],
          "table": [
           {
            "cells": {
             "fill": {
              "color": "#EBF0F8"
             },
             "line": {
              "color": "white"
             }
            },
            "header": {
             "fill": {
              "color": "#C8D4E3"
             },
             "line": {
              "color": "white"
             }
            },
            "type": "table"
           }
          ]
         },
         "layout": {
          "annotationdefaults": {
           "arrowcolor": "#2a3f5f",
           "arrowhead": 0,
           "arrowwidth": 1
          },
          "autotypenumbers": "strict",
          "coloraxis": {
           "colorbar": {
            "outlinewidth": 0,
            "ticks": ""
           }
          },
          "colorscale": {
           "diverging": [
            [
             0,
             "#8e0152"
            ],
            [
             0.1,
             "#c51b7d"
            ],
            [
             0.2,
             "#de77ae"
            ],
            [
             0.3,
             "#f1b6da"
            ],
            [
             0.4,
             "#fde0ef"
            ],
            [
             0.5,
             "#f7f7f7"
            ],
            [
             0.6,
             "#e6f5d0"
            ],
            [
             0.7,
             "#b8e186"
            ],
            [
             0.8,
             "#7fbc41"
            ],
            [
             0.9,
             "#4d9221"
            ],
            [
             1,
             "#276419"
            ]
           ],
           "sequential": [
            [
             0,
             "#0d0887"
            ],
            [
             0.1111111111111111,
             "#46039f"
            ],
            [
             0.2222222222222222,
             "#7201a8"
            ],
            [
             0.3333333333333333,
             "#9c179e"
            ],
            [
             0.4444444444444444,
             "#bd3786"
            ],
            [
             0.5555555555555556,
             "#d8576b"
            ],
            [
             0.6666666666666666,
             "#ed7953"
            ],
            [
             0.7777777777777778,
             "#fb9f3a"
            ],
            [
             0.8888888888888888,
             "#fdca26"
            ],
            [
             1,
             "#f0f921"
            ]
           ],
           "sequentialminus": [
            [
             0,
             "#0d0887"
            ],
            [
             0.1111111111111111,
             "#46039f"
            ],
            [
             0.2222222222222222,
             "#7201a8"
            ],
            [
             0.3333333333333333,
             "#9c179e"
            ],
            [
             0.4444444444444444,
             "#bd3786"
            ],
            [
             0.5555555555555556,
             "#d8576b"
            ],
            [
             0.6666666666666666,
             "#ed7953"
            ],
            [
             0.7777777777777778,
             "#fb9f3a"
            ],
            [
             0.8888888888888888,
             "#fdca26"
            ],
            [
             1,
             "#f0f921"
            ]
           ]
          },
          "colorway": [
           "#636efa",
           "#EF553B",
           "#00cc96",
           "#ab63fa",
           "#FFA15A",
           "#19d3f3",
           "#FF6692",
           "#B6E880",
           "#FF97FF",
           "#FECB52"
          ],
          "font": {
           "color": "#2a3f5f"
          },
          "geo": {
           "bgcolor": "white",
           "lakecolor": "white",
           "landcolor": "#E5ECF6",
           "showlakes": true,
           "showland": true,
           "subunitcolor": "white"
          },
          "hoverlabel": {
           "align": "left"
          },
          "hovermode": "closest",
          "mapbox": {
           "style": "light"
          },
          "paper_bgcolor": "white",
          "plot_bgcolor": "#E5ECF6",
          "polar": {
           "angularaxis": {
            "gridcolor": "white",
            "linecolor": "white",
            "ticks": ""
           },
           "bgcolor": "#E5ECF6",
           "radialaxis": {
            "gridcolor": "white",
            "linecolor": "white",
            "ticks": ""
           }
          },
          "scene": {
           "xaxis": {
            "backgroundcolor": "#E5ECF6",
            "gridcolor": "white",
            "gridwidth": 2,
            "linecolor": "white",
            "showbackground": true,
            "ticks": "",
            "zerolinecolor": "white"
           },
           "yaxis": {
            "backgroundcolor": "#E5ECF6",
            "gridcolor": "white",
            "gridwidth": 2,
            "linecolor": "white",
            "showbackground": true,
            "ticks": "",
            "zerolinecolor": "white"
           },
           "zaxis": {
            "backgroundcolor": "#E5ECF6",
            "gridcolor": "white",
            "gridwidth": 2,
            "linecolor": "white",
            "showbackground": true,
            "ticks": "",
            "zerolinecolor": "white"
           }
          },
          "shapedefaults": {
           "line": {
            "color": "#2a3f5f"
           }
          },
          "ternary": {
           "aaxis": {
            "gridcolor": "white",
            "linecolor": "white",
            "ticks": ""
           },
           "baxis": {
            "gridcolor": "white",
            "linecolor": "white",
            "ticks": ""
           },
           "bgcolor": "#E5ECF6",
           "caxis": {
            "gridcolor": "white",
            "linecolor": "white",
            "ticks": ""
           }
          },
          "title": {
           "x": 0.05
          },
          "xaxis": {
           "automargin": true,
           "gridcolor": "white",
           "linecolor": "white",
           "ticks": "",
           "title": {
            "standoff": 15
           },
           "zerolinecolor": "white",
           "zerolinewidth": 2
          },
          "yaxis": {
           "automargin": true,
           "gridcolor": "white",
           "linecolor": "white",
           "ticks": "",
           "title": {
            "standoff": 15
           },
           "zerolinecolor": "white",
           "zerolinewidth": 2
          }
         }
        },
        "title": {
         "text": "Training Loss per Epoch"
        },
        "xaxis": {
         "title": {
          "text": "Epoch"
         }
        },
        "yaxis": {
         "title": {
          "text": "Loss"
         }
        }
       }
      }
     },
     "metadata": {},
     "output_type": "display_data"
    }
   ],
   "source": [
    "import plotly.graph_objects as go\n",
    "epochs = list(range(len(losses)))\n",
    "\n",
    "fig = go.Figure(data=go.Scatter(x=epochs, y=losses, mode='lines+markers', name='Train'))\n",
    "\n",
    "fig.update_layout(title='Training Loss per Epoch',\n",
    "                   xaxis_title='Epoch',\n",
    "                   yaxis_title='Loss')\n",
    "\n",
    "fig.show()"
   ]
  },
  {
   "cell_type": "markdown",
   "metadata": {},
   "source": [
    "## Evaluation"
   ]
  },
  {
   "cell_type": "code",
   "execution_count": 265,
   "metadata": {},
   "outputs": [],
   "source": [
    "targets = [] \n",
    "predicted = []\n",
    "\n",
    "model.eval()\n",
    "for i, (x, y) in enumerate(test_loader):\n",
    "    h_s = model.init_h(x.shape[0], x.shape[1]).to(device) \n",
    "        \n",
    "    x = x.to(device)\n",
    "    y = y.to(device)\n",
    "    y_pred, h_out = model(x, h_s)\n",
    "    y_pred = y_pred[:, -1, :]\n",
    "    predicted.append(y_pred.cpu().detach().numpy())\n",
    "    targets.append(y.cpu().detach().numpy())\n",
    "    h_s = h_out\n",
    "    "
   ]
  },
  {
   "cell_type": "code",
   "execution_count": 266,
   "metadata": {},
   "outputs": [
    {
     "name": "stdout",
     "output_type": "stream",
     "text": [
      "Mean Squared Error (MSE): 4.080652236938477\n",
      "Root Mean Squared Error (RMSE): 2.0200624465942383\n"
     ]
    }
   ],
   "source": [
    "from sklearn.metrics import mean_squared_error\n",
    "target_long_array = np.concatenate(targets)\n",
    "predicted_long_array = np.concatenate(predicted)\n",
    "\n",
    "mse = mean_squared_error(target_long_array, predicted_long_array)\n",
    "print(f'Mean Squared Error (MSE): {mse}')\n",
    "rmse = np.sqrt(mse)\n",
    "print(f'Root Mean Squared Error (RMSE): {rmse}')"
   ]
  },
  {
   "cell_type": "code",
   "execution_count": 267,
   "metadata": {},
   "outputs": [],
   "source": [
    "target_list = target_long_array.tolist()\n",
    "predicted_list = predicted_long_array.tolist()"
   ]
  },
  {
   "cell_type": "code",
   "execution_count": 268,
   "metadata": {},
   "outputs": [
    {
     "data": {
      "image/png": "[encoded data removed]",
      "text/plain": [
       "<Figure size 640x480 with 1 Axes>"
      ]
     },
     "metadata": {},
     "output_type": "display_data"
    }
   ],
   "source": [
    "plt.plot(predicted_list)\n",
    "plt.show()"
   ]
  },
  {
   "cell_type": "code",
   "execution_count": 269,
   "metadata": {},
   "outputs": [
    {
     "data": {
      "image/png": "[encoded data removed]",
      "text/plain": [
       "<Figure size 640x480 with 1 Axes>"
      ]
     },
     "metadata": {},
     "output_type": "display_data"
    }
   ],
   "source": [
    "fig, ax = plt.subplots()\n",
    "\n",
    "# Add the targets and predictions to the plot\n",
    "ax.plot(target_list, label='Targets')\n",
    "ax.plot(predicted_list, label='Predictions')\n",
    "\n",
    "# Add labels and title\n",
    "ax.set_xlabel('Index')\n",
    "ax.set_ylabel('Values')\n",
    "ax.set_title('Targets and Predictions')\n",
    "\n",
    "# Add a legend\n",
    "ax.legend()\n",
    "\n",
    "# Show the plot\n",
    "plt.show()"
   ]
  }
 ],
 "metadata": {
  "kernelspec": {
   "display_name": "Python 3",
   "language": "python",
   "name": "python3"
  },
  "language_info": {
   "codemirror_mode": {
    "name": "ipython",
    "version": 3
   },
   "file_extension": ".py",
   "mimetype": "text/x-python",
   "name": "python",
   "nbconvert_exporter": "python",
   "pygments_lexer": "ipython3",
   "version": "3.8.10"
  },
  "orig_nbformat": 4,
  "vscode": {
   "interpreter": {
    "hash": "f9f85f796d01129d0dd105a088854619f454435301f6ffec2fea96ecbd9be4ac"
   }
  }
 },
 "nbformat": 4,
 "nbformat_minor": 2
}
