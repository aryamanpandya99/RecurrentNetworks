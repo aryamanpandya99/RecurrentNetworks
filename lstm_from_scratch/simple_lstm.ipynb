{
 "cells": [
  {
   "cell_type": "markdown",
   "metadata": {},
   "source": [
    "# Long short term memory\n",
    "\n",
    "We previously explored RNNs, neural networks that are able to propagate some hidden state through a rolled out version of itself. A major problem with RNNs is exploding or vanishing gradients. Gradient clipping solves the exploding gradient problem, but the vanishing gradient problem is harder to solve. LSTMs propose a different architecture which benefits from a hidden state like RNNs, but mitigates the vanishing gradient problem. Another issue RNNs have is that the hidden state often forgets information from a while ago in the sequence and is more biased towards more recent tokens. LSTMs also address this issue with their gated structure. \n"
   ]
  },
  {
   "cell_type": "code",
   "execution_count": 1,
   "metadata": {},
   "outputs": [],
   "source": [
    "from torch import nn\n",
    "import torch \n",
    "import numpy as np\n",
    "import pandas as pd\n",
    "from torch.nn.utils.rnn import PackedSequence\n",
    "import torch.nn.functional\n",
    "from torch.utils.data import random_split\n",
    "from torchtext.data.utils import get_tokenizer\n",
    "from torchtext.vocab import build_vocab_from_iterator\n",
    "from torchtext.datasets import AG_NEWS\n",
    "from torch import nn\n",
    "from torch.utils.data import DataLoader\n",
    "import math\n",
    "from torch.nn.utils.rnn import pad_sequence"
   ]
  },
  {
   "cell_type": "markdown",
   "metadata": {},
   "source": [
    "## LSTM model defintion\n",
    "The goal here is to build a substitute for the torch.nn.rnn.lstm module. This should be able to handle packed sequences and batched data the same way the source code for that module does. For now, does not need to have multiple layers or be bidirectional."
   ]
  },
  {
   "cell_type": "code",
   "execution_count": 2,
   "metadata": {},
   "outputs": [],
   "source": [
    "class LSTMCell(nn.Module): \n",
    "\n",
    "\n",
    "    def __init__(self, input_size, hidden_size, bias=True):\n",
    "        super(LSTMCell, self).__init__()\n",
    "        self.input_size = input_size\n",
    "        self.hidden_size = hidden_size\n",
    "        self.bias = bias\n",
    "\n",
    "        self.x2h = nn.Linear(input_size, 4 * hidden_size, bias=bias)\n",
    "        self.h2h = nn.Linear(hidden_size, 4 * hidden_size, bias=bias)\n",
    "        self.reset_parameters()\n",
    "\n",
    "\n",
    "\n",
    "    def reset_parameters(self):\n",
    "        std = 1.0 / math.sqrt(self.hidden_size)\n",
    "        for w in self.parameters():\n",
    "            w.data.uniform_(-std, std)\n",
    "    \n",
    "    def forward(self, x, hidden, cell_state):\n",
    "\n",
    "        #pdb.set_trace()\n",
    "        hx = hidden\n",
    "        \n",
    "        x = x.view(-1, x.size(1))\n",
    "        \n",
    "        gates = self.x2h(x) + self.h2h(hx)\n",
    "    \n",
    "        gates = gates.squeeze()\n",
    "        \n",
    "        i_gate, f_gate, c_gate, o_gate = gates.chunk(4, 1)\n",
    "        \n",
    "        in_gate = torch.sigmoid(i_gate)\n",
    "        forget_gate = torch.sigmoid(f_gate)\n",
    "        g_t = torch.tanh(c_gate)\n",
    "        cell_state_clone = cell_state.clone()\n",
    "        cell_gate = torch.mul(forget_gate, cell_state_clone) + torch.mul(in_gate, g_t)\n",
    "\n",
    "        out_gate = torch.sigmoid(o_gate)\n",
    "        \n",
    "\n",
    "        hm = out_gate * nn.functional.tanh(cell_gate)\n",
    "        return (hm, cell_gate)"
   ]
  },
  {
   "cell_type": "code",
   "execution_count": 440,
   "metadata": {},
   "outputs": [],
   "source": [
    "class lstm(nn.Module): \n",
    "    def __init__(self, input_size, hidden_dim, num_layers=1, output_dim=1) -> None:\n",
    "        super().__init__()\n",
    "        self.input_dim = input_size\n",
    "        self.hidden_dim  = hidden_dim\n",
    "        self.num_layers = num_layers\n",
    "        self.output_dim = output_dim\n",
    "        \n",
    "        self.lstm_cell_list = nn.ModuleList()\n",
    "        for _ in range(self.num_layers): \n",
    "            self.lstm_cell_list.append(LSTMCell(self.input_dim, self.hidden_dim))\n",
    "        \n",
    "        self.fc = nn.Linear(self.hidden_dim, self.output_dim)\n",
    "\n",
    "    def forward(self, x, h_in=None, c_in=None):\n",
    "\n",
    "        if isinstance(x, PackedSequence):\n",
    "            input, batch_sizes, sorted_indices, unsorted_indices = x\n",
    "            max_batch_size = batch_sizes[0]\n",
    "            if h_in is None: \n",
    "                h_in = self.init_h(max_batch_size, x)\n",
    "                c_in = self.init_h(max_batch_size, x)\n",
    "        \n",
    "            data_offset = 0\n",
    "            outputs = []\n",
    "            for batch_size in batch_sizes:\n",
    "                current_input = input[data_offset:data_offset + batch_size]\n",
    "                data_offset += batch_size\n",
    "                current_input = current_input.unsqueeze(0)\n",
    "                if batch_size < max_batch_size: \n",
    "                    h_in[:,batch_size:,:] = 0\n",
    "                    c_in[:,batch_size:,:] = 0\n",
    "                    pad_size = max_batch_size - batch_size\n",
    "                    # Create a tensor of zeros with the padding size\n",
    "                    padding = torch.zeros(1, pad_size, self.hidden_dim, device=current_input.device)\n",
    "                    # Concatenate the padding to the current input\n",
    "                    current_input = torch.cat([current_input, padding], dim=1)\n",
    "                \n",
    "                combined = torch.cat([current_input, h_in], dim=2)\n",
    "                \n",
    "                i_gate_output = self.input_gate(combined)\n",
    "                i_node_output = self.input_node(combined)\n",
    "                o_gate_output = self.output_gate(combined)\n",
    "                f_gate_output = self.forget_gate(combined)\n",
    "\n",
    "                c_out = (f_gate_output * c_in) + (i_node_output * i_gate_output)\n",
    "\n",
    "                h_out = self.tanh(c_out) * o_gate_output\n",
    "                out = self.output_layer(h_out)\n",
    "                h_in = h_out\n",
    "                c_in = c_out\n",
    "                outputs.append(out)\n",
    "\n",
    "                # Handle decreasing batch siz\n",
    "            output_packed = PackedSequence(outputs, batch_sizes, sorted_indices, unsorted_indices)\n",
    "            return output_packed, (h_out, c_out)\n",
    "        \n",
    "        else:\n",
    "            if h_in is None: \n",
    "                h_in = self.init_h(x.size(0)).to(x.device)\n",
    "                c_in = self.init_h(x.size(0)).to(x.device)\n",
    "            h_tmp = h_in.clone()\n",
    "            c_tmp = c_in.clone()\n",
    "            for t in range(x.size(1)):\n",
    "                for layer in range(self.num_layers): \n",
    "                    input = x[:,t,:]\n",
    "                    if layer == 0: \n",
    "                        (h_out, c_out) = self.lstm_cell_list[layer](input, h_in[layer], c_in[layer])  # if first hidden layer, use input\n",
    "                    else: \n",
    "                        (h_out, c_out) = self.lstm_cell_list[layer](h_in[layer - 1], h_in[layer], c_in[layer])  # else, use previous hidden layer as input \n",
    "                    h_tmp[layer] = h_out\n",
    "                    c_tmp[layer] = c_out\n",
    "            \n",
    "        return h_out, c_out\n",
    "    \n",
    "    \n",
    "    def init_h(self, batch_size):\n",
    "        #zero initialization \n",
    "        #alternatives include but not limited to Xavier/Kaiminh initialization\n",
    "        return torch.zeros(self.num_layers, batch_size, self.hidden_dim, requires_grad=False)"
   ]
  },
  {
   "cell_type": "code",
   "execution_count": 4,
   "metadata": {},
   "outputs": [],
   "source": [
    "class lstm_simplified(nn.Module): \n",
    "    def __init__(self, input_size, hidden_dim, output_dim=1) -> None:\n",
    "        super().__init__()\n",
    "        self.input_dim = input_size\n",
    "        self.hidden_dim  = hidden_dim\n",
    "        \n",
    "        self.x_h = nn.Sequential(\n",
    "            nn.Linear(input_size, hidden_dim * 4),\n",
    "        )\n",
    "        self.h_x = nn.Sequential(\n",
    "            nn.Linear(hidden_dim, hidden_dim * 4),\n",
    "        )\n",
    "\n",
    "        self.tanh = nn.Tanh()\n",
    "\n",
    "        # this output layer can be fancier if needed by the use case\n",
    "        self.output_layer = nn.Linear(hidden_dim, output_dim)\n",
    "\n",
    "    def forward(self, x, h_in=None, c_in=None):\n",
    "\n",
    "        if isinstance(x, PackedSequence):\n",
    "            input, batch_sizes, sorted_indices, unsorted_indices = x\n",
    "            max_batch_size = batch_sizes[0]\n",
    "            if h_in is None: \n",
    "                h_in = self.init_h(max_batch_size, x)\n",
    "                c_in = self.init_h(max_batch_size, x)\n",
    "        \n",
    "            data_offset = 0\n",
    "            outputs = []\n",
    "            for batch_size in batch_sizes:\n",
    "                current_input = input[data_offset:data_offset + batch_size]\n",
    "                data_offset += batch_size\n",
    "                current_input = current_input.unsqueeze(0)\n",
    "                if batch_size < max_batch_size: \n",
    "                    h_in[:,batch_size:,:] = 0\n",
    "                    c_in[:,batch_size:,:] = 0\n",
    "                    pad_size = max_batch_size - batch_size\n",
    "                    # Create a tensor of zeros with the padding size\n",
    "                    padding = torch.zeros(1, pad_size, self.hidden_dim, device=current_input.device)\n",
    "                    # Concatenate the padding to the current input\n",
    "                    current_input = torch.cat([current_input, padding], dim=1)\n",
    "                \n",
    "                gates = self.x_h(current_input) +  self.h_x(h_in)\n",
    "                input_gate, forget_gate, input_node, output_gate = gates.chunk(4, 2)\n",
    "                i_gate_output = torch.sigmoid(input_gate)\n",
    "                i_node_output = torch.tanh(input_node)\n",
    "                o_gate_output = torch.sigmoid(output_gate)\n",
    "                f_gate_output = torch.sigmoid(forget_gate)\n",
    "                \n",
    "                c_out = (f_gate_output * c_in) + (i_node_output * i_gate_output)\n",
    "\n",
    "                h_out = self.tanh(c_out) * o_gate_output\n",
    "                out = self.output_layer(h_out)\n",
    "                h_in = h_out\n",
    "                c_in = c_out\n",
    "                outputs.append(out)\n",
    "\n",
    "                # Handle decreasing batch siz\n",
    "\n",
    "\n",
    "            output_packed = PackedSequence(outputs, batch_sizes, sorted_indices, unsorted_indices)\n",
    "            return output_packed, h_out, c_out\n",
    "        \n",
    "        else:\n",
    "            \n",
    "            for t in range(x.size(1)):\n",
    "                input = x[:,t,:]\n",
    "                gates = self.x_h(input) +  self.h_x(h_in)\n",
    "                input_gate, forget_gate, input_node, output_gate = gates.chunk(4, 1)\n",
    "                i_gate_output = torch.sigmoid(input_gate)\n",
    "                i_node_output = torch.tanh(input_node)\n",
    "                o_gate_output = torch.sigmoid(output_gate)\n",
    "                f_gate_output = torch.sigmoid(forget_gate)\n",
    "                \n",
    "                c_out = (f_gate_output * c_in) + (i_node_output * i_gate_output)\n",
    "\n",
    "                h_out = self.tanh(c_out) * o_gate_output\n",
    "                out = self.output_layer(h_out)\n",
    "                h_in = h_out\n",
    "                c_in = c_out\n",
    "            \n",
    "        return out, (h_out, c_out)\n",
    "        \n",
    "    \n",
    "    \n",
    "    def init_h(self, batch_size, sequence_length):\n",
    "        #zero initialization \n",
    "        #alternatives include but not limited to Xavier/Kaiminh initialization\n",
    "        return torch.zeros(batch_size, self.hidden_dim, requires_grad=False)"
   ]
  },
  {
   "cell_type": "code",
   "execution_count": 5,
   "metadata": {},
   "outputs": [],
   "source": [
    "class newsLSTM(nn.Module): \n",
    "    def __init__(self, vocab_size, embed_size, hidden_size) -> None:\n",
    "        super(newsLSTM, self).__init__()\n",
    "        \n",
    "        self.encoder = nn.Embedding(vocab_size, embed_size, padding_idx=0)\n",
    "        self.hidden_size = hidden_size \n",
    "        self.lstm = nn.LSTM(embed_size, \n",
    "                           hidden_size,\n",
    "                           batch_first=True)\n",
    "        \n",
    "        self.hidden2label = nn.Linear(hidden_size, 4)\n",
    "        self.dropoutLayer = nn.Dropout(p=0.5)\n",
    "\n",
    "\n",
    "    def forward(self, x, x_len):\n",
    "        embedded = self.encoder(x)\n",
    "        x_packed = nn.utils.rnn.pack_padded_sequence(embedded, x_len, batch_first=True, enforce_sorted=False)\n",
    "        output, (h_t, c_t) = self.lstm(x_packed)  # Pass the initial hidden state 'h' to the RNN   \n",
    "        # hidden = self.dropout(torch.cat((h_t[-2,:,:], h_t[-1,:,:]), dim=1))     \n",
    "        hidden = self.dropoutLayer(h_t.squeeze())\n",
    "        \n",
    "        # Linear layer and softmax\n",
    "        label_space = self.hidden2label(hidden)\n",
    "        \n",
    "        return label_space\n",
    "    "
   ]
  },
  {
   "cell_type": "markdown",
   "metadata": {},
   "source": [
    "We repeat the exact same news classification task performed by in the bidirectionalRNN subdir"
   ]
  },
  {
   "cell_type": "code",
   "execution_count": 6,
   "metadata": {},
   "outputs": [],
   "source": [
    "train_iter = AG_NEWS(split='train')\n",
    "\n",
    "# Convert to list to enable random splitting\n",
    "train_dataset = list(train_iter)\n",
    "\n",
    "#80-20 train-val split \n",
    "train_size = int(len(train_dataset) * 0.8)  \n",
    "val_size = len(train_dataset) - train_size  \n",
    "train_data, val_data = random_split(train_dataset, [train_size, val_size])\n",
    "\n",
    "tokenizer = get_tokenizer(\"basic_english\")\n",
    "\n",
    "def yield_tokens(data_iter):\n",
    "    for text in data_iter:\n",
    "        yield tokenizer(text)\n",
    "\n",
    "VOCAB_SIZE = 5000\n",
    "\n",
    "# Build vocab based on the train_data\n",
    "train_data_iter = (text for _, text in train_data)\n",
    "vocab = build_vocab_from_iterator(yield_tokens(train_data_iter), specials=[\"<unk>\"], max_tokens=VOCAB_SIZE)\n",
    "vocab.set_default_index(vocab[\"<unk>\"])"
   ]
  },
  {
   "cell_type": "code",
   "execution_count": 7,
   "metadata": {},
   "outputs": [
    {
     "data": {
      "text/plain": [
       "(2,\n",
       " 'The mother of all sponsorships Emirates Airline and Arsenal Football Club have signed the biggest club sponsorship in football history, collectively worth about 100 million (Rs 816.')"
      ]
     },
     "execution_count": 7,
     "metadata": {},
     "output_type": "execute_result"
    }
   ],
   "source": [
    "train_data[0]"
   ]
  },
  {
   "cell_type": "code",
   "execution_count": 8,
   "metadata": {},
   "outputs": [
    {
     "data": {
      "text/plain": [
       "[2084, 1612, 0, 0]"
      ]
     },
     "execution_count": 8,
     "metadata": {},
     "output_type": "execute_result"
    }
   ],
   "source": [
    "vocab(['word', 'probably', 'unknown', 'gibberish'])"
   ]
  },
  {
   "cell_type": "code",
   "execution_count": 9,
   "metadata": {},
   "outputs": [],
   "source": [
    "text_pipeline = lambda x: vocab(tokenizer(x))\n",
    "label_pipeline = lambda x: int(x) - 1"
   ]
  },
  {
   "cell_type": "code",
   "execution_count": 10,
   "metadata": {},
   "outputs": [
    {
     "data": {
      "text/plain": [
       "['bat']"
      ]
     },
     "execution_count": 10,
     "metadata": {},
     "output_type": "execute_result"
    }
   ],
   "source": [
    "vocab.lookup_tokens([4999])"
   ]
  },
  {
   "cell_type": "code",
   "execution_count": 11,
   "metadata": {},
   "outputs": [],
   "source": [
    "def collate_batch(batch):\n",
    "    device = torch.device('cuda:0' if torch.cuda.is_available() else 'cpu')\n",
    "    label_list, text_list, lengths = [], [], []\n",
    "    \n",
    "    # Sort the batch in the descending order\n",
    "    batch.sort(key=lambda x: len(x[1]), reverse=True)\n",
    "    \n",
    "    for _label, _text in batch:\n",
    "        label_list.append(label_pipeline(_label))\n",
    "        processed_text = torch.tensor(text_pipeline(_text), dtype=torch.int64)\n",
    "        text_list.append(processed_text)\n",
    "        lengths.append(processed_text.size(0))\n",
    "        \n",
    "    label_list = torch.tensor(label_list, dtype=torch.int64)\n",
    "    lengths = torch.tensor(lengths, dtype=torch.int64)\n",
    "    \n",
    "    # Pad sequences\n",
    "    text_list = pad_sequence(text_list, batch_first=True)\n",
    "    \n",
    "    return label_list.to(device), text_list.to(device), lengths"
   ]
  },
  {
   "cell_type": "code",
   "execution_count": 12,
   "metadata": {},
   "outputs": [],
   "source": [
    "train_loader = DataLoader(train_data, batch_size = 8, shuffle = True, collate_fn = collate_batch)\n",
    "val_loader = DataLoader(val_data, batch_size = 8, shuffle = False, collate_fn = collate_batch)"
   ]
  },
  {
   "cell_type": "code",
   "execution_count": 13,
   "metadata": {},
   "outputs": [],
   "source": [
    "batch = next(iter(train_loader))\n",
    "\n",
    "# Inspect the shape of the input data\n",
    "input_data = batch[1]  # Assuming the input data is the first element of the batch\n",
    "input_shape = input_data.shape[0]"
   ]
  },
  {
   "cell_type": "code",
   "execution_count": 14,
   "metadata": {},
   "outputs": [
    {
     "data": {
      "text/plain": [
       "torch.Size([8, 69])"
      ]
     },
     "execution_count": 14,
     "metadata": {},
     "output_type": "execute_result"
    }
   ],
   "source": [
    "batch[1].shape"
   ]
  },
  {
   "cell_type": "code",
   "execution_count": 15,
   "metadata": {},
   "outputs": [
    {
     "data": {
      "text/plain": [
       "3"
      ]
     },
     "execution_count": 15,
     "metadata": {},
     "output_type": "execute_result"
    }
   ],
   "source": [
    "len(batch)"
   ]
  },
  {
   "cell_type": "code",
   "execution_count": 16,
   "metadata": {},
   "outputs": [],
   "source": [
    "a =  torch.ones(5, 50)\n",
    "a =  torch.ones(5, 50)\n",
    "a =  torch.ones(5, 50)"
   ]
  },
  {
   "cell_type": "code",
   "execution_count": 17,
   "metadata": {},
   "outputs": [],
   "source": [
    "m = nn.Softmax(dim=1)\n",
    "input = torch.randn(2, 3)\n",
    "output = m(input)"
   ]
  },
  {
   "cell_type": "code",
   "execution_count": 18,
   "metadata": {},
   "outputs": [
    {
     "data": {
      "text/plain": [
       "tensor([[-0.2368, -0.4824,  0.1967],\n",
       "        [ 3.1247,  0.0103, -1.3040]])"
      ]
     },
     "execution_count": 18,
     "metadata": {},
     "output_type": "execute_result"
    }
   ],
   "source": [
    "input"
   ]
  },
  {
   "cell_type": "code",
   "execution_count": 19,
   "metadata": {},
   "outputs": [
    {
     "data": {
      "text/plain": [
       "tensor([[0.3008, 0.2353, 0.4640],\n",
       "        [0.9467, 0.0420, 0.0113]])"
      ]
     },
     "execution_count": 19,
     "metadata": {},
     "output_type": "execute_result"
    }
   ],
   "source": [
    "output"
   ]
  },
  {
   "cell_type": "code",
   "execution_count": 20,
   "metadata": {},
   "outputs": [
    {
     "data": {
      "text/plain": [
       "8"
      ]
     },
     "execution_count": 20,
     "metadata": {},
     "output_type": "execute_result"
    }
   ],
   "source": [
    "input_shape"
   ]
  },
  {
   "cell_type": "code",
   "execution_count": 21,
   "metadata": {},
   "outputs": [
    {
     "name": "stdout",
     "output_type": "stream",
     "text": [
      "tensor([0, 1, 1, 1, 0, 2, 0, 3], device='cuda:0')\n",
      "torch.Size([8, 69])\n"
     ]
    }
   ],
   "source": [
    "print(batch[0])\n",
    "print(batch[1].shape)"
   ]
  },
  {
   "cell_type": "code",
   "execution_count": 22,
   "metadata": {},
   "outputs": [],
   "source": [
    "LEARNING_RATE = 1e-3\n",
    "BATCH_SIZE = 128\n",
    "NUM_EPOCHS = 10\n",
    "DROPOUT = 0.5\n",
    "DEVICE = torch.device('cuda:0' if torch.cuda.is_available() else 'cpu')\n",
    "\n",
    "EMBEDDING_DIM = 128\n",
    "BIDIRECTIONAL = True\n",
    "HIDDEN_DIM = 128\n",
    "NUM_LAYERS = 2\n",
    "OUTPUT_DIM = 4"
   ]
  },
  {
   "cell_type": "code",
   "execution_count": 23,
   "metadata": {},
   "outputs": [
    {
     "name": "stderr",
     "output_type": "stream",
     "text": [
      "/home/aryaman.pandya/ml_accel/lib/python3.9/site-packages/tqdm/auto.py:21: TqdmWarning: IProgress not found. Please update jupyter and ipywidgets. See https://ipywidgets.readthedocs.io/en/stable/user_install.html\n",
      "  from .autonotebook import tqdm as notebook_tqdm\n"
     ]
    }
   ],
   "source": [
    "model = newsLSTM(VOCAB_SIZE, EMBEDDING_DIM, HIDDEN_DIM)\n",
    "model = model.to(DEVICE)\n",
    "optimizer = torch.optim.Adam(model.parameters(), lr=LEARNING_RATE)"
   ]
  },
  {
   "cell_type": "code",
   "execution_count": 24,
   "metadata": {},
   "outputs": [],
   "source": [
    "def train(model, train_loader, val_loader, loss_function, optim, epochs, device):\n",
    "    \n",
    "    for epoch in range(epochs):\n",
    "        losses = [] #group losses for loss visualization \n",
    "        running_loss = 0.0\n",
    "        model.train()\n",
    "        print(\"Epoch %d / %d\" % (epoch+1, epochs))\n",
    "        print(\"-\"*10)\n",
    "    \n",
    "        for i, batch_data in enumerate(train_loader):\n",
    "            \n",
    "            model.train()\n",
    "            (y, x, x_size) = batch_data\n",
    "            y_pred = model(x, x_size.cpu())\n",
    "            #print(f\"y_pred: {y_pred}, y_target: {y}\")\n",
    "            loss = loss_function(y_pred, y)\n",
    "            optim.zero_grad()\n",
    "            loss.backward()\n",
    "            optim.step()\n",
    "            \n",
    "            running_loss += loss.item()\n",
    "            losses.append(loss)\n",
    "            \n",
    "        model.eval()\n",
    "        val_loss = 0.0\n",
    "        print(\"Epoch: {}, train loss: {:.4f}\".format(epoch+1, running_loss/len(losses)))\n",
    "        with torch.no_grad():\n",
    "            for i, batch_data in enumerate(val_loader):\n",
    "                (y, x, x_size) = batch_data\n",
    "                y, x, x_size = y.to(device), x.to(device), x_size.to(device)\n",
    "                \n",
    "                y_pred = model(x, x_size.cpu())\n",
    "                loss = loss_function(y_pred, y)\n",
    "                \n",
    "                val_loss += loss.item()\n",
    "        \n",
    "        print(\"Epoch: {}, validation loss: {:.4f}\".format(epoch+1, val_loss/len(val_loader)))"
   ]
  },
  {
   "cell_type": "code",
   "execution_count": 25,
   "metadata": {},
   "outputs": [
    {
     "name": "stdout",
     "output_type": "stream",
     "text": [
      "Epoch 1 / 10\n",
      "----------\n"
     ]
    },
    {
     "ename": "KeyboardInterrupt",
     "evalue": "",
     "output_type": "error",
     "traceback": [
      "\u001b[0;31m---------------------------------------------------------------------------\u001b[0m",
      "\u001b[0;31mKeyboardInterrupt\u001b[0m                         Traceback (most recent call last)",
      "Cell \u001b[0;32mIn[25], line 1\u001b[0m\n\u001b[0;32m----> 1\u001b[0m train(model, train_loader, val_loader, torch\u001b[39m.\u001b[39;49mnn\u001b[39m.\u001b[39;49mfunctional\u001b[39m.\u001b[39;49mcross_entropy, optimizer, NUM_EPOCHS, DEVICE)\n",
      "Cell \u001b[0;32mIn[24], line 18\u001b[0m, in \u001b[0;36mtrain\u001b[0;34m(model, train_loader, val_loader, loss_function, optim, epochs, device)\u001b[0m\n\u001b[1;32m     16\u001b[0m loss \u001b[39m=\u001b[39m loss_function(y_pred, y)\n\u001b[1;32m     17\u001b[0m optim\u001b[39m.\u001b[39mzero_grad()\n\u001b[0;32m---> 18\u001b[0m loss\u001b[39m.\u001b[39;49mbackward()\n\u001b[1;32m     19\u001b[0m optim\u001b[39m.\u001b[39mstep()\n\u001b[1;32m     21\u001b[0m running_loss \u001b[39m+\u001b[39m\u001b[39m=\u001b[39m loss\u001b[39m.\u001b[39mitem()\n",
      "File \u001b[0;32m~/ml_accel/lib/python3.9/site-packages/torch/_tensor.py:492\u001b[0m, in \u001b[0;36mTensor.backward\u001b[0;34m(self, gradient, retain_graph, create_graph, inputs)\u001b[0m\n\u001b[1;32m    482\u001b[0m \u001b[39mif\u001b[39;00m has_torch_function_unary(\u001b[39mself\u001b[39m):\n\u001b[1;32m    483\u001b[0m     \u001b[39mreturn\u001b[39;00m handle_torch_function(\n\u001b[1;32m    484\u001b[0m         Tensor\u001b[39m.\u001b[39mbackward,\n\u001b[1;32m    485\u001b[0m         (\u001b[39mself\u001b[39m,),\n\u001b[0;32m   (...)\u001b[0m\n\u001b[1;32m    490\u001b[0m         inputs\u001b[39m=\u001b[39minputs,\n\u001b[1;32m    491\u001b[0m     )\n\u001b[0;32m--> 492\u001b[0m torch\u001b[39m.\u001b[39;49mautograd\u001b[39m.\u001b[39;49mbackward(\n\u001b[1;32m    493\u001b[0m     \u001b[39mself\u001b[39;49m, gradient, retain_graph, create_graph, inputs\u001b[39m=\u001b[39;49minputs\n\u001b[1;32m    494\u001b[0m )\n",
      "File \u001b[0;32m~/ml_accel/lib/python3.9/site-packages/torch/autograd/__init__.py:251\u001b[0m, in \u001b[0;36mbackward\u001b[0;34m(tensors, grad_tensors, retain_graph, create_graph, grad_variables, inputs)\u001b[0m\n\u001b[1;32m    246\u001b[0m     retain_graph \u001b[39m=\u001b[39m create_graph\n\u001b[1;32m    248\u001b[0m \u001b[39m# The reason we repeat the same comment below is that\u001b[39;00m\n\u001b[1;32m    249\u001b[0m \u001b[39m# some Python versions print out the first line of a multi-line function\u001b[39;00m\n\u001b[1;32m    250\u001b[0m \u001b[39m# calls in the traceback and some print out the last line\u001b[39;00m\n\u001b[0;32m--> 251\u001b[0m Variable\u001b[39m.\u001b[39;49m_execution_engine\u001b[39m.\u001b[39;49mrun_backward(  \u001b[39m# Calls into the C++ engine to run the backward pass\u001b[39;49;00m\n\u001b[1;32m    252\u001b[0m     tensors,\n\u001b[1;32m    253\u001b[0m     grad_tensors_,\n\u001b[1;32m    254\u001b[0m     retain_graph,\n\u001b[1;32m    255\u001b[0m     create_graph,\n\u001b[1;32m    256\u001b[0m     inputs,\n\u001b[1;32m    257\u001b[0m     allow_unreachable\u001b[39m=\u001b[39;49m\u001b[39mTrue\u001b[39;49;00m,\n\u001b[1;32m    258\u001b[0m     accumulate_grad\u001b[39m=\u001b[39;49m\u001b[39mTrue\u001b[39;49;00m,\n\u001b[1;32m    259\u001b[0m )\n",
      "\u001b[0;31mKeyboardInterrupt\u001b[0m: "
     ]
    }
   ],
   "source": [
    "train(model, train_loader, val_loader, torch.nn.functional.cross_entropy, optimizer, NUM_EPOCHS, DEVICE)"
   ]
  },
  {
   "cell_type": "markdown",
   "metadata": {},
   "source": [
    "# Notes: \n",
    "\n",
    "Something about the handling of decreasing batch sizes and packed sequences makes our lstm from scratch inefficient at learning when compared to the native torch version. However, working through the implementation and the bugs that came with it helped me better understand the internals of the lstm. What's especially impressive is that using a single layered unidirectional LSTM is much more effective for learning on this task than a 2 layered bidirectional RNN (see `RecurrentNetworks/bidirectionalRNN`)\n",
    "\n",
    "Below, we still make use of our hand crafted LSTM for a non batched, non-packed use case where it should not suffer from its inefficiencies."
   ]
  },
  {
   "cell_type": "code",
   "execution_count": 26,
   "metadata": {},
   "outputs": [
    {
     "ename": "TypeError",
     "evalue": "__init__() missing 2 required positional arguments: 'input_size' and 'hidden_size'",
     "output_type": "error",
     "traceback": [
      "\u001b[0;31m---------------------------------------------------------------------------\u001b[0m",
      "\u001b[0;31mTypeError\u001b[0m                                 Traceback (most recent call last)",
      "Cell \u001b[0;32mIn[26], line 1\u001b[0m\n\u001b[0;32m----> 1\u001b[0m nn\u001b[39m.\u001b[39;49mLSTM()\n",
      "File \u001b[0;32m~/ml_accel/lib/python3.9/site-packages/torch/nn/modules/rnn.py:771\u001b[0m, in \u001b[0;36mLSTM.__init__\u001b[0;34m(self, *args, **kwargs)\u001b[0m\n\u001b[1;32m    770\u001b[0m \u001b[39mdef\u001b[39;00m \u001b[39m__init__\u001b[39m(\u001b[39mself\u001b[39m, \u001b[39m*\u001b[39margs, \u001b[39m*\u001b[39m\u001b[39m*\u001b[39mkwargs):\n\u001b[0;32m--> 771\u001b[0m     \u001b[39msuper\u001b[39;49m()\u001b[39m.\u001b[39;49m\u001b[39m__init__\u001b[39;49m(\u001b[39m'\u001b[39;49m\u001b[39mLSTM\u001b[39;49m\u001b[39m'\u001b[39;49m, \u001b[39m*\u001b[39;49margs, \u001b[39m*\u001b[39;49m\u001b[39m*\u001b[39;49mkwargs)\n",
      "\u001b[0;31mTypeError\u001b[0m: __init__() missing 2 required positional arguments: 'input_size' and 'hidden_size'"
     ]
    }
   ],
   "source": [
    "nn.LSTM()"
   ]
  },
  {
   "cell_type": "code",
   "execution_count": 441,
   "metadata": {},
   "outputs": [],
   "source": [
    "class stockLSTM(nn.Module): \n",
    "    def __init__(self, input_dim, hidden_size, output_dim) -> None:\n",
    "        super(stockLSTM, self).__init__()\n",
    "        \n",
    "        self.hidden_size = hidden_size \n",
    "        self.lstm = lstm(input_dim, hidden_size)\n",
    "        self.output_dim = output_dim\n",
    "        self.output_layer = nn.Sequential(nn.Linear(hidden_size, output_dim))\n",
    "\n",
    "\n",
    "    def forward(self, x):\n",
    "        h, _ = self.lstm(x)\n",
    "        output = self.output_layer(h.squeeze())\n",
    "        \n",
    "        return output\n",
    "    "
   ]
  },
  {
   "cell_type": "code",
   "execution_count": 442,
   "metadata": {},
   "outputs": [],
   "source": [
    "def train_scratch_model(model, train_loader, val_loader,  loss_function, optim, epochs, device, scheduler, start_decay):\n",
    "    \n",
    "    losses = [] #group losses for loss visualization \n",
    "    \n",
    "    for epoch in range(epochs):\n",
    "        running_loss = 0 \n",
    "        print(\"Epoch %d / %d\" % (epoch+1, epochs))\n",
    "        print(\"-\"*10)\n",
    "        if (epoch > start_decay): \n",
    "            scheduler.step()\n",
    "        \n",
    "        model.train()\n",
    "        for i, (x, y) in enumerate(train_loader):\n",
    "            x = x.to(device)\n",
    "            y = y.to(device)\n",
    "            y_pred = model(x)\n",
    "            # print(f\"y shape: {y.shape}, y_pred shape: {y_pred.shape}\")\n",
    "            loss = loss_function(y_pred, y) \n",
    "            running_loss+=loss.item()\n",
    "            optim.zero_grad()\n",
    "            loss.backward() #backprop \n",
    "            optim.step() #update weights\n",
    "  \n",
    "        losses.append((running_loss / i))\n",
    "        print(\"Step: {}/{}, current Epoch loss: {:.4f}\".format(i, len(train_loader), (running_loss / i)))\n",
    "\n",
    "        val_loss = 0\n",
    "        with torch.no_grad():\n",
    "            for i, (x,y) in enumerate(val_loader):\n",
    "                y, x,  = y.to(device), x.to(device) \n",
    "                \n",
    "                y_pred = model(x)\n",
    "                loss = loss_function(y_pred, y)\n",
    "                \n",
    "                val_loss += loss.item()\n",
    "        \n",
    "        print(\"Epoch: {}, validation loss: {:.4f}\".format(epoch+1, val_loss/len(val_loader)))\n",
    "        \n",
    "    return losses"
   ]
  },
  {
   "cell_type": "code",
   "execution_count": 443,
   "metadata": {},
   "outputs": [],
   "source": [
    "def load_data(stock, sequence_length):\n",
    "    # Convert pandas dataframe to numpy array\n",
    "    data_raw = stock.to_numpy()\n",
    "\n",
    "    data = []\n",
    "\n",
    "    # Loop over the stock data to generate sequences of 'sequence_length' consecutive data points\n",
    "    # This is done because RNNs learn to predict data in a sequence from past sequence\n",
    "    for index in range(len(data_raw) - sequence_length):\n",
    "        data.append(data_raw[index: index + sequence_length])\n",
    "\n",
    "    data = np.array(data)\n",
    "    set_size = int(data.shape[0])\n",
    "\n",
    "    # Generate the train data\n",
    "    # x_train is all sequences excluding the last data point from each sequence\n",
    "    x = data[:,:-1,:]\n",
    "    # y_train is the last data point from each sequence\n",
    "    y = data[:,-1,:]\n",
    "    \n",
    "\n",
    "    # Return the train and test data\n",
    "    return [x, y]"
   ]
  },
  {
   "cell_type": "code",
   "execution_count": 444,
   "metadata": {},
   "outputs": [],
   "source": [
    "ibm_df = pd.read_csv('IBM.csv')\n",
    "ibm_df['Date'] = pd.to_datetime(ibm_df['Date'])\n",
    "ibm_df.set_index('Date',inplace=True)\n",
    "ibm_df = ibm_df[['Close']]\n",
    "ibm_df[\"Close\"] = (ibm_df[\"Close\"]-ibm_df[\"Close\"].mean())/ibm_df[\"Close\"].std()\n",
    "\n",
    "# Get the number of rows in the DataFrame\n",
    "num_rows = ibm_df.shape[0]\n",
    "\n",
    "# Compute the split point\n",
    "split_point = int(num_rows*0.8)\n",
    "\n",
    "# Split the DataFrame\n",
    "train_val_df = ibm_df.iloc[:split_point]\n",
    "test_df = ibm_df.iloc[split_point:]\n",
    "val_split = int((train_val_df.shape[0])*0.8)\n",
    "train_df = train_val_df.iloc[:val_split]\n",
    "val_df = train_val_df[val_split:]\n",
    "\n",
    "x_train, y_train = load_data(train_df, 10) \n",
    "x_test, y_test = load_data(test_df, 10) \n",
    "x_val, y_val = load_data(val_df, 10)"
   ]
  },
  {
   "cell_type": "code",
   "execution_count": 445,
   "metadata": {},
   "outputs": [
    {
     "name": "stdout",
     "output_type": "stream",
     "text": [
      "               Close\n",
      "Date                \n",
      "2006-01-03 -1.693534\n",
      "2006-01-04 -1.696465\n",
      "2006-01-05 -1.681809\n",
      "2006-01-06 -1.616527\n",
      "2006-01-09 -1.649035\n"
     ]
    }
   ],
   "source": [
    "print(train_df.head()) #to ensure no shuffling accidentally occurred "
   ]
  },
  {
   "cell_type": "code",
   "execution_count": 446,
   "metadata": {},
   "outputs": [
    {
     "name": "stdout",
     "output_type": "stream",
     "text": [
      "               Close\n",
      "Date                \n",
      "2017-12-22  0.183396\n",
      "2017-12-26  0.192189\n",
      "2017-12-27  0.200182\n",
      "2017-12-28  0.224430\n",
      "2017-12-29  0.207910\n"
     ]
    }
   ],
   "source": [
    "print(test_df.tail())"
   ]
  },
  {
   "cell_type": "code",
   "execution_count": 447,
   "metadata": {},
   "outputs": [
    {
     "name": "stdout",
     "output_type": "stream",
     "text": [
      "Train input data shape: (1922, 9, 1), target shape: (1922, 1)\n"
     ]
    }
   ],
   "source": [
    "print(\"Train input data shape: {}, target shape: {}\".format(x_train.shape, y_train.shape)) "
   ]
  },
  {
   "cell_type": "code",
   "execution_count": 448,
   "metadata": {},
   "outputs": [
    {
     "name": "stdout",
     "output_type": "stream",
     "text": [
      "Test input data shape: (594, 9, 1), target shape: (594, 1)\n"
     ]
    }
   ],
   "source": [
    "print(\"Test input data shape: {}, target shape: {}\".format(x_test.shape, y_test.shape)) "
   ]
  },
  {
   "cell_type": "code",
   "execution_count": 449,
   "metadata": {},
   "outputs": [],
   "source": [
    "x_train = torch.from_numpy(x_train).type(torch.Tensor)\n",
    "x_test = torch.from_numpy(x_test).type(torch.Tensor)\n",
    "x_val = torch.from_numpy(x_val).type(torch.Tensor)\n",
    "y_train = torch.from_numpy(y_train).type(torch.Tensor)\n",
    "y_test = torch.from_numpy(y_test).type(torch.Tensor)\n",
    "y_val = torch.from_numpy(y_val).type(torch.Tensor)"
   ]
  },
  {
   "cell_type": "code",
   "execution_count": 450,
   "metadata": {},
   "outputs": [],
   "source": [
    "train_set = torch.utils.data.TensorDataset(x_train,y_train)\n",
    "test_set = torch.utils.data.TensorDataset(x_test,y_test)\n",
    "val_set = torch.utils.data.TensorDataset(x_val,y_val)"
   ]
  },
  {
   "cell_type": "code",
   "execution_count": 451,
   "metadata": {},
   "outputs": [],
   "source": [
    "NUM_EPOCHS = 200\n",
    "BATCH_SIZE = 32 \n",
    "LEARNING_RATE = 0.01\n",
    "INPUT_DIM = 1 \n",
    "OUTPUT_DIM = 1 \n",
    "HIDDEN_DIM = 16 "
   ]
  },
  {
   "cell_type": "code",
   "execution_count": 452,
   "metadata": {},
   "outputs": [],
   "source": [
    "train_loader = torch.utils.data.DataLoader(dataset=train_set, \n",
    "                                           batch_size=BATCH_SIZE, \n",
    "                                           shuffle=False)\n",
    "\n",
    "test_loader = torch.utils.data.DataLoader(dataset=test_set, \n",
    "                                          batch_size=BATCH_SIZE, \n",
    "                                          shuffle=False)\n",
    "val_loader = torch.utils.data.DataLoader(dataset=val_set, \n",
    "                                          batch_size=BATCH_SIZE, \n",
    "                                          shuffle=False)"
   ]
  },
  {
   "cell_type": "code",
   "execution_count": 453,
   "metadata": {},
   "outputs": [],
   "source": [
    "model = stockLSTM(INPUT_DIM, HIDDEN_DIM, OUTPUT_DIM)"
   ]
  },
  {
   "cell_type": "code",
   "execution_count": 454,
   "metadata": {},
   "outputs": [],
   "source": [
    "optimizer = torch.optim.Adam(model.parameters(), lr=LEARNING_RATE)\n",
    "DECAY_FACTOR = 0.0002\n",
    "DECAY_EPOCHS = 100\n",
    "START_DECAY_EPOCH = 100\n",
    "scheduler = torch.optim.lr_scheduler.StepLR(optimizer, step_size=DECAY_EPOCHS, gamma=DECAY_FACTOR)"
   ]
  },
  {
   "cell_type": "code",
   "execution_count": 455,
   "metadata": {},
   "outputs": [],
   "source": [
    "device = torch.device(\"cuda\" if torch.cuda.is_available() else \"cpu\")"
   ]
  },
  {
   "cell_type": "code",
   "execution_count": 456,
   "metadata": {},
   "outputs": [],
   "source": [
    "model = model.to(device)"
   ]
  },
  {
   "cell_type": "code",
   "execution_count": 457,
   "metadata": {},
   "outputs": [
    {
     "name": "stdout",
     "output_type": "stream",
     "text": [
      "Epoch 1 / 200\n",
      "----------\n"
     ]
    },
    {
     "name": "stderr",
     "output_type": "stream",
     "text": [
      "/home/aryaman.pandya/ml_accel/lib/python3.9/site-packages/torch/nn/_reduction.py:42: UserWarning:\n",
      "\n",
      "size_average and reduce args will be deprecated, please use reduction='mean' instead.\n",
      "\n"
     ]
    },
    {
     "ename": "ValueError",
     "evalue": "too many values to unpack (expected 2)",
     "output_type": "error",
     "traceback": [
      "\u001b[0;31m---------------------------------------------------------------------------\u001b[0m",
      "\u001b[0;31mValueError\u001b[0m                                Traceback (most recent call last)",
      "Cell \u001b[0;32mIn[457], line 1\u001b[0m\n\u001b[0;32m----> 1\u001b[0m losses \u001b[39m=\u001b[39m train_scratch_model(model\u001b[39m=\u001b[39;49mmodel, train_loader\u001b[39m=\u001b[39;49mtrain_loader, val_loader\u001b[39m=\u001b[39;49mval_loader, loss_function\u001b[39m=\u001b[39;49mtorch\u001b[39m.\u001b[39;49mnn\u001b[39m.\u001b[39;49mMSELoss(size_average\u001b[39m=\u001b[39;49m\u001b[39mTrue\u001b[39;49;00m), optim\u001b[39m=\u001b[39;49moptimizer, epochs\u001b[39m=\u001b[39;49mNUM_EPOCHS, device\u001b[39m=\u001b[39;49mdevice, scheduler\u001b[39m=\u001b[39;49mscheduler, \\\n\u001b[1;32m      2\u001b[0m     start_decay\u001b[39m=\u001b[39;49mSTART_DECAY_EPOCH)\n",
      "Cell \u001b[0;32mIn[442], line 16\u001b[0m, in \u001b[0;36mtrain_scratch_model\u001b[0;34m(model, train_loader, val_loader, loss_function, optim, epochs, device, scheduler, start_decay)\u001b[0m\n\u001b[1;32m     14\u001b[0m x \u001b[39m=\u001b[39m x\u001b[39m.\u001b[39mto(device)\n\u001b[1;32m     15\u001b[0m y \u001b[39m=\u001b[39m y\u001b[39m.\u001b[39mto(device)\n\u001b[0;32m---> 16\u001b[0m y_pred \u001b[39m=\u001b[39m model(x)\n\u001b[1;32m     17\u001b[0m \u001b[39m# print(f\"y shape: {y.shape}, y_pred shape: {y_pred.shape}\")\u001b[39;00m\n\u001b[1;32m     18\u001b[0m loss \u001b[39m=\u001b[39m loss_function(y_pred, y) \n",
      "File \u001b[0;32m~/ml_accel/lib/python3.9/site-packages/torch/nn/modules/module.py:1518\u001b[0m, in \u001b[0;36mModule._wrapped_call_impl\u001b[0;34m(self, *args, **kwargs)\u001b[0m\n\u001b[1;32m   1516\u001b[0m     \u001b[39mreturn\u001b[39;00m \u001b[39mself\u001b[39m\u001b[39m.\u001b[39m_compiled_call_impl(\u001b[39m*\u001b[39margs, \u001b[39m*\u001b[39m\u001b[39m*\u001b[39mkwargs)  \u001b[39m# type: ignore[misc]\u001b[39;00m\n\u001b[1;32m   1517\u001b[0m \u001b[39melse\u001b[39;00m:\n\u001b[0;32m-> 1518\u001b[0m     \u001b[39mreturn\u001b[39;00m \u001b[39mself\u001b[39;49m\u001b[39m.\u001b[39;49m_call_impl(\u001b[39m*\u001b[39;49margs, \u001b[39m*\u001b[39;49m\u001b[39m*\u001b[39;49mkwargs)\n",
      "File \u001b[0;32m~/ml_accel/lib/python3.9/site-packages/torch/nn/modules/module.py:1527\u001b[0m, in \u001b[0;36mModule._call_impl\u001b[0;34m(self, *args, **kwargs)\u001b[0m\n\u001b[1;32m   1522\u001b[0m \u001b[39m# If we don't have any hooks, we want to skip the rest of the logic in\u001b[39;00m\n\u001b[1;32m   1523\u001b[0m \u001b[39m# this function, and just call forward.\u001b[39;00m\n\u001b[1;32m   1524\u001b[0m \u001b[39mif\u001b[39;00m \u001b[39mnot\u001b[39;00m (\u001b[39mself\u001b[39m\u001b[39m.\u001b[39m_backward_hooks \u001b[39mor\u001b[39;00m \u001b[39mself\u001b[39m\u001b[39m.\u001b[39m_backward_pre_hooks \u001b[39mor\u001b[39;00m \u001b[39mself\u001b[39m\u001b[39m.\u001b[39m_forward_hooks \u001b[39mor\u001b[39;00m \u001b[39mself\u001b[39m\u001b[39m.\u001b[39m_forward_pre_hooks\n\u001b[1;32m   1525\u001b[0m         \u001b[39mor\u001b[39;00m _global_backward_pre_hooks \u001b[39mor\u001b[39;00m _global_backward_hooks\n\u001b[1;32m   1526\u001b[0m         \u001b[39mor\u001b[39;00m _global_forward_hooks \u001b[39mor\u001b[39;00m _global_forward_pre_hooks):\n\u001b[0;32m-> 1527\u001b[0m     \u001b[39mreturn\u001b[39;00m forward_call(\u001b[39m*\u001b[39;49margs, \u001b[39m*\u001b[39;49m\u001b[39m*\u001b[39;49mkwargs)\n\u001b[1;32m   1529\u001b[0m \u001b[39mtry\u001b[39;00m:\n\u001b[1;32m   1530\u001b[0m     result \u001b[39m=\u001b[39m \u001b[39mNone\u001b[39;00m\n",
      "Cell \u001b[0;32mIn[441], line 12\u001b[0m, in \u001b[0;36mstockLSTM.forward\u001b[0;34m(self, x)\u001b[0m\n\u001b[1;32m     11\u001b[0m \u001b[39mdef\u001b[39;00m \u001b[39mforward\u001b[39m(\u001b[39mself\u001b[39m, x):\n\u001b[0;32m---> 12\u001b[0m     output, (h, _) \u001b[39m=\u001b[39m \u001b[39mself\u001b[39m\u001b[39m.\u001b[39mlstm(x)\n\u001b[1;32m     13\u001b[0m     output \u001b[39m=\u001b[39m \u001b[39mself\u001b[39m\u001b[39m.\u001b[39moutput_layer(h\u001b[39m.\u001b[39msqueeze())\n\u001b[1;32m     15\u001b[0m     \u001b[39mreturn\u001b[39;00m output\n",
      "\u001b[0;31mValueError\u001b[0m: too many values to unpack (expected 2)"
     ]
    }
   ],
   "source": [
    "losses = train_scratch_model(model=model, train_loader=train_loader, val_loader=val_loader, loss_function=torch.nn.MSELoss(size_average=True), optim=optimizer, epochs=NUM_EPOCHS, device=device, scheduler=scheduler, \\\n",
    "    start_decay=START_DECAY_EPOCH)"
   ]
  },
  {
   "cell_type": "markdown",
   "metadata": {},
   "source": [
    "# Notes \n",
    "After increasing the learning rate and de-coupling the output layer from the original lstm neural network we see performance boosts that get the LSTM to actually learn. The RNN still seems to outperform the LSTM on this task, but such short window inputs are not where LSTMs thrive. They thrive when they can capture long term dependencies that RNNs cannot. We will be exploring this idea further in the future. \n",
    "\n",
    "We also don't want an overfitted model and are trying to detect a complex pattern from a simplified input sequence. Considering this, the network performs pretty well"
   ]
  },
  {
   "cell_type": "code",
   "execution_count": null,
   "metadata": {},
   "outputs": [
    {
     "data": {
      "image/png": "[encoded data removed]",
      "text/plain": [
       "<Figure size 640x480 with 1 Axes>"
      ]
     },
     "metadata": {},
     "output_type": "display_data"
    }
   ],
   "source": [
    "import matplotlib.pyplot as plt\n",
    "plt.plot(losses)\n",
    "plt.show()"
   ]
  },
  {
   "cell_type": "code",
   "execution_count": null,
   "metadata": {},
   "outputs": [
    {
     "data": {
      "application/vnd.plotly.v1+json": {
       "config": {
        "plotlyServerURL": "https://plot.ly"
       },
       "data": [
        {
         "mode": "lines+markers",
         "name": "Train",
         "type": "scatter",
         "x": [
          0,
          1,
          2,
          3,
          4,
          5,
          6,
          7,
          8,
          9,
          10,
          11,
          12,
          13,
          14,
          15,
          16,
          17,
          18,
          19,
          20,
          21,
          22,
          23,
          24,
          25,
          26,
          27,
          28,
          29,
          30,
          31,
          32,
          33,
          34,
          35,
          36,
          37,
          38,
          39,
          40,
          41,
          42,
          43,
          44,
          45,
          46,
          47,
          48,
          49,
          50,
          51,
          52,
          53,
          54,
          55,
          56,
          57,
          58,
          59,
          60,
          61,
          62,
          63,
          64,
          65,
          66,
          67,
          68,
          69,
          70,
          71,
          72,
          73,
          74,
          75,
          76,
          77,
          78,
          79,
          80,
          81,
          82,
          83,
          84,
          85,
          86,
          87,
          88,
          89,
          90,
          91,
          92,
          93,
          94,
          95,
          96,
          97,
          98,
          99,
          100,
          101,
          102,
          103,
          104,
          105,
          106,
          107,
          108,
          109,
          110,
          111,
          112,
          113,
          114,
          115,
          116,
          117,
          118,
          119,
          120,
          121,
          122,
          123,
          124,
          125,
          126,
          127,
          128,
          129,
          130,
          131,
          132,
          133,
          134,
          135,
          136,
          137,
          138,
          139,
          140,
          141,
          142,
          143,
          144,
          145,
          146,
          147,
          148,
          149,
          150,
          151,
          152,
          153,
          154,
          155,
          156,
          157,
          158,
          159,
          160,
          161,
          162,
          163,
          164,
          165,
          166,
          167,
          168,
          169,
          170,
          171,
          172,
          173,
          174,
          175,
          176,
          177,
          178,
          179,
          180,
          181,
          182,
          183,
          184,
          185,
          186,
          187,
          188,
          189,
          190,
          191,
          192,
          193,
          194,
          195,
          196,
          197,
          198,
          199
         ],
         "y": [
          0.60194558504348,
          0.47092441748051594,
          0.22433630413336988,
          0.17601109247965116,
          0.08693480294799277,
          0.02793262693982494,
          0.02157770293027473,
          0.024845622788416222,
          0.02986658545366178,
          0.025880939365015364,
          0.017376971022652773,
          0.008513867222548772,
          0.006638808460168851,
          0.0053786595880713625,
          0.006048011296661571,
          0.0038067637719602014,
          0.004701474673735598,
          0.0036978238077911858,
          0.004159063660578491,
          0.0038902650242865397,
          0.0042748540135410925,
          0.004479298518466142,
          0.005014016273586701,
          0.005747466410199801,
          0.006868580298032612,
          0.008362610042483235,
          0.009762884553250235,
          0.010219715510417397,
          0.009394511370919645,
          0.007885417055998307,
          0.006460105509419615,
          0.005648673324806926,
          0.005550589491031132,
          0.005959463821879277,
          0.006693613956061503,
          0.0076154051154541475,
          0.008550686608456697,
          0.009272957643649231,
          0.009570467854306723,
          0.00935912435525097,
          0.008774392654110367,
          0.008108034014973479,
          0.007605999764443065,
          0.007354672897296647,
          0.007323533382926447,
          0.0074414359813090416,
          0.007636542368951875,
          0.007849338387798829,
          0.008037908858386799,
          0.008183006866602227,
          0.008289670940333357,
          0.008377751245279796,
          0.008460484251069525,
          0.008526926976628602,
          0.008547492889920249,
          0.008500779111636802,
          0.008394807927349273,
          0.008260996494209394,
          0.008130281370055552,
          0.008010060959107553,
          0.007901927963636505,
          0.007736723840935156,
          0.007766746712150052,
          0.007913417265323611,
          0.013317454134812579,
          0.016295937047107144,
          0.012561249234325562,
          0.012189338241781419,
          0.013201493009304007,
          0.01123637186246924,
          0.00573706083620588,
          0.003917597799833554,
          0.004606949860074868,
          0.006612001504981891,
          0.008207604458827214,
          0.007909670222822266,
          0.007660816526428486,
          0.006544377196890613,
          0.005911570345051587,
          0.005477251917667066,
          0.00556801581212009,
          0.005993169765376175,
          0.006416412219793225,
          0.0072229131784600515,
          0.00725168799496411,
          0.008460942525804665,
          0.009003962562807525,
          0.010276928190918019,
          0.008699313960581398,
          0.00711095348233357,
          0.006778058044922848,
          0.005621939703511695,
          0.005739761037208761,
          0.005655981525584745,
          0.005950116370998634,
          0.006076006147971687,
          0.006334458102355711,
          0.006229333056641432,
          0.0061210415849927815,
          0.005691132540232502,
          0.005539010331267491,
          0.005305695530842059,
          0.005589988479429545,
          0.00588187909500751,
          0.006788269783525417,
          0.007539808988803997,
          0.00778153590799775,
          0.006371467830710268,
          0.005608517283690162,
          0.004133194218835948,
          0.004273270683673521,
          0.004341902711894363,
          0.005690658865690542,
          0.005810752368415706,
          0.005590525353424406,
          0.0050719793328122854,
          0.006034218498583262,
          0.005698524197214283,
          0.005493646489533906,
          0.005002152265903229,
          0.004331984908882684,
          0.004679770013899543,
          0.004940950702681827,
          0.005804529792900818,
          0.006371743083097196,
          0.006702309128983567,
          0.005748211402290811,
          0.005383304620045238,
          0.005475957953603938,
          0.0038141566939884795,
          0.003996597418639188,
          0.00564738170360215,
          0.006730950009659864,
          0.00810039523882248,
          0.008108221015815313,
          0.00680703338875901,
          0.008677897637244313,
          0.005338184539383898,
          0.007435598236043006,
          0.004860832323902287,
          0.004327755571769861,
          0.005836717796046287,
          0.00831987669225782,
          0.011550695051361496,
          0.011401133557471136,
          0.009222606216402104,
          0.0059410298553605875,
          0.0043411814898718145,
          0.0032131254508082443,
          0.0035629166833435495,
          0.004253156198925959,
          0.003582473925295441,
          0.003332713542719527,
          0.003128379753131109,
          0.003077280546616142,
          0.0032426313215789073,
          0.003435681811727894,
          0.0036498835921520366,
          0.003944573740591295,
          0.0043154159182449804,
          0.00471185810068467,
          0.005065249399437258,
          0.005297826886332283,
          0.005394875872298144,
          0.005291642235048736,
          0.004962610076957693,
          0.004654603261345377,
          0.004418939770160554,
          0.004190021887188778,
          0.004083912415080704,
          0.004111239587655291,
          0.004159685138923426,
          0.004192268190672621,
          0.004311796702677384,
          0.004568118246970699,
          0.004713346708255509,
          0.0046371839620405805,
          0.004825748661338973,
          0.005115875690050112,
          0.004578272043727338,
          0.004648862684553024,
          0.005047148835728876,
          0.004002345331052008,
          0.004978139455003353,
          0.004257563940094163,
          0.004839302767747237,
          0.0052100155352187965,
          0.003444328703335486,
          0.005951743250867973,
          0.00486254285594138,
          0.006470793890184723,
          0.006709936107896889,
          0.00805072222040811,
          0.007276691119477619,
          0.005910653329920024,
          0.004310400831551912,
          0.004739919079778095,
          0.004534436575098274,
          0.005586169466065864,
          0.012916956872989735
         ]
        }
       ],
       "layout": {
        "template": {
         "data": {
          "bar": [
           {
            "error_x": {
             "color": "#2a3f5f"
            },
            "error_y": {
             "color": "#2a3f5f"
            },
            "marker": {
             "line": {
              "color": "#E5ECF6",
              "width": 0.5
             },
             "pattern": {
              "fillmode": "overlay",
              "size": 10,
              "solidity": 0.2
             }
            },
            "type": "bar"
           }
          ],
          "barpolar": [
           {
            "marker": {
             "line": {
              "color": "#E5ECF6",
              "width": 0.5
             },
             "pattern": {
              "fillmode": "overlay",
              "size": 10,
              "solidity": 0.2
             }
            },
            "type": "barpolar"
           }
          ],
          "carpet": [
           {
            "aaxis": {
             "endlinecolor": "#2a3f5f",
             "gridcolor": "white",
             "linecolor": "white",
             "minorgridcolor": "white",
             "startlinecolor": "#2a3f5f"
            },
            "baxis": {
             "endlinecolor": "#2a3f5f",
             "gridcolor": "white",
             "linecolor": "white",
             "minorgridcolor": "white",
             "startlinecolor": "#2a3f5f"
            },
            "type": "carpet"
           }
          ],
          "choropleth": [
           {
            "colorbar": {
             "outlinewidth": 0,
             "ticks": ""
            },
            "type": "choropleth"
           }
          ],
          "contour": [
           {
            "colorbar": {
             "outlinewidth": 0,
             "ticks": ""
            },
            "colorscale": [
             [
              0,
              "#0d0887"
             ],
             [
              0.1111111111111111,
              "#46039f"
             ],
             [
              0.2222222222222222,
              "#7201a8"
             ],
             [
              0.3333333333333333,
              "#9c179e"
             ],
             [
              0.4444444444444444,
              "#bd3786"
             ],
             [
              0.5555555555555556,
              "#d8576b"
             ],
             [
              0.6666666666666666,
              "#ed7953"
             ],
             [
              0.7777777777777778,
              "#fb9f3a"
             ],
             [
              0.8888888888888888,
              "#fdca26"
             ],
             [
              1,
              "#f0f921"
             ]
            ],
            "type": "contour"
           }
          ],
          "contourcarpet": [
           {
            "colorbar": {
             "outlinewidth": 0,
             "ticks": ""
            },
            "type": "contourcarpet"
           }
          ],
          "heatmap": [
           {
            "colorbar": {
             "outlinewidth": 0,
             "ticks": ""
            },
            "colorscale": [
             [
              0,
              "#0d0887"
             ],
             [
              0.1111111111111111,
              "#46039f"
             ],
             [
              0.2222222222222222,
              "#7201a8"
             ],
             [
              0.3333333333333333,
              "#9c179e"
             ],
             [
              0.4444444444444444,
              "#bd3786"
             ],
             [
              0.5555555555555556,
              "#d8576b"
             ],
             [
              0.6666666666666666,
              "#ed7953"
             ],
             [
              0.7777777777777778,
              "#fb9f3a"
             ],
             [
              0.8888888888888888,
              "#fdca26"
             ],
             [
              1,
              "#f0f921"
             ]
            ],
            "type": "heatmap"
           }
          ],
          "heatmapgl": [
           {
            "colorbar": {
             "outlinewidth": 0,
             "ticks": ""
            },
            "colorscale": [
             [
              0,
              "#0d0887"
             ],
             [
              0.1111111111111111,
              "#46039f"
             ],
             [
              0.2222222222222222,
              "#7201a8"
             ],
             [
              0.3333333333333333,
              "#9c179e"
             ],
             [
              0.4444444444444444,
              "#bd3786"
             ],
             [
              0.5555555555555556,
              "#d8576b"
             ],
             [
              0.6666666666666666,
              "#ed7953"
             ],
             [
              0.7777777777777778,
              "#fb9f3a"
             ],
             [
              0.8888888888888888,
              "#fdca26"
             ],
             [
              1,
              "#f0f921"
             ]
            ],
            "type": "heatmapgl"
           }
          ],
          "histogram": [
           {
            "marker": {
             "pattern": {
              "fillmode": "overlay",
              "size": 10,
              "solidity": 0.2
             }
            },
            "type": "histogram"
           }
          ],
          "histogram2d": [
           {
            "colorbar": {
             "outlinewidth": 0,
             "ticks": ""
            },
            "colorscale": [
             [
              0,
              "#0d0887"
             ],
             [
              0.1111111111111111,
              "#46039f"
             ],
             [
              0.2222222222222222,
              "#7201a8"
             ],
             [
              0.3333333333333333,
              "#9c179e"
             ],
             [
              0.4444444444444444,
              "#bd3786"
             ],
             [
              0.5555555555555556,
              "#d8576b"
             ],
             [
              0.6666666666666666,
              "#ed7953"
             ],
             [
              0.7777777777777778,
              "#fb9f3a"
             ],
             [
              0.8888888888888888,
              "#fdca26"
             ],
             [
              1,
              "#f0f921"
             ]
            ],
            "type": "histogram2d"
           }
          ],
          "histogram2dcontour": [
           {
            "colorbar": {
             "outlinewidth": 0,
             "ticks": ""
            },
            "colorscale": [
             [
              0,
              "#0d0887"
             ],
             [
              0.1111111111111111,
              "#46039f"
             ],
             [
              0.2222222222222222,
              "#7201a8"
             ],
             [
              0.3333333333333333,
              "#9c179e"
             ],
             [
              0.4444444444444444,
              "#bd3786"
             ],
             [
              0.5555555555555556,
              "#d8576b"
             ],
             [
              0.6666666666666666,
              "#ed7953"
             ],
             [
              0.7777777777777778,
              "#fb9f3a"
             ],
             [
              0.8888888888888888,
              "#fdca26"
             ],
             [
              1,
              "#f0f921"
             ]
            ],
            "type": "histogram2dcontour"
           }
          ],
          "mesh3d": [
           {
            "colorbar": {
             "outlinewidth": 0,
             "ticks": ""
            },
            "type": "mesh3d"
           }
          ],
          "parcoords": [
           {
            "line": {
             "colorbar": {
              "outlinewidth": 0,
              "ticks": ""
             }
            },
            "type": "parcoords"
           }
          ],
          "pie": [
           {
            "automargin": true,
            "type": "pie"
           }
          ],
          "scatter": [
           {
            "fillpattern": {
             "fillmode": "overlay",
             "size": 10,
             "solidity": 0.2
            },
            "type": "scatter"
           }
          ],
          "scatter3d": [
           {
            "line": {
             "colorbar": {
              "outlinewidth": 0,
              "ticks": ""
             }
            },
            "marker": {
             "colorbar": {
              "outlinewidth": 0,
              "ticks": ""
             }
            },
            "type": "scatter3d"
           }
          ],
          "scattercarpet": [
           {
            "marker": {
             "colorbar": {
              "outlinewidth": 0,
              "ticks": ""
             }
            },
            "type": "scattercarpet"
           }
          ],
          "scattergeo": [
           {
            "marker": {
             "colorbar": {
              "outlinewidth": 0,
              "ticks": ""
             }
            },
            "type": "scattergeo"
           }
          ],
          "scattergl": [
           {
            "marker": {
             "colorbar": {
              "outlinewidth": 0,
              "ticks": ""
             }
            },
            "type": "scattergl"
           }
          ],
          "scattermapbox": [
           {
            "marker": {
             "colorbar": {
              "outlinewidth": 0,
              "ticks": ""
             }
            },
            "type": "scattermapbox"
           }
          ],
          "scatterpolar": [
           {
            "marker": {
             "colorbar": {
              "outlinewidth": 0,
              "ticks": ""
             }
            },
            "type": "scatterpolar"
           }
          ],
          "scatterpolargl": [
           {
            "marker": {
             "colorbar": {
              "outlinewidth": 0,
              "ticks": ""
             }
            },
            "type": "scatterpolargl"
           }
          ],
          "scatterternary": [
           {
            "marker": {
             "colorbar": {
              "outlinewidth": 0,
              "ticks": ""
             }
            },
            "type": "scatterternary"
           }
          ],
          "surface": [
           {
            "colorbar": {
             "outlinewidth": 0,
             "ticks": ""
            },
            "colorscale": [
             [
              0,
              "#0d0887"
             ],
             [
              0.1111111111111111,
              "#46039f"
             ],
             [
              0.2222222222222222,
              "#7201a8"
             ],
             [
              0.3333333333333333,
              "#9c179e"
             ],
             [
              0.4444444444444444,
              "#bd3786"
             ],
             [
              0.5555555555555556,
              "#d8576b"
             ],
             [
              0.6666666666666666,
              "#ed7953"
             ],
             [
              0.7777777777777778,
              "#fb9f3a"
             ],
             [
              0.8888888888888888,
              "#fdca26"
             ],
             [
              1,
              "#f0f921"
             ]
            ],
            "type": "surface"
           }
          ],
          "table": [
           {
            "cells": {
             "fill": {
              "color": "#EBF0F8"
             },
             "line": {
              "color": "white"
             }
            },
            "header": {
             "fill": {
              "color": "#C8D4E3"
             },
             "line": {
              "color": "white"
             }
            },
            "type": "table"
           }
          ]
         },
         "layout": {
          "annotationdefaults": {
           "arrowcolor": "#2a3f5f",
           "arrowhead": 0,
           "arrowwidth": 1
          },
          "autotypenumbers": "strict",
          "coloraxis": {
           "colorbar": {
            "outlinewidth": 0,
            "ticks": ""
           }
          },
          "colorscale": {
           "diverging": [
            [
             0,
             "#8e0152"
            ],
            [
             0.1,
             "#c51b7d"
            ],
            [
             0.2,
             "#de77ae"
            ],
            [
             0.3,
             "#f1b6da"
            ],
            [
             0.4,
             "#fde0ef"
            ],
            [
             0.5,
             "#f7f7f7"
            ],
            [
             0.6,
             "#e6f5d0"
            ],
            [
             0.7,
             "#b8e186"
            ],
            [
             0.8,
             "#7fbc41"
            ],
            [
             0.9,
             "#4d9221"
            ],
            [
             1,
             "#276419"
            ]
           ],
           "sequential": [
            [
             0,
             "#0d0887"
            ],
            [
             0.1111111111111111,
             "#46039f"
            ],
            [
             0.2222222222222222,
             "#7201a8"
            ],
            [
             0.3333333333333333,
             "#9c179e"
            ],
            [
             0.4444444444444444,
             "#bd3786"
            ],
            [
             0.5555555555555556,
             "#d8576b"
            ],
            [
             0.6666666666666666,
             "#ed7953"
            ],
            [
             0.7777777777777778,
             "#fb9f3a"
            ],
            [
             0.8888888888888888,
             "#fdca26"
            ],
            [
             1,
             "#f0f921"
            ]
           ],
           "sequentialminus": [
            [
             0,
             "#0d0887"
            ],
            [
             0.1111111111111111,
             "#46039f"
            ],
            [
             0.2222222222222222,
             "#7201a8"
            ],
            [
             0.3333333333333333,
             "#9c179e"
            ],
            [
             0.4444444444444444,
             "#bd3786"
            ],
            [
             0.5555555555555556,
             "#d8576b"
            ],
            [
             0.6666666666666666,
             "#ed7953"
            ],
            [
             0.7777777777777778,
             "#fb9f3a"
            ],
            [
             0.8888888888888888,
             "#fdca26"
            ],
            [
             1,
             "#f0f921"
            ]
           ]
          },
          "colorway": [
           "#636efa",
           "#EF553B",
           "#00cc96",
           "#ab63fa",
           "#FFA15A",
           "#19d3f3",
           "#FF6692",
           "#B6E880",
           "#FF97FF",
           "#FECB52"
          ],
          "font": {
           "color": "#2a3f5f"
          },
          "geo": {
           "bgcolor": "white",
           "lakecolor": "white",
           "landcolor": "#E5ECF6",
           "showlakes": true,
           "showland": true,
           "subunitcolor": "white"
          },
          "hoverlabel": {
           "align": "left"
          },
          "hovermode": "closest",
          "mapbox": {
           "style": "light"
          },
          "paper_bgcolor": "white",
          "plot_bgcolor": "#E5ECF6",
          "polar": {
           "angularaxis": {
            "gridcolor": "white",
            "linecolor": "white",
            "ticks": ""
           },
           "bgcolor": "#E5ECF6",
           "radialaxis": {
            "gridcolor": "white",
            "linecolor": "white",
            "ticks": ""
           }
          },
          "scene": {
           "xaxis": {
            "backgroundcolor": "#E5ECF6",
            "gridcolor": "white",
            "gridwidth": 2,
            "linecolor": "white",
            "showbackground": true,
            "ticks": "",
            "zerolinecolor": "white"
           },
           "yaxis": {
            "backgroundcolor": "#E5ECF6",
            "gridcolor": "white",
            "gridwidth": 2,
            "linecolor": "white",
            "showbackground": true,
            "ticks": "",
            "zerolinecolor": "white"
           },
           "zaxis": {
            "backgroundcolor": "#E5ECF6",
            "gridcolor": "white",
            "gridwidth": 2,
            "linecolor": "white",
            "showbackground": true,
            "ticks": "",
            "zerolinecolor": "white"
           }
          },
          "shapedefaults": {
           "line": {
            "color": "#2a3f5f"
           }
          },
          "ternary": {
           "aaxis": {
            "gridcolor": "white",
            "linecolor": "white",
            "ticks": ""
           },
           "baxis": {
            "gridcolor": "white",
            "linecolor": "white",
            "ticks": ""
           },
           "bgcolor": "#E5ECF6",
           "caxis": {
            "gridcolor": "white",
            "linecolor": "white",
            "ticks": ""
           }
          },
          "title": {
           "x": 0.05
          },
          "xaxis": {
           "automargin": true,
           "gridcolor": "white",
           "linecolor": "white",
           "ticks": "",
           "title": {
            "standoff": 15
           },
           "zerolinecolor": "white",
           "zerolinewidth": 2
          },
          "yaxis": {
           "automargin": true,
           "gridcolor": "white",
           "linecolor": "white",
           "ticks": "",
           "title": {
            "standoff": 15
           },
           "zerolinecolor": "white",
           "zerolinewidth": 2
          }
         }
        },
        "title": {
         "text": "Training Loss per Epoch"
        },
        "xaxis": {
         "title": {
          "text": "Epoch"
         }
        },
        "yaxis": {
         "title": {
          "text": "Loss"
         }
        }
       }
      }
     },
     "metadata": {},
     "output_type": "display_data"
    }
   ],
   "source": [
    "import plotly.graph_objects as go\n",
    "epochs = list(range(len(losses)))\n",
    "\n",
    "fig = go.Figure(data=go.Scatter(x=epochs, y=losses, mode='lines+markers', name='Train'))\n",
    "\n",
    "fig.update_layout(title='Training Loss per Epoch',\n",
    "                   xaxis_title='Epoch',\n",
    "                   yaxis_title='Loss')\n",
    "\n",
    "fig.show()"
   ]
  },
  {
   "cell_type": "markdown",
   "metadata": {},
   "source": [
    "## Evaluation"
   ]
  },
  {
   "cell_type": "code",
   "execution_count": null,
   "metadata": {},
   "outputs": [],
   "source": [
    "targets = [] \n",
    "predicted = []\n",
    "\n",
    "model.eval()\n",
    "for i, (x, y) in enumerate(test_loader):\n",
    "        \n",
    "    x = x.to(device)\n",
    "    y = y.to(device)\n",
    "    y_pred = model(x)\n",
    "    predicted.append(y_pred.cpu().detach().numpy())\n",
    "    targets.append(y.cpu().detach().numpy())\n",
    "    "
   ]
  },
  {
   "cell_type": "code",
   "execution_count": null,
   "metadata": {},
   "outputs": [
    {
     "name": "stdout",
     "output_type": "stream",
     "text": [
      "Mean Squared Error (MSE): 0.003431388409808278\n",
      "Root Mean Squared Error (RMSE): 0.05857805535197258\n"
     ]
    }
   ],
   "source": [
    "from sklearn.metrics import mean_squared_error\n",
    "target_long_array = np.concatenate(targets)\n",
    "predicted_long_array = np.concatenate(predicted)\n",
    "\n",
    "mse = mean_squared_error(target_long_array, predicted_long_array)\n",
    "print(f'Mean Squared Error (MSE): {mse}')\n",
    "rmse = np.sqrt(mse)\n",
    "print(f'Root Mean Squared Error (RMSE): {rmse}')"
   ]
  },
  {
   "cell_type": "code",
   "execution_count": null,
   "metadata": {},
   "outputs": [],
   "source": [
    "target_list = target_long_array.tolist()\n",
    "predicted_list = predicted_long_array.tolist()"
   ]
  },
  {
   "cell_type": "code",
   "execution_count": null,
   "metadata": {},
   "outputs": [
    {
     "data": {
      "application/vnd.plotly.v1+json": {
       "config": {
        "plotlyServerURL": "https://plot.ly"
       },
       "data": [
        {
         "mode": "lines+markers",
         "name": "Train",
         "type": "scatter",
         "x": [
          0,
          1,
          2,
          3,
          4,
          5,
          6,
          7,
          8,
          9,
          10,
          11,
          12,
          13,
          14,
          15,
          16,
          17,
          18,
          19,
          20,
          21,
          22,
          23,
          24,
          25,
          26,
          27,
          28,
          29,
          30,
          31,
          32,
          33,
          34,
          35,
          36,
          37,
          38,
          39,
          40,
          41,
          42,
          43,
          44,
          45,
          46,
          47,
          48,
          49,
          50,
          51,
          52,
          53,
          54,
          55,
          56,
          57,
          58,
          59,
          60,
          61,
          62,
          63,
          64,
          65,
          66,
          67,
          68,
          69,
          70,
          71,
          72,
          73,
          74,
          75,
          76,
          77,
          78,
          79,
          80,
          81,
          82,
          83,
          84,
          85,
          86,
          87,
          88,
          89,
          90,
          91,
          92,
          93,
          94,
          95,
          96,
          97,
          98,
          99,
          100,
          101,
          102,
          103,
          104,
          105,
          106,
          107,
          108,
          109,
          110,
          111,
          112,
          113,
          114,
          115,
          116,
          117,
          118,
          119,
          120,
          121,
          122,
          123,
          124,
          125,
          126,
          127,
          128,
          129,
          130,
          131,
          132,
          133,
          134,
          135,
          136,
          137,
          138,
          139,
          140,
          141,
          142,
          143,
          144,
          145,
          146,
          147,
          148,
          149,
          150,
          151,
          152,
          153,
          154,
          155,
          156,
          157,
          158,
          159,
          160,
          161,
          162,
          163,
          164,
          165,
          166,
          167,
          168,
          169,
          170,
          171,
          172,
          173,
          174,
          175,
          176,
          177,
          178,
          179,
          180,
          181,
          182,
          183,
          184,
          185,
          186,
          187,
          188,
          189,
          190,
          191,
          192,
          193,
          194,
          195,
          196,
          197,
          198,
          199,
          200,
          201,
          202,
          203,
          204,
          205,
          206,
          207,
          208,
          209,
          210,
          211,
          212,
          213,
          214,
          215,
          216,
          217,
          218,
          219,
          220,
          221,
          222,
          223,
          224,
          225,
          226,
          227,
          228,
          229,
          230,
          231,
          232,
          233,
          234,
          235,
          236,
          237,
          238,
          239,
          240,
          241,
          242,
          243,
          244,
          245,
          246,
          247,
          248,
          249,
          250,
          251,
          252,
          253,
          254,
          255,
          256,
          257,
          258,
          259,
          260,
          261,
          262,
          263,
          264,
          265,
          266,
          267,
          268,
          269,
          270,
          271,
          272,
          273,
          274,
          275,
          276,
          277,
          278,
          279,
          280,
          281,
          282,
          283,
          284,
          285,
          286,
          287,
          288,
          289,
          290,
          291,
          292,
          293,
          294,
          295,
          296,
          297,
          298,
          299,
          300,
          301,
          302,
          303,
          304,
          305,
          306,
          307,
          308,
          309,
          310,
          311,
          312,
          313,
          314,
          315,
          316,
          317,
          318,
          319,
          320,
          321,
          322,
          323,
          324,
          325,
          326,
          327,
          328,
          329,
          330,
          331,
          332,
          333,
          334,
          335,
          336,
          337,
          338,
          339,
          340,
          341,
          342,
          343,
          344,
          345,
          346,
          347,
          348,
          349,
          350,
          351,
          352,
          353,
          354,
          355,
          356,
          357,
          358,
          359,
          360,
          361,
          362,
          363,
          364,
          365,
          366,
          367,
          368,
          369,
          370,
          371,
          372,
          373,
          374,
          375,
          376,
          377,
          378,
          379,
          380,
          381,
          382,
          383,
          384,
          385,
          386,
          387,
          388,
          389,
          390,
          391,
          392,
          393,
          394,
          395,
          396,
          397,
          398,
          399,
          400,
          401,
          402,
          403,
          404,
          405,
          406,
          407,
          408,
          409,
          410,
          411,
          412,
          413,
          414,
          415,
          416,
          417,
          418,
          419,
          420,
          421,
          422,
          423,
          424,
          425,
          426,
          427,
          428,
          429,
          430,
          431,
          432,
          433,
          434,
          435,
          436,
          437,
          438,
          439,
          440,
          441,
          442,
          443,
          444,
          445,
          446,
          447,
          448,
          449,
          450,
          451,
          452,
          453,
          454,
          455,
          456,
          457,
          458,
          459,
          460,
          461,
          462,
          463,
          464,
          465,
          466,
          467,
          468,
          469,
          470,
          471,
          472,
          473,
          474,
          475,
          476,
          477,
          478,
          479,
          480,
          481,
          482,
          483,
          484,
          485,
          486,
          487,
          488,
          489,
          490,
          491,
          492,
          493,
          494,
          495,
          496,
          497,
          498,
          499,
          500,
          501,
          502,
          503,
          504,
          505,
          506,
          507,
          508,
          509,
          510,
          511,
          512,
          513,
          514,
          515,
          516,
          517,
          518,
          519,
          520,
          521,
          522,
          523,
          524,
          525,
          526,
          527,
          528,
          529,
          530,
          531,
          532,
          533,
          534,
          535,
          536,
          537,
          538,
          539,
          540,
          541,
          542,
          543,
          544,
          545,
          546,
          547,
          548,
          549,
          550,
          551,
          552,
          553,
          554,
          555,
          556,
          557,
          558,
          559,
          560,
          561,
          562,
          563,
          564,
          565,
          566,
          567,
          568,
          569,
          570,
          571,
          572,
          573,
          574,
          575,
          576,
          577,
          578,
          579,
          580,
          581,
          582,
          583,
          584,
          585,
          586,
          587,
          588,
          589,
          590,
          591,
          592,
          593
         ],
         "y": [
          0.2065519094467163,
          0.0683530867099762,
          -0.09927207231521606,
          -0.14396196603775024,
          0.0875411331653595,
          0.11380940675735474,
          0.08433964848518372,
          0.08545875549316406,
          -0.10493555665016174,
          0.015919864177703857,
          0.06017252802848816,
          -0.05012178421020508,
          0.0860741138458252,
          -0.012329816818237305,
          0.0449238121509552,
          0.0767393708229065,
          0.013767421245574951,
          0.08691132068634033,
          0.10730957984924316,
          0.09508872032165527,
          -0.037263453006744385,
          0.057047367095947266,
          -0.03065308928489685,
          -0.041702985763549805,
          -0.013275623321533203,
          0.018553584814071655,
          -0.08835524320602417,
          -0.07350397109985352,
          0.00772857666015625,
          -0.04533848166465759,
          -0.005342662334442139,
          0.13420040905475616,
          0.11811190843582153,
          0.16374440491199493,
          0.23288483917713165,
          0.22725869715213776,
          0.17711852490901947,
          0.12781661748886108,
          0.15516074001789093,
          0.15245448052883148,
          0.16342118382453918,
          0.11297851800918579,
          -0.20254456996917725,
          -0.11959207057952881,
          -0.011026918888092041,
          -0.004140496253967285,
          -0.04232323169708252,
          -0.24313199520111084,
          -0.11097106337547302,
          -0.13554620742797852,
          -0.14108866453170776,
          -0.13325923681259155,
          -0.08644580841064453,
          -0.09617656469345093,
          -0.14880460500717163,
          -0.19865667819976807,
          -0.2906850576400757,
          -0.27623915672302246,
          -0.2909529209136963,
          -0.3470231294631958,
          -0.3809150457382202,
          -0.31978684663772583,
          -0.31599390506744385,
          -0.25520896911621094,
          -0.2280822992324829,
          -0.17709249258041382,
          -0.17413866519927979,
          -0.1698245406150818,
          -0.19056707620620728,
          -0.18102812767028809,
          -0.15588176250457764,
          -0.10239872336387634,
          -0.14763939380645752,
          -0.17176997661590576,
          -0.1291370391845703,
          -0.15627378225326538,
          -0.2000744342803955,
          -0.24482440948486328,
          -0.23770076036453247,
          -0.3054310083389282,
          -0.2574537396430969,
          -0.20647716522216797,
          -0.15978413820266724,
          -0.23011159896850586,
          -0.2847123146057129,
          -0.269520103931427,
          -0.20112502574920654,
          -0.18011844158172607,
          -0.186204195022583,
          -0.20699238777160645,
          -0.14562922716140747,
          -0.1569077968597412,
          -0.20603317022323608,
          -0.259792685508728,
          -0.2631046772003174,
          -0.2832176089286804,
          -0.3495023846626282,
          -0.3824232816696167,
          -0.333646297454834,
          -0.3420223593711853,
          -0.38615405559539795,
          -0.33597123622894287,
          -0.4173322916030884,
          -0.46685439348220825,
          -0.6483782529830933,
          -0.605812668800354,
          -0.6210660934448242,
          -0.6229490041732788,
          -0.6062430739402771,
          -0.6487874984741211,
          -0.6080697774887085,
          -0.5373305082321167,
          -0.5321014523506165,
          -0.5798560380935669,
          -0.5358489751815796,
          -0.4629564881324768,
          -0.4321649670600891,
          -0.46908384561538696,
          -0.5536279678344727,
          -0.6680169105529785,
          -0.7344503402709961,
          -0.6413770914077759,
          -0.5963846445083618,
          -0.5043936967849731,
          -0.349423348903656,
          -0.3082726001739502,
          -0.27576136589050293,
          -0.3035539388656616,
          -0.31048864126205444,
          -0.2784045934677124,
          -0.3450028896331787,
          -0.38184553384780884,
          -0.29710614681243896,
          -0.24316883087158203,
          -0.1948644518852234,
          -0.19034463167190552,
          -0.12924158573150635,
          -0.15477913618087769,
          -0.11966419219970703,
          -0.12986040115356445,
          -0.06968900561332703,
          -0.05769956111907959,
          -0.051691651344299316,
          0.00154191255569458,
          0.06968319416046143,
          0.07118579745292664,
          0.11948901414871216,
          0.0958874523639679,
          0.0008378028869628906,
          0.10191604495048523,
          0.1050746738910675,
          0.13801982998847961,
          0.0959751307964325,
          0.213661327958107,
          0.23186497390270233,
          0.2086341381072998,
          0.13197235763072968,
          0.15167580544948578,
          0.08127015829086304,
          0.14161978662014008,
          0.12457895278930664,
          0.14052551984786987,
          0.19747968018054962,
          0.18019181489944458,
          0.20442619919776917,
          0.23014630377292633,
          -0.10070261359214783,
          0.05368882417678833,
          0.14972743391990662,
          0.09863126277923584,
          0.11669737100601196,
          0.12236025929450989,
          0.1736508309841156,
          0.03504610061645508,
          0.022770166397094727,
          0.003920495510101318,
          -0.03292113542556763,
          -0.02024739980697632,
          0.05696064233779907,
          0.07377970218658447,
          0.07215067744255066,
          0.16336411237716675,
          0.11503162980079651,
          0.11672192811965942,
          0.07521459460258484,
          0.14625194668769836,
          0.07912114262580872,
          0.06679606437683105,
          -0.020306527614593506,
          0.08434319496154785,
          0.04823097586631775,
          0.11096718907356262,
          0.22041206061840057,
          0.22865648567676544,
          0.23862554132938385,
          0.2690924108028412,
          0.2142370194196701,
          0.2636660635471344,
          0.2275029718875885,
          0.22706590592861176,
          0.24996806681156158,
          0.26855888962745667,
          0.23636235296726227,
          0.20221173763275146,
          0.17210103571414948,
          0.17600496113300323,
          0.1623832881450653,
          0.18172842264175415,
          0.2131386697292328,
          0.266826331615448,
          0.2664359509944916,
          0.21823717653751373,
          0.32955601811408997,
          -0.03788653016090393,
          -0.06848657131195068,
          0.044176697731018066,
          0.12522733211517334,
          0.22851435840129852,
          0.22010505199432373,
          0.19075767695903778,
          0.2252366542816162,
          0.23063285648822784,
          0.29981422424316406,
          0.31395015120506287,
          0.36968809366226196,
          0.3851052522659302,
          0.46399402618408203,
          0.41253405809402466,
          0.4248132109642029,
          0.40874090790748596,
          0.4832404553890228,
          0.41496050357818604,
          0.4980804920196533,
          0.4907286465167999,
          0.46734267473220825,
          0.46396347880363464,
          0.44946932792663574,
          0.4265069365501404,
          0.46920329332351685,
          0.42049145698547363,
          0.44013702869415283,
          0.4694824814796448,
          0.532626748085022,
          0.4493733048439026,
          0.4661257266998291,
          0.47692549228668213,
          0.529411792755127,
          0.44671154022216797,
          0.47213155031204224,
          0.4220600128173828,
          0.4314028024673462,
          0.4662126302719116,
          0.4013296961784363,
          0.4214741587638855,
          0.4281143546104431,
          0.3773946762084961,
          0.3788478374481201,
          0.3698421120643616,
          0.4297866225242615,
          0.39386698603630066,
          0.3819948732852936,
          0.4152297079563141,
          0.40463876724243164,
          0.4385429918766022,
          0.4768000841140747,
          0.35374927520751953,
          0.2639527916908264,
          0.41268324851989746,
          0.26791131496429443,
          0.23793882131576538,
          0.3243057131767273,
          0.22462375462055206,
          0.29460760951042175,
          0.2604902982711792,
          0.3144857883453369,
          0.3204261064529419,
          0.2695128917694092,
          0.24704042077064514,
          0.37252533435821533,
          0.392880916595459,
          0.36675629019737244,
          0.40193551778793335,
          0.3387073278427124,
          0.3126435875892639,
          0.35393694043159485,
          0.3329622447490692,
          0.2860751748085022,
          0.3586120307445526,
          0.245139479637146,
          0.260859876871109,
          0.24207502603530884,
          0.2800656855106354,
          0.2808080017566681,
          0.11322847008705139,
          0.19094493985176086,
          0.19052793085575104,
          0.11277467012405396,
          0.17395472526550293,
          0.1731017529964447,
          0.20803336799144745,
          0.2585890293121338,
          0.2146272361278534,
          0.2668939232826233,
          0.21786653995513916,
          0.1970985233783722,
          0.22236907482147217,
          0.2182145118713379,
          0.3472670316696167,
          0.28267425298690796,
          0.28005704283714294,
          0.49578142166137695,
          0.46987423300743103,
          0.3359920084476471,
          0.4020456075668335,
          0.41270962357521057,
          0.42199212312698364,
          0.4373779892921448,
          0.5228049159049988,
          0.48121604323387146,
          0.4629536271095276,
          0.5181479454040527,
          0.5521798133850098,
          0.49672961235046387,
          0.463855117559433,
          0.3872684836387634,
          0.4283774495124817,
          0.41204947233200073,
          0.4356657862663269,
          0.5941709280014038,
          0.553166389465332,
          0.6042183041572571,
          0.5477147102355957,
          0.6717983484268188,
          0.6365112066268921,
          0.6279001235961914,
          0.5831396579742432,
          0.600159764289856,
          0.628027081489563,
          0.6099077463150024,
          0.606083869934082,
          0.5956371426582336,
          0.614622950553894,
          0.5749536156654358,
          0.6024192571640015,
          0.5715152025222778,
          0.6244823932647705,
          0.6764171123504639,
          0.6410197019577026,
          0.6801583766937256,
          0.602607011795044,
          0.5539970993995667,
          0.6489028930664062,
          0.624703049659729,
          0.6126242280006409,
          0.633664608001709,
          0.5907081365585327,
          0.6051558256149292,
          0.7259639501571655,
          0.703842043876648,
          0.867600679397583,
          0.9000934362411499,
          0.917561411857605,
          0.8664414286613464,
          0.8295798301696777,
          0.7935511469841003,
          0.7947641015052795,
          0.8015246987342834,
          0.8370590806007385,
          0.8314505219459534,
          0.9111054539680481,
          0.828386664390564,
          0.8823224306106567,
          0.9042087197303772,
          0.9311152100563049,
          0.9464708566665649,
          0.9912246465682983,
          0.9777098298072815,
          0.9592814445495605,
          0.9459254741668701,
          0.9723833799362183,
          0.9823189973831177,
          0.9760532975196838,
          0.9190952181816101,
          0.9377753734588623,
          0.9892669320106506,
          0.950955331325531,
          0.9439094066619873,
          0.9492886066436768,
          0.9493165016174316,
          0.9228784441947937,
          0.8611862063407898,
          0.8872265815734863,
          0.8389566540718079,
          0.8328109383583069,
          0.8291753530502319,
          0.873396635055542,
          0.8196552991867065,
          0.8353655338287354,
          0.7714711427688599,
          0.8161976337432861,
          0.8008770942687988,
          0.7816952466964722,
          0.7802599668502808,
          0.8021319508552551,
          0.7809520363807678,
          0.7847966551780701,
          0.7901926636695862,
          0.800984263420105,
          0.7992242574691772,
          0.7501206994056702,
          0.7482457756996155,
          0.7361549735069275,
          0.7118048071861267,
          0.697853147983551,
          0.7030404806137085,
          0.6660419702529907,
          0.7257674932479858,
          0.6735717058181763,
          0.4243761897087097,
          0.5091995596885681,
          0.41853004693984985,
          0.458332896232605,
          0.43049705028533936,
          0.4243837893009186,
          0.4343147873878479,
          0.42690491676330566,
          0.36895978450775146,
          0.4007325768470764,
          0.3744105100631714,
          0.3995749354362488,
          0.2328483760356903,
          0.2091938853263855,
          0.195713073015213,
          0.17000877857208252,
          0.15519419312477112,
          0.15013696253299713,
          0.19936351478099823,
          0.2724522650241852,
          0.1387452334165573,
          0.17029479146003723,
          0.2172948271036148,
          0.23103970289230347,
          0.199955552816391,
          0.22622068226337433,
          0.2465382069349289,
          0.20999819040298462,
          0.19034433364868164,
          0.23447170853614807,
          0.22353722155094147,
          0.19887322187423706,
          0.2211175411939621,
          0.21405519545078278,
          0.15911932289600372,
          0.22139829397201538,
          0.28578421473503113,
          0.3058091998100281,
          0.2561761438846588,
          0.2523619830608368,
          0.2738872766494751,
          0.3149411976337433,
          0.27740752696990967,
          0.2892831563949585,
          0.23787960410118103,
          0.27980756759643555,
          0.2577221989631653,
          0.3085443079471588,
          0.2713409662246704,
          0.3033568263053894,
          0.24575597047805786,
          0.2523767352104187,
          0.32620835304260254,
          0.22227627038955688,
          0.19868314266204834,
          0.2378462702035904,
          0.24794012308120728,
          0.23245744407176971,
          0.2573891878128052,
          0.24730044603347778,
          0.273765504360199,
          0.21657590568065643,
          0.2747569680213928,
          0.0026223063468933105,
          0.08375704288482666,
          0.05559438467025757,
          0.01902616024017334,
          0.0364835262298584,
          0.0018482804298400879,
          -0.00024300813674926758,
          -0.026805132627487183,
          -0.006708920001983643,
          0.012806117534637451,
          -0.019276916980743408,
          0.002168029546737671,
          0.006588488817214966,
          -0.05192941427230835,
          -0.09109091758728027,
          -0.09712111949920654,
          -0.09296125173568726,
          -0.09227550029754639,
          -0.07591450214385986,
          -0.08561962842941284,
          -0.07026764750480652,
          -0.13013195991516113,
          -0.157027006149292,
          -0.13539814949035645,
          -0.11459988355636597,
          -0.0789003074169159,
          -0.05518198013305664,
          -0.03088235855102539,
          -0.07131683826446533,
          -0.049739718437194824,
          -0.0710461437702179,
          -0.0541405975818634,
          -0.0223160982131958,
          -0.0583014190196991,
          -0.029861897230148315,
          -0.06393623352050781,
          -0.07484042644500732,
          0.003915190696716309,
          0.028193414211273193,
          0.035008013248443604,
          0.017473340034484863,
          -0.00638049840927124,
          -0.013240009546279907,
          -0.017446786165237427,
          0.03402912616729736,
          0.006455838680267334,
          0.005386263132095337,
          0.030311942100524902,
          0.05132496356964111,
          0.017506003379821777,
          0.02145451307296753,
          0.00015270709991455078,
          0.05866372585296631,
          0.055132001638412476,
          0.04487156867980957,
          0.053750187158584595,
          0.043775588274002075,
          0.07778480648994446,
          0.11208796501159668,
          0.08992326259613037,
          0.055183082818984985,
          0.06399154663085938,
          0.05357959866523743,
          0.04541635513305664,
          0.4671916365623474,
          0.4864250719547272,
          0.5172497034072876,
          0.40384721755981445,
          0.27908897399902344,
          0.2313121110200882,
          0.262936532497406,
          0.25392746925354004,
          0.2733727693557739,
          0.2504515051841736,
          0.2551216781139374,
          0.2293335497379303,
          0.16947434842586517,
          0.164059579372406,
          0.19184592366218567,
          0.19296491146087646,
          0.13922475278377533,
          0.10997727513313293,
          0.0925951600074768,
          0.11990180611610413,
          0.04538711905479431,
          0.14019522070884705,
          0.11413496732711792,
          0.17682476341724396,
          0.21719089150428772,
          0.199794203042984,
          0.204317107796669,
          0.20894300937652588,
          0.22699350118637085,
          0.26320722699165344,
          0.2675288915634155,
          0.293484091758728,
          0.35101908445358276,
          0.2846093773841858,
          0.25051116943359375,
          0.24480211734771729,
          0.3001457750797272,
          0.30473488569259644,
          0.35124439001083374,
          0.21573874354362488,
          0.26323646306991577,
          0.1976408064365387,
          0.25351041555404663,
          0.2348938137292862,
          0.22536413371562958,
          0.16966864466667175,
          0.22975897789001465,
          0.22956499457359314,
          0.23916013538837433
         ]
        }
       ],
       "layout": {
        "template": {
         "data": {
          "bar": [
           {
            "error_x": {
             "color": "#2a3f5f"
            },
            "error_y": {
             "color": "#2a3f5f"
            },
            "marker": {
             "line": {
              "color": "#E5ECF6",
              "width": 0.5
             },
             "pattern": {
              "fillmode": "overlay",
              "size": 10,
              "solidity": 0.2
             }
            },
            "type": "bar"
           }
          ],
          "barpolar": [
           {
            "marker": {
             "line": {
              "color": "#E5ECF6",
              "width": 0.5
             },
             "pattern": {
              "fillmode": "overlay",
              "size": 10,
              "solidity": 0.2
             }
            },
            "type": "barpolar"
           }
          ],
          "carpet": [
           {
            "aaxis": {
             "endlinecolor": "#2a3f5f",
             "gridcolor": "white",
             "linecolor": "white",
             "minorgridcolor": "white",
             "startlinecolor": "#2a3f5f"
            },
            "baxis": {
             "endlinecolor": "#2a3f5f",
             "gridcolor": "white",
             "linecolor": "white",
             "minorgridcolor": "white",
             "startlinecolor": "#2a3f5f"
            },
            "type": "carpet"
           }
          ],
          "choropleth": [
           {
            "colorbar": {
             "outlinewidth": 0,
             "ticks": ""
            },
            "type": "choropleth"
           }
          ],
          "contour": [
           {
            "colorbar": {
             "outlinewidth": 0,
             "ticks": ""
            },
            "colorscale": [
             [
              0,
              "#0d0887"
             ],
             [
              0.1111111111111111,
              "#46039f"
             ],
             [
              0.2222222222222222,
              "#7201a8"
             ],
             [
              0.3333333333333333,
              "#9c179e"
             ],
             [
              0.4444444444444444,
              "#bd3786"
             ],
             [
              0.5555555555555556,
              "#d8576b"
             ],
             [
              0.6666666666666666,
              "#ed7953"
             ],
             [
              0.7777777777777778,
              "#fb9f3a"
             ],
             [
              0.8888888888888888,
              "#fdca26"
             ],
             [
              1,
              "#f0f921"
             ]
            ],
            "type": "contour"
           }
          ],
          "contourcarpet": [
           {
            "colorbar": {
             "outlinewidth": 0,
             "ticks": ""
            },
            "type": "contourcarpet"
           }
          ],
          "heatmap": [
           {
            "colorbar": {
             "outlinewidth": 0,
             "ticks": ""
            },
            "colorscale": [
             [
              0,
              "#0d0887"
             ],
             [
              0.1111111111111111,
              "#46039f"
             ],
             [
              0.2222222222222222,
              "#7201a8"
             ],
             [
              0.3333333333333333,
              "#9c179e"
             ],
             [
              0.4444444444444444,
              "#bd3786"
             ],
             [
              0.5555555555555556,
              "#d8576b"
             ],
             [
              0.6666666666666666,
              "#ed7953"
             ],
             [
              0.7777777777777778,
              "#fb9f3a"
             ],
             [
              0.8888888888888888,
              "#fdca26"
             ],
             [
              1,
              "#f0f921"
             ]
            ],
            "type": "heatmap"
           }
          ],
          "heatmapgl": [
           {
            "colorbar": {
             "outlinewidth": 0,
             "ticks": ""
            },
            "colorscale": [
             [
              0,
              "#0d0887"
             ],
             [
              0.1111111111111111,
              "#46039f"
             ],
             [
              0.2222222222222222,
              "#7201a8"
             ],
             [
              0.3333333333333333,
              "#9c179e"
             ],
             [
              0.4444444444444444,
              "#bd3786"
             ],
             [
              0.5555555555555556,
              "#d8576b"
             ],
             [
              0.6666666666666666,
              "#ed7953"
             ],
             [
              0.7777777777777778,
              "#fb9f3a"
             ],
             [
              0.8888888888888888,
              "#fdca26"
             ],
             [
              1,
              "#f0f921"
             ]
            ],
            "type": "heatmapgl"
           }
          ],
          "histogram": [
           {
            "marker": {
             "pattern": {
              "fillmode": "overlay",
              "size": 10,
              "solidity": 0.2
             }
            },
            "type": "histogram"
           }
          ],
          "histogram2d": [
           {
            "colorbar": {
             "outlinewidth": 0,
             "ticks": ""
            },
            "colorscale": [
             [
              0,
              "#0d0887"
             ],
             [
              0.1111111111111111,
              "#46039f"
             ],
             [
              0.2222222222222222,
              "#7201a8"
             ],
             [
              0.3333333333333333,
              "#9c179e"
             ],
             [
              0.4444444444444444,
              "#bd3786"
             ],
             [
              0.5555555555555556,
              "#d8576b"
             ],
             [
              0.6666666666666666,
              "#ed7953"
             ],
             [
              0.7777777777777778,
              "#fb9f3a"
             ],
             [
              0.8888888888888888,
              "#fdca26"
             ],
             [
              1,
              "#f0f921"
             ]
            ],
            "type": "histogram2d"
           }
          ],
          "histogram2dcontour": [
           {
            "colorbar": {
             "outlinewidth": 0,
             "ticks": ""
            },
            "colorscale": [
             [
              0,
              "#0d0887"
             ],
             [
              0.1111111111111111,
              "#46039f"
             ],
             [
              0.2222222222222222,
              "#7201a8"
             ],
             [
              0.3333333333333333,
              "#9c179e"
             ],
             [
              0.4444444444444444,
              "#bd3786"
             ],
             [
              0.5555555555555556,
              "#d8576b"
             ],
             [
              0.6666666666666666,
              "#ed7953"
             ],
             [
              0.7777777777777778,
              "#fb9f3a"
             ],
             [
              0.8888888888888888,
              "#fdca26"
             ],
             [
              1,
              "#f0f921"
             ]
            ],
            "type": "histogram2dcontour"
           }
          ],
          "mesh3d": [
           {
            "colorbar": {
             "outlinewidth": 0,
             "ticks": ""
            },
            "type": "mesh3d"
           }
          ],
          "parcoords": [
           {
            "line": {
             "colorbar": {
              "outlinewidth": 0,
              "ticks": ""
             }
            },
            "type": "parcoords"
           }
          ],
          "pie": [
           {
            "automargin": true,
            "type": "pie"
           }
          ],
          "scatter": [
           {
            "fillpattern": {
             "fillmode": "overlay",
             "size": 10,
             "solidity": 0.2
            },
            "type": "scatter"
           }
          ],
          "scatter3d": [
           {
            "line": {
             "colorbar": {
              "outlinewidth": 0,
              "ticks": ""
             }
            },
            "marker": {
             "colorbar": {
              "outlinewidth": 0,
              "ticks": ""
             }
            },
            "type": "scatter3d"
           }
          ],
          "scattercarpet": [
           {
            "marker": {
             "colorbar": {
              "outlinewidth": 0,
              "ticks": ""
             }
            },
            "type": "scattercarpet"
           }
          ],
          "scattergeo": [
           {
            "marker": {
             "colorbar": {
              "outlinewidth": 0,
              "ticks": ""
             }
            },
            "type": "scattergeo"
           }
          ],
          "scattergl": [
           {
            "marker": {
             "colorbar": {
              "outlinewidth": 0,
              "ticks": ""
             }
            },
            "type": "scattergl"
           }
          ],
          "scattermapbox": [
           {
            "marker": {
             "colorbar": {
              "outlinewidth": 0,
              "ticks": ""
             }
            },
            "type": "scattermapbox"
           }
          ],
          "scatterpolar": [
           {
            "marker": {
             "colorbar": {
              "outlinewidth": 0,
              "ticks": ""
             }
            },
            "type": "scatterpolar"
           }
          ],
          "scatterpolargl": [
           {
            "marker": {
             "colorbar": {
              "outlinewidth": 0,
              "ticks": ""
             }
            },
            "type": "scatterpolargl"
           }
          ],
          "scatterternary": [
           {
            "marker": {
             "colorbar": {
              "outlinewidth": 0,
              "ticks": ""
             }
            },
            "type": "scatterternary"
           }
          ],
          "surface": [
           {
            "colorbar": {
             "outlinewidth": 0,
             "ticks": ""
            },
            "colorscale": [
             [
              0,
              "#0d0887"
             ],
             [
              0.1111111111111111,
              "#46039f"
             ],
             [
              0.2222222222222222,
              "#7201a8"
             ],
             [
              0.3333333333333333,
              "#9c179e"
             ],
             [
              0.4444444444444444,
              "#bd3786"
             ],
             [
              0.5555555555555556,
              "#d8576b"
             ],
             [
              0.6666666666666666,
              "#ed7953"
             ],
             [
              0.7777777777777778,
              "#fb9f3a"
             ],
             [
              0.8888888888888888,
              "#fdca26"
             ],
             [
              1,
              "#f0f921"
             ]
            ],
            "type": "surface"
           }
          ],
          "table": [
           {
            "cells": {
             "fill": {
              "color": "#EBF0F8"
             },
             "line": {
              "color": "white"
             }
            },
            "header": {
             "fill": {
              "color": "#C8D4E3"
             },
             "line": {
              "color": "white"
             }
            },
            "type": "table"
           }
          ]
         },
         "layout": {
          "annotationdefaults": {
           "arrowcolor": "#2a3f5f",
           "arrowhead": 0,
           "arrowwidth": 1
          },
          "autotypenumbers": "strict",
          "coloraxis": {
           "colorbar": {
            "outlinewidth": 0,
            "ticks": ""
           }
          },
          "colorscale": {
           "diverging": [
            [
             0,
             "#8e0152"
            ],
            [
             0.1,
             "#c51b7d"
            ],
            [
             0.2,
             "#de77ae"
            ],
            [
             0.3,
             "#f1b6da"
            ],
            [
             0.4,
             "#fde0ef"
            ],
            [
             0.5,
             "#f7f7f7"
            ],
            [
             0.6,
             "#e6f5d0"
            ],
            [
             0.7,
             "#b8e186"
            ],
            [
             0.8,
             "#7fbc41"
            ],
            [
             0.9,
             "#4d9221"
            ],
            [
             1,
             "#276419"
            ]
           ],
           "sequential": [
            [
             0,
             "#0d0887"
            ],
            [
             0.1111111111111111,
             "#46039f"
            ],
            [
             0.2222222222222222,
             "#7201a8"
            ],
            [
             0.3333333333333333,
             "#9c179e"
            ],
            [
             0.4444444444444444,
             "#bd3786"
            ],
            [
             0.5555555555555556,
             "#d8576b"
            ],
            [
             0.6666666666666666,
             "#ed7953"
            ],
            [
             0.7777777777777778,
             "#fb9f3a"
            ],
            [
             0.8888888888888888,
             "#fdca26"
            ],
            [
             1,
             "#f0f921"
            ]
           ],
           "sequentialminus": [
            [
             0,
             "#0d0887"
            ],
            [
             0.1111111111111111,
             "#46039f"
            ],
            [
             0.2222222222222222,
             "#7201a8"
            ],
            [
             0.3333333333333333,
             "#9c179e"
            ],
            [
             0.4444444444444444,
             "#bd3786"
            ],
            [
             0.5555555555555556,
             "#d8576b"
            ],
            [
             0.6666666666666666,
             "#ed7953"
            ],
            [
             0.7777777777777778,
             "#fb9f3a"
            ],
            [
             0.8888888888888888,
             "#fdca26"
            ],
            [
             1,
             "#f0f921"
            ]
           ]
          },
          "colorway": [
           "#636efa",
           "#EF553B",
           "#00cc96",
           "#ab63fa",
           "#FFA15A",
           "#19d3f3",
           "#FF6692",
           "#B6E880",
           "#FF97FF",
           "#FECB52"
          ],
          "font": {
           "color": "#2a3f5f"
          },
          "geo": {
           "bgcolor": "white",
           "lakecolor": "white",
           "landcolor": "#E5ECF6",
           "showlakes": true,
           "showland": true,
           "subunitcolor": "white"
          },
          "hoverlabel": {
           "align": "left"
          },
          "hovermode": "closest",
          "mapbox": {
           "style": "light"
          },
          "paper_bgcolor": "white",
          "plot_bgcolor": "#E5ECF6",
          "polar": {
           "angularaxis": {
            "gridcolor": "white",
            "linecolor": "white",
            "ticks": ""
           },
           "bgcolor": "#E5ECF6",
           "radialaxis": {
            "gridcolor": "white",
            "linecolor": "white",
            "ticks": ""
           }
          },
          "scene": {
           "xaxis": {
            "backgroundcolor": "#E5ECF6",
            "gridcolor": "white",
            "gridwidth": 2,
            "linecolor": "white",
            "showbackground": true,
            "ticks": "",
            "zerolinecolor": "white"
           },
           "yaxis": {
            "backgroundcolor": "#E5ECF6",
            "gridcolor": "white",
            "gridwidth": 2,
            "linecolor": "white",
            "showbackground": true,
            "ticks": "",
            "zerolinecolor": "white"
           },
           "zaxis": {
            "backgroundcolor": "#E5ECF6",
            "gridcolor": "white",
            "gridwidth": 2,
            "linecolor": "white",
            "showbackground": true,
            "ticks": "",
            "zerolinecolor": "white"
           }
          },
          "shapedefaults": {
           "line": {
            "color": "#2a3f5f"
           }
          },
          "ternary": {
           "aaxis": {
            "gridcolor": "white",
            "linecolor": "white",
            "ticks": ""
           },
           "baxis": {
            "gridcolor": "white",
            "linecolor": "white",
            "ticks": ""
           },
           "bgcolor": "#E5ECF6",
           "caxis": {
            "gridcolor": "white",
            "linecolor": "white",
            "ticks": ""
           }
          },
          "title": {
           "x": 0.05
          },
          "xaxis": {
           "automargin": true,
           "gridcolor": "white",
           "linecolor": "white",
           "ticks": "",
           "title": {
            "standoff": 15
           },
           "zerolinecolor": "white",
           "zerolinewidth": 2
          },
          "yaxis": {
           "automargin": true,
           "gridcolor": "white",
           "linecolor": "white",
           "ticks": "",
           "title": {
            "standoff": 15
           },
           "zerolinecolor": "white",
           "zerolinewidth": 2
          }
         }
        },
        "title": {
         "text": "Training Loss per Epoch"
        },
        "xaxis": {
         "title": {
          "text": "Epoch"
         }
        },
        "yaxis": {
         "title": {
          "text": "Loss"
         }
        }
       }
      }
     },
     "metadata": {},
     "output_type": "display_data"
    }
   ],
   "source": [
    "import plotly.graph_objects as go\n",
    "epochs = list(range(len(losses)))\n",
    "predicted_list = [i[0] for i in predicted_list]\n",
    "x = [i for i in range(len(predicted_list))]\n",
    "fig = go.Figure(data=go.Scatter(x=x, y=predicted_list, mode='lines+markers', name='Train'))\n",
    "\n",
    "fig.update_layout(title='Training Loss per Epoch',\n",
    "                   xaxis_title='Epoch',\n",
    "                   yaxis_title='Loss')\n",
    "\n",
    "fig.show()"
   ]
  },
  {
   "cell_type": "code",
   "execution_count": null,
   "metadata": {},
   "outputs": [
    {
     "name": "stdout",
     "output_type": "stream",
     "text": [
      "594\n"
     ]
    }
   ],
   "source": [
    "print(len(predicted_list))"
   ]
  },
  {
   "cell_type": "code",
   "execution_count": null,
   "metadata": {},
   "outputs": [
    {
     "name": "stdout",
     "output_type": "stream",
     "text": [
      "[0.2065519094467163, 0.0683530867099762, -0.09927207231521606, -0.14396196603775024, 0.0875411331653595, 0.11380940675735474, 0.08433964848518372, 0.08545875549316406, -0.10493555665016174, 0.015919864177703857, 0.06017252802848816, -0.05012178421020508, 0.0860741138458252, -0.012329816818237305, 0.0449238121509552, 0.0767393708229065, 0.013767421245574951, 0.08691132068634033, 0.10730957984924316, 0.09508872032165527, -0.037263453006744385, 0.057047367095947266, -0.03065308928489685, -0.041702985763549805, -0.013275623321533203, 0.018553584814071655, -0.08835524320602417, -0.07350397109985352, 0.00772857666015625, -0.04533848166465759, -0.005342662334442139, 0.13420040905475616, 0.11811190843582153, 0.16374440491199493, 0.23288483917713165, 0.22725869715213776, 0.17711852490901947, 0.12781661748886108, 0.15516074001789093, 0.15245448052883148, 0.16342118382453918, 0.11297851800918579, -0.20254456996917725, -0.11959207057952881, -0.011026918888092041, -0.004140496253967285, -0.04232323169708252, -0.24313199520111084, -0.11097106337547302, -0.13554620742797852, -0.14108866453170776, -0.13325923681259155, -0.08644580841064453, -0.09617656469345093, -0.14880460500717163, -0.19865667819976807, -0.2906850576400757, -0.27623915672302246, -0.2909529209136963, -0.3470231294631958, -0.3809150457382202, -0.31978684663772583, -0.31599390506744385, -0.25520896911621094, -0.2280822992324829, -0.17709249258041382, -0.17413866519927979, -0.1698245406150818, -0.19056707620620728, -0.18102812767028809, -0.15588176250457764, -0.10239872336387634, -0.14763939380645752, -0.17176997661590576, -0.1291370391845703, -0.15627378225326538, -0.2000744342803955, -0.24482440948486328, -0.23770076036453247, -0.3054310083389282, -0.2574537396430969, -0.20647716522216797, -0.15978413820266724, -0.23011159896850586, -0.2847123146057129, -0.269520103931427, -0.20112502574920654, -0.18011844158172607, -0.186204195022583, -0.20699238777160645, -0.14562922716140747, -0.1569077968597412, -0.20603317022323608, -0.259792685508728, -0.2631046772003174, -0.2832176089286804, -0.3495023846626282, -0.3824232816696167, -0.333646297454834, -0.3420223593711853, -0.38615405559539795, -0.33597123622894287, -0.4173322916030884, -0.46685439348220825, -0.6483782529830933, -0.605812668800354, -0.6210660934448242, -0.6229490041732788, -0.6062430739402771, -0.6487874984741211, -0.6080697774887085, -0.5373305082321167, -0.5321014523506165, -0.5798560380935669, -0.5358489751815796, -0.4629564881324768, -0.4321649670600891, -0.46908384561538696, -0.5536279678344727, -0.6680169105529785, -0.7344503402709961, -0.6413770914077759, -0.5963846445083618, -0.5043936967849731, -0.349423348903656, -0.3082726001739502, -0.27576136589050293, -0.3035539388656616, -0.31048864126205444, -0.2784045934677124, -0.3450028896331787, -0.38184553384780884, -0.29710614681243896, -0.24316883087158203, -0.1948644518852234, -0.19034463167190552, -0.12924158573150635, -0.15477913618087769, -0.11966419219970703, -0.12986040115356445, -0.06968900561332703, -0.05769956111907959, -0.051691651344299316, 0.00154191255569458, 0.06968319416046143, 0.07118579745292664, 0.11948901414871216, 0.0958874523639679, 0.0008378028869628906, 0.10191604495048523, 0.1050746738910675, 0.13801982998847961, 0.0959751307964325, 0.213661327958107, 0.23186497390270233, 0.2086341381072998, 0.13197235763072968, 0.15167580544948578, 0.08127015829086304, 0.14161978662014008, 0.12457895278930664, 0.14052551984786987, 0.19747968018054962, 0.18019181489944458, 0.20442619919776917, 0.23014630377292633, -0.10070261359214783, 0.05368882417678833, 0.14972743391990662, 0.09863126277923584, 0.11669737100601196, 0.12236025929450989, 0.1736508309841156, 0.03504610061645508, 0.022770166397094727, 0.003920495510101318, -0.03292113542556763, -0.02024739980697632, 0.05696064233779907, 0.07377970218658447, 0.07215067744255066, 0.16336411237716675, 0.11503162980079651, 0.11672192811965942, 0.07521459460258484, 0.14625194668769836, 0.07912114262580872, 0.06679606437683105, -0.020306527614593506, 0.08434319496154785, 0.04823097586631775, 0.11096718907356262, 0.22041206061840057, 0.22865648567676544, 0.23862554132938385, 0.2690924108028412, 0.2142370194196701, 0.2636660635471344, 0.2275029718875885, 0.22706590592861176, 0.24996806681156158, 0.26855888962745667, 0.23636235296726227, 0.20221173763275146, 0.17210103571414948, 0.17600496113300323, 0.1623832881450653, 0.18172842264175415, 0.2131386697292328, 0.266826331615448, 0.2664359509944916, 0.21823717653751373, 0.32955601811408997, -0.03788653016090393, -0.06848657131195068, 0.044176697731018066, 0.12522733211517334, 0.22851435840129852, 0.22010505199432373, 0.19075767695903778, 0.2252366542816162, 0.23063285648822784, 0.29981422424316406, 0.31395015120506287, 0.36968809366226196, 0.3851052522659302, 0.46399402618408203, 0.41253405809402466, 0.4248132109642029, 0.40874090790748596, 0.4832404553890228, 0.41496050357818604, 0.4980804920196533, 0.4907286465167999, 0.46734267473220825, 0.46396347880363464, 0.44946932792663574, 0.4265069365501404, 0.46920329332351685, 0.42049145698547363, 0.44013702869415283, 0.4694824814796448, 0.532626748085022, 0.4493733048439026, 0.4661257266998291, 0.47692549228668213, 0.529411792755127, 0.44671154022216797, 0.47213155031204224, 0.4220600128173828, 0.4314028024673462, 0.4662126302719116, 0.4013296961784363, 0.4214741587638855, 0.4281143546104431, 0.3773946762084961, 0.3788478374481201, 0.3698421120643616, 0.4297866225242615, 0.39386698603630066, 0.3819948732852936, 0.4152297079563141, 0.40463876724243164, 0.4385429918766022, 0.4768000841140747, 0.35374927520751953, 0.2639527916908264, 0.41268324851989746, 0.26791131496429443, 0.23793882131576538, 0.3243057131767273, 0.22462375462055206, 0.29460760951042175, 0.2604902982711792, 0.3144857883453369, 0.3204261064529419, 0.2695128917694092, 0.24704042077064514, 0.37252533435821533, 0.392880916595459, 0.36675629019737244, 0.40193551778793335, 0.3387073278427124, 0.3126435875892639, 0.35393694043159485, 0.3329622447490692, 0.2860751748085022, 0.3586120307445526, 0.245139479637146, 0.260859876871109, 0.24207502603530884, 0.2800656855106354, 0.2808080017566681, 0.11322847008705139, 0.19094493985176086, 0.19052793085575104, 0.11277467012405396, 0.17395472526550293, 0.1731017529964447, 0.20803336799144745, 0.2585890293121338, 0.2146272361278534, 0.2668939232826233, 0.21786653995513916, 0.1970985233783722, 0.22236907482147217, 0.2182145118713379, 0.3472670316696167, 0.28267425298690796, 0.28005704283714294, 0.49578142166137695, 0.46987423300743103, 0.3359920084476471, 0.4020456075668335, 0.41270962357521057, 0.42199212312698364, 0.4373779892921448, 0.5228049159049988, 0.48121604323387146, 0.4629536271095276, 0.5181479454040527, 0.5521798133850098, 0.49672961235046387, 0.463855117559433, 0.3872684836387634, 0.4283774495124817, 0.41204947233200073, 0.4356657862663269, 0.5941709280014038, 0.553166389465332, 0.6042183041572571, 0.5477147102355957, 0.6717983484268188, 0.6365112066268921, 0.6279001235961914, 0.5831396579742432, 0.600159764289856, 0.628027081489563, 0.6099077463150024, 0.606083869934082, 0.5956371426582336, 0.614622950553894, 0.5749536156654358, 0.6024192571640015, 0.5715152025222778, 0.6244823932647705, 0.6764171123504639, 0.6410197019577026, 0.6801583766937256, 0.602607011795044, 0.5539970993995667, 0.6489028930664062, 0.624703049659729, 0.6126242280006409, 0.633664608001709, 0.5907081365585327, 0.6051558256149292, 0.7259639501571655, 0.703842043876648, 0.867600679397583, 0.9000934362411499, 0.917561411857605, 0.8664414286613464, 0.8295798301696777, 0.7935511469841003, 0.7947641015052795, 0.8015246987342834, 0.8370590806007385, 0.8314505219459534, 0.9111054539680481, 0.828386664390564, 0.8823224306106567, 0.9042087197303772, 0.9311152100563049, 0.9464708566665649, 0.9912246465682983, 0.9777098298072815, 0.9592814445495605, 0.9459254741668701, 0.9723833799362183, 0.9823189973831177, 0.9760532975196838, 0.9190952181816101, 0.9377753734588623, 0.9892669320106506, 0.950955331325531, 0.9439094066619873, 0.9492886066436768, 0.9493165016174316, 0.9228784441947937, 0.8611862063407898, 0.8872265815734863, 0.8389566540718079, 0.8328109383583069, 0.8291753530502319, 0.873396635055542, 0.8196552991867065, 0.8353655338287354, 0.7714711427688599, 0.8161976337432861, 0.8008770942687988, 0.7816952466964722, 0.7802599668502808, 0.8021319508552551, 0.7809520363807678, 0.7847966551780701, 0.7901926636695862, 0.800984263420105, 0.7992242574691772, 0.7501206994056702, 0.7482457756996155, 0.7361549735069275, 0.7118048071861267, 0.697853147983551, 0.7030404806137085, 0.6660419702529907, 0.7257674932479858, 0.6735717058181763, 0.4243761897087097, 0.5091995596885681, 0.41853004693984985, 0.458332896232605, 0.43049705028533936, 0.4243837893009186, 0.4343147873878479, 0.42690491676330566, 0.36895978450775146, 0.4007325768470764, 0.3744105100631714, 0.3995749354362488, 0.2328483760356903, 0.2091938853263855, 0.195713073015213, 0.17000877857208252, 0.15519419312477112, 0.15013696253299713, 0.19936351478099823, 0.2724522650241852, 0.1387452334165573, 0.17029479146003723, 0.2172948271036148, 0.23103970289230347, 0.199955552816391, 0.22622068226337433, 0.2465382069349289, 0.20999819040298462, 0.19034433364868164, 0.23447170853614807, 0.22353722155094147, 0.19887322187423706, 0.2211175411939621, 0.21405519545078278, 0.15911932289600372, 0.22139829397201538, 0.28578421473503113, 0.3058091998100281, 0.2561761438846588, 0.2523619830608368, 0.2738872766494751, 0.3149411976337433, 0.27740752696990967, 0.2892831563949585, 0.23787960410118103, 0.27980756759643555, 0.2577221989631653, 0.3085443079471588, 0.2713409662246704, 0.3033568263053894, 0.24575597047805786, 0.2523767352104187, 0.32620835304260254, 0.22227627038955688, 0.19868314266204834, 0.2378462702035904, 0.24794012308120728, 0.23245744407176971, 0.2573891878128052, 0.24730044603347778, 0.273765504360199, 0.21657590568065643, 0.2747569680213928, 0.0026223063468933105, 0.08375704288482666, 0.05559438467025757, 0.01902616024017334, 0.0364835262298584, 0.0018482804298400879, -0.00024300813674926758, -0.026805132627487183, -0.006708920001983643, 0.012806117534637451, -0.019276916980743408, 0.002168029546737671, 0.006588488817214966, -0.05192941427230835, -0.09109091758728027, -0.09712111949920654, -0.09296125173568726, -0.09227550029754639, -0.07591450214385986, -0.08561962842941284, -0.07026764750480652, -0.13013195991516113, -0.157027006149292, -0.13539814949035645, -0.11459988355636597, -0.0789003074169159, -0.05518198013305664, -0.03088235855102539, -0.07131683826446533, -0.049739718437194824, -0.0710461437702179, -0.0541405975818634, -0.0223160982131958, -0.0583014190196991, -0.029861897230148315, -0.06393623352050781, -0.07484042644500732, 0.003915190696716309, 0.028193414211273193, 0.035008013248443604, 0.017473340034484863, -0.00638049840927124, -0.013240009546279907, -0.017446786165237427, 0.03402912616729736, 0.006455838680267334, 0.005386263132095337, 0.030311942100524902, 0.05132496356964111, 0.017506003379821777, 0.02145451307296753, 0.00015270709991455078, 0.05866372585296631, 0.055132001638412476, 0.04487156867980957, 0.053750187158584595, 0.043775588274002075, 0.07778480648994446, 0.11208796501159668, 0.08992326259613037, 0.055183082818984985, 0.06399154663085938, 0.05357959866523743, 0.04541635513305664, 0.4671916365623474, 0.4864250719547272, 0.5172497034072876, 0.40384721755981445, 0.27908897399902344, 0.2313121110200882, 0.262936532497406, 0.25392746925354004, 0.2733727693557739, 0.2504515051841736, 0.2551216781139374, 0.2293335497379303, 0.16947434842586517, 0.164059579372406, 0.19184592366218567, 0.19296491146087646, 0.13922475278377533, 0.10997727513313293, 0.0925951600074768, 0.11990180611610413, 0.04538711905479431, 0.14019522070884705, 0.11413496732711792, 0.17682476341724396, 0.21719089150428772, 0.199794203042984, 0.204317107796669, 0.20894300937652588, 0.22699350118637085, 0.26320722699165344, 0.2675288915634155, 0.293484091758728, 0.35101908445358276, 0.2846093773841858, 0.25051116943359375, 0.24480211734771729, 0.3001457750797272, 0.30473488569259644, 0.35124439001083374, 0.21573874354362488, 0.26323646306991577, 0.1976408064365387, 0.25351041555404663, 0.2348938137292862, 0.22536413371562958, 0.16966864466667175, 0.22975897789001465, 0.22956499457359314, 0.23916013538837433]\n"
     ]
    }
   ],
   "source": [
    "print(predicted_list)"
   ]
  },
  {
   "cell_type": "code",
   "execution_count": null,
   "metadata": {},
   "outputs": [
    {
     "data": {
      "image/png": "[encoded data removed]",
      "text/plain": [
       "<Figure size 640x480 with 1 Axes>"
      ]
     },
     "metadata": {},
     "output_type": "display_data"
    }
   ],
   "source": [
    "plt.plot(predicted_list)\n",
    "plt.show()"
   ]
  },
  {
   "cell_type": "code",
   "execution_count": null,
   "metadata": {},
   "outputs": [],
   "source": []
  },
  {
   "cell_type": "code",
   "execution_count": null,
   "metadata": {},
   "outputs": [
    {
     "data": {
      "image/png": "[encoded data removed]",
      "text/plain": [
       "<Figure size 640x480 with 1 Axes>"
      ]
     },
     "metadata": {},
     "output_type": "display_data"
    }
   ],
   "source": [
    "fig, ax = plt.subplots()\n",
    "\n",
    "# Add the targets and predictions to the plot\n",
    "ax.plot(target_list, label='Targets')\n",
    "ax.plot(predicted_list, label='Predictions')\n",
    "\n",
    "# Add labels and title\n",
    "ax.set_xlabel('Index')\n",
    "ax.set_ylabel('Values')\n",
    "ax.set_title('Targets and Predictions')\n",
    "\n",
    "# Add a legend\n",
    "ax.legend()\n",
    "\n",
    "# Show the plot\n",
    "plt.show()"
   ]
  }
 ],
 "metadata": {
  "kernelspec": {
   "display_name": "ml_accel",
   "language": "python",
   "name": "python3"
  },
  "language_info": {
   "codemirror_mode": {
    "name": "ipython",
    "version": 3
   },
   "file_extension": ".py",
   "mimetype": "text/x-python",
   "name": "python",
   "nbconvert_exporter": "python",
   "pygments_lexer": "ipython3",
   "version": "3.9.1"
  },
  "orig_nbformat": 4
 },
 "nbformat": 4,
 "nbformat_minor": 2
}
