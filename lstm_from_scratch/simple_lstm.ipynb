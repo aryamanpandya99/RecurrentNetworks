{
 "cells": [
  {
   "cell_type": "markdown",
   "metadata": {},
   "source": [
    "# Long short term memory\n",
    "\n",
    "We previously explored RNNs, neural networks that are able to propagate some hidden state through a rolled out version of itself. A major problem with RNNs is exploding or vanishing gradients. Gradient clipping solves the exploding gradient problem, but the vanishing gradient problem is harder to solve. LSTMs propose a different architecture which benefits from a hidden state like RNNs, but mitigates the vanishing gradient problem. Another issue RNNs have is that the hidden state often forgets information from a while ago in the sequence and is more biased towards more recent tokens. LSTMs also address this issue with their gated structure. \n"
   ]
  },
  {
   "cell_type": "code",
   "execution_count": 583,
   "metadata": {},
   "outputs": [],
   "source": [
    "from torch import nn\n",
    "import torch \n",
    "import numpy as np\n",
    "import pandas as pd\n",
    "from torch.nn.utils.rnn import PackedSequence\n",
    "import torch.nn.functional\n",
    "from torch.utils.data import random_split\n",
    "from torchtext.data.utils import get_tokenizer\n",
    "from torchtext.vocab import build_vocab_from_iterator\n",
    "from torchtext.datasets import AG_NEWS\n",
    "from torch import nn\n",
    "from torch.utils.data import DataLoader\n",
    "import math\n",
    "from torch.nn.utils.rnn import pad_sequence"
   ]
  },
  {
   "cell_type": "markdown",
   "metadata": {},
   "source": [
    "## LSTM model defintion\n",
    "The goal here is to build a substitute for the torch.nn.rnn.lstm module. This should be able to handle packed sequences and batched data the same way the source code for that module does. For now, does not need to have multiple layers or be bidirectional."
   ]
  },
  {
   "cell_type": "code",
   "execution_count": 584,
   "metadata": {},
   "outputs": [],
   "source": [
    "class lstm_simplified(nn.Module): \n",
    "    def __init__(self, input_size, hidden_dim, output_dim=1) -> None:\n",
    "        super().__init__()\n",
    "        self.input_dim = input_size\n",
    "        self.hidden_dim  = hidden_dim\n",
    "        \n",
    "        # single linear layer to handle input -> hidden transformation \n",
    "        self.x_h = nn.Sequential(\n",
    "            nn.Linear(input_size, hidden_dim * 4),\n",
    "        )\n",
    "        # single linear layer to handle input -> hidden transformation \n",
    "        self.h_x = nn.Sequential(\n",
    "            nn.Linear(hidden_dim, hidden_dim * 4),\n",
    "        )\n",
    "        self.tanh = nn.Tanh()\n",
    "\n",
    "        # this output layer can be fancier if needed by the use case\n",
    "        self.output_layer = nn.Linear(hidden_dim, output_dim)\n",
    "\n",
    "    def forward(self, x, h_in=None, c_in=None):\n",
    "\n",
    "        if isinstance(x, PackedSequence):\n",
    "            # handling of PackedSequences to work on AG News task \n",
    "            input, batch_sizes, sorted_indices, unsorted_indices = x\n",
    "            max_batch_size = batch_sizes[0]\n",
    "            if h_in is None: \n",
    "                h_in = self.init_h(max_batch_size, x)\n",
    "                c_in = self.init_h(max_batch_size, x)\n",
    "        \n",
    "            data_offset = 0\n",
    "            outputs = []\n",
    "            for batch_size in batch_sizes:\n",
    "                current_input = input[data_offset:data_offset + batch_size]\n",
    "                data_offset += batch_size\n",
    "                current_input = current_input.unsqueeze(0)\n",
    "                if batch_size < max_batch_size: \n",
    "                    h_in[:,batch_size:,:] = 0\n",
    "                    c_in[:,batch_size:,:] = 0\n",
    "                    pad_size = max_batch_size - batch_size\n",
    "                    # Create a tensor of zeros with the padding size\n",
    "                    padding = torch.zeros(1, pad_size, self.hidden_dim, device=current_input.device)\n",
    "                    # Concatenate the padding to the current input\n",
    "                    current_input = torch.cat([current_input, padding], dim=1)\n",
    "                \n",
    "                gates = self.x_h(current_input) +  self.h_x(h_in)\n",
    "                input_gate, forget_gate, input_node, output_gate = gates.chunk(4, 2)\n",
    "                i_gate_output = torch.sigmoid(input_gate)\n",
    "                i_node_output = torch.tanh(input_node)\n",
    "                o_gate_output = torch.sigmoid(output_gate)\n",
    "                f_gate_output = torch.sigmoid(forget_gate)\n",
    "                \n",
    "                c_out = (f_gate_output * c_in) + (i_node_output * i_gate_output)\n",
    "\n",
    "                h_out = self.tanh(c_out) * o_gate_output\n",
    "                out = self.output_layer(h_out)\n",
    "                h_in = h_out\n",
    "                c_in = c_out\n",
    "                outputs.append(out)\n",
    "\n",
    "            output_packed = PackedSequence(outputs, batch_sizes, sorted_indices, unsorted_indices)\n",
    "            return output_packed, h_out, c_out\n",
    "        \n",
    "        else:\n",
    "            if h_in is None: \n",
    "                h_in = self.init_h(x.size(0)).to(x.device)\n",
    "                c_in = self.init_h(x.size(0)).to(x.device)\n",
    "            for t in range(x.size(1)):\n",
    "                input = x[:,t,:]\n",
    "                gates = self.x_h(input) +  self.h_x(h_in)\n",
    "                input_gate, forget_gate, input_node, output_gate = gates.chunk(4, 1)\n",
    "                i_gate_output = torch.sigmoid(input_gate)\n",
    "                i_node_output = torch.tanh(input_node)\n",
    "                o_gate_output = torch.sigmoid(output_gate)\n",
    "                f_gate_output = torch.sigmoid(forget_gate)\n",
    "                \n",
    "                c_out = (f_gate_output * c_in) + (i_node_output * i_gate_output)\n",
    "\n",
    "                h_out = self.tanh(c_out) * o_gate_output\n",
    "                out = self.output_layer(h_out)\n",
    "                h_in = h_out\n",
    "                c_in = c_out\n",
    "            \n",
    "        return out, (h_out, c_out)\n",
    "        \n",
    "    \n",
    "    \n",
    "    def init_h(self, batch_size):\n",
    "        #zero initialization \n",
    "        #alternatives include but not limited to Xavier/Kaiminh initialization\n",
    "        return torch.zeros(batch_size, self.hidden_dim, requires_grad=False)"
   ]
  },
  {
   "cell_type": "markdown",
   "metadata": {},
   "source": [
    "### Implementation notes: \n",
    "\n",
    "Efficiency: Combining these transformations into two layers (one for input and one for the previous hidden state) and then splitting the results is more efficient than having separate layers for each gate. It reduces the complexity of the model and speeds up computation.\n",
    "\n",
    "During the course of this experimentation, I implemented both versions and can attest to the fact that the current version is much faster than the implementation with individual layers corresponding to gates. "
   ]
  },
  {
   "cell_type": "code",
   "execution_count": 585,
   "metadata": {},
   "outputs": [],
   "source": [
    "class newsLSTM(nn.Module): \n",
    "    def __init__(self, vocab_size, embed_size, hidden_size) -> None:\n",
    "        super(newsLSTM, self).__init__()\n",
    "        \n",
    "        self.encoder = nn.Embedding(vocab_size, embed_size, padding_idx=0)\n",
    "        self.hidden_size = hidden_size \n",
    "        self.lstm = nn.LSTM(embed_size, \n",
    "                           hidden_size,\n",
    "                           batch_first=True)\n",
    "        \n",
    "        self.hidden2label = nn.Linear(hidden_size, 4)\n",
    "        self.dropoutLayer = nn.Dropout(p=0.5)\n",
    "\n",
    "\n",
    "    def forward(self, x, x_len):\n",
    "        embedded = self.encoder(x)\n",
    "        x_packed = nn.utils.rnn.pack_padded_sequence(embedded, x_len, batch_first=True, enforce_sorted=False)\n",
    "        output, (h_t, c_t) = self.lstm(x_packed)  # Pass the initial hidden state 'h' to the RNN   \n",
    "        # hidden = self.dropout(torch.cat((h_t[-2,:,:], h_t[-1,:,:]), dim=1))     \n",
    "        hidden = self.dropoutLayer(h_t.squeeze())\n",
    "        \n",
    "        # Linear layer and softmax\n",
    "        label_space = self.hidden2label(hidden)\n",
    "        \n",
    "        return label_space\n",
    "    "
   ]
  },
  {
   "cell_type": "markdown",
   "metadata": {},
   "source": [
    "We repeat the exact same news classification task performed by in the bidirectionalRNN subdir"
   ]
  },
  {
   "cell_type": "code",
   "execution_count": 586,
   "metadata": {},
   "outputs": [],
   "source": [
    "train_iter = AG_NEWS(split='train')\n",
    "\n",
    "# Convert to list to enable random splitting\n",
    "train_dataset = list(train_iter)\n",
    "\n",
    "#80-20 train-val split \n",
    "train_size = int(len(train_dataset) * 0.8)  \n",
    "val_size = len(train_dataset) - train_size  \n",
    "train_data, val_data = random_split(train_dataset, [train_size, val_size])\n",
    "\n",
    "tokenizer = get_tokenizer(\"basic_english\")\n",
    "\n",
    "def yield_tokens(data_iter):\n",
    "    for text in data_iter:\n",
    "        yield tokenizer(text)\n",
    "\n",
    "VOCAB_SIZE = 5000\n",
    "\n",
    "# Build vocab based on the train_data\n",
    "train_data_iter = (text for _, text in train_data)\n",
    "vocab = build_vocab_from_iterator(yield_tokens(train_data_iter), specials=[\"<unk>\"], max_tokens=VOCAB_SIZE)\n",
    "vocab.set_default_index(vocab[\"<unk>\"])"
   ]
  },
  {
   "cell_type": "code",
   "execution_count": 587,
   "metadata": {},
   "outputs": [
    {
     "data": {
      "text/plain": [
       "(1,\n",
       " 'Latham calls on PM to admit to WMD mistake Federal Labor leader Mark Latham says the Prime Minister needs to face up to the reality that there were no stockpiles of weapons of mass destruction in Iraq.')"
      ]
     },
     "execution_count": 587,
     "metadata": {},
     "output_type": "execute_result"
    }
   ],
   "source": [
    "train_data[0]"
   ]
  },
  {
   "cell_type": "code",
   "execution_count": 588,
   "metadata": {},
   "outputs": [
    {
     "data": {
      "text/plain": [
       "[2175, 1691, 4670, 0]"
      ]
     },
     "execution_count": 588,
     "metadata": {},
     "output_type": "execute_result"
    }
   ],
   "source": [
    "vocab(['word', 'probably', 'unknown', 'gibberish'])"
   ]
  },
  {
   "cell_type": "code",
   "execution_count": 589,
   "metadata": {},
   "outputs": [],
   "source": [
    "text_pipeline = lambda x: vocab(tokenizer(x))\n",
    "label_pipeline = lambda x: int(x) - 1"
   ]
  },
  {
   "cell_type": "code",
   "execution_count": 590,
   "metadata": {},
   "outputs": [
    {
     "data": {
      "text/plain": [
       "['packed']"
      ]
     },
     "execution_count": 590,
     "metadata": {},
     "output_type": "execute_result"
    }
   ],
   "source": [
    "vocab.lookup_tokens([4999])"
   ]
  },
  {
   "cell_type": "code",
   "execution_count": 591,
   "metadata": {},
   "outputs": [],
   "source": [
    "def collate_batch(batch):\n",
    "    device = torch.device('cuda:0' if torch.cuda.is_available() else 'cpu')\n",
    "    label_list, text_list, lengths = [], [], []\n",
    "    \n",
    "    # Sort the batch in the descending order\n",
    "    batch.sort(key=lambda x: len(x[1]), reverse=True)\n",
    "    \n",
    "    for _label, _text in batch:\n",
    "        label_list.append(label_pipeline(_label))\n",
    "        processed_text = torch.tensor(text_pipeline(_text), dtype=torch.int64)\n",
    "        text_list.append(processed_text)\n",
    "        lengths.append(processed_text.size(0))\n",
    "        \n",
    "    label_list = torch.tensor(label_list, dtype=torch.int64)\n",
    "    lengths = torch.tensor(lengths, dtype=torch.int64)\n",
    "    \n",
    "    # Pad sequences\n",
    "    text_list = pad_sequence(text_list, batch_first=True)\n",
    "    \n",
    "    return label_list.to(device), text_list.to(device), lengths"
   ]
  },
  {
   "cell_type": "code",
   "execution_count": 592,
   "metadata": {},
   "outputs": [],
   "source": [
    "train_loader = DataLoader(train_data, batch_size = 8, shuffle = True, collate_fn = collate_batch)\n",
    "val_loader = DataLoader(val_data, batch_size = 8, shuffle = False, collate_fn = collate_batch)"
   ]
  },
  {
   "cell_type": "code",
   "execution_count": 593,
   "metadata": {},
   "outputs": [],
   "source": [
    "batch = next(iter(train_loader))\n",
    "\n",
    "# Inspect the shape of the input data\n",
    "input_data = batch[1]  # Assuming the input data is the first element of the batch\n",
    "input_shape = input_data.shape[0]"
   ]
  },
  {
   "cell_type": "code",
   "execution_count": 594,
   "metadata": {},
   "outputs": [
    {
     "data": {
      "text/plain": [
       "torch.Size([8, 61])"
      ]
     },
     "execution_count": 594,
     "metadata": {},
     "output_type": "execute_result"
    }
   ],
   "source": [
    "batch[1].shape"
   ]
  },
  {
   "cell_type": "code",
   "execution_count": 595,
   "metadata": {},
   "outputs": [
    {
     "data": {
      "text/plain": [
       "3"
      ]
     },
     "execution_count": 595,
     "metadata": {},
     "output_type": "execute_result"
    }
   ],
   "source": [
    "len(batch)"
   ]
  },
  {
   "cell_type": "code",
   "execution_count": 596,
   "metadata": {},
   "outputs": [],
   "source": [
    "a =  torch.ones(5, 50)\n",
    "a =  torch.ones(5, 50)\n",
    "a =  torch.ones(5, 50)"
   ]
  },
  {
   "cell_type": "code",
   "execution_count": 597,
   "metadata": {},
   "outputs": [],
   "source": [
    "m = nn.Softmax(dim=1)\n",
    "input = torch.randn(2, 3)\n",
    "output = m(input)"
   ]
  },
  {
   "cell_type": "code",
   "execution_count": 598,
   "metadata": {},
   "outputs": [
    {
     "data": {
      "text/plain": [
       "tensor([[ 0.6808, -0.8087,  0.9761],\n",
       "        [ 0.7267,  1.4679,  1.3230]])"
      ]
     },
     "execution_count": 598,
     "metadata": {},
     "output_type": "execute_result"
    }
   ],
   "source": [
    "input"
   ]
  },
  {
   "cell_type": "code",
   "execution_count": 599,
   "metadata": {},
   "outputs": [
    {
     "data": {
      "text/plain": [
       "tensor([[0.3893, 0.0878, 0.5230],\n",
       "        [0.2035, 0.4270, 0.3694]])"
      ]
     },
     "execution_count": 599,
     "metadata": {},
     "output_type": "execute_result"
    }
   ],
   "source": [
    "output"
   ]
  },
  {
   "cell_type": "code",
   "execution_count": 600,
   "metadata": {},
   "outputs": [
    {
     "data": {
      "text/plain": [
       "8"
      ]
     },
     "execution_count": 600,
     "metadata": {},
     "output_type": "execute_result"
    }
   ],
   "source": [
    "input_shape"
   ]
  },
  {
   "cell_type": "code",
   "execution_count": 601,
   "metadata": {},
   "outputs": [
    {
     "name": "stdout",
     "output_type": "stream",
     "text": [
      "tensor([2, 1, 2, 2, 1, 1, 1, 0], device='cuda:0')\n",
      "torch.Size([8, 61])\n"
     ]
    }
   ],
   "source": [
    "print(batch[0])\n",
    "print(batch[1].shape)"
   ]
  },
  {
   "cell_type": "code",
   "execution_count": 602,
   "metadata": {},
   "outputs": [],
   "source": [
    "LEARNING_RATE = 1e-3\n",
    "BATCH_SIZE = 128\n",
    "NUM_EPOCHS = 10\n",
    "DROPOUT = 0.5\n",
    "DEVICE = torch.device('cuda:0' if torch.cuda.is_available() else 'cpu')\n",
    "\n",
    "EMBEDDING_DIM = 128\n",
    "BIDIRECTIONAL = True\n",
    "HIDDEN_DIM = 128\n",
    "NUM_LAYERS = 2\n",
    "OUTPUT_DIM = 4"
   ]
  },
  {
   "cell_type": "code",
   "execution_count": 603,
   "metadata": {},
   "outputs": [],
   "source": [
    "model = newsLSTM(VOCAB_SIZE, EMBEDDING_DIM, HIDDEN_DIM)\n",
    "model = model.to(DEVICE)\n",
    "optimizer = torch.optim.Adam(model.parameters(), lr=LEARNING_RATE)"
   ]
  },
  {
   "cell_type": "code",
   "execution_count": 604,
   "metadata": {},
   "outputs": [],
   "source": [
    "def train(model, train_loader, val_loader, loss_function, optim, epochs, device):\n",
    "    \n",
    "    for epoch in range(epochs):\n",
    "        losses = [] #group losses for loss visualization \n",
    "        running_loss = 0.0\n",
    "        model.train()\n",
    "        print(\"Epoch %d / %d\" % (epoch+1, epochs))\n",
    "        print(\"-\"*10)\n",
    "    \n",
    "        for i, batch_data in enumerate(train_loader):\n",
    "            \n",
    "            model.train()\n",
    "            (y, x, x_size) = batch_data\n",
    "            y_pred = model(x, x_size.cpu())\n",
    "            #print(f\"y_pred: {y_pred}, y_target: {y}\")\n",
    "            loss = loss_function(y_pred, y)\n",
    "            optim.zero_grad()\n",
    "            loss.backward()\n",
    "            optim.step()\n",
    "            \n",
    "            running_loss += loss.item()\n",
    "            losses.append(loss)\n",
    "            \n",
    "        model.eval()\n",
    "        val_loss = 0.0\n",
    "        print(\"Epoch: {}, train loss: {:.4f}\".format(epoch+1, running_loss/len(losses)))\n",
    "        with torch.no_grad():\n",
    "            for i, batch_data in enumerate(val_loader):\n",
    "                (y, x, x_size) = batch_data\n",
    "                y, x, x_size = y.to(device), x.to(device), x_size.to(device)\n",
    "                \n",
    "                y_pred = model(x, x_size.cpu())\n",
    "                loss = loss_function(y_pred, y)\n",
    "                \n",
    "                val_loss += loss.item()\n",
    "        \n",
    "        print(\"Epoch: {}, validation loss: {:.4f}\".format(epoch+1, val_loss/len(val_loader)))"
   ]
  },
  {
   "cell_type": "code",
   "execution_count": 605,
   "metadata": {},
   "outputs": [
    {
     "name": "stdout",
     "output_type": "stream",
     "text": [
      "Epoch 1 / 10\n",
      "----------\n"
     ]
    },
    {
     "name": "stdout",
     "output_type": "stream",
     "text": [
      "Epoch: 1, train loss: 0.4905\n",
      "Epoch: 1, validation loss: 0.3051\n",
      "Epoch 2 / 10\n",
      "----------\n"
     ]
    }
   ],
   "source": [
    "train(model, train_loader, val_loader, torch.nn.functional.cross_entropy, optimizer, NUM_EPOCHS, DEVICE)"
   ]
  },
  {
   "cell_type": "markdown",
   "metadata": {},
   "source": [
    "# Notes: \n",
    "\n",
    "Something about the handling of decreasing batch sizes and packed sequences makes our lstm from scratch inefficient at learning when compared to the native torch version. However, working through the implementation and the bugs that came with it helped me better understand the internals of the lstm. What's especially impressive is that using a single layered unidirectional LSTM is much more effective for learning on this task than a 2 layered bidirectional RNN (see `RecurrentNetworks/bidirectionalRNN`)\n",
    "\n",
    "Below, we still make use of our hand crafted LSTM for a non batched, non-packed use case where it should not suffer from its inefficiencies."
   ]
  },
  {
   "cell_type": "code",
   "execution_count": null,
   "metadata": {},
   "outputs": [],
   "source": [
    "class stockLSTM(nn.Module): \n",
    "    def __init__(self, input_dim, hidden_size, output_dim) -> None:\n",
    "        super(stockLSTM, self).__init__()\n",
    "        \n",
    "        self.hidden_size = hidden_size \n",
    "        self.lstm = lstm_simplified(input_dim, hidden_size)\n",
    "        self.output_dim = output_dim\n",
    "        self.output_layer = nn.Sequential(nn.Linear(hidden_size, output_dim))\n",
    "\n",
    "\n",
    "    def forward(self, x):\n",
    "        out, (h, _) = self.lstm(x)\n",
    "        output = self.output_layer(h.squeeze())\n",
    "        \n",
    "        return output\n",
    "    "
   ]
  },
  {
   "cell_type": "code",
   "execution_count": null,
   "metadata": {},
   "outputs": [],
   "source": [
    "def train_scratch_model(model, train_loader, val_loader,  loss_function, optim, epochs, device, scheduler, start_decay):\n",
    "    \n",
    "    losses = [] #group losses for loss visualization \n",
    "    \n",
    "    for epoch in range(epochs):\n",
    "        running_loss = 0 \n",
    "        print(\"Epoch %d / %d\" % (epoch+1, epochs))\n",
    "        print(\"-\"*10)\n",
    "        if (epoch > start_decay): \n",
    "            scheduler.step()\n",
    "        \n",
    "        model.train()\n",
    "        for i, (x, y) in enumerate(train_loader):\n",
    "            x = x.to(device)\n",
    "            y = y.to(device)\n",
    "            y_pred = model(x)\n",
    "            # print(f\"y shape: {y.shape}, y_pred shape: {y_pred.shape}\")\n",
    "            loss = loss_function(y_pred, y) \n",
    "            running_loss+=loss.item()\n",
    "            optim.zero_grad()\n",
    "            loss.backward() #backprop \n",
    "            optim.step() #update weights\n",
    "  \n",
    "        losses.append((running_loss / i))\n",
    "        print(\"Step: {}/{}, current Epoch loss: {:.4f}\".format(i, len(train_loader), (running_loss / i)))\n",
    "\n",
    "        val_loss = 0\n",
    "        with torch.no_grad():\n",
    "            for i, (x,y) in enumerate(val_loader):\n",
    "                y, x,  = y.to(device), x.to(device) \n",
    "                \n",
    "                y_pred = model(x)\n",
    "                loss = loss_function(y_pred, y)\n",
    "                \n",
    "                val_loss += loss.item()\n",
    "        \n",
    "        print(\"Epoch: {}, validation loss: {:.4f}\".format(epoch+1, val_loss/len(val_loader)))\n",
    "        \n",
    "    return losses"
   ]
  },
  {
   "cell_type": "code",
   "execution_count": null,
   "metadata": {},
   "outputs": [],
   "source": [
    "def load_data(stock, sequence_length):\n",
    "    # Convert pandas dataframe to numpy array\n",
    "    data_raw = stock.to_numpy()\n",
    "\n",
    "    data = []\n",
    "\n",
    "    # Loop over the stock data to generate sequences of 'sequence_length' consecutive data points\n",
    "    # This is done because RNNs learn to predict data in a sequence from past sequence\n",
    "    for index in range(len(data_raw) - sequence_length):\n",
    "        data.append(data_raw[index: index + sequence_length])\n",
    "\n",
    "    data = np.array(data)\n",
    "    set_size = int(data.shape[0])\n",
    "\n",
    "    # Generate the train data\n",
    "    # x_train is all sequences excluding the last data point from each sequence\n",
    "    x = data[:,:-1,:]\n",
    "    # y_train is the last data point from each sequence\n",
    "    y = data[:,-1,:]\n",
    "    \n",
    "\n",
    "    # Return the train and test data\n",
    "    return [x, y]"
   ]
  },
  {
   "cell_type": "code",
   "execution_count": null,
   "metadata": {},
   "outputs": [],
   "source": [
    "ibm_df = pd.read_csv('IBM.csv')\n",
    "ibm_df['Date'] = pd.to_datetime(ibm_df['Date'])\n",
    "ibm_df.set_index('Date',inplace=True)\n",
    "ibm_df = ibm_df[['Close']]\n",
    "ibm_df[\"Close\"] = (ibm_df[\"Close\"]-ibm_df[\"Close\"].mean())/ibm_df[\"Close\"].std()\n",
    "\n",
    "# Get the number of rows in the DataFrame\n",
    "num_rows = ibm_df.shape[0]\n",
    "\n",
    "# Compute the split point\n",
    "split_point = int(num_rows*0.8)\n",
    "\n",
    "# Split the DataFrame\n",
    "train_val_df = ibm_df.iloc[:split_point]\n",
    "test_df = ibm_df.iloc[split_point:]\n",
    "val_split = int((train_val_df.shape[0])*0.8)\n",
    "train_df = train_val_df.iloc[:val_split]\n",
    "val_df = train_val_df[val_split:]\n",
    "\n",
    "x_train, y_train = load_data(train_df, 10) \n",
    "x_test, y_test = load_data(test_df, 10) \n",
    "x_val, y_val = load_data(val_df, 10)"
   ]
  },
  {
   "cell_type": "code",
   "execution_count": null,
   "metadata": {},
   "outputs": [
    {
     "name": "stdout",
     "output_type": "stream",
     "text": [
      "               Close\n",
      "Date                \n",
      "2006-01-03 -1.693534\n",
      "2006-01-04 -1.696465\n",
      "2006-01-05 -1.681809\n",
      "2006-01-06 -1.616527\n",
      "2006-01-09 -1.649035\n"
     ]
    }
   ],
   "source": [
    "print(train_df.head()) #to ensure no shuffling accidentally occurred "
   ]
  },
  {
   "cell_type": "code",
   "execution_count": null,
   "metadata": {},
   "outputs": [
    {
     "name": "stdout",
     "output_type": "stream",
     "text": [
      "               Close\n",
      "Date                \n",
      "2017-12-22  0.183396\n",
      "2017-12-26  0.192189\n",
      "2017-12-27  0.200182\n",
      "2017-12-28  0.224430\n",
      "2017-12-29  0.207910\n"
     ]
    }
   ],
   "source": [
    "print(test_df.tail())"
   ]
  },
  {
   "cell_type": "code",
   "execution_count": null,
   "metadata": {},
   "outputs": [
    {
     "name": "stdout",
     "output_type": "stream",
     "text": [
      "Train input data shape: (1922, 9, 1), target shape: (1922, 1)\n"
     ]
    }
   ],
   "source": [
    "print(\"Train input data shape: {}, target shape: {}\".format(x_train.shape, y_train.shape)) "
   ]
  },
  {
   "cell_type": "code",
   "execution_count": null,
   "metadata": {},
   "outputs": [
    {
     "name": "stdout",
     "output_type": "stream",
     "text": [
      "Test input data shape: (594, 9, 1), target shape: (594, 1)\n"
     ]
    }
   ],
   "source": [
    "print(\"Test input data shape: {}, target shape: {}\".format(x_test.shape, y_test.shape)) "
   ]
  },
  {
   "cell_type": "code",
   "execution_count": null,
   "metadata": {},
   "outputs": [],
   "source": [
    "x_train = torch.from_numpy(x_train).type(torch.Tensor)\n",
    "x_test = torch.from_numpy(x_test).type(torch.Tensor)\n",
    "x_val = torch.from_numpy(x_val).type(torch.Tensor)\n",
    "y_train = torch.from_numpy(y_train).type(torch.Tensor)\n",
    "y_test = torch.from_numpy(y_test).type(torch.Tensor)\n",
    "y_val = torch.from_numpy(y_val).type(torch.Tensor)"
   ]
  },
  {
   "cell_type": "code",
   "execution_count": null,
   "metadata": {},
   "outputs": [],
   "source": [
    "train_set = torch.utils.data.TensorDataset(x_train,y_train)\n",
    "test_set = torch.utils.data.TensorDataset(x_test,y_test)\n",
    "val_set = torch.utils.data.TensorDataset(x_val,y_val)"
   ]
  },
  {
   "cell_type": "code",
   "execution_count": null,
   "metadata": {},
   "outputs": [],
   "source": [
    "NUM_EPOCHS = 200\n",
    "BATCH_SIZE = 32 \n",
    "LEARNING_RATE = 0.01\n",
    "INPUT_DIM = 1 \n",
    "OUTPUT_DIM = 1 \n",
    "HIDDEN_DIM = 16 "
   ]
  },
  {
   "cell_type": "code",
   "execution_count": null,
   "metadata": {},
   "outputs": [],
   "source": [
    "train_loader = torch.utils.data.DataLoader(dataset=train_set, \n",
    "                                           batch_size=BATCH_SIZE, \n",
    "                                           shuffle=False)\n",
    "\n",
    "test_loader = torch.utils.data.DataLoader(dataset=test_set, \n",
    "                                          batch_size=BATCH_SIZE, \n",
    "                                          shuffle=False)\n",
    "val_loader = torch.utils.data.DataLoader(dataset=val_set, \n",
    "                                          batch_size=BATCH_SIZE, \n",
    "                                          shuffle=False)"
   ]
  },
  {
   "cell_type": "code",
   "execution_count": null,
   "metadata": {},
   "outputs": [],
   "source": [
    "model = stockLSTM(INPUT_DIM, HIDDEN_DIM, OUTPUT_DIM)"
   ]
  },
  {
   "cell_type": "code",
   "execution_count": null,
   "metadata": {},
   "outputs": [],
   "source": [
    "optimizer = torch.optim.Adam(model.parameters(), lr=LEARNING_RATE)\n",
    "DECAY_FACTOR = 0.0002\n",
    "DECAY_EPOCHS = 100\n",
    "START_DECAY_EPOCH = 100\n",
    "scheduler = torch.optim.lr_scheduler.StepLR(optimizer, step_size=DECAY_EPOCHS, gamma=DECAY_FACTOR)"
   ]
  },
  {
   "cell_type": "code",
   "execution_count": null,
   "metadata": {},
   "outputs": [],
   "source": [
    "device = torch.device(\"cuda\" if torch.cuda.is_available() else \"cpu\")"
   ]
  },
  {
   "cell_type": "code",
   "execution_count": null,
   "metadata": {},
   "outputs": [],
   "source": [
    "model = model.to(device)"
   ]
  },
  {
   "cell_type": "code",
   "execution_count": null,
   "metadata": {},
   "outputs": [
    {
     "name": "stdout",
     "output_type": "stream",
     "text": [
      "Epoch 1 / 200\n",
      "----------\n"
     ]
    },
    {
     "name": "stderr",
     "output_type": "stream",
     "text": [
      "/home/aryaman.pandya/ml_accel/lib/python3.9/site-packages/torch/nn/_reduction.py:42: UserWarning:\n",
      "\n",
      "size_average and reduce args will be deprecated, please use reduction='mean' instead.\n",
      "\n"
     ]
    },
    {
     "name": "stdout",
     "output_type": "stream",
     "text": [
      "Step: 60/61, current Epoch loss: 0.3090\n",
      "Epoch: 1, validation loss: 0.7901\n",
      "Epoch 2 / 200\n",
      "----------\n",
      "Step: 60/61, current Epoch loss: 0.1028\n",
      "Epoch: 2, validation loss: 0.1356\n",
      "Epoch 3 / 200\n",
      "----------\n",
      "Step: 60/61, current Epoch loss: 0.0322\n",
      "Epoch: 3, validation loss: 0.0197\n",
      "Epoch 4 / 200\n",
      "----------\n",
      "Step: 60/61, current Epoch loss: 0.0113\n",
      "Epoch: 4, validation loss: 0.0125\n",
      "Epoch 5 / 200\n",
      "----------\n",
      "Step: 60/61, current Epoch loss: 0.0295\n",
      "Epoch: 5, validation loss: 0.0071\n",
      "Epoch 6 / 200\n",
      "----------\n",
      "Step: 60/61, current Epoch loss: 0.0067\n",
      "Epoch: 6, validation loss: 0.0050\n",
      "Epoch 7 / 200\n",
      "----------\n",
      "Step: 60/61, current Epoch loss: 0.0048\n",
      "Epoch: 7, validation loss: 0.0048\n",
      "Epoch 8 / 200\n",
      "----------\n",
      "Step: 60/61, current Epoch loss: 0.0043\n",
      "Epoch: 8, validation loss: 0.0055\n",
      "Epoch 9 / 200\n",
      "----------\n",
      "Step: 60/61, current Epoch loss: 0.0056\n",
      "Epoch: 9, validation loss: 0.0076\n",
      "Epoch 10 / 200\n",
      "----------\n",
      "Step: 60/61, current Epoch loss: 0.0066\n",
      "Epoch: 10, validation loss: 0.0159\n",
      "Epoch 11 / 200\n",
      "----------\n",
      "Step: 60/61, current Epoch loss: 0.0101\n",
      "Epoch: 11, validation loss: 0.0366\n",
      "Epoch 12 / 200\n",
      "----------\n",
      "Step: 60/61, current Epoch loss: 0.0140\n",
      "Epoch: 12, validation loss: 0.0775\n",
      "Epoch 13 / 200\n",
      "----------\n",
      "Step: 60/61, current Epoch loss: 0.0158\n",
      "Epoch: 13, validation loss: 0.0880\n",
      "Epoch 14 / 200\n",
      "----------\n",
      "Step: 60/61, current Epoch loss: 0.0131\n",
      "Epoch: 14, validation loss: 0.0702\n",
      "Epoch 15 / 200\n",
      "----------\n",
      "Step: 60/61, current Epoch loss: 0.0120\n",
      "Epoch: 15, validation loss: 0.0356\n",
      "Epoch 16 / 200\n",
      "----------\n",
      "Step: 60/61, current Epoch loss: 0.0082\n",
      "Epoch: 16, validation loss: 0.0370\n",
      "Epoch 17 / 200\n",
      "----------\n",
      "Step: 60/61, current Epoch loss: 0.0081\n",
      "Epoch: 17, validation loss: 0.0308\n",
      "Epoch 18 / 200\n",
      "----------\n",
      "Step: 60/61, current Epoch loss: 0.0069\n",
      "Epoch: 18, validation loss: 0.0288\n",
      "Epoch 19 / 200\n",
      "----------\n",
      "Step: 60/61, current Epoch loss: 0.0068\n",
      "Epoch: 19, validation loss: 0.0284\n",
      "Epoch 20 / 200\n",
      "----------\n",
      "Step: 60/61, current Epoch loss: 0.0061\n",
      "Epoch: 20, validation loss: 0.0284\n",
      "Epoch 21 / 200\n",
      "----------\n",
      "Step: 60/61, current Epoch loss: 0.0065\n",
      "Epoch: 21, validation loss: 0.0298\n",
      "Epoch 22 / 200\n",
      "----------\n",
      "Step: 60/61, current Epoch loss: 0.0070\n",
      "Epoch: 22, validation loss: 0.0321\n",
      "Epoch 23 / 200\n",
      "----------\n",
      "Step: 60/61, current Epoch loss: 0.0072\n",
      "Epoch: 23, validation loss: 0.0347\n",
      "Epoch 24 / 200\n",
      "----------\n",
      "Step: 60/61, current Epoch loss: 0.0073\n",
      "Epoch: 24, validation loss: 0.0365\n",
      "Epoch 25 / 200\n",
      "----------\n",
      "Step: 60/61, current Epoch loss: 0.0073\n",
      "Epoch: 25, validation loss: 0.0372\n",
      "Epoch 26 / 200\n",
      "----------\n",
      "Step: 60/61, current Epoch loss: 0.0073\n",
      "Epoch: 26, validation loss: 0.0373\n",
      "Epoch 27 / 200\n",
      "----------\n",
      "Step: 60/61, current Epoch loss: 0.0074\n",
      "Epoch: 27, validation loss: 0.0374\n",
      "Epoch 28 / 200\n",
      "----------\n",
      "Step: 60/61, current Epoch loss: 0.0076\n",
      "Epoch: 28, validation loss: 0.0381\n",
      "Epoch 29 / 200\n",
      "----------\n",
      "Step: 60/61, current Epoch loss: 0.0076\n",
      "Epoch: 29, validation loss: 0.0389\n",
      "Epoch 30 / 200\n",
      "----------\n",
      "Step: 60/61, current Epoch loss: 0.0075\n",
      "Epoch: 30, validation loss: 0.0392\n",
      "Epoch 31 / 200\n",
      "----------\n",
      "Step: 60/61, current Epoch loss: 0.0075\n",
      "Epoch: 31, validation loss: 0.0386\n",
      "Epoch 32 / 200\n",
      "----------\n",
      "Step: 60/61, current Epoch loss: 0.0074\n",
      "Epoch: 32, validation loss: 0.0376\n",
      "Epoch 33 / 200\n",
      "----------\n",
      "Step: 60/61, current Epoch loss: 0.0073\n",
      "Epoch: 33, validation loss: 0.0370\n",
      "Epoch 34 / 200\n",
      "----------\n",
      "Step: 60/61, current Epoch loss: 0.0072\n",
      "Epoch: 34, validation loss: 0.0371\n",
      "Epoch 35 / 200\n",
      "----------\n",
      "Step: 60/61, current Epoch loss: 0.0071\n",
      "Epoch: 35, validation loss: 0.0371\n",
      "Epoch 36 / 200\n",
      "----------\n",
      "Step: 60/61, current Epoch loss: 0.0070\n",
      "Epoch: 36, validation loss: 0.0368\n",
      "Epoch 37 / 200\n",
      "----------\n",
      "Step: 60/61, current Epoch loss: 0.0070\n",
      "Epoch: 37, validation loss: 0.0364\n",
      "Epoch 38 / 200\n",
      "----------\n",
      "Step: 60/61, current Epoch loss: 0.0070\n",
      "Epoch: 38, validation loss: 0.0362\n",
      "Epoch 39 / 200\n",
      "----------\n",
      "Step: 60/61, current Epoch loss: 0.0070\n",
      "Epoch: 39, validation loss: 0.0360\n",
      "Epoch 40 / 200\n",
      "----------\n",
      "Step: 60/61, current Epoch loss: 0.0070\n",
      "Epoch: 40, validation loss: 0.0359\n",
      "Epoch 41 / 200\n",
      "----------\n",
      "Step: 60/61, current Epoch loss: 0.0070\n",
      "Epoch: 41, validation loss: 0.0357\n",
      "Epoch 42 / 200\n",
      "----------\n",
      "Step: 60/61, current Epoch loss: 0.0069\n",
      "Epoch: 42, validation loss: 0.0354\n",
      "Epoch 43 / 200\n",
      "----------\n",
      "Step: 60/61, current Epoch loss: 0.0068\n",
      "Epoch: 43, validation loss: 0.0352\n",
      "Epoch 44 / 200\n",
      "----------\n",
      "Step: 60/61, current Epoch loss: 0.0068\n",
      "Epoch: 44, validation loss: 0.0349\n",
      "Epoch 45 / 200\n",
      "----------\n",
      "Step: 60/61, current Epoch loss: 0.0067\n",
      "Epoch: 45, validation loss: 0.0347\n",
      "Epoch 46 / 200\n",
      "----------\n",
      "Step: 60/61, current Epoch loss: 0.0067\n",
      "Epoch: 46, validation loss: 0.0343\n",
      "Epoch 47 / 200\n",
      "----------\n",
      "Step: 60/61, current Epoch loss: 0.0067\n",
      "Epoch: 47, validation loss: 0.0342\n",
      "Epoch 48 / 200\n",
      "----------\n",
      "Step: 60/61, current Epoch loss: 0.0066\n",
      "Epoch: 48, validation loss: 0.0335\n",
      "Epoch 49 / 200\n",
      "----------\n",
      "Step: 60/61, current Epoch loss: 0.0066\n",
      "Epoch: 49, validation loss: 0.0341\n",
      "Epoch 50 / 200\n",
      "----------\n",
      "Step: 60/61, current Epoch loss: 0.0066\n",
      "Epoch: 50, validation loss: 0.0305\n",
      "Epoch 51 / 200\n",
      "----------\n",
      "Step: 60/61, current Epoch loss: 0.0065\n",
      "Epoch: 51, validation loss: 0.0390\n",
      "Epoch 52 / 200\n",
      "----------\n",
      "Step: 60/61, current Epoch loss: 0.0087\n",
      "Epoch: 52, validation loss: 0.0358\n",
      "Epoch 53 / 200\n",
      "----------\n",
      "Step: 60/61, current Epoch loss: 0.0099\n",
      "Epoch: 53, validation loss: 0.0718\n",
      "Epoch 54 / 200\n",
      "----------\n",
      "Step: 60/61, current Epoch loss: 0.0104\n",
      "Epoch: 54, validation loss: 0.0356\n",
      "Epoch 55 / 200\n",
      "----------\n",
      "Step: 60/61, current Epoch loss: 0.0089\n",
      "Epoch: 55, validation loss: 0.0313\n",
      "Epoch 56 / 200\n",
      "----------\n",
      "Step: 60/61, current Epoch loss: 0.0060\n",
      "Epoch: 56, validation loss: 0.0187\n",
      "Epoch 57 / 200\n",
      "----------\n",
      "Step: 60/61, current Epoch loss: 0.0047\n",
      "Epoch: 57, validation loss: 0.0153\n",
      "Epoch 58 / 200\n",
      "----------\n",
      "Step: 60/61, current Epoch loss: 0.0043\n",
      "Epoch: 58, validation loss: 0.0156\n",
      "Epoch 59 / 200\n",
      "----------\n",
      "Step: 60/61, current Epoch loss: 0.0051\n",
      "Epoch: 59, validation loss: 0.0173\n",
      "Epoch 60 / 200\n",
      "----------\n",
      "Step: 60/61, current Epoch loss: 0.0053\n",
      "Epoch: 60, validation loss: 0.0179\n",
      "Epoch 61 / 200\n",
      "----------\n",
      "Step: 60/61, current Epoch loss: 0.0052\n",
      "Epoch: 61, validation loss: 0.0243\n",
      "Epoch 62 / 200\n",
      "----------\n",
      "Step: 60/61, current Epoch loss: 0.0061\n",
      "Epoch: 62, validation loss: 0.0241\n",
      "Epoch 63 / 200\n",
      "----------\n",
      "Step: 60/61, current Epoch loss: 0.0059\n",
      "Epoch: 63, validation loss: 0.0296\n",
      "Epoch 64 / 200\n",
      "----------\n",
      "Step: 60/61, current Epoch loss: 0.0061\n",
      "Epoch: 64, validation loss: 0.0276\n",
      "Epoch 65 / 200\n",
      "----------\n",
      "Step: 60/61, current Epoch loss: 0.0061\n",
      "Epoch: 65, validation loss: 0.0304\n",
      "Epoch 66 / 200\n",
      "----------\n",
      "Step: 60/61, current Epoch loss: 0.0059\n",
      "Epoch: 66, validation loss: 0.0280\n",
      "Epoch 67 / 200\n",
      "----------\n",
      "Step: 60/61, current Epoch loss: 0.0059\n",
      "Epoch: 67, validation loss: 0.0281\n",
      "Epoch 68 / 200\n",
      "----------\n",
      "Step: 60/61, current Epoch loss: 0.0057\n",
      "Epoch: 68, validation loss: 0.0267\n",
      "Epoch 69 / 200\n",
      "----------\n",
      "Step: 60/61, current Epoch loss: 0.0057\n",
      "Epoch: 69, validation loss: 0.0260\n",
      "Epoch 70 / 200\n",
      "----------\n",
      "Step: 60/61, current Epoch loss: 0.0056\n",
      "Epoch: 70, validation loss: 0.0257\n",
      "Epoch 71 / 200\n",
      "----------\n",
      "Step: 60/61, current Epoch loss: 0.0055\n",
      "Epoch: 71, validation loss: 0.0255\n",
      "Epoch 72 / 200\n",
      "----------\n",
      "Step: 60/61, current Epoch loss: 0.0055\n",
      "Epoch: 72, validation loss: 0.0257\n",
      "Epoch 73 / 200\n",
      "----------\n",
      "Step: 60/61, current Epoch loss: 0.0055\n",
      "Epoch: 73, validation loss: 0.0258\n",
      "Epoch 74 / 200\n",
      "----------\n",
      "Step: 60/61, current Epoch loss: 0.0056\n",
      "Epoch: 74, validation loss: 0.0261\n",
      "Epoch 75 / 200\n",
      "----------\n",
      "Step: 60/61, current Epoch loss: 0.0056\n",
      "Epoch: 75, validation loss: 0.0256\n",
      "Epoch 76 / 200\n",
      "----------\n",
      "Step: 60/61, current Epoch loss: 0.0056\n",
      "Epoch: 76, validation loss: 0.0249\n",
      "Epoch 77 / 200\n",
      "----------\n",
      "Step: 60/61, current Epoch loss: 0.0057\n",
      "Epoch: 77, validation loss: 0.0232\n",
      "Epoch 78 / 200\n",
      "----------\n",
      "Step: 60/61, current Epoch loss: 0.0061\n",
      "Epoch: 78, validation loss: 0.0232\n",
      "Epoch 79 / 200\n",
      "----------\n",
      "Step: 60/61, current Epoch loss: 0.0062\n",
      "Epoch: 79, validation loss: 0.0254\n",
      "Epoch 80 / 200\n",
      "----------\n",
      "Step: 60/61, current Epoch loss: 0.0054\n",
      "Epoch: 80, validation loss: 0.0267\n",
      "Epoch 81 / 200\n",
      "----------\n",
      "Step: 60/61, current Epoch loss: 0.0053\n",
      "Epoch: 81, validation loss: 0.0275\n",
      "Epoch 82 / 200\n",
      "----------\n",
      "Step: 60/61, current Epoch loss: 0.0059\n",
      "Epoch: 82, validation loss: 0.0284\n",
      "Epoch 83 / 200\n",
      "----------\n",
      "Step: 60/61, current Epoch loss: 0.0054\n",
      "Epoch: 83, validation loss: 0.0174\n",
      "Epoch 84 / 200\n",
      "----------\n",
      "Step: 60/61, current Epoch loss: 0.0065\n",
      "Epoch: 84, validation loss: 0.0299\n",
      "Epoch 85 / 200\n",
      "----------\n",
      "Step: 60/61, current Epoch loss: 0.0055\n",
      "Epoch: 85, validation loss: 0.0173\n",
      "Epoch 86 / 200\n",
      "----------\n",
      "Step: 60/61, current Epoch loss: 0.0056\n",
      "Epoch: 86, validation loss: 0.0324\n",
      "Epoch 87 / 200\n",
      "----------\n",
      "Step: 60/61, current Epoch loss: 0.0055\n",
      "Epoch: 87, validation loss: 0.0161\n",
      "Epoch 88 / 200\n",
      "----------\n",
      "Step: 60/61, current Epoch loss: 0.0051\n",
      "Epoch: 88, validation loss: 0.0287\n",
      "Epoch 89 / 200\n",
      "----------\n",
      "Step: 60/61, current Epoch loss: 0.0058\n",
      "Epoch: 89, validation loss: 0.0160\n",
      "Epoch 90 / 200\n",
      "----------\n",
      "Step: 60/61, current Epoch loss: 0.0055\n",
      "Epoch: 90, validation loss: 0.0242\n",
      "Epoch 91 / 200\n",
      "----------\n",
      "Step: 60/61, current Epoch loss: 0.0058\n",
      "Epoch: 91, validation loss: 0.0215\n",
      "Epoch 92 / 200\n",
      "----------\n",
      "Step: 60/61, current Epoch loss: 0.0045\n",
      "Epoch: 92, validation loss: 0.0222\n",
      "Epoch 93 / 200\n",
      "----------\n",
      "Step: 60/61, current Epoch loss: 0.0056\n",
      "Epoch: 93, validation loss: 0.0218\n",
      "Epoch 94 / 200\n",
      "----------\n",
      "Step: 60/61, current Epoch loss: 0.0046\n",
      "Epoch: 94, validation loss: 0.0169\n",
      "Epoch 95 / 200\n",
      "----------\n",
      "Step: 60/61, current Epoch loss: 0.0047\n",
      "Epoch: 95, validation loss: 0.0158\n",
      "Epoch 96 / 200\n",
      "----------\n",
      "Step: 60/61, current Epoch loss: 0.0052\n",
      "Epoch: 96, validation loss: 0.0167\n",
      "Epoch 97 / 200\n",
      "----------\n",
      "Step: 60/61, current Epoch loss: 0.0042\n",
      "Epoch: 97, validation loss: 0.0168\n",
      "Epoch 98 / 200\n",
      "----------\n",
      "Step: 60/61, current Epoch loss: 0.0045\n",
      "Epoch: 98, validation loss: 0.0167\n",
      "Epoch 99 / 200\n",
      "----------\n",
      "Step: 60/61, current Epoch loss: 0.0044\n",
      "Epoch: 99, validation loss: 0.0190\n",
      "Epoch 100 / 200\n",
      "----------\n",
      "Step: 60/61, current Epoch loss: 0.0050\n",
      "Epoch: 100, validation loss: 0.0179\n",
      "Epoch 101 / 200\n",
      "----------\n",
      "Step: 60/61, current Epoch loss: 0.0046\n",
      "Epoch: 101, validation loss: 0.0202\n",
      "Epoch 102 / 200\n",
      "----------\n",
      "Step: 60/61, current Epoch loss: 0.0059\n",
      "Epoch: 102, validation loss: 0.0179\n",
      "Epoch 103 / 200\n",
      "----------\n",
      "Step: 60/61, current Epoch loss: 0.0055\n",
      "Epoch: 103, validation loss: 0.0227\n",
      "Epoch 104 / 200\n",
      "----------\n",
      "Step: 60/61, current Epoch loss: 0.0079\n",
      "Epoch: 104, validation loss: 0.0388\n",
      "Epoch 105 / 200\n",
      "----------\n",
      "Step: 60/61, current Epoch loss: 0.0096\n",
      "Epoch: 105, validation loss: 0.0505\n",
      "Epoch 106 / 200\n",
      "----------\n",
      "Step: 60/61, current Epoch loss: 0.0131\n",
      "Epoch: 106, validation loss: 0.0111\n",
      "Epoch 107 / 200\n",
      "----------\n",
      "Step: 60/61, current Epoch loss: 0.0145\n",
      "Epoch: 107, validation loss: 0.0128\n",
      "Epoch 108 / 200\n",
      "----------\n",
      "Step: 60/61, current Epoch loss: 0.0034\n",
      "Epoch: 108, validation loss: 0.0074\n",
      "Epoch 109 / 200\n",
      "----------\n",
      "Step: 60/61, current Epoch loss: 0.0045\n",
      "Epoch: 109, validation loss: 0.0102\n",
      "Epoch 110 / 200\n",
      "----------\n",
      "Step: 60/61, current Epoch loss: 0.0055\n",
      "Epoch: 110, validation loss: 0.0100\n",
      "Epoch 111 / 200\n",
      "----------\n",
      "Step: 60/61, current Epoch loss: 0.0057\n",
      "Epoch: 111, validation loss: 0.0072\n",
      "Epoch 112 / 200\n",
      "----------\n",
      "Step: 60/61, current Epoch loss: 0.0054\n",
      "Epoch: 112, validation loss: 0.0054\n",
      "Epoch 113 / 200\n",
      "----------\n",
      "Step: 60/61, current Epoch loss: 0.0051\n",
      "Epoch: 113, validation loss: 0.0046\n",
      "Epoch 114 / 200\n",
      "----------\n",
      "Step: 60/61, current Epoch loss: 0.0049\n",
      "Epoch: 114, validation loss: 0.0042\n",
      "Epoch 115 / 200\n",
      "----------\n",
      "Step: 60/61, current Epoch loss: 0.0044\n",
      "Epoch: 115, validation loss: 0.0035\n",
      "Epoch 116 / 200\n",
      "----------\n",
      "Step: 60/61, current Epoch loss: 0.0039\n",
      "Epoch: 116, validation loss: 0.0037\n",
      "Epoch 117 / 200\n",
      "----------\n",
      "Step: 60/61, current Epoch loss: 0.0038\n",
      "Epoch: 117, validation loss: 0.0039\n",
      "Epoch 118 / 200\n",
      "----------\n",
      "Step: 60/61, current Epoch loss: 0.0037\n",
      "Epoch: 118, validation loss: 0.0038\n",
      "Epoch 119 / 200\n",
      "----------\n",
      "Step: 60/61, current Epoch loss: 0.0034\n",
      "Epoch: 119, validation loss: 0.0036\n",
      "Epoch 120 / 200\n",
      "----------\n",
      "Step: 60/61, current Epoch loss: 0.0030\n",
      "Epoch: 120, validation loss: 0.0038\n",
      "Epoch 121 / 200\n",
      "----------\n",
      "Step: 60/61, current Epoch loss: 0.0030\n",
      "Epoch: 121, validation loss: 0.0061\n",
      "Epoch 122 / 200\n",
      "----------\n",
      "Step: 60/61, current Epoch loss: 0.0036\n",
      "Epoch: 122, validation loss: 0.0114\n",
      "Epoch 123 / 200\n",
      "----------\n",
      "Step: 60/61, current Epoch loss: 0.0042\n",
      "Epoch: 123, validation loss: 0.0144\n",
      "Epoch 124 / 200\n",
      "----------\n",
      "Step: 60/61, current Epoch loss: 0.0046\n",
      "Epoch: 124, validation loss: 0.0139\n",
      "Epoch 125 / 200\n",
      "----------\n",
      "Step: 60/61, current Epoch loss: 0.0045\n",
      "Epoch: 125, validation loss: 0.0118\n",
      "Epoch 126 / 200\n",
      "----------\n",
      "Step: 60/61, current Epoch loss: 0.0041\n",
      "Epoch: 126, validation loss: 0.0140\n",
      "Epoch 127 / 200\n",
      "----------\n",
      "Step: 60/61, current Epoch loss: 0.0042\n",
      "Epoch: 127, validation loss: 0.0164\n",
      "Epoch 128 / 200\n",
      "----------\n",
      "Step: 60/61, current Epoch loss: 0.0048\n",
      "Epoch: 128, validation loss: 0.0186\n",
      "Epoch 129 / 200\n",
      "----------\n",
      "Step: 60/61, current Epoch loss: 0.0053\n",
      "Epoch: 129, validation loss: 0.0267\n",
      "Epoch 130 / 200\n",
      "----------\n",
      "Step: 60/61, current Epoch loss: 0.0064\n",
      "Epoch: 130, validation loss: 0.0260\n",
      "Epoch 131 / 200\n",
      "----------\n",
      "Step: 60/61, current Epoch loss: 0.0068\n",
      "Epoch: 131, validation loss: 0.0294\n",
      "Epoch 132 / 200\n",
      "----------\n",
      "Step: 60/61, current Epoch loss: 0.0059\n",
      "Epoch: 132, validation loss: 0.0122\n",
      "Epoch 133 / 200\n",
      "----------\n",
      "Step: 60/61, current Epoch loss: 0.0067\n",
      "Epoch: 133, validation loss: 0.0170\n",
      "Epoch 134 / 200\n",
      "----------\n",
      "Step: 60/61, current Epoch loss: 0.0044\n",
      "Epoch: 134, validation loss: 0.0153\n",
      "Epoch 135 / 200\n",
      "----------\n",
      "Step: 60/61, current Epoch loss: 0.0058\n",
      "Epoch: 135, validation loss: 0.0123\n",
      "Epoch 136 / 200\n",
      "----------\n",
      "Step: 60/61, current Epoch loss: 0.0046\n",
      "Epoch: 136, validation loss: 0.0197\n",
      "Epoch 137 / 200\n",
      "----------\n",
      "Step: 60/61, current Epoch loss: 0.0041\n",
      "Epoch: 137, validation loss: 0.0105\n",
      "Epoch 138 / 200\n",
      "----------\n",
      "Step: 60/61, current Epoch loss: 0.0036\n",
      "Epoch: 138, validation loss: 0.0103\n",
      "Epoch 139 / 200\n",
      "----------\n",
      "Step: 60/61, current Epoch loss: 0.0034\n",
      "Epoch: 139, validation loss: 0.0080\n",
      "Epoch 140 / 200\n",
      "----------\n",
      "Step: 60/61, current Epoch loss: 0.0033\n",
      "Epoch: 140, validation loss: 0.0082\n",
      "Epoch 141 / 200\n",
      "----------\n",
      "Step: 60/61, current Epoch loss: 0.0033\n",
      "Epoch: 141, validation loss: 0.0079\n",
      "Epoch 142 / 200\n",
      "----------\n",
      "Step: 60/61, current Epoch loss: 0.0033\n",
      "Epoch: 142, validation loss: 0.0085\n",
      "Epoch 143 / 200\n",
      "----------\n",
      "Step: 60/61, current Epoch loss: 0.0034\n",
      "Epoch: 143, validation loss: 0.0093\n",
      "Epoch 144 / 200\n",
      "----------\n",
      "Step: 60/61, current Epoch loss: 0.0035\n",
      "Epoch: 144, validation loss: 0.0105\n",
      "Epoch 145 / 200\n",
      "----------\n",
      "Step: 60/61, current Epoch loss: 0.0037\n",
      "Epoch: 145, validation loss: 0.0123\n",
      "Epoch 146 / 200\n",
      "----------\n",
      "Step: 60/61, current Epoch loss: 0.0040\n",
      "Epoch: 146, validation loss: 0.0145\n",
      "Epoch 147 / 200\n",
      "----------\n",
      "Step: 60/61, current Epoch loss: 0.0044\n",
      "Epoch: 147, validation loss: 0.0170\n",
      "Epoch 148 / 200\n",
      "----------\n",
      "Step: 60/61, current Epoch loss: 0.0048\n",
      "Epoch: 148, validation loss: 0.0192\n",
      "Epoch 149 / 200\n",
      "----------\n",
      "Step: 60/61, current Epoch loss: 0.0051\n",
      "Epoch: 149, validation loss: 0.0211\n",
      "Epoch 150 / 200\n",
      "----------\n",
      "Step: 60/61, current Epoch loss: 0.0053\n",
      "Epoch: 150, validation loss: 0.0215\n",
      "Epoch 151 / 200\n",
      "----------\n",
      "Step: 60/61, current Epoch loss: 0.0054\n",
      "Epoch: 151, validation loss: 0.0227\n",
      "Epoch 152 / 200\n",
      "----------\n",
      "Step: 60/61, current Epoch loss: 0.0051\n",
      "Epoch: 152, validation loss: 0.0183\n",
      "Epoch 153 / 200\n",
      "----------\n",
      "Step: 60/61, current Epoch loss: 0.0050\n",
      "Epoch: 153, validation loss: 0.0260\n",
      "Epoch 154 / 200\n",
      "----------\n",
      "Step: 60/61, current Epoch loss: 0.0049\n",
      "Epoch: 154, validation loss: 0.0102\n",
      "Epoch 155 / 200\n",
      "----------\n",
      "Step: 60/61, current Epoch loss: 0.0053\n",
      "Epoch: 155, validation loss: 0.0292\n",
      "Epoch 156 / 200\n",
      "----------\n",
      "Step: 60/61, current Epoch loss: 0.0049\n",
      "Epoch: 156, validation loss: 0.0198\n",
      "Epoch 157 / 200\n",
      "----------\n",
      "Step: 60/61, current Epoch loss: 0.0055\n",
      "Epoch: 157, validation loss: 0.0127\n",
      "Epoch 158 / 200\n",
      "----------\n",
      "Step: 60/61, current Epoch loss: 0.0041\n",
      "Epoch: 158, validation loss: 0.0207\n",
      "Epoch 159 / 200\n",
      "----------\n",
      "Step: 60/61, current Epoch loss: 0.0053\n",
      "Epoch: 159, validation loss: 0.0170\n",
      "Epoch 160 / 200\n",
      "----------\n",
      "Step: 60/61, current Epoch loss: 0.0042\n",
      "Epoch: 160, validation loss: 0.0097\n",
      "Epoch 161 / 200\n",
      "----------\n",
      "Step: 60/61, current Epoch loss: 0.0039\n",
      "Epoch: 161, validation loss: 0.0138\n",
      "Epoch 162 / 200\n",
      "----------\n",
      "Step: 60/61, current Epoch loss: 0.0035\n",
      "Epoch: 162, validation loss: 0.0095\n",
      "Epoch 163 / 200\n",
      "----------\n",
      "Step: 60/61, current Epoch loss: 0.0036\n",
      "Epoch: 163, validation loss: 0.0107\n",
      "Epoch 164 / 200\n",
      "----------\n",
      "Step: 60/61, current Epoch loss: 0.0035\n",
      "Epoch: 164, validation loss: 0.0114\n",
      "Epoch 165 / 200\n",
      "----------\n",
      "Step: 60/61, current Epoch loss: 0.0037\n",
      "Epoch: 165, validation loss: 0.0111\n",
      "Epoch 166 / 200\n",
      "----------\n",
      "Step: 60/61, current Epoch loss: 0.0038\n",
      "Epoch: 166, validation loss: 0.0122\n",
      "Epoch 167 / 200\n",
      "----------\n",
      "Step: 60/61, current Epoch loss: 0.0039\n",
      "Epoch: 167, validation loss: 0.0150\n",
      "Epoch 168 / 200\n",
      "----------\n",
      "Step: 60/61, current Epoch loss: 0.0042\n",
      "Epoch: 168, validation loss: 0.0139\n",
      "Epoch 169 / 200\n",
      "----------\n",
      "Step: 60/61, current Epoch loss: 0.0043\n",
      "Epoch: 169, validation loss: 0.0156\n",
      "Epoch 170 / 200\n",
      "----------\n",
      "Step: 60/61, current Epoch loss: 0.0046\n",
      "Epoch: 170, validation loss: 0.0181\n",
      "Epoch 171 / 200\n",
      "----------\n",
      "Step: 60/61, current Epoch loss: 0.0046\n",
      "Epoch: 171, validation loss: 0.0140\n",
      "Epoch 172 / 200\n",
      "----------\n",
      "Step: 60/61, current Epoch loss: 0.0051\n",
      "Epoch: 172, validation loss: 0.0200\n",
      "Epoch 173 / 200\n",
      "----------\n",
      "Step: 60/61, current Epoch loss: 0.0046\n",
      "Epoch: 173, validation loss: 0.0170\n",
      "Epoch 174 / 200\n",
      "----------\n",
      "Step: 60/61, current Epoch loss: 0.0053\n",
      "Epoch: 174, validation loss: 0.0191\n",
      "Epoch 175 / 200\n",
      "----------\n",
      "Step: 60/61, current Epoch loss: 0.0045\n",
      "Epoch: 175, validation loss: 0.0165\n",
      "Epoch 176 / 200\n",
      "----------\n",
      "Step: 60/61, current Epoch loss: 0.0040\n",
      "Epoch: 176, validation loss: 0.0147\n",
      "Epoch 177 / 200\n",
      "----------\n",
      "Step: 60/61, current Epoch loss: 0.0038\n",
      "Epoch: 177, validation loss: 0.0122\n",
      "Epoch 178 / 200\n",
      "----------\n",
      "Step: 60/61, current Epoch loss: 0.0036\n",
      "Epoch: 178, validation loss: 0.0136\n",
      "Epoch 179 / 200\n",
      "----------\n",
      "Step: 60/61, current Epoch loss: 0.0041\n",
      "Epoch: 179, validation loss: 0.0132\n",
      "Epoch 180 / 200\n",
      "----------\n",
      "Step: 60/61, current Epoch loss: 0.0039\n",
      "Epoch: 180, validation loss: 0.0120\n",
      "Epoch 181 / 200\n",
      "----------\n",
      "Step: 60/61, current Epoch loss: 0.0039\n",
      "Epoch: 181, validation loss: 0.0110\n",
      "Epoch 182 / 200\n",
      "----------\n",
      "Step: 60/61, current Epoch loss: 0.0041\n",
      "Epoch: 182, validation loss: 0.0107\n",
      "Epoch 183 / 200\n",
      "----------\n",
      "Step: 60/61, current Epoch loss: 0.0041\n",
      "Epoch: 183, validation loss: 0.0104\n",
      "Epoch 184 / 200\n",
      "----------\n",
      "Step: 60/61, current Epoch loss: 0.0044\n",
      "Epoch: 184, validation loss: 0.0109\n",
      "Epoch 185 / 200\n",
      "----------\n",
      "Step: 60/61, current Epoch loss: 0.0036\n",
      "Epoch: 185, validation loss: 0.0182\n",
      "Epoch 186 / 200\n",
      "----------\n",
      "Step: 60/61, current Epoch loss: 0.0044\n",
      "Epoch: 186, validation loss: 0.0113\n",
      "Epoch 187 / 200\n",
      "----------\n",
      "Step: 60/61, current Epoch loss: 0.0039\n",
      "Epoch: 187, validation loss: 0.0155\n",
      "Epoch 188 / 200\n",
      "----------\n",
      "Step: 60/61, current Epoch loss: 0.0038\n",
      "Epoch: 188, validation loss: 0.0098\n",
      "Epoch 189 / 200\n",
      "----------\n",
      "Step: 60/61, current Epoch loss: 0.0039\n",
      "Epoch: 189, validation loss: 0.0102\n",
      "Epoch 190 / 200\n",
      "----------\n",
      "Step: 60/61, current Epoch loss: 0.0040\n",
      "Epoch: 190, validation loss: 0.0120\n",
      "Epoch 191 / 200\n",
      "----------\n",
      "Step: 60/61, current Epoch loss: 0.0036\n",
      "Epoch: 191, validation loss: 0.0088\n",
      "Epoch 192 / 200\n",
      "----------\n",
      "Step: 60/61, current Epoch loss: 0.0036\n",
      "Epoch: 192, validation loss: 0.0161\n",
      "Epoch 193 / 200\n",
      "----------\n",
      "Step: 60/61, current Epoch loss: 0.0040\n",
      "Epoch: 193, validation loss: 0.0132\n",
      "Epoch 194 / 200\n",
      "----------\n",
      "Step: 60/61, current Epoch loss: 0.0037\n",
      "Epoch: 194, validation loss: 0.0103\n",
      "Epoch 195 / 200\n",
      "----------\n",
      "Step: 60/61, current Epoch loss: 0.0043\n",
      "Epoch: 195, validation loss: 0.0072\n",
      "Epoch 196 / 200\n",
      "----------\n",
      "Step: 60/61, current Epoch loss: 0.0046\n",
      "Epoch: 196, validation loss: 0.0128\n",
      "Epoch 197 / 200\n",
      "----------\n",
      "Step: 60/61, current Epoch loss: 0.0055\n",
      "Epoch: 197, validation loss: 0.0170\n",
      "Epoch 198 / 200\n",
      "----------\n",
      "Step: 60/61, current Epoch loss: 0.0069\n",
      "Epoch: 198, validation loss: 0.0057\n",
      "Epoch 199 / 200\n",
      "----------\n",
      "Step: 60/61, current Epoch loss: 0.0043\n",
      "Epoch: 199, validation loss: 0.0063\n",
      "Epoch 200 / 200\n",
      "----------\n",
      "Step: 60/61, current Epoch loss: 0.0029\n",
      "Epoch: 200, validation loss: 0.0070\n"
     ]
    }
   ],
   "source": [
    "losses = train_scratch_model(model=model, train_loader=train_loader, val_loader=val_loader, loss_function=torch.nn.MSELoss(size_average=True), optim=optimizer, epochs=NUM_EPOCHS, device=device, scheduler=scheduler, \\\n",
    "    start_decay=START_DECAY_EPOCH)"
   ]
  },
  {
   "cell_type": "markdown",
   "metadata": {},
   "source": [
    "# Notes \n",
    "After increasing the learning rate and de-coupling the output layer from the original lstm neural network we see performance boosts that get the LSTM to actually learn. The RNN still seems to outperform the LSTM on this task, but such short window inputs are not where LSTMs thrive. They thrive when they can capture long term dependencies that RNNs cannot. We will be exploring this idea further in the future. \n",
    "\n",
    "Initially, the prediction test curve appeared flat. My network produced a curve with a roughly correct \"shape\" but was off by orders of magnitude in terms of scaling, making it look flat when compared to the target output. Continued training didn't help; it seemed to plateau.\n",
    "\n",
    "Normalizing the data solves this problem. "
   ]
  },
  {
   "cell_type": "code",
   "execution_count": null,
   "metadata": {},
   "outputs": [
    {
     "data": {
      "image/png": "[encoded data removed]",
      "text/plain": [
       "<Figure size 640x480 with 1 Axes>"
      ]
     },
     "metadata": {},
     "output_type": "display_data"
    }
   ],
   "source": [
    "import matplotlib.pyplot as plt\n",
    "plt.plot(losses)\n",
    "plt.show()"
   ]
  },
  {
   "cell_type": "code",
   "execution_count": null,
   "metadata": {},
   "outputs": [
    {
     "data": {
      "application/vnd.plotly.v1+json": {
       "config": {
        "plotlyServerURL": "https://plot.ly"
       },
       "data": [
        {
         "mode": "lines+markers",
         "name": "Train",
         "type": "scatter",
         "x": [
          0,
          1,
          2,
          3,
          4,
          5,
          6,
          7,
          8,
          9,
          10,
          11,
          12,
          13,
          14,
          15,
          16,
          17,
          18,
          19,
          20,
          21,
          22,
          23,
          24,
          25,
          26,
          27,
          28,
          29,
          30,
          31,
          32,
          33,
          34,
          35,
          36,
          37,
          38,
          39,
          40,
          41,
          42,
          43,
          44,
          45,
          46,
          47,
          48,
          49,
          50,
          51,
          52,
          53,
          54,
          55,
          56,
          57,
          58,
          59,
          60,
          61,
          62,
          63,
          64,
          65,
          66,
          67,
          68,
          69,
          70,
          71,
          72,
          73,
          74,
          75,
          76,
          77,
          78,
          79,
          80,
          81,
          82,
          83,
          84,
          85,
          86,
          87,
          88,
          89,
          90,
          91,
          92,
          93,
          94,
          95,
          96,
          97,
          98,
          99,
          100,
          101,
          102,
          103,
          104,
          105,
          106,
          107,
          108,
          109,
          110,
          111,
          112,
          113,
          114,
          115,
          116,
          117,
          118,
          119,
          120,
          121,
          122,
          123,
          124,
          125,
          126,
          127,
          128,
          129,
          130,
          131,
          132,
          133,
          134,
          135,
          136,
          137,
          138,
          139,
          140,
          141,
          142,
          143,
          144,
          145,
          146,
          147,
          148,
          149,
          150,
          151,
          152,
          153,
          154,
          155,
          156,
          157,
          158,
          159,
          160,
          161,
          162,
          163,
          164,
          165,
          166,
          167,
          168,
          169,
          170,
          171,
          172,
          173,
          174,
          175,
          176,
          177,
          178,
          179,
          180,
          181,
          182,
          183,
          184,
          185,
          186,
          187,
          188,
          189,
          190,
          191,
          192,
          193,
          194,
          195,
          196,
          197,
          198,
          199
         ],
         "y": [
          0.3089744005332856,
          0.10277754656272009,
          0.03220393233738529,
          0.011257513824966736,
          0.029458646260900424,
          0.00671234706484635,
          0.004848294147329095,
          0.004299828451379047,
          0.0056009389993657045,
          0.006592552975052968,
          0.010076666682531746,
          0.013981422585978483,
          0.01584014785087978,
          0.013137590745463968,
          0.011991678450916273,
          0.00820105130939434,
          0.008072947565233335,
          0.0068515726394252855,
          0.006822897782937313,
          0.006103524146601558,
          0.006520608594776907,
          0.00701375902814713,
          0.0072386298522663615,
          0.007309801508381497,
          0.007310842504375614,
          0.007310125358344521,
          0.0074050280367373485,
          0.007552889458990345,
          0.007599679591658059,
          0.007543861303323259,
          0.007487424768623896,
          0.007433819980845632,
          0.00733150433661649,
          0.007195212343261422,
          0.007071502811353033,
          0.007001168616019034,
          0.006987436950051536,
          0.007007373493979685,
          0.007026404099209079,
          0.007015208216519871,
          0.006969370345662658,
          0.00690437184481804,
          0.0068359675686224365,
          0.006778108398430049,
          0.006730309378569169,
          0.00669733899703715,
          0.006663653952030776,
          0.006644183614116628,
          0.006597567691157261,
          0.006592673367413227,
          0.006526395951611145,
          0.008701515023615988,
          0.009884527566221853,
          0.010405758131916324,
          0.008946061058668419,
          0.006014389628156399,
          0.004701853437290992,
          0.004341324477960976,
          0.005061351581146786,
          0.005284999018961874,
          0.00516844545151495,
          0.006071937125913488,
          0.005901893306872808,
          0.00614739439576321,
          0.006121707403993545,
          0.005946400312435192,
          0.005934920001891442,
          0.0057362675603750786,
          0.005659149655063326,
          0.005568394595563101,
          0.0055195613473188136,
          0.005512176975995923,
          0.005524644725664984,
          0.005550655452437544,
          0.005559905839133231,
          0.005577538832343029,
          0.005671371322629663,
          0.006082499937231963,
          0.006164992295089178,
          0.005375485173620594,
          0.005326100785168819,
          0.00586250056658173,
          0.00544713659764966,
          0.006486617868843799,
          0.005540307157207281,
          0.0055530622834339734,
          0.0054603845501939455,
          0.005061343870086906,
          0.005831516224619312,
          0.005469880148302764,
          0.005753229872789234,
          0.004503130773082375,
          0.005613478505498885,
          0.004552153723974091,
          0.004703028275980614,
          0.00521759639280693,
          0.004232683617253012,
          0.004541634172589208,
          0.004368262455197207,
          0.0049635959687293505,
          0.004570223407063168,
          0.005914538878035576,
          0.005478971954532123,
          0.00786560089715446,
          0.00961136607026371,
          0.013132238110605007,
          0.014517487736884504,
          0.0033880654135524917,
          0.004491454082502362,
          0.005465362404356711,
          0.005660991944023408,
          0.0054028894732861465,
          0.0051037500699749215,
          0.004941173861152492,
          0.004365961496174956,
          0.0038862277132769426,
          0.0037791422383937363,
          0.0036797676400359097,
          0.003364003341024121,
          0.003047019465399596,
          0.00303022376804923,
          0.003589645058188277,
          0.004220995470920267,
          0.004560437478357926,
          0.004516622649680358,
          0.004142049721849617,
          0.004162169008244139,
          0.004769214199041016,
          0.005270845995983109,
          0.006355105099889139,
          0.006786977988667786,
          0.00592081846940952,
          0.006701074945158325,
          0.004359879029410271,
          0.005805157794384286,
          0.004640138138105006,
          0.004061694255506154,
          0.003588129505321073,
          0.0034344445909179435,
          0.0033137380863384656,
          0.0032582247915949364,
          0.0032760677320766264,
          0.003354611635829012,
          0.0035128407578061643,
          0.0037295213497903507,
          0.004021358661702834,
          0.004367234454548452,
          0.004750148237508256,
          0.005102048352515946,
          0.005321470115935274,
          0.005370392418990377,
          0.0050509242913297685,
          0.005030425163082933,
          0.0049156325267783055,
          0.005309503582247998,
          0.004875722539630563,
          0.005536449156837383,
          0.0040862466397811655,
          0.005333634998532943,
          0.004233491107394609,
          0.003914669197790014,
          0.0035431661400555942,
          0.003577395861793775,
          0.0034729133592918517,
          0.003651912567632583,
          0.003833179826809404,
          0.003904293619658953,
          0.0041759953412110916,
          0.00428186131757684,
          0.004579376010224223,
          0.004564760324622815,
          0.005124866138309396,
          0.00455397902939391,
          0.005340705902199261,
          0.004474427180442339,
          0.004009492447949015,
          0.003798149731301237,
          0.0036229556945424216,
          0.004080472067774584,
          0.003937755316049636,
          0.003941132118537401,
          0.004112181550590321,
          0.004068888716574293,
          0.004369964900737007,
          0.0035567328057368288,
          0.004407605761177062,
          0.0038632459084813795,
          0.0038166992303255635,
          0.0038765730782567213,
          0.003953655278504205,
          0.0036352772260822047,
          0.003637164605606813,
          0.003961187506987093,
          0.0036867308808723465,
          0.004279609757456153,
          0.004635339594096876,
          0.00553987423190847,
          0.006861385348020122,
          0.004317965595206866,
          0.002867905137342556
         ]
        }
       ],
       "layout": {
        "template": {
         "data": {
          "bar": [
           {
            "error_x": {
             "color": "#2a3f5f"
            },
            "error_y": {
             "color": "#2a3f5f"
            },
            "marker": {
             "line": {
              "color": "#E5ECF6",
              "width": 0.5
             },
             "pattern": {
              "fillmode": "overlay",
              "size": 10,
              "solidity": 0.2
             }
            },
            "type": "bar"
           }
          ],
          "barpolar": [
           {
            "marker": {
             "line": {
              "color": "#E5ECF6",
              "width": 0.5
             },
             "pattern": {
              "fillmode": "overlay",
              "size": 10,
              "solidity": 0.2
             }
            },
            "type": "barpolar"
           }
          ],
          "carpet": [
           {
            "aaxis": {
             "endlinecolor": "#2a3f5f",
             "gridcolor": "white",
             "linecolor": "white",
             "minorgridcolor": "white",
             "startlinecolor": "#2a3f5f"
            },
            "baxis": {
             "endlinecolor": "#2a3f5f",
             "gridcolor": "white",
             "linecolor": "white",
             "minorgridcolor": "white",
             "startlinecolor": "#2a3f5f"
            },
            "type": "carpet"
           }
          ],
          "choropleth": [
           {
            "colorbar": {
             "outlinewidth": 0,
             "ticks": ""
            },
            "type": "choropleth"
           }
          ],
          "contour": [
           {
            "colorbar": {
             "outlinewidth": 0,
             "ticks": ""
            },
            "colorscale": [
             [
              0,
              "#0d0887"
             ],
             [
              0.1111111111111111,
              "#46039f"
             ],
             [
              0.2222222222222222,
              "#7201a8"
             ],
             [
              0.3333333333333333,
              "#9c179e"
             ],
             [
              0.4444444444444444,
              "#bd3786"
             ],
             [
              0.5555555555555556,
              "#d8576b"
             ],
             [
              0.6666666666666666,
              "#ed7953"
             ],
             [
              0.7777777777777778,
              "#fb9f3a"
             ],
             [
              0.8888888888888888,
              "#fdca26"
             ],
             [
              1,
              "#f0f921"
             ]
            ],
            "type": "contour"
           }
          ],
          "contourcarpet": [
           {
            "colorbar": {
             "outlinewidth": 0,
             "ticks": ""
            },
            "type": "contourcarpet"
           }
          ],
          "heatmap": [
           {
            "colorbar": {
             "outlinewidth": 0,
             "ticks": ""
            },
            "colorscale": [
             [
              0,
              "#0d0887"
             ],
             [
              0.1111111111111111,
              "#46039f"
             ],
             [
              0.2222222222222222,
              "#7201a8"
             ],
             [
              0.3333333333333333,
              "#9c179e"
             ],
             [
              0.4444444444444444,
              "#bd3786"
             ],
             [
              0.5555555555555556,
              "#d8576b"
             ],
             [
              0.6666666666666666,
              "#ed7953"
             ],
             [
              0.7777777777777778,
              "#fb9f3a"
             ],
             [
              0.8888888888888888,
              "#fdca26"
             ],
             [
              1,
              "#f0f921"
             ]
            ],
            "type": "heatmap"
           }
          ],
          "heatmapgl": [
           {
            "colorbar": {
             "outlinewidth": 0,
             "ticks": ""
            },
            "colorscale": [
             [
              0,
              "#0d0887"
             ],
             [
              0.1111111111111111,
              "#46039f"
             ],
             [
              0.2222222222222222,
              "#7201a8"
             ],
             [
              0.3333333333333333,
              "#9c179e"
             ],
             [
              0.4444444444444444,
              "#bd3786"
             ],
             [
              0.5555555555555556,
              "#d8576b"
             ],
             [
              0.6666666666666666,
              "#ed7953"
             ],
             [
              0.7777777777777778,
              "#fb9f3a"
             ],
             [
              0.8888888888888888,
              "#fdca26"
             ],
             [
              1,
              "#f0f921"
             ]
            ],
            "type": "heatmapgl"
           }
          ],
          "histogram": [
           {
            "marker": {
             "pattern": {
              "fillmode": "overlay",
              "size": 10,
              "solidity": 0.2
             }
            },
            "type": "histogram"
           }
          ],
          "histogram2d": [
           {
            "colorbar": {
             "outlinewidth": 0,
             "ticks": ""
            },
            "colorscale": [
             [
              0,
              "#0d0887"
             ],
             [
              0.1111111111111111,
              "#46039f"
             ],
             [
              0.2222222222222222,
              "#7201a8"
             ],
             [
              0.3333333333333333,
              "#9c179e"
             ],
             [
              0.4444444444444444,
              "#bd3786"
             ],
             [
              0.5555555555555556,
              "#d8576b"
             ],
             [
              0.6666666666666666,
              "#ed7953"
             ],
             [
              0.7777777777777778,
              "#fb9f3a"
             ],
             [
              0.8888888888888888,
              "#fdca26"
             ],
             [
              1,
              "#f0f921"
             ]
            ],
            "type": "histogram2d"
           }
          ],
          "histogram2dcontour": [
           {
            "colorbar": {
             "outlinewidth": 0,
             "ticks": ""
            },
            "colorscale": [
             [
              0,
              "#0d0887"
             ],
             [
              0.1111111111111111,
              "#46039f"
             ],
             [
              0.2222222222222222,
              "#7201a8"
             ],
             [
              0.3333333333333333,
              "#9c179e"
             ],
             [
              0.4444444444444444,
              "#bd3786"
             ],
             [
              0.5555555555555556,
              "#d8576b"
             ],
             [
              0.6666666666666666,
              "#ed7953"
             ],
             [
              0.7777777777777778,
              "#fb9f3a"
             ],
             [
              0.8888888888888888,
              "#fdca26"
             ],
             [
              1,
              "#f0f921"
             ]
            ],
            "type": "histogram2dcontour"
           }
          ],
          "mesh3d": [
           {
            "colorbar": {
             "outlinewidth": 0,
             "ticks": ""
            },
            "type": "mesh3d"
           }
          ],
          "parcoords": [
           {
            "line": {
             "colorbar": {
              "outlinewidth": 0,
              "ticks": ""
             }
            },
            "type": "parcoords"
           }
          ],
          "pie": [
           {
            "automargin": true,
            "type": "pie"
           }
          ],
          "scatter": [
           {
            "fillpattern": {
             "fillmode": "overlay",
             "size": 10,
             "solidity": 0.2
            },
            "type": "scatter"
           }
          ],
          "scatter3d": [
           {
            "line": {
             "colorbar": {
              "outlinewidth": 0,
              "ticks": ""
             }
            },
            "marker": {
             "colorbar": {
              "outlinewidth": 0,
              "ticks": ""
             }
            },
            "type": "scatter3d"
           }
          ],
          "scattercarpet": [
           {
            "marker": {
             "colorbar": {
              "outlinewidth": 0,
              "ticks": ""
             }
            },
            "type": "scattercarpet"
           }
          ],
          "scattergeo": [
           {
            "marker": {
             "colorbar": {
              "outlinewidth": 0,
              "ticks": ""
             }
            },
            "type": "scattergeo"
           }
          ],
          "scattergl": [
           {
            "marker": {
             "colorbar": {
              "outlinewidth": 0,
              "ticks": ""
             }
            },
            "type": "scattergl"
           }
          ],
          "scattermapbox": [
           {
            "marker": {
             "colorbar": {
              "outlinewidth": 0,
              "ticks": ""
             }
            },
            "type": "scattermapbox"
           }
          ],
          "scatterpolar": [
           {
            "marker": {
             "colorbar": {
              "outlinewidth": 0,
              "ticks": ""
             }
            },
            "type": "scatterpolar"
           }
          ],
          "scatterpolargl": [
           {
            "marker": {
             "colorbar": {
              "outlinewidth": 0,
              "ticks": ""
             }
            },
            "type": "scatterpolargl"
           }
          ],
          "scatterternary": [
           {
            "marker": {
             "colorbar": {
              "outlinewidth": 0,
              "ticks": ""
             }
            },
            "type": "scatterternary"
           }
          ],
          "surface": [
           {
            "colorbar": {
             "outlinewidth": 0,
             "ticks": ""
            },
            "colorscale": [
             [
              0,
              "#0d0887"
             ],
             [
              0.1111111111111111,
              "#46039f"
             ],
             [
              0.2222222222222222,
              "#7201a8"
             ],
             [
              0.3333333333333333,
              "#9c179e"
             ],
             [
              0.4444444444444444,
              "#bd3786"
             ],
             [
              0.5555555555555556,
              "#d8576b"
             ],
             [
              0.6666666666666666,
              "#ed7953"
             ],
             [
              0.7777777777777778,
              "#fb9f3a"
             ],
             [
              0.8888888888888888,
              "#fdca26"
             ],
             [
              1,
              "#f0f921"
             ]
            ],
            "type": "surface"
           }
          ],
          "table": [
           {
            "cells": {
             "fill": {
              "color": "#EBF0F8"
             },
             "line": {
              "color": "white"
             }
            },
            "header": {
             "fill": {
              "color": "#C8D4E3"
             },
             "line": {
              "color": "white"
             }
            },
            "type": "table"
           }
          ]
         },
         "layout": {
          "annotationdefaults": {
           "arrowcolor": "#2a3f5f",
           "arrowhead": 0,
           "arrowwidth": 1
          },
          "autotypenumbers": "strict",
          "coloraxis": {
           "colorbar": {
            "outlinewidth": 0,
            "ticks": ""
           }
          },
          "colorscale": {
           "diverging": [
            [
             0,
             "#8e0152"
            ],
            [
             0.1,
             "#c51b7d"
            ],
            [
             0.2,
             "#de77ae"
            ],
            [
             0.3,
             "#f1b6da"
            ],
            [
             0.4,
             "#fde0ef"
            ],
            [
             0.5,
             "#f7f7f7"
            ],
            [
             0.6,
             "#e6f5d0"
            ],
            [
             0.7,
             "#b8e186"
            ],
            [
             0.8,
             "#7fbc41"
            ],
            [
             0.9,
             "#4d9221"
            ],
            [
             1,
             "#276419"
            ]
           ],
           "sequential": [
            [
             0,
             "#0d0887"
            ],
            [
             0.1111111111111111,
             "#46039f"
            ],
            [
             0.2222222222222222,
             "#7201a8"
            ],
            [
             0.3333333333333333,
             "#9c179e"
            ],
            [
             0.4444444444444444,
             "#bd3786"
            ],
            [
             0.5555555555555556,
             "#d8576b"
            ],
            [
             0.6666666666666666,
             "#ed7953"
            ],
            [
             0.7777777777777778,
             "#fb9f3a"
            ],
            [
             0.8888888888888888,
             "#fdca26"
            ],
            [
             1,
             "#f0f921"
            ]
           ],
           "sequentialminus": [
            [
             0,
             "#0d0887"
            ],
            [
             0.1111111111111111,
             "#46039f"
            ],
            [
             0.2222222222222222,
             "#7201a8"
            ],
            [
             0.3333333333333333,
             "#9c179e"
            ],
            [
             0.4444444444444444,
             "#bd3786"
            ],
            [
             0.5555555555555556,
             "#d8576b"
            ],
            [
             0.6666666666666666,
             "#ed7953"
            ],
            [
             0.7777777777777778,
             "#fb9f3a"
            ],
            [
             0.8888888888888888,
             "#fdca26"
            ],
            [
             1,
             "#f0f921"
            ]
           ]
          },
          "colorway": [
           "#636efa",
           "#EF553B",
           "#00cc96",
           "#ab63fa",
           "#FFA15A",
           "#19d3f3",
           "#FF6692",
           "#B6E880",
           "#FF97FF",
           "#FECB52"
          ],
          "font": {
           "color": "#2a3f5f"
          },
          "geo": {
           "bgcolor": "white",
           "lakecolor": "white",
           "landcolor": "#E5ECF6",
           "showlakes": true,
           "showland": true,
           "subunitcolor": "white"
          },
          "hoverlabel": {
           "align": "left"
          },
          "hovermode": "closest",
          "mapbox": {
           "style": "light"
          },
          "paper_bgcolor": "white",
          "plot_bgcolor": "#E5ECF6",
          "polar": {
           "angularaxis": {
            "gridcolor": "white",
            "linecolor": "white",
            "ticks": ""
           },
           "bgcolor": "#E5ECF6",
           "radialaxis": {
            "gridcolor": "white",
            "linecolor": "white",
            "ticks": ""
           }
          },
          "scene": {
           "xaxis": {
            "backgroundcolor": "#E5ECF6",
            "gridcolor": "white",
            "gridwidth": 2,
            "linecolor": "white",
            "showbackground": true,
            "ticks": "",
            "zerolinecolor": "white"
           },
           "yaxis": {
            "backgroundcolor": "#E5ECF6",
            "gridcolor": "white",
            "gridwidth": 2,
            "linecolor": "white",
            "showbackground": true,
            "ticks": "",
            "zerolinecolor": "white"
           },
           "zaxis": {
            "backgroundcolor": "#E5ECF6",
            "gridcolor": "white",
            "gridwidth": 2,
            "linecolor": "white",
            "showbackground": true,
            "ticks": "",
            "zerolinecolor": "white"
           }
          },
          "shapedefaults": {
           "line": {
            "color": "#2a3f5f"
           }
          },
          "ternary": {
           "aaxis": {
            "gridcolor": "white",
            "linecolor": "white",
            "ticks": ""
           },
           "baxis": {
            "gridcolor": "white",
            "linecolor": "white",
            "ticks": ""
           },
           "bgcolor": "#E5ECF6",
           "caxis": {
            "gridcolor": "white",
            "linecolor": "white",
            "ticks": ""
           }
          },
          "title": {
           "x": 0.05
          },
          "xaxis": {
           "automargin": true,
           "gridcolor": "white",
           "linecolor": "white",
           "ticks": "",
           "title": {
            "standoff": 15
           },
           "zerolinecolor": "white",
           "zerolinewidth": 2
          },
          "yaxis": {
           "automargin": true,
           "gridcolor": "white",
           "linecolor": "white",
           "ticks": "",
           "title": {
            "standoff": 15
           },
           "zerolinecolor": "white",
           "zerolinewidth": 2
          }
         }
        },
        "title": {
         "text": "Training Loss per Epoch"
        },
        "xaxis": {
         "title": {
          "text": "Epoch"
         }
        },
        "yaxis": {
         "title": {
          "text": "Loss"
         }
        }
       }
      }
     },
     "metadata": {},
     "output_type": "display_data"
    }
   ],
   "source": [
    "import plotly.graph_objects as go\n",
    "epochs = list(range(len(losses)))\n",
    "\n",
    "fig = go.Figure(data=go.Scatter(x=epochs, y=losses, mode='lines+markers', name='Train'))\n",
    "\n",
    "fig.update_layout(title='Training Loss per Epoch',\n",
    "                   xaxis_title='Epoch',\n",
    "                   yaxis_title='Loss')\n",
    "\n",
    "fig.show()"
   ]
  },
  {
   "cell_type": "markdown",
   "metadata": {},
   "source": [
    "## Evaluation"
   ]
  },
  {
   "cell_type": "code",
   "execution_count": null,
   "metadata": {},
   "outputs": [],
   "source": [
    "targets = [] \n",
    "predicted = []\n",
    "\n",
    "model.eval()\n",
    "for i, (x, y) in enumerate(test_loader):\n",
    "        \n",
    "    x = x.to(device)\n",
    "    y = y.to(device)\n",
    "    y_pred = model(x)\n",
    "    predicted.append(y_pred.cpu().detach().numpy())\n",
    "    targets.append(y.cpu().detach().numpy())\n",
    "    "
   ]
  },
  {
   "cell_type": "code",
   "execution_count": null,
   "metadata": {},
   "outputs": [
    {
     "name": "stdout",
     "output_type": "stream",
     "text": [
      "Mean Squared Error (MSE): 0.005572030320763588\n",
      "Root Mean Squared Error (RMSE): 0.07464603334665298\n"
     ]
    }
   ],
   "source": [
    "from sklearn.metrics import mean_squared_error\n",
    "target_long_array = np.concatenate(targets)\n",
    "predicted_long_array = np.concatenate(predicted)\n",
    "\n",
    "mse = mean_squared_error(target_long_array, predicted_long_array)\n",
    "print(f'Mean Squared Error (MSE): {mse}')\n",
    "rmse = np.sqrt(mse)\n",
    "print(f'Root Mean Squared Error (RMSE): {rmse}')"
   ]
  },
  {
   "cell_type": "code",
   "execution_count": null,
   "metadata": {},
   "outputs": [],
   "source": [
    "target_list = target_long_array.tolist()\n",
    "predicted_list = predicted_long_array.tolist()"
   ]
  },
  {
   "cell_type": "code",
   "execution_count": null,
   "metadata": {},
   "outputs": [
    {
     "data": {
      "application/vnd.plotly.v1+json": {
       "config": {
        "plotlyServerURL": "https://plot.ly"
       },
       "data": [
        {
         "mode": "lines+markers",
         "name": "Train",
         "type": "scatter",
         "x": [
          0,
          1,
          2,
          3,
          4,
          5,
          6,
          7,
          8,
          9,
          10,
          11,
          12,
          13,
          14,
          15,
          16,
          17,
          18,
          19,
          20,
          21,
          22,
          23,
          24,
          25,
          26,
          27,
          28,
          29,
          30,
          31,
          32,
          33,
          34,
          35,
          36,
          37,
          38,
          39,
          40,
          41,
          42,
          43,
          44,
          45,
          46,
          47,
          48,
          49,
          50,
          51,
          52,
          53,
          54,
          55,
          56,
          57,
          58,
          59,
          60,
          61,
          62,
          63,
          64,
          65,
          66,
          67,
          68,
          69,
          70,
          71,
          72,
          73,
          74,
          75,
          76,
          77,
          78,
          79,
          80,
          81,
          82,
          83,
          84,
          85,
          86,
          87,
          88,
          89,
          90,
          91,
          92,
          93,
          94,
          95,
          96,
          97,
          98,
          99,
          100,
          101,
          102,
          103,
          104,
          105,
          106,
          107,
          108,
          109,
          110,
          111,
          112,
          113,
          114,
          115,
          116,
          117,
          118,
          119,
          120,
          121,
          122,
          123,
          124,
          125,
          126,
          127,
          128,
          129,
          130,
          131,
          132,
          133,
          134,
          135,
          136,
          137,
          138,
          139,
          140,
          141,
          142,
          143,
          144,
          145,
          146,
          147,
          148,
          149,
          150,
          151,
          152,
          153,
          154,
          155,
          156,
          157,
          158,
          159,
          160,
          161,
          162,
          163,
          164,
          165,
          166,
          167,
          168,
          169,
          170,
          171,
          172,
          173,
          174,
          175,
          176,
          177,
          178,
          179,
          180,
          181,
          182,
          183,
          184,
          185,
          186,
          187,
          188,
          189,
          190,
          191,
          192,
          193,
          194,
          195,
          196,
          197,
          198,
          199,
          200,
          201,
          202,
          203,
          204,
          205,
          206,
          207,
          208,
          209,
          210,
          211,
          212,
          213,
          214,
          215,
          216,
          217,
          218,
          219,
          220,
          221,
          222,
          223,
          224,
          225,
          226,
          227,
          228,
          229,
          230,
          231,
          232,
          233,
          234,
          235,
          236,
          237,
          238,
          239,
          240,
          241,
          242,
          243,
          244,
          245,
          246,
          247,
          248,
          249,
          250,
          251,
          252,
          253,
          254,
          255,
          256,
          257,
          258,
          259,
          260,
          261,
          262,
          263,
          264,
          265,
          266,
          267,
          268,
          269,
          270,
          271,
          272,
          273,
          274,
          275,
          276,
          277,
          278,
          279,
          280,
          281,
          282,
          283,
          284,
          285,
          286,
          287,
          288,
          289,
          290,
          291,
          292,
          293,
          294,
          295,
          296,
          297,
          298,
          299,
          300,
          301,
          302,
          303,
          304,
          305,
          306,
          307,
          308,
          309,
          310,
          311,
          312,
          313,
          314,
          315,
          316,
          317,
          318,
          319,
          320,
          321,
          322,
          323,
          324,
          325,
          326,
          327,
          328,
          329,
          330,
          331,
          332,
          333,
          334,
          335,
          336,
          337,
          338,
          339,
          340,
          341,
          342,
          343,
          344,
          345,
          346,
          347,
          348,
          349,
          350,
          351,
          352,
          353,
          354,
          355,
          356,
          357,
          358,
          359,
          360,
          361,
          362,
          363,
          364,
          365,
          366,
          367,
          368,
          369,
          370,
          371,
          372,
          373,
          374,
          375,
          376,
          377,
          378,
          379,
          380,
          381,
          382,
          383,
          384,
          385,
          386,
          387,
          388,
          389,
          390,
          391,
          392,
          393,
          394,
          395,
          396,
          397,
          398,
          399,
          400,
          401,
          402,
          403,
          404,
          405,
          406,
          407,
          408,
          409,
          410,
          411,
          412,
          413,
          414,
          415,
          416,
          417,
          418,
          419,
          420,
          421,
          422,
          423,
          424,
          425,
          426,
          427,
          428,
          429,
          430,
          431,
          432,
          433,
          434,
          435,
          436,
          437,
          438,
          439,
          440,
          441,
          442,
          443,
          444,
          445,
          446,
          447,
          448,
          449,
          450,
          451,
          452,
          453,
          454,
          455,
          456,
          457,
          458,
          459,
          460,
          461,
          462,
          463,
          464,
          465,
          466,
          467,
          468,
          469,
          470,
          471,
          472,
          473,
          474,
          475,
          476,
          477,
          478,
          479,
          480,
          481,
          482,
          483,
          484,
          485,
          486,
          487,
          488,
          489,
          490,
          491,
          492,
          493,
          494,
          495,
          496,
          497,
          498,
          499,
          500,
          501,
          502,
          503,
          504,
          505,
          506,
          507,
          508,
          509,
          510,
          511,
          512,
          513,
          514,
          515,
          516,
          517,
          518,
          519,
          520,
          521,
          522,
          523,
          524,
          525,
          526,
          527,
          528,
          529,
          530,
          531,
          532,
          533,
          534,
          535,
          536,
          537,
          538,
          539,
          540,
          541,
          542,
          543,
          544,
          545,
          546,
          547,
          548,
          549,
          550,
          551,
          552,
          553,
          554,
          555,
          556,
          557,
          558,
          559,
          560,
          561,
          562,
          563,
          564,
          565,
          566,
          567,
          568,
          569,
          570,
          571,
          572,
          573,
          574,
          575,
          576,
          577,
          578,
          579,
          580,
          581,
          582,
          583,
          584,
          585,
          586,
          587,
          588,
          589,
          590,
          591,
          592,
          593
         ],
         "y": [
          0.23363643884658813,
          0.12522053718566895,
          -0.016455531120300293,
          -0.09263491630554199,
          0.06979066133499146,
          0.13605016469955444,
          0.12491083145141602,
          0.10936659574508667,
          -0.04631531238555908,
          0.01678234338760376,
          0.08012562990188599,
          -0.0030308961868286133,
          0.09116286039352417,
          0.029817044734954834,
          0.059911489486694336,
          0.09490114450454712,
          0.045048534870147705,
          0.09754419326782227,
          0.1256171464920044,
          0.1175912618637085,
          0.0060492753982543945,
          0.061151862144470215,
          0.008098721504211426,
          -0.01221764087677002,
          0.009623825550079346,
          0.041798293590545654,
          -0.038718998432159424,
          -0.048163533210754395,
          0.026109278202056885,
          -0.007458388805389404,
          0.01672595739364624,
          0.14566481113433838,
          0.1423535943031311,
          0.17710459232330322,
          0.24268648028373718,
          0.2426387071609497,
          0.19393932819366455,
          0.14246457815170288,
          0.16079944372177124,
          0.1685146689414978,
          0.18084144592285156,
          0.1446893811225891,
          -0.07848614454269409,
          -0.10451215505599976,
          -0.005016744136810303,
          0.02810847759246826,
          0.0003317594528198242,
          -0.15981554985046387,
          -0.09915822744369507,
          -0.09399497509002686,
          -0.10213512182235718,
          -0.09756672382354736,
          -0.05634117126464844,
          -0.06245940923690796,
          -0.11550569534301758,
          -0.1649358868598938,
          -0.2430485486984253,
          -0.2372153401374817,
          -0.2417791485786438,
          -0.291334331035614,
          -0.3296441435813904,
          -0.27714627981185913,
          -0.2678672671318054,
          -0.2146838903427124,
          -0.19122618436813354,
          -0.14568454027175903,
          -0.1495223045349121,
          -0.14915192127227783,
          -0.16734963655471802,
          -0.15299957990646362,
          -0.12316340208053589,
          -0.06958359479904175,
          -0.11580288410186768,
          -0.14450699090957642,
          -0.10040938854217529,
          -0.12042707204818726,
          -0.16442906856536865,
          -0.20595026016235352,
          -0.19945818185806274,
          -0.2546389698982239,
          -0.21868985891342163,
          -0.16346818208694458,
          -0.12049740552902222,
          -0.1952388882637024,
          -0.25598448514938354,
          -0.23690837621688843,
          -0.16013681888580322,
          -0.13956063985824585,
          -0.1529591679573059,
          -0.17693132162094116,
          -0.11568689346313477,
          -0.12437671422958374,
          -0.17642825841903687,
          -0.2258908748626709,
          -0.22617578506469727,
          -0.2389776110649109,
          -0.2990819811820984,
          -0.33503955602645874,
          -0.2903904318809509,
          -0.2928411364555359,
          -0.3414538502693176,
          -0.2984166741371155,
          -0.37294501066207886,
          -0.42932790517807007,
          -0.5839332938194275,
          -0.5748726725578308,
          -0.572378933429718,
          -0.5760758519172668,
          -0.5631479620933533,
          -0.6083160042762756,
          -0.5767465233802795,
          -0.5026953816413879,
          -0.5024037957191467,
          -0.5615653395652771,
          -0.5137415528297424,
          -0.4272257685661316,
          -0.40230756998062134,
          -0.4545890688896179,
          -0.5407498478889465,
          -0.6426953673362732,
          -0.702345073223114,
          -0.6114115118980408,
          -0.5514952540397644,
          -0.46104997396469116,
          -0.3022739291191101,
          -0.28646379709243774,
          -0.27701467275619507,
          -0.322722852230072,
          -0.3072754740715027,
          -0.25227850675582886,
          -0.3207562565803528,
          -0.3530413508415222,
          -0.2584293484687805,
          -0.19815874099731445,
          -0.1596832275390625,
          -0.16666555404663086,
          -0.10436731576919556,
          -0.13560998439788818,
          -0.09903419017791748,
          -0.10476875305175781,
          -0.04240262508392334,
          -0.02979356050491333,
          -0.027914106845855713,
          0.023145854473114014,
          0.09074658155441284,
          0.09121513366699219,
          0.13335680961608887,
          0.11331510543823242,
          0.026496589183807373,
          0.10633039474487305,
          0.12563556432724,
          0.15511900186538696,
          0.12290513515472412,
          0.2140333354473114,
          0.2478901743888855,
          0.23079517483711243,
          0.1569156050682068,
          0.15817147493362427,
          0.10894596576690674,
          0.14813083410263062,
          0.14752423763275146,
          0.1599665880203247,
          0.20700448751449585,
          0.20372891426086426,
          0.21873703598976135,
          0.24207836389541626,
          -0.00045222043991088867,
          0.04140406847000122,
          0.1462816596031189,
          0.13395285606384277,
          0.1401020884513855,
          0.1418464183807373,
          0.18301492929458618,
          0.07937872409820557,
          0.04121285676956177,
          0.026042580604553223,
          -0.00003141164779663086,
          0.006229102611541748,
          0.07184809446334839,
          0.09775054454803467,
          0.09654462337493896,
          0.17184031009674072,
          0.13950693607330322,
          0.13138669729232788,
          0.09500116109848022,
          0.15226787328720093,
          0.10989618301391602,
          0.0891876220703125,
          0.01877915859222412,
          0.08765524625778198,
          0.07860839366912842,
          0.12500464916229248,
          0.2250327467918396,
          0.24886533617973328,
          0.2559773921966553,
          0.2783748209476471,
          0.23186111450195312,
          0.26663678884506226,
          0.24603450298309326,
          0.24319127202033997,
          0.26252853870391846,
          0.28435957431793213,
          0.2646249234676361,
          0.22974729537963867,
          0.19610685110092163,
          0.19241851568222046,
          0.18427914381027222,
          0.1984887719154358,
          0.2275201678276062,
          0.2778318524360657,
          0.28939616680145264,
          0.2479528784751892,
          0.3266410231590271,
          0.06985551118850708,
          -0.03350919485092163,
          0.031448304653167725,
          0.12766605615615845,
          0.23360487818717957,
          0.24982431530952454,
          0.21889075636863708,
          0.2316417396068573,
          0.23991245031356812,
          0.3050587773323059,
          0.32943442463874817,
          0.38242024183273315,
          0.406993567943573,
          0.4803239405155182,
          0.4467809796333313,
          0.4456435441970825,
          0.4329521059989929,
          0.498799592256546,
          0.46164602041244507,
          0.5185214877128601,
          0.5314829349517822,
          0.5084037780761719,
          0.49736809730529785,
          0.48366713523864746,
          0.462512731552124,
          0.4941238760948181,
          0.46559181809425354,
          0.46975475549697876,
          0.49852752685546875,
          0.5626444220542908,
          0.5057249069213867,
          0.4950568377971649,
          0.5068683624267578,
          0.5582250356674194,
          0.5009243488311768,
          0.4998892545700073,
          0.4627515375614166,
          0.45944398641586304,
          0.4930536150932312,
          0.4499835968017578,
          0.449851393699646,
          0.45841699838638306,
          0.42005157470703125,
          0.40888574719429016,
          0.4008600413799286,
          0.44923514127731323,
          0.43683922290802,
          0.41837018728256226,
          0.4392271041870117,
          0.4385879933834076,
          0.4658198654651642,
          0.5067488551139832,
          0.4125281572341919,
          0.31108954548835754,
          0.40393584966659546,
          0.3283335566520691,
          0.28014084696769714,
          0.3298129737377167,
          0.2750668227672577,
          0.3095417320728302,
          0.2935534715652466,
          0.32958412170410156,
          0.3453792929649353,
          0.3065643608570099,
          0.2735954821109772,
          0.36736005544662476,
          0.4160851240158081,
          0.40575364232063293,
          0.4240036904811859,
          0.3750354051589966,
          0.3397428095340729,
          0.3663036823272705,
          0.36231446266174316,
          0.32561540603637695,
          0.3705381155014038,
          0.2981969714164734,
          0.28531330823898315,
          0.2678675353527069,
          0.2951924204826355,
          0.3060661554336548,
          0.18373620510101318,
          0.19765615463256836,
          0.2066841721534729,
          0.1560174822807312,
          0.18446260690689087,
          0.1935136318206787,
          0.2232811152935028,
          0.2702102065086365,
          0.24360573291778564,
          0.27523332834243774,
          0.24246945977210999,
          0.2163529396057129,
          0.23168545961380005,
          0.23589017987251282,
          0.3435402810573578,
          0.32109612226486206,
          0.30499547719955444,
          0.4849194884300232,
          0.5106282234191895,
          0.3876951336860657,
          0.4051726460456848,
          0.4281807541847229,
          0.44947129487991333,
          0.46857231855392456,
          0.5459542870521545,
          0.5317833423614502,
          0.5010700225830078,
          0.5416783690452576,
          0.5876882672309875,
          0.5463466644287109,
          0.5012093186378479,
          0.4292728900909424,
          0.4466315507888794,
          0.44677668809890747,
          0.46618223190307617,
          0.6094781756401062,
          0.6201345920562744,
          0.6446104049682617,
          0.5932115316390991,
          0.6962486505508423,
          0.6943134069442749,
          0.666384220123291,
          0.6225450038909912,
          0.6293336153030396,
          0.666202187538147,
          0.6557022333145142,
          0.643369197845459,
          0.6326940059661865,
          0.6488708853721619,
          0.6184079647064209,
          0.6327806115150452,
          0.614675760269165,
          0.6545860767364502,
          0.72263503074646,
          0.6933975219726562,
          0.7142260670661926,
          0.6487122774124146,
          0.5835219621658325,
          0.6707335710525513,
          0.6815329790115356,
          0.6521517634391785,
          0.6680932641029358,
          0.6337467432022095,
          0.6352151036262512,
          0.7631972432136536,
          0.7713189721107483,
          0.9216834306716919,
          0.9847711324691772,
          0.9676282405853271,
          0.9087275862693787,
          0.8596271276473999,
          0.8264018297195435,
          0.8292287588119507,
          0.8431856632232666,
          0.8795868158340454,
          0.8807072639465332,
          0.9530617594718933,
          0.8844106197357178,
          0.9105221033096313,
          0.9632785320281982,
          0.9754248857498169,
          0.9928936958312988,
          1.0351022481918335,
          1.02055025100708,
          0.9962724447250366,
          0.9857170581817627,
          1.010504126548767,
          1.0214521884918213,
          1.0122239589691162,
          0.9623454809188843,
          0.9754601716995239,
          1.0313055515289307,
          0.991439938545227,
          0.9797862768173218,
          0.992119550704956,
          0.9895129203796387,
          0.9650496244430542,
          0.9077214598655701,
          0.9260711669921875,
          0.8927731513977051,
          0.871504545211792,
          0.8752454519271851,
          0.914867639541626,
          0.872252881526947,
          0.8687554001808167,
          0.8216097354888916,
          0.8459491729736328,
          0.8530948162078857,
          0.821198046207428,
          0.819135308265686,
          0.8448633551597595,
          0.8279942870140076,
          0.8223997354507446,
          0.833534300327301,
          0.8448292016983032,
          0.843715488910675,
          0.7914261817932129,
          0.7801149487495422,
          0.7782096862792969,
          0.7521775364875793,
          0.7350006103515625,
          0.7413021326065063,
          0.7106258869171143,
          0.7568390965461731,
          0.728008508682251,
          0.4905703365802765,
          0.5041967630386353,
          0.46631911396980286,
          0.4786849915981293,
          0.4694983959197998,
          0.45761674642562866,
          0.4636039733886719,
          0.4611702561378479,
          0.41278088092803955,
          0.42378515005111694,
          0.4098246693611145,
          0.4263058304786682,
          0.3014304041862488,
          0.2441352903842926,
          0.21946704387664795,
          0.20041555166244507,
          0.18706226348876953,
          0.1797734498977661,
          0.21375352144241333,
          0.28027158975601196,
          0.19444435834884644,
          0.18366199731826782,
          0.22138863801956177,
          0.24621334671974182,
          0.22671523690223694,
          0.23937875032424927,
          0.2598102390766144,
          0.23658627271652222,
          0.2118358016014099,
          0.24146711826324463,
          0.24370962381362915,
          0.22478216886520386,
          0.23531082272529602,
          0.2338024377822876,
          0.19101166725158691,
          0.22687110304832458,
          0.2911248207092285,
          0.32578107714653015,
          0.29002779722213745,
          0.2703801095485687,
          0.28384947776794434,
          0.3248385787010193,
          0.3059857189655304,
          0.30865800380706787,
          0.26918357610702515,
          0.2912074625492096,
          0.28240787982940674,
          0.3210022747516632,
          0.30301597714424133,
          0.32104259729385376,
          0.2798881530761719,
          0.271906316280365,
          0.33045703172683716,
          0.2685548663139343,
          0.22862768173217773,
          0.24718600511550903,
          0.26526737213134766,
          0.26000022888183594,
          0.2752092778682709,
          0.27093470096588135,
          0.2898623049259186,
          0.24876034259796143,
          0.28198888897895813,
          0.09304183721542358,
          0.08969366550445557,
          0.07724624872207642,
          0.05555379390716553,
          0.06272780895233154,
          0.03936338424682617,
          0.029740512371063232,
          0.006070375442504883,
          0.017065763473510742,
          0.03685891628265381,
          0.013013899326324463,
          0.02462947368621826,
          0.031323254108428955,
          -0.017276108264923096,
          -0.058709800243377686,
          -0.06701862812042236,
          -0.06056791543960571,
          -0.057722270488739014,
          -0.044264137744903564,
          -0.05200529098510742,
          -0.04162377119064331,
          -0.09300309419631958,
          -0.12359625101089478,
          -0.10363656282424927,
          -0.07957005500793457,
          -0.046564459800720215,
          -0.02541452646255493,
          -0.0052117109298706055,
          -0.04371994733810425,
          -0.028041839599609375,
          -0.042547404766082764,
          -0.0277940034866333,
          0.0037914514541625977,
          -0.025912940502166748,
          -0.006663620471954346,
          -0.032662928104400635,
          -0.04619240760803223,
          0.02474576234817505,
          0.05441081523895264,
          0.05893886089324951,
          0.04031294584274292,
          0.01629638671875,
          0.009380221366882324,
          0.007822155952453613,
          0.05380672216415405,
          0.03693819046020508,
          0.030096828937530518,
          0.05031770467758179,
          0.07225483655929565,
          0.04525560140609741,
          0.04253804683685303,
          0.0258902907371521,
          0.07419133186340332,
          0.07984602451324463,
          0.06923162937164307,
          0.07347023487091064,
          0.06629735231399536,
          0.09427881240844727,
          0.12879151105880737,
          0.11400264501571655,
          0.0797719955444336,
          0.0805472731590271,
          0.07521337270736694,
          0.06870418787002563,
          0.4406699240207672,
          0.520875871181488,
          0.5631649494171143,
          0.4159230887889862,
          0.2836151421070099,
          0.2341439127922058,
          0.26144251227378845,
          0.2742938697338104,
          0.2983524203300476,
          0.2874288558959961,
          0.2835519313812256,
          0.259454607963562,
          0.20462334156036377,
          0.18430030345916748,
          0.20364421606063843,
          0.21368670463562012,
          0.17603331804275513,
          0.1400194764137268,
          0.11689752340316772,
          0.13414913415908813,
          0.08451253175735474,
          0.14434891939163208,
          0.1405457854270935,
          0.1873798370361328,
          0.230015367269516,
          0.22175180912017822,
          0.21913793683052063,
          0.2214019000530243,
          0.23803776502609253,
          0.27339282631874084,
          0.2851037383079529,
          0.30818068981170654,
          0.36158090829849243,
          0.3181121349334717,
          0.27461302280426025,
          0.259521484375,
          0.30529358983039856,
          0.32620757818222046,
          0.3693201541900635,
          0.27280229330062866,
          0.2749887704849243,
          0.22817498445510864,
          0.26174014806747437,
          0.25990331172943115,
          0.2526912987232208,
          0.20675873756408691,
          0.23761224746704102,
          0.2487010955810547,
          0.2596476674079895
         ]
        }
       ],
       "layout": {
        "template": {
         "data": {
          "bar": [
           {
            "error_x": {
             "color": "#2a3f5f"
            },
            "error_y": {
             "color": "#2a3f5f"
            },
            "marker": {
             "line": {
              "color": "#E5ECF6",
              "width": 0.5
             },
             "pattern": {
              "fillmode": "overlay",
              "size": 10,
              "solidity": 0.2
             }
            },
            "type": "bar"
           }
          ],
          "barpolar": [
           {
            "marker": {
             "line": {
              "color": "#E5ECF6",
              "width": 0.5
             },
             "pattern": {
              "fillmode": "overlay",
              "size": 10,
              "solidity": 0.2
             }
            },
            "type": "barpolar"
           }
          ],
          "carpet": [
           {
            "aaxis": {
             "endlinecolor": "#2a3f5f",
             "gridcolor": "white",
             "linecolor": "white",
             "minorgridcolor": "white",
             "startlinecolor": "#2a3f5f"
            },
            "baxis": {
             "endlinecolor": "#2a3f5f",
             "gridcolor": "white",
             "linecolor": "white",
             "minorgridcolor": "white",
             "startlinecolor": "#2a3f5f"
            },
            "type": "carpet"
           }
          ],
          "choropleth": [
           {
            "colorbar": {
             "outlinewidth": 0,
             "ticks": ""
            },
            "type": "choropleth"
           }
          ],
          "contour": [
           {
            "colorbar": {
             "outlinewidth": 0,
             "ticks": ""
            },
            "colorscale": [
             [
              0,
              "#0d0887"
             ],
             [
              0.1111111111111111,
              "#46039f"
             ],
             [
              0.2222222222222222,
              "#7201a8"
             ],
             [
              0.3333333333333333,
              "#9c179e"
             ],
             [
              0.4444444444444444,
              "#bd3786"
             ],
             [
              0.5555555555555556,
              "#d8576b"
             ],
             [
              0.6666666666666666,
              "#ed7953"
             ],
             [
              0.7777777777777778,
              "#fb9f3a"
             ],
             [
              0.8888888888888888,
              "#fdca26"
             ],
             [
              1,
              "#f0f921"
             ]
            ],
            "type": "contour"
           }
          ],
          "contourcarpet": [
           {
            "colorbar": {
             "outlinewidth": 0,
             "ticks": ""
            },
            "type": "contourcarpet"
           }
          ],
          "heatmap": [
           {
            "colorbar": {
             "outlinewidth": 0,
             "ticks": ""
            },
            "colorscale": [
             [
              0,
              "#0d0887"
             ],
             [
              0.1111111111111111,
              "#46039f"
             ],
             [
              0.2222222222222222,
              "#7201a8"
             ],
             [
              0.3333333333333333,
              "#9c179e"
             ],
             [
              0.4444444444444444,
              "#bd3786"
             ],
             [
              0.5555555555555556,
              "#d8576b"
             ],
             [
              0.6666666666666666,
              "#ed7953"
             ],
             [
              0.7777777777777778,
              "#fb9f3a"
             ],
             [
              0.8888888888888888,
              "#fdca26"
             ],
             [
              1,
              "#f0f921"
             ]
            ],
            "type": "heatmap"
           }
          ],
          "heatmapgl": [
           {
            "colorbar": {
             "outlinewidth": 0,
             "ticks": ""
            },
            "colorscale": [
             [
              0,
              "#0d0887"
             ],
             [
              0.1111111111111111,
              "#46039f"
             ],
             [
              0.2222222222222222,
              "#7201a8"
             ],
             [
              0.3333333333333333,
              "#9c179e"
             ],
             [
              0.4444444444444444,
              "#bd3786"
             ],
             [
              0.5555555555555556,
              "#d8576b"
             ],
             [
              0.6666666666666666,
              "#ed7953"
             ],
             [
              0.7777777777777778,
              "#fb9f3a"
             ],
             [
              0.8888888888888888,
              "#fdca26"
             ],
             [
              1,
              "#f0f921"
             ]
            ],
            "type": "heatmapgl"
           }
          ],
          "histogram": [
           {
            "marker": {
             "pattern": {
              "fillmode": "overlay",
              "size": 10,
              "solidity": 0.2
             }
            },
            "type": "histogram"
           }
          ],
          "histogram2d": [
           {
            "colorbar": {
             "outlinewidth": 0,
             "ticks": ""
            },
            "colorscale": [
             [
              0,
              "#0d0887"
             ],
             [
              0.1111111111111111,
              "#46039f"
             ],
             [
              0.2222222222222222,
              "#7201a8"
             ],
             [
              0.3333333333333333,
              "#9c179e"
             ],
             [
              0.4444444444444444,
              "#bd3786"
             ],
             [
              0.5555555555555556,
              "#d8576b"
             ],
             [
              0.6666666666666666,
              "#ed7953"
             ],
             [
              0.7777777777777778,
              "#fb9f3a"
             ],
             [
              0.8888888888888888,
              "#fdca26"
             ],
             [
              1,
              "#f0f921"
             ]
            ],
            "type": "histogram2d"
           }
          ],
          "histogram2dcontour": [
           {
            "colorbar": {
             "outlinewidth": 0,
             "ticks": ""
            },
            "colorscale": [
             [
              0,
              "#0d0887"
             ],
             [
              0.1111111111111111,
              "#46039f"
             ],
             [
              0.2222222222222222,
              "#7201a8"
             ],
             [
              0.3333333333333333,
              "#9c179e"
             ],
             [
              0.4444444444444444,
              "#bd3786"
             ],
             [
              0.5555555555555556,
              "#d8576b"
             ],
             [
              0.6666666666666666,
              "#ed7953"
             ],
             [
              0.7777777777777778,
              "#fb9f3a"
             ],
             [
              0.8888888888888888,
              "#fdca26"
             ],
             [
              1,
              "#f0f921"
             ]
            ],
            "type": "histogram2dcontour"
           }
          ],
          "mesh3d": [
           {
            "colorbar": {
             "outlinewidth": 0,
             "ticks": ""
            },
            "type": "mesh3d"
           }
          ],
          "parcoords": [
           {
            "line": {
             "colorbar": {
              "outlinewidth": 0,
              "ticks": ""
             }
            },
            "type": "parcoords"
           }
          ],
          "pie": [
           {
            "automargin": true,
            "type": "pie"
           }
          ],
          "scatter": [
           {
            "fillpattern": {
             "fillmode": "overlay",
             "size": 10,
             "solidity": 0.2
            },
            "type": "scatter"
           }
          ],
          "scatter3d": [
           {
            "line": {
             "colorbar": {
              "outlinewidth": 0,
              "ticks": ""
             }
            },
            "marker": {
             "colorbar": {
              "outlinewidth": 0,
              "ticks": ""
             }
            },
            "type": "scatter3d"
           }
          ],
          "scattercarpet": [
           {
            "marker": {
             "colorbar": {
              "outlinewidth": 0,
              "ticks": ""
             }
            },
            "type": "scattercarpet"
           }
          ],
          "scattergeo": [
           {
            "marker": {
             "colorbar": {
              "outlinewidth": 0,
              "ticks": ""
             }
            },
            "type": "scattergeo"
           }
          ],
          "scattergl": [
           {
            "marker": {
             "colorbar": {
              "outlinewidth": 0,
              "ticks": ""
             }
            },
            "type": "scattergl"
           }
          ],
          "scattermapbox": [
           {
            "marker": {
             "colorbar": {
              "outlinewidth": 0,
              "ticks": ""
             }
            },
            "type": "scattermapbox"
           }
          ],
          "scatterpolar": [
           {
            "marker": {
             "colorbar": {
              "outlinewidth": 0,
              "ticks": ""
             }
            },
            "type": "scatterpolar"
           }
          ],
          "scatterpolargl": [
           {
            "marker": {
             "colorbar": {
              "outlinewidth": 0,
              "ticks": ""
             }
            },
            "type": "scatterpolargl"
           }
          ],
          "scatterternary": [
           {
            "marker": {
             "colorbar": {
              "outlinewidth": 0,
              "ticks": ""
             }
            },
            "type": "scatterternary"
           }
          ],
          "surface": [
           {
            "colorbar": {
             "outlinewidth": 0,
             "ticks": ""
            },
            "colorscale": [
             [
              0,
              "#0d0887"
             ],
             [
              0.1111111111111111,
              "#46039f"
             ],
             [
              0.2222222222222222,
              "#7201a8"
             ],
             [
              0.3333333333333333,
              "#9c179e"
             ],
             [
              0.4444444444444444,
              "#bd3786"
             ],
             [
              0.5555555555555556,
              "#d8576b"
             ],
             [
              0.6666666666666666,
              "#ed7953"
             ],
             [
              0.7777777777777778,
              "#fb9f3a"
             ],
             [
              0.8888888888888888,
              "#fdca26"
             ],
             [
              1,
              "#f0f921"
             ]
            ],
            "type": "surface"
           }
          ],
          "table": [
           {
            "cells": {
             "fill": {
              "color": "#EBF0F8"
             },
             "line": {
              "color": "white"
             }
            },
            "header": {
             "fill": {
              "color": "#C8D4E3"
             },
             "line": {
              "color": "white"
             }
            },
            "type": "table"
           }
          ]
         },
         "layout": {
          "annotationdefaults": {
           "arrowcolor": "#2a3f5f",
           "arrowhead": 0,
           "arrowwidth": 1
          },
          "autotypenumbers": "strict",
          "coloraxis": {
           "colorbar": {
            "outlinewidth": 0,
            "ticks": ""
           }
          },
          "colorscale": {
           "diverging": [
            [
             0,
             "#8e0152"
            ],
            [
             0.1,
             "#c51b7d"
            ],
            [
             0.2,
             "#de77ae"
            ],
            [
             0.3,
             "#f1b6da"
            ],
            [
             0.4,
             "#fde0ef"
            ],
            [
             0.5,
             "#f7f7f7"
            ],
            [
             0.6,
             "#e6f5d0"
            ],
            [
             0.7,
             "#b8e186"
            ],
            [
             0.8,
             "#7fbc41"
            ],
            [
             0.9,
             "#4d9221"
            ],
            [
             1,
             "#276419"
            ]
           ],
           "sequential": [
            [
             0,
             "#0d0887"
            ],
            [
             0.1111111111111111,
             "#46039f"
            ],
            [
             0.2222222222222222,
             "#7201a8"
            ],
            [
             0.3333333333333333,
             "#9c179e"
            ],
            [
             0.4444444444444444,
             "#bd3786"
            ],
            [
             0.5555555555555556,
             "#d8576b"
            ],
            [
             0.6666666666666666,
             "#ed7953"
            ],
            [
             0.7777777777777778,
             "#fb9f3a"
            ],
            [
             0.8888888888888888,
             "#fdca26"
            ],
            [
             1,
             "#f0f921"
            ]
           ],
           "sequentialminus": [
            [
             0,
             "#0d0887"
            ],
            [
             0.1111111111111111,
             "#46039f"
            ],
            [
             0.2222222222222222,
             "#7201a8"
            ],
            [
             0.3333333333333333,
             "#9c179e"
            ],
            [
             0.4444444444444444,
             "#bd3786"
            ],
            [
             0.5555555555555556,
             "#d8576b"
            ],
            [
             0.6666666666666666,
             "#ed7953"
            ],
            [
             0.7777777777777778,
             "#fb9f3a"
            ],
            [
             0.8888888888888888,
             "#fdca26"
            ],
            [
             1,
             "#f0f921"
            ]
           ]
          },
          "colorway": [
           "#636efa",
           "#EF553B",
           "#00cc96",
           "#ab63fa",
           "#FFA15A",
           "#19d3f3",
           "#FF6692",
           "#B6E880",
           "#FF97FF",
           "#FECB52"
          ],
          "font": {
           "color": "#2a3f5f"
          },
          "geo": {
           "bgcolor": "white",
           "lakecolor": "white",
           "landcolor": "#E5ECF6",
           "showlakes": true,
           "showland": true,
           "subunitcolor": "white"
          },
          "hoverlabel": {
           "align": "left"
          },
          "hovermode": "closest",
          "mapbox": {
           "style": "light"
          },
          "paper_bgcolor": "white",
          "plot_bgcolor": "#E5ECF6",
          "polar": {
           "angularaxis": {
            "gridcolor": "white",
            "linecolor": "white",
            "ticks": ""
           },
           "bgcolor": "#E5ECF6",
           "radialaxis": {
            "gridcolor": "white",
            "linecolor": "white",
            "ticks": ""
           }
          },
          "scene": {
           "xaxis": {
            "backgroundcolor": "#E5ECF6",
            "gridcolor": "white",
            "gridwidth": 2,
            "linecolor": "white",
            "showbackground": true,
            "ticks": "",
            "zerolinecolor": "white"
           },
           "yaxis": {
            "backgroundcolor": "#E5ECF6",
            "gridcolor": "white",
            "gridwidth": 2,
            "linecolor": "white",
            "showbackground": true,
            "ticks": "",
            "zerolinecolor": "white"
           },
           "zaxis": {
            "backgroundcolor": "#E5ECF6",
            "gridcolor": "white",
            "gridwidth": 2,
            "linecolor": "white",
            "showbackground": true,
            "ticks": "",
            "zerolinecolor": "white"
           }
          },
          "shapedefaults": {
           "line": {
            "color": "#2a3f5f"
           }
          },
          "ternary": {
           "aaxis": {
            "gridcolor": "white",
            "linecolor": "white",
            "ticks": ""
           },
           "baxis": {
            "gridcolor": "white",
            "linecolor": "white",
            "ticks": ""
           },
           "bgcolor": "#E5ECF6",
           "caxis": {
            "gridcolor": "white",
            "linecolor": "white",
            "ticks": ""
           }
          },
          "title": {
           "x": 0.05
          },
          "xaxis": {
           "automargin": true,
           "gridcolor": "white",
           "linecolor": "white",
           "ticks": "",
           "title": {
            "standoff": 15
           },
           "zerolinecolor": "white",
           "zerolinewidth": 2
          },
          "yaxis": {
           "automargin": true,
           "gridcolor": "white",
           "linecolor": "white",
           "ticks": "",
           "title": {
            "standoff": 15
           },
           "zerolinecolor": "white",
           "zerolinewidth": 2
          }
         }
        },
        "title": {
         "text": "Predictions"
        },
        "xaxis": {
         "title": {
          "text": "Sample"
         }
        },
        "yaxis": {
         "title": {
          "text": "Close"
         }
        }
       }
      }
     },
     "metadata": {},
     "output_type": "display_data"
    }
   ],
   "source": [
    "import plotly.graph_objects as go\n",
    "epochs = list(range(len(losses)))\n",
    "predicted_list = [i[0] for i in predicted_list]\n",
    "x = [i for i in range(len(predicted_list))]\n",
    "fig = go.Figure(data=go.Scatter(x=x, y=predicted_list, mode='lines+markers', name='Train'))\n",
    "\n",
    "fig.update_layout(title='Predictions',\n",
    "                   xaxis_title='Sample',\n",
    "                   yaxis_title='Close')\n",
    "\n",
    "fig.show()"
   ]
  },
  {
   "cell_type": "code",
   "execution_count": null,
   "metadata": {},
   "outputs": [
    {
     "name": "stdout",
     "output_type": "stream",
     "text": [
      "594\n"
     ]
    }
   ],
   "source": [
    "print(len(predicted_list))"
   ]
  },
  {
   "cell_type": "code",
   "execution_count": null,
   "metadata": {},
   "outputs": [
    {
     "name": "stdout",
     "output_type": "stream",
     "text": [
      "[0.23363643884658813, 0.12522053718566895, -0.016455531120300293, -0.09263491630554199, 0.06979066133499146, 0.13605016469955444, 0.12491083145141602, 0.10936659574508667, -0.04631531238555908, 0.01678234338760376, 0.08012562990188599, -0.0030308961868286133, 0.09116286039352417, 0.029817044734954834, 0.059911489486694336, 0.09490114450454712, 0.045048534870147705, 0.09754419326782227, 0.1256171464920044, 0.1175912618637085, 0.0060492753982543945, 0.061151862144470215, 0.008098721504211426, -0.01221764087677002, 0.009623825550079346, 0.041798293590545654, -0.038718998432159424, -0.048163533210754395, 0.026109278202056885, -0.007458388805389404, 0.01672595739364624, 0.14566481113433838, 0.1423535943031311, 0.17710459232330322, 0.24268648028373718, 0.2426387071609497, 0.19393932819366455, 0.14246457815170288, 0.16079944372177124, 0.1685146689414978, 0.18084144592285156, 0.1446893811225891, -0.07848614454269409, -0.10451215505599976, -0.005016744136810303, 0.02810847759246826, 0.0003317594528198242, -0.15981554985046387, -0.09915822744369507, -0.09399497509002686, -0.10213512182235718, -0.09756672382354736, -0.05634117126464844, -0.06245940923690796, -0.11550569534301758, -0.1649358868598938, -0.2430485486984253, -0.2372153401374817, -0.2417791485786438, -0.291334331035614, -0.3296441435813904, -0.27714627981185913, -0.2678672671318054, -0.2146838903427124, -0.19122618436813354, -0.14568454027175903, -0.1495223045349121, -0.14915192127227783, -0.16734963655471802, -0.15299957990646362, -0.12316340208053589, -0.06958359479904175, -0.11580288410186768, -0.14450699090957642, -0.10040938854217529, -0.12042707204818726, -0.16442906856536865, -0.20595026016235352, -0.19945818185806274, -0.2546389698982239, -0.21868985891342163, -0.16346818208694458, -0.12049740552902222, -0.1952388882637024, -0.25598448514938354, -0.23690837621688843, -0.16013681888580322, -0.13956063985824585, -0.1529591679573059, -0.17693132162094116, -0.11568689346313477, -0.12437671422958374, -0.17642825841903687, -0.2258908748626709, -0.22617578506469727, -0.2389776110649109, -0.2990819811820984, -0.33503955602645874, -0.2903904318809509, -0.2928411364555359, -0.3414538502693176, -0.2984166741371155, -0.37294501066207886, -0.42932790517807007, -0.5839332938194275, -0.5748726725578308, -0.572378933429718, -0.5760758519172668, -0.5631479620933533, -0.6083160042762756, -0.5767465233802795, -0.5026953816413879, -0.5024037957191467, -0.5615653395652771, -0.5137415528297424, -0.4272257685661316, -0.40230756998062134, -0.4545890688896179, -0.5407498478889465, -0.6426953673362732, -0.702345073223114, -0.6114115118980408, -0.5514952540397644, -0.46104997396469116, -0.3022739291191101, -0.28646379709243774, -0.27701467275619507, -0.322722852230072, -0.3072754740715027, -0.25227850675582886, -0.3207562565803528, -0.3530413508415222, -0.2584293484687805, -0.19815874099731445, -0.1596832275390625, -0.16666555404663086, -0.10436731576919556, -0.13560998439788818, -0.09903419017791748, -0.10476875305175781, -0.04240262508392334, -0.02979356050491333, -0.027914106845855713, 0.023145854473114014, 0.09074658155441284, 0.09121513366699219, 0.13335680961608887, 0.11331510543823242, 0.026496589183807373, 0.10633039474487305, 0.12563556432724, 0.15511900186538696, 0.12290513515472412, 0.2140333354473114, 0.2478901743888855, 0.23079517483711243, 0.1569156050682068, 0.15817147493362427, 0.10894596576690674, 0.14813083410263062, 0.14752423763275146, 0.1599665880203247, 0.20700448751449585, 0.20372891426086426, 0.21873703598976135, 0.24207836389541626, -0.00045222043991088867, 0.04140406847000122, 0.1462816596031189, 0.13395285606384277, 0.1401020884513855, 0.1418464183807373, 0.18301492929458618, 0.07937872409820557, 0.04121285676956177, 0.026042580604553223, -3.141164779663086e-05, 0.006229102611541748, 0.07184809446334839, 0.09775054454803467, 0.09654462337493896, 0.17184031009674072, 0.13950693607330322, 0.13138669729232788, 0.09500116109848022, 0.15226787328720093, 0.10989618301391602, 0.0891876220703125, 0.01877915859222412, 0.08765524625778198, 0.07860839366912842, 0.12500464916229248, 0.2250327467918396, 0.24886533617973328, 0.2559773921966553, 0.2783748209476471, 0.23186111450195312, 0.26663678884506226, 0.24603450298309326, 0.24319127202033997, 0.26252853870391846, 0.28435957431793213, 0.2646249234676361, 0.22974729537963867, 0.19610685110092163, 0.19241851568222046, 0.18427914381027222, 0.1984887719154358, 0.2275201678276062, 0.2778318524360657, 0.28939616680145264, 0.2479528784751892, 0.3266410231590271, 0.06985551118850708, -0.03350919485092163, 0.031448304653167725, 0.12766605615615845, 0.23360487818717957, 0.24982431530952454, 0.21889075636863708, 0.2316417396068573, 0.23991245031356812, 0.3050587773323059, 0.32943442463874817, 0.38242024183273315, 0.406993567943573, 0.4803239405155182, 0.4467809796333313, 0.4456435441970825, 0.4329521059989929, 0.498799592256546, 0.46164602041244507, 0.5185214877128601, 0.5314829349517822, 0.5084037780761719, 0.49736809730529785, 0.48366713523864746, 0.462512731552124, 0.4941238760948181, 0.46559181809425354, 0.46975475549697876, 0.49852752685546875, 0.5626444220542908, 0.5057249069213867, 0.4950568377971649, 0.5068683624267578, 0.5582250356674194, 0.5009243488311768, 0.4998892545700073, 0.4627515375614166, 0.45944398641586304, 0.4930536150932312, 0.4499835968017578, 0.449851393699646, 0.45841699838638306, 0.42005157470703125, 0.40888574719429016, 0.4008600413799286, 0.44923514127731323, 0.43683922290802, 0.41837018728256226, 0.4392271041870117, 0.4385879933834076, 0.4658198654651642, 0.5067488551139832, 0.4125281572341919, 0.31108954548835754, 0.40393584966659546, 0.3283335566520691, 0.28014084696769714, 0.3298129737377167, 0.2750668227672577, 0.3095417320728302, 0.2935534715652466, 0.32958412170410156, 0.3453792929649353, 0.3065643608570099, 0.2735954821109772, 0.36736005544662476, 0.4160851240158081, 0.40575364232063293, 0.4240036904811859, 0.3750354051589966, 0.3397428095340729, 0.3663036823272705, 0.36231446266174316, 0.32561540603637695, 0.3705381155014038, 0.2981969714164734, 0.28531330823898315, 0.2678675353527069, 0.2951924204826355, 0.3060661554336548, 0.18373620510101318, 0.19765615463256836, 0.2066841721534729, 0.1560174822807312, 0.18446260690689087, 0.1935136318206787, 0.2232811152935028, 0.2702102065086365, 0.24360573291778564, 0.27523332834243774, 0.24246945977210999, 0.2163529396057129, 0.23168545961380005, 0.23589017987251282, 0.3435402810573578, 0.32109612226486206, 0.30499547719955444, 0.4849194884300232, 0.5106282234191895, 0.3876951336860657, 0.4051726460456848, 0.4281807541847229, 0.44947129487991333, 0.46857231855392456, 0.5459542870521545, 0.5317833423614502, 0.5010700225830078, 0.5416783690452576, 0.5876882672309875, 0.5463466644287109, 0.5012093186378479, 0.4292728900909424, 0.4466315507888794, 0.44677668809890747, 0.46618223190307617, 0.6094781756401062, 0.6201345920562744, 0.6446104049682617, 0.5932115316390991, 0.6962486505508423, 0.6943134069442749, 0.666384220123291, 0.6225450038909912, 0.6293336153030396, 0.666202187538147, 0.6557022333145142, 0.643369197845459, 0.6326940059661865, 0.6488708853721619, 0.6184079647064209, 0.6327806115150452, 0.614675760269165, 0.6545860767364502, 0.72263503074646, 0.6933975219726562, 0.7142260670661926, 0.6487122774124146, 0.5835219621658325, 0.6707335710525513, 0.6815329790115356, 0.6521517634391785, 0.6680932641029358, 0.6337467432022095, 0.6352151036262512, 0.7631972432136536, 0.7713189721107483, 0.9216834306716919, 0.9847711324691772, 0.9676282405853271, 0.9087275862693787, 0.8596271276473999, 0.8264018297195435, 0.8292287588119507, 0.8431856632232666, 0.8795868158340454, 0.8807072639465332, 0.9530617594718933, 0.8844106197357178, 0.9105221033096313, 0.9632785320281982, 0.9754248857498169, 0.9928936958312988, 1.0351022481918335, 1.02055025100708, 0.9962724447250366, 0.9857170581817627, 1.010504126548767, 1.0214521884918213, 1.0122239589691162, 0.9623454809188843, 0.9754601716995239, 1.0313055515289307, 0.991439938545227, 0.9797862768173218, 0.992119550704956, 0.9895129203796387, 0.9650496244430542, 0.9077214598655701, 0.9260711669921875, 0.8927731513977051, 0.871504545211792, 0.8752454519271851, 0.914867639541626, 0.872252881526947, 0.8687554001808167, 0.8216097354888916, 0.8459491729736328, 0.8530948162078857, 0.821198046207428, 0.819135308265686, 0.8448633551597595, 0.8279942870140076, 0.8223997354507446, 0.833534300327301, 0.8448292016983032, 0.843715488910675, 0.7914261817932129, 0.7801149487495422, 0.7782096862792969, 0.7521775364875793, 0.7350006103515625, 0.7413021326065063, 0.7106258869171143, 0.7568390965461731, 0.728008508682251, 0.4905703365802765, 0.5041967630386353, 0.46631911396980286, 0.4786849915981293, 0.4694983959197998, 0.45761674642562866, 0.4636039733886719, 0.4611702561378479, 0.41278088092803955, 0.42378515005111694, 0.4098246693611145, 0.4263058304786682, 0.3014304041862488, 0.2441352903842926, 0.21946704387664795, 0.20041555166244507, 0.18706226348876953, 0.1797734498977661, 0.21375352144241333, 0.28027158975601196, 0.19444435834884644, 0.18366199731826782, 0.22138863801956177, 0.24621334671974182, 0.22671523690223694, 0.23937875032424927, 0.2598102390766144, 0.23658627271652222, 0.2118358016014099, 0.24146711826324463, 0.24370962381362915, 0.22478216886520386, 0.23531082272529602, 0.2338024377822876, 0.19101166725158691, 0.22687110304832458, 0.2911248207092285, 0.32578107714653015, 0.29002779722213745, 0.2703801095485687, 0.28384947776794434, 0.3248385787010193, 0.3059857189655304, 0.30865800380706787, 0.26918357610702515, 0.2912074625492096, 0.28240787982940674, 0.3210022747516632, 0.30301597714424133, 0.32104259729385376, 0.2798881530761719, 0.271906316280365, 0.33045703172683716, 0.2685548663139343, 0.22862768173217773, 0.24718600511550903, 0.26526737213134766, 0.26000022888183594, 0.2752092778682709, 0.27093470096588135, 0.2898623049259186, 0.24876034259796143, 0.28198888897895813, 0.09304183721542358, 0.08969366550445557, 0.07724624872207642, 0.05555379390716553, 0.06272780895233154, 0.03936338424682617, 0.029740512371063232, 0.006070375442504883, 0.017065763473510742, 0.03685891628265381, 0.013013899326324463, 0.02462947368621826, 0.031323254108428955, -0.017276108264923096, -0.058709800243377686, -0.06701862812042236, -0.06056791543960571, -0.057722270488739014, -0.044264137744903564, -0.05200529098510742, -0.04162377119064331, -0.09300309419631958, -0.12359625101089478, -0.10363656282424927, -0.07957005500793457, -0.046564459800720215, -0.02541452646255493, -0.0052117109298706055, -0.04371994733810425, -0.028041839599609375, -0.042547404766082764, -0.0277940034866333, 0.0037914514541625977, -0.025912940502166748, -0.006663620471954346, -0.032662928104400635, -0.04619240760803223, 0.02474576234817505, 0.05441081523895264, 0.05893886089324951, 0.04031294584274292, 0.01629638671875, 0.009380221366882324, 0.007822155952453613, 0.05380672216415405, 0.03693819046020508, 0.030096828937530518, 0.05031770467758179, 0.07225483655929565, 0.04525560140609741, 0.04253804683685303, 0.0258902907371521, 0.07419133186340332, 0.07984602451324463, 0.06923162937164307, 0.07347023487091064, 0.06629735231399536, 0.09427881240844727, 0.12879151105880737, 0.11400264501571655, 0.0797719955444336, 0.0805472731590271, 0.07521337270736694, 0.06870418787002563, 0.4406699240207672, 0.520875871181488, 0.5631649494171143, 0.4159230887889862, 0.2836151421070099, 0.2341439127922058, 0.26144251227378845, 0.2742938697338104, 0.2983524203300476, 0.2874288558959961, 0.2835519313812256, 0.259454607963562, 0.20462334156036377, 0.18430030345916748, 0.20364421606063843, 0.21368670463562012, 0.17603331804275513, 0.1400194764137268, 0.11689752340316772, 0.13414913415908813, 0.08451253175735474, 0.14434891939163208, 0.1405457854270935, 0.1873798370361328, 0.230015367269516, 0.22175180912017822, 0.21913793683052063, 0.2214019000530243, 0.23803776502609253, 0.27339282631874084, 0.2851037383079529, 0.30818068981170654, 0.36158090829849243, 0.3181121349334717, 0.27461302280426025, 0.259521484375, 0.30529358983039856, 0.32620757818222046, 0.3693201541900635, 0.27280229330062866, 0.2749887704849243, 0.22817498445510864, 0.26174014806747437, 0.25990331172943115, 0.2526912987232208, 0.20675873756408691, 0.23761224746704102, 0.2487010955810547, 0.2596476674079895]\n"
     ]
    }
   ],
   "source": [
    "print(predicted_list)"
   ]
  },
  {
   "cell_type": "code",
   "execution_count": null,
   "metadata": {},
   "outputs": [
    {
     "data": {
      "image/png": "[encoded data removed]",
      "text/plain": [
       "<Figure size 640x480 with 1 Axes>"
      ]
     },
     "metadata": {},
     "output_type": "display_data"
    }
   ],
   "source": [
    "fig, ax = plt.subplots()\n",
    "\n",
    "# Add the targets and predictions to the plot\n",
    "ax.plot(target_list, label='Targets')\n",
    "ax.plot(predicted_list, label='Predictions')\n",
    "\n",
    "# Add labels and title\n",
    "ax.set_xlabel('Index')\n",
    "ax.set_ylabel('Values')\n",
    "ax.set_title('Targets and Predictions')\n",
    "\n",
    "# Add a legend\n",
    "ax.legend()\n",
    "\n",
    "# Show the plot\n",
    "plt.show()"
   ]
  }
 ],
 "metadata": {
  "kernelspec": {
   "display_name": "ml_accel",
   "language": "python",
   "name": "python3"
  },
  "language_info": {
   "codemirror_mode": {
    "name": "ipython",
    "version": 3
   },
   "file_extension": ".py",
   "mimetype": "text/x-python",
   "name": "python",
   "nbconvert_exporter": "python",
   "pygments_lexer": "ipython3",
   "version": "3.9.1"
  },
  "orig_nbformat": 4
 },
 "nbformat": 4,
 "nbformat_minor": 2
}
