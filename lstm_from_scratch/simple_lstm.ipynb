{
 "cells": [
  {
   "cell_type": "markdown",
   "metadata": {},
   "source": [
    "# Long short term memory\n",
    "\n",
    "We previously explored RNNs, neural networks that are able to propagate some hidden state through a rolled out version of itself. A major problem with RNNs is exploding or vanishing gradients. Gradient clipping solves the exploding gradient problem, but the vanishing gradient problem is harder to solve. LSTMs propose a different architecture which benefits from a hidden state like RNNs, but mitigates the vanishing gradient problem. Another issue RNNs have is that the hidden state often forgets information from a while ago in the sequence and is more biased towards more recent tokens. LSTMs also address this issue with their gated structure. \n"
   ]
  },
  {
   "cell_type": "code",
   "execution_count": 606,
   "metadata": {},
   "outputs": [],
   "source": [
    "from torch import nn\n",
    "import torch \n",
    "import numpy as np\n",
    "import pandas as pd\n",
    "from torch.nn.utils.rnn import PackedSequence\n",
    "import torch.nn.functional\n",
    "from torch.utils.data import random_split\n",
    "from torchtext.data.utils import get_tokenizer\n",
    "from torchtext.vocab import build_vocab_from_iterator\n",
    "from torchtext.datasets import AG_NEWS\n",
    "from torch import nn\n",
    "from torch.utils.data import DataLoader\n",
    "import math\n",
    "from torch.nn.utils.rnn import pad_sequence"
   ]
  },
  {
   "cell_type": "markdown",
   "metadata": {},
   "source": [
    "## LSTM model defintion\n",
    "The goal here is to build a substitute for the torch.nn.rnn.lstm module. This should be able to handle packed sequences and batched data the same way the source code for that module does. For now, does not need to have multiple layers or be bidirectional."
   ]
  },
  {
   "cell_type": "code",
   "execution_count": 607,
   "metadata": {},
   "outputs": [],
   "source": [
    "class lstm_simplified(nn.Module): \n",
    "    def __init__(self, input_size, hidden_dim, output_dim=1) -> None:\n",
    "        super().__init__()\n",
    "        self.input_dim = input_size\n",
    "        self.hidden_dim  = hidden_dim\n",
    "        \n",
    "        # single linear layer to handle input -> hidden transformation \n",
    "        self.x_h = nn.Sequential(\n",
    "            nn.Linear(input_size, hidden_dim * 4),\n",
    "        )\n",
    "        # single linear layer to handle input -> hidden transformation \n",
    "        self.h_x = nn.Sequential(\n",
    "            nn.Linear(hidden_dim, hidden_dim * 4),\n",
    "        )\n",
    "        self.tanh = nn.Tanh()\n",
    "\n",
    "        # this output layer can be fancier if needed by the use case\n",
    "        self.output_layer = nn.Linear(hidden_dim, output_dim)\n",
    "\n",
    "    def forward(self, x, h_in=None, c_in=None):\n",
    "\n",
    "        if isinstance(x, PackedSequence):\n",
    "            # handling of PackedSequences to work on AG News task \n",
    "            input, batch_sizes, sorted_indices, unsorted_indices = x\n",
    "            max_batch_size = batch_sizes[0]\n",
    "            if h_in is None: \n",
    "                h_in = self.init_h(max_batch_size, x)\n",
    "                c_in = self.init_h(max_batch_size, x)\n",
    "        \n",
    "            data_offset = 0\n",
    "            outputs = []\n",
    "            for batch_size in batch_sizes:\n",
    "                current_input = input[data_offset:data_offset + batch_size]\n",
    "                data_offset += batch_size\n",
    "                current_input = current_input.unsqueeze(0)\n",
    "                if batch_size < max_batch_size: \n",
    "                    h_in[:,batch_size:,:] = 0\n",
    "                    c_in[:,batch_size:,:] = 0\n",
    "                    pad_size = max_batch_size - batch_size\n",
    "                    # Create a tensor of zeros with the padding size\n",
    "                    padding = torch.zeros(1, pad_size, self.hidden_dim, device=current_input.device)\n",
    "                    # Concatenate the padding to the current input\n",
    "                    current_input = torch.cat([current_input, padding], dim=1)\n",
    "                \n",
    "                gates = self.x_h(current_input) +  self.h_x(h_in)\n",
    "                input_gate, forget_gate, input_node, output_gate = gates.chunk(4, 2)\n",
    "                i_gate_output = torch.sigmoid(input_gate)\n",
    "                i_node_output = torch.tanh(input_node)\n",
    "                o_gate_output = torch.sigmoid(output_gate)\n",
    "                f_gate_output = torch.sigmoid(forget_gate)\n",
    "                \n",
    "                c_out = (f_gate_output * c_in) + (i_node_output * i_gate_output)\n",
    "\n",
    "                h_out = self.tanh(c_out) * o_gate_output\n",
    "                out = self.output_layer(h_out)\n",
    "                h_in = h_out\n",
    "                c_in = c_out\n",
    "                outputs.append(out)\n",
    "\n",
    "            output_packed = PackedSequence(outputs, batch_sizes, sorted_indices, unsorted_indices)\n",
    "            return output_packed, h_out, c_out\n",
    "        \n",
    "        else:\n",
    "            if h_in is None: \n",
    "                h_in = self.init_h(x.size(0)).to(x.device)\n",
    "                c_in = self.init_h(x.size(0)).to(x.device)\n",
    "            for t in range(x.size(1)):\n",
    "                input = x[:,t,:]\n",
    "                gates = self.x_h(input) +  self.h_x(h_in)\n",
    "                input_gate, forget_gate, input_node, output_gate = gates.chunk(4, 1)\n",
    "                i_gate_output = torch.sigmoid(input_gate)\n",
    "                i_node_output = torch.tanh(input_node)\n",
    "                o_gate_output = torch.sigmoid(output_gate)\n",
    "                f_gate_output = torch.sigmoid(forget_gate)\n",
    "                \n",
    "                c_out = (f_gate_output * c_in) + (i_node_output * i_gate_output)\n",
    "\n",
    "                h_out = self.tanh(c_out) * o_gate_output\n",
    "                out = self.output_layer(h_out)\n",
    "                h_in = h_out\n",
    "                c_in = c_out\n",
    "            \n",
    "        return out, (h_out, c_out)\n",
    "        \n",
    "    \n",
    "    \n",
    "    def init_h(self, batch_size):\n",
    "        #zero initialization \n",
    "        #alternatives include but not limited to Xavier/Kaiminh initialization\n",
    "        return torch.zeros(batch_size, self.hidden_dim, requires_grad=False)"
   ]
  },
  {
   "cell_type": "markdown",
   "metadata": {},
   "source": [
    "### Implementation notes: \n",
    "\n",
    "Efficiency: Combining these transformations into two layers (one for input and one for the previous hidden state) and then splitting the results is more efficient than having separate layers for each gate. It reduces the complexity of the model and speeds up computation.\n",
    "\n",
    "During the course of this experimentation, I implemented both versions and can attest to the fact that the current version is much faster than the implementation with individual layers corresponding to gates. "
   ]
  },
  {
   "cell_type": "code",
   "execution_count": 608,
   "metadata": {},
   "outputs": [],
   "source": [
    "class newsLSTM(nn.Module): \n",
    "    def __init__(self, vocab_size, embed_size, hidden_size) -> None:\n",
    "        super(newsLSTM, self).__init__()\n",
    "        \n",
    "        self.encoder = nn.Embedding(vocab_size, embed_size, padding_idx=0)\n",
    "        self.hidden_size = hidden_size \n",
    "        self.lstm = nn.LSTM(embed_size, \n",
    "                           hidden_size,\n",
    "                           batch_first=True)\n",
    "        \n",
    "        self.hidden2label = nn.Linear(hidden_size, 4)\n",
    "        self.dropoutLayer = nn.Dropout(p=0.5)\n",
    "\n",
    "\n",
    "    def forward(self, x, x_len):\n",
    "        embedded = self.encoder(x)\n",
    "        x_packed = nn.utils.rnn.pack_padded_sequence(embedded, x_len, batch_first=True, enforce_sorted=False)\n",
    "        output, (h_t, c_t) = self.lstm(x_packed)  # Pass the initial hidden state 'h' to the RNN   \n",
    "        # hidden = self.dropout(torch.cat((h_t[-2,:,:], h_t[-1,:,:]), dim=1))     \n",
    "        hidden = self.dropoutLayer(h_t.squeeze())\n",
    "        \n",
    "        # Linear layer and softmax\n",
    "        label_space = self.hidden2label(hidden)\n",
    "        \n",
    "        return label_space\n",
    "    "
   ]
  },
  {
   "cell_type": "markdown",
   "metadata": {},
   "source": [
    "We repeat the exact same news classification task performed by in the bidirectionalRNN subdir"
   ]
  },
  {
   "cell_type": "code",
   "execution_count": 609,
   "metadata": {},
   "outputs": [],
   "source": [
    "train_iter = AG_NEWS(split='train')\n",
    "\n",
    "# Convert to list to enable random splitting\n",
    "train_dataset = list(train_iter)\n",
    "\n",
    "#80-20 train-val split \n",
    "train_size = int(len(train_dataset) * 0.8)  \n",
    "val_size = len(train_dataset) - train_size  \n",
    "train_data, val_data = random_split(train_dataset, [train_size, val_size])\n",
    "\n",
    "tokenizer = get_tokenizer(\"basic_english\")\n",
    "\n",
    "def yield_tokens(data_iter):\n",
    "    for text in data_iter:\n",
    "        yield tokenizer(text)\n",
    "\n",
    "VOCAB_SIZE = 5000\n",
    "\n",
    "# Build vocab based on the train_data\n",
    "train_data_iter = (text for _, text in train_data)\n",
    "vocab = build_vocab_from_iterator(yield_tokens(train_data_iter), specials=[\"<unk>\"], max_tokens=VOCAB_SIZE)\n",
    "vocab.set_default_index(vocab[\"<unk>\"])"
   ]
  },
  {
   "cell_type": "code",
   "execution_count": 610,
   "metadata": {},
   "outputs": [
    {
     "data": {
      "text/plain": [
       "(4,\n",
       " 'IBM Contributes Speech Recognition Software to Open Source IBM will donate key speech-recognition software to the open-source Apache Foundation in hopes of promoting standardization in speech-enabled applications.')"
      ]
     },
     "execution_count": 610,
     "metadata": {},
     "output_type": "execute_result"
    }
   ],
   "source": [
    "train_data[0]"
   ]
  },
  {
   "cell_type": "code",
   "execution_count": 611,
   "metadata": {},
   "outputs": [
    {
     "data": {
      "text/plain": [
       "[2080, 1582, 0, 0]"
      ]
     },
     "execution_count": 611,
     "metadata": {},
     "output_type": "execute_result"
    }
   ],
   "source": [
    "vocab(['word', 'probably', 'unknown', 'gibberish'])"
   ]
  },
  {
   "cell_type": "code",
   "execution_count": 612,
   "metadata": {},
   "outputs": [],
   "source": [
    "text_pipeline = lambda x: vocab(tokenizer(x))\n",
    "label_pipeline = lambda x: int(x) - 1"
   ]
  },
  {
   "cell_type": "code",
   "execution_count": 613,
   "metadata": {},
   "outputs": [
    {
     "data": {
      "text/plain": [
       "['parmalat']"
      ]
     },
     "execution_count": 613,
     "metadata": {},
     "output_type": "execute_result"
    }
   ],
   "source": [
    "vocab.lookup_tokens([4999])"
   ]
  },
  {
   "cell_type": "code",
   "execution_count": 614,
   "metadata": {},
   "outputs": [],
   "source": [
    "def collate_batch(batch):\n",
    "    device = torch.device('cuda:0' if torch.cuda.is_available() else 'cpu')\n",
    "    label_list, text_list, lengths = [], [], []\n",
    "    \n",
    "    # Sort the batch in the descending order\n",
    "    batch.sort(key=lambda x: len(x[1]), reverse=True)\n",
    "    \n",
    "    for _label, _text in batch:\n",
    "        label_list.append(label_pipeline(_label))\n",
    "        processed_text = torch.tensor(text_pipeline(_text), dtype=torch.int64)\n",
    "        text_list.append(processed_text)\n",
    "        lengths.append(processed_text.size(0))\n",
    "        \n",
    "    label_list = torch.tensor(label_list, dtype=torch.int64)\n",
    "    lengths = torch.tensor(lengths, dtype=torch.int64)\n",
    "    \n",
    "    # Pad sequences\n",
    "    text_list = pad_sequence(text_list, batch_first=True)\n",
    "    \n",
    "    return label_list.to(device), text_list.to(device), lengths"
   ]
  },
  {
   "cell_type": "code",
   "execution_count": 615,
   "metadata": {},
   "outputs": [],
   "source": [
    "train_loader = DataLoader(train_data, batch_size = 8, shuffle = True, collate_fn = collate_batch)\n",
    "val_loader = DataLoader(val_data, batch_size = 8, shuffle = False, collate_fn = collate_batch)"
   ]
  },
  {
   "cell_type": "code",
   "execution_count": 616,
   "metadata": {},
   "outputs": [],
   "source": [
    "batch = next(iter(train_loader))\n",
    "\n",
    "# Inspect the shape of the input data\n",
    "input_data = batch[1]  # Assuming the input data is the first element of the batch\n",
    "input_shape = input_data.shape[0]"
   ]
  },
  {
   "cell_type": "code",
   "execution_count": 617,
   "metadata": {},
   "outputs": [
    {
     "data": {
      "text/plain": [
       "torch.Size([8, 74])"
      ]
     },
     "execution_count": 617,
     "metadata": {},
     "output_type": "execute_result"
    }
   ],
   "source": [
    "batch[1].shape"
   ]
  },
  {
   "cell_type": "code",
   "execution_count": 618,
   "metadata": {},
   "outputs": [
    {
     "data": {
      "text/plain": [
       "3"
      ]
     },
     "execution_count": 618,
     "metadata": {},
     "output_type": "execute_result"
    }
   ],
   "source": [
    "len(batch)"
   ]
  },
  {
   "cell_type": "code",
   "execution_count": 619,
   "metadata": {},
   "outputs": [],
   "source": [
    "a =  torch.ones(5, 50)\n",
    "a =  torch.ones(5, 50)\n",
    "a =  torch.ones(5, 50)"
   ]
  },
  {
   "cell_type": "code",
   "execution_count": 620,
   "metadata": {},
   "outputs": [],
   "source": [
    "m = nn.Softmax(dim=1)\n",
    "input = torch.randn(2, 3)\n",
    "output = m(input)"
   ]
  },
  {
   "cell_type": "code",
   "execution_count": 621,
   "metadata": {},
   "outputs": [
    {
     "data": {
      "text/plain": [
       "tensor([[-2.5926, -1.3925,  0.3566],\n",
       "        [-1.8896,  0.4461,  0.5051]])"
      ]
     },
     "execution_count": 621,
     "metadata": {},
     "output_type": "execute_result"
    }
   ],
   "source": [
    "input"
   ]
  },
  {
   "cell_type": "code",
   "execution_count": 622,
   "metadata": {},
   "outputs": [
    {
     "data": {
      "text/plain": [
       "tensor([[0.0427, 0.1418, 0.8155],\n",
       "        [0.0448, 0.4635, 0.4917]])"
      ]
     },
     "execution_count": 622,
     "metadata": {},
     "output_type": "execute_result"
    }
   ],
   "source": [
    "output"
   ]
  },
  {
   "cell_type": "code",
   "execution_count": 623,
   "metadata": {},
   "outputs": [
    {
     "data": {
      "text/plain": [
       "8"
      ]
     },
     "execution_count": 623,
     "metadata": {},
     "output_type": "execute_result"
    }
   ],
   "source": [
    "input_shape"
   ]
  },
  {
   "cell_type": "code",
   "execution_count": 624,
   "metadata": {},
   "outputs": [
    {
     "name": "stdout",
     "output_type": "stream",
     "text": [
      "tensor([1, 3, 2, 1, 1, 1, 1, 1], device='cuda:0')\n",
      "torch.Size([8, 74])\n"
     ]
    }
   ],
   "source": [
    "print(batch[0])\n",
    "print(batch[1].shape)"
   ]
  },
  {
   "cell_type": "code",
   "execution_count": 625,
   "metadata": {},
   "outputs": [],
   "source": [
    "LEARNING_RATE = 1e-3\n",
    "BATCH_SIZE = 128\n",
    "NUM_EPOCHS = 10\n",
    "DROPOUT = 0.5\n",
    "DEVICE = torch.device('cuda:0' if torch.cuda.is_available() else 'cpu')\n",
    "\n",
    "EMBEDDING_DIM = 128\n",
    "BIDIRECTIONAL = True\n",
    "HIDDEN_DIM = 128\n",
    "NUM_LAYERS = 2\n",
    "OUTPUT_DIM = 4"
   ]
  },
  {
   "cell_type": "code",
   "execution_count": 626,
   "metadata": {},
   "outputs": [],
   "source": [
    "model = newsLSTM(VOCAB_SIZE, EMBEDDING_DIM, HIDDEN_DIM)\n",
    "model = model.to(DEVICE)\n",
    "optimizer = torch.optim.Adam(model.parameters(), lr=LEARNING_RATE)"
   ]
  },
  {
   "cell_type": "code",
   "execution_count": 627,
   "metadata": {},
   "outputs": [],
   "source": [
    "def train(model, train_loader, val_loader, loss_function, optim, epochs, device):\n",
    "    \n",
    "    for epoch in range(epochs):\n",
    "        losses = [] #group losses for loss visualization \n",
    "        running_loss = 0.0\n",
    "        model.train()\n",
    "        print(\"Epoch %d / %d\" % (epoch+1, epochs))\n",
    "        print(\"-\"*10)\n",
    "    \n",
    "        for i, batch_data in enumerate(train_loader):\n",
    "            \n",
    "            model.train()\n",
    "            (y, x, x_size) = batch_data\n",
    "            y_pred = model(x, x_size.cpu())\n",
    "            #print(f\"y_pred: {y_pred}, y_target: {y}\")\n",
    "            loss = loss_function(y_pred, y)\n",
    "            optim.zero_grad()\n",
    "            loss.backward()\n",
    "            optim.step()\n",
    "            \n",
    "            running_loss += loss.item()\n",
    "            losses.append(loss)\n",
    "            \n",
    "        model.eval()\n",
    "        val_loss = 0.0\n",
    "        print(\"Epoch: {}, train loss: {:.4f}\".format(epoch+1, running_loss/len(losses)))\n",
    "        with torch.no_grad():\n",
    "            for i, batch_data in enumerate(val_loader):\n",
    "                (y, x, x_size) = batch_data\n",
    "                y, x, x_size = y.to(device), x.to(device), x_size.to(device)\n",
    "                \n",
    "                y_pred = model(x, x_size.cpu())\n",
    "                loss = loss_function(y_pred, y)\n",
    "                \n",
    "                val_loss += loss.item()\n",
    "        \n",
    "        print(\"Epoch: {}, validation loss: {:.4f}\".format(epoch+1, val_loss/len(val_loader)))"
   ]
  },
  {
   "cell_type": "code",
   "execution_count": 628,
   "metadata": {},
   "outputs": [
    {
     "name": "stdout",
     "output_type": "stream",
     "text": [
      "Epoch 1 / 10\n",
      "----------\n"
     ]
    },
    {
     "name": "stdout",
     "output_type": "stream",
     "text": [
      "Epoch: 1, train loss: 0.5080\n",
      "Epoch: 1, validation loss: 0.3393\n",
      "Epoch 2 / 10\n",
      "----------\n",
      "Epoch: 2, train loss: 0.2872\n",
      "Epoch: 2, validation loss: 0.2663\n",
      "Epoch 3 / 10\n",
      "----------\n",
      "Epoch: 3, train loss: 0.2299\n",
      "Epoch: 3, validation loss: 0.2539\n",
      "Epoch 4 / 10\n",
      "----------\n",
      "Epoch: 4, train loss: 0.1912\n",
      "Epoch: 4, validation loss: 0.2649\n",
      "Epoch 5 / 10\n",
      "----------\n",
      "Epoch: 5, train loss: 0.1587\n",
      "Epoch: 5, validation loss: 0.2789\n",
      "Epoch 6 / 10\n",
      "----------\n",
      "Epoch: 6, train loss: 0.1327\n",
      "Epoch: 6, validation loss: 0.2858\n",
      "Epoch 7 / 10\n",
      "----------\n",
      "Epoch: 7, train loss: 0.1152\n",
      "Epoch: 7, validation loss: 0.3027\n",
      "Epoch 8 / 10\n",
      "----------\n",
      "Epoch: 8, train loss: 0.0972\n",
      "Epoch: 8, validation loss: 0.3296\n",
      "Epoch 9 / 10\n",
      "----------\n",
      "Epoch: 9, train loss: 0.0850\n",
      "Epoch: 9, validation loss: 0.3480\n",
      "Epoch 10 / 10\n",
      "----------\n",
      "Epoch: 10, train loss: 0.0780\n",
      "Epoch: 10, validation loss: 0.3736\n"
     ]
    }
   ],
   "source": [
    "train(model, train_loader, val_loader, torch.nn.functional.cross_entropy, optimizer, NUM_EPOCHS, DEVICE)"
   ]
  },
  {
   "cell_type": "markdown",
   "metadata": {},
   "source": [
    "# Notes: \n",
    "\n",
    "Something about the handling of decreasing batch sizes and packed sequences makes our lstm from scratch inefficient at learning when compared to the native torch version. However, working through the implementation and the bugs that came with it helped me better understand the internals of the lstm. What's especially impressive is that using a single layered unidirectional LSTM is much more effective for learning on this task than a 2 layered bidirectional RNN (see `RecurrentNetworks/bidirectionalRNN`)\n",
    "\n",
    "Below, we still make use of our hand crafted LSTM for a non batched, non-packed use case where it should not suffer from its inefficiencies."
   ]
  },
  {
   "cell_type": "code",
   "execution_count": 629,
   "metadata": {},
   "outputs": [],
   "source": [
    "class stockLSTM(nn.Module): \n",
    "    def __init__(self, input_dim, hidden_size, output_dim) -> None:\n",
    "        super(stockLSTM, self).__init__()\n",
    "        \n",
    "        self.hidden_size = hidden_size \n",
    "        self.lstm = lstm_simplified(input_dim, hidden_size)\n",
    "        self.output_dim = output_dim\n",
    "        self.output_layer = nn.Sequential(nn.Linear(hidden_size, output_dim))\n",
    "\n",
    "\n",
    "    def forward(self, x):\n",
    "        out, (h, _) = self.lstm(x)\n",
    "        output = self.output_layer(h.squeeze())\n",
    "        \n",
    "        return output\n",
    "    "
   ]
  },
  {
   "cell_type": "code",
   "execution_count": 630,
   "metadata": {},
   "outputs": [],
   "source": [
    "def train_scratch_model(model, train_loader, val_loader,  loss_function, optim, epochs, device, scheduler, start_decay):\n",
    "    \n",
    "    losses = [] #group losses for loss visualization \n",
    "    \n",
    "    for epoch in range(epochs):\n",
    "        running_loss = 0 \n",
    "        print(\"Epoch %d / %d\" % (epoch+1, epochs))\n",
    "        print(\"-\"*10)\n",
    "        if (epoch > start_decay): \n",
    "            scheduler.step()\n",
    "        \n",
    "        model.train()\n",
    "        for i, (x, y) in enumerate(train_loader):\n",
    "            x = x.to(device)\n",
    "            y = y.to(device)\n",
    "            y_pred = model(x)\n",
    "            # print(f\"y shape: {y.shape}, y_pred shape: {y_pred.shape}\")\n",
    "            loss = loss_function(y_pred, y) \n",
    "            running_loss+=loss.item()\n",
    "            optim.zero_grad()\n",
    "            loss.backward() #backprop \n",
    "            optim.step() #update weights\n",
    "  \n",
    "        losses.append((running_loss / i))\n",
    "        print(\"Step: {}/{}, current Epoch loss: {:.4f}\".format(i, len(train_loader), (running_loss / i)))\n",
    "\n",
    "        val_loss = 0\n",
    "        with torch.no_grad():\n",
    "            for i, (x,y) in enumerate(val_loader):\n",
    "                y, x,  = y.to(device), x.to(device) \n",
    "                \n",
    "                y_pred = model(x)\n",
    "                loss = loss_function(y_pred, y)\n",
    "                \n",
    "                val_loss += loss.item()\n",
    "        \n",
    "        print(\"Epoch: {}, validation loss: {:.4f}\".format(epoch+1, val_loss/len(val_loader)))\n",
    "        \n",
    "    return losses"
   ]
  },
  {
   "cell_type": "code",
   "execution_count": 631,
   "metadata": {},
   "outputs": [],
   "source": [
    "def load_data(stock, sequence_length):\n",
    "    # Convert pandas dataframe to numpy array\n",
    "    data_raw = stock.to_numpy()\n",
    "\n",
    "    data = []\n",
    "\n",
    "    # Loop over the stock data to generate sequences of 'sequence_length' consecutive data points\n",
    "    # This is done because RNNs learn to predict data in a sequence from past sequence\n",
    "    for index in range(len(data_raw) - sequence_length):\n",
    "        data.append(data_raw[index: index + sequence_length])\n",
    "\n",
    "    data = np.array(data)\n",
    "    set_size = int(data.shape[0])\n",
    "\n",
    "    # Generate the train data\n",
    "    # x_train is all sequences excluding the last data point from each sequence\n",
    "    x = data[:,:-1,:]\n",
    "    # y_train is the last data point from each sequence\n",
    "    y = data[:,-1,:]\n",
    "    \n",
    "\n",
    "    # Return the train and test data\n",
    "    return [x, y]"
   ]
  },
  {
   "cell_type": "code",
   "execution_count": 632,
   "metadata": {},
   "outputs": [],
   "source": [
    "ibm_df = pd.read_csv('IBM.csv')\n",
    "ibm_df['Date'] = pd.to_datetime(ibm_df['Date'])\n",
    "ibm_df.set_index('Date',inplace=True)\n",
    "ibm_df = ibm_df[['Close']]\n",
    "ibm_df[\"Close\"] = (ibm_df[\"Close\"]-ibm_df[\"Close\"].mean())/ibm_df[\"Close\"].std()\n",
    "\n",
    "# Get the number of rows in the DataFrame\n",
    "num_rows = ibm_df.shape[0]\n",
    "\n",
    "# Compute the split point\n",
    "split_point = int(num_rows*0.8)\n",
    "\n",
    "# Split the DataFrame\n",
    "train_val_df = ibm_df.iloc[:split_point]\n",
    "test_df = ibm_df.iloc[split_point:]\n",
    "val_split = int((train_val_df.shape[0])*0.8)\n",
    "train_df = train_val_df.iloc[:val_split]\n",
    "val_df = train_val_df[val_split:]\n",
    "\n",
    "x_train, y_train = load_data(train_df, 10) \n",
    "x_test, y_test = load_data(test_df, 10) \n",
    "x_val, y_val = load_data(val_df, 10)"
   ]
  },
  {
   "cell_type": "code",
   "execution_count": 633,
   "metadata": {},
   "outputs": [
    {
     "name": "stdout",
     "output_type": "stream",
     "text": [
      "               Close\n",
      "Date                \n",
      "2006-01-03 -1.693534\n",
      "2006-01-04 -1.696465\n",
      "2006-01-05 -1.681809\n",
      "2006-01-06 -1.616527\n",
      "2006-01-09 -1.649035\n"
     ]
    }
   ],
   "source": [
    "print(train_df.head()) #to ensure no shuffling accidentally occurred "
   ]
  },
  {
   "cell_type": "code",
   "execution_count": 634,
   "metadata": {},
   "outputs": [
    {
     "name": "stdout",
     "output_type": "stream",
     "text": [
      "               Close\n",
      "Date                \n",
      "2017-12-22  0.183396\n",
      "2017-12-26  0.192189\n",
      "2017-12-27  0.200182\n",
      "2017-12-28  0.224430\n",
      "2017-12-29  0.207910\n"
     ]
    }
   ],
   "source": [
    "print(test_df.tail())"
   ]
  },
  {
   "cell_type": "code",
   "execution_count": 635,
   "metadata": {},
   "outputs": [
    {
     "name": "stdout",
     "output_type": "stream",
     "text": [
      "Train input data shape: (1922, 9, 1), target shape: (1922, 1)\n"
     ]
    }
   ],
   "source": [
    "print(\"Train input data shape: {}, target shape: {}\".format(x_train.shape, y_train.shape)) "
   ]
  },
  {
   "cell_type": "code",
   "execution_count": 636,
   "metadata": {},
   "outputs": [
    {
     "name": "stdout",
     "output_type": "stream",
     "text": [
      "Test input data shape: (594, 9, 1), target shape: (594, 1)\n"
     ]
    }
   ],
   "source": [
    "print(\"Test input data shape: {}, target shape: {}\".format(x_test.shape, y_test.shape)) "
   ]
  },
  {
   "cell_type": "code",
   "execution_count": 637,
   "metadata": {},
   "outputs": [],
   "source": [
    "x_train = torch.from_numpy(x_train).type(torch.Tensor)\n",
    "x_test = torch.from_numpy(x_test).type(torch.Tensor)\n",
    "x_val = torch.from_numpy(x_val).type(torch.Tensor)\n",
    "y_train = torch.from_numpy(y_train).type(torch.Tensor)\n",
    "y_test = torch.from_numpy(y_test).type(torch.Tensor)\n",
    "y_val = torch.from_numpy(y_val).type(torch.Tensor)"
   ]
  },
  {
   "cell_type": "code",
   "execution_count": 638,
   "metadata": {},
   "outputs": [],
   "source": [
    "train_set = torch.utils.data.TensorDataset(x_train,y_train)\n",
    "test_set = torch.utils.data.TensorDataset(x_test,y_test)\n",
    "val_set = torch.utils.data.TensorDataset(x_val,y_val)"
   ]
  },
  {
   "cell_type": "code",
   "execution_count": 639,
   "metadata": {},
   "outputs": [],
   "source": [
    "NUM_EPOCHS = 200\n",
    "BATCH_SIZE = 32 \n",
    "LEARNING_RATE = 0.01\n",
    "INPUT_DIM = 1 \n",
    "OUTPUT_DIM = 1 \n",
    "HIDDEN_DIM = 16 "
   ]
  },
  {
   "cell_type": "code",
   "execution_count": 640,
   "metadata": {},
   "outputs": [],
   "source": [
    "train_loader = torch.utils.data.DataLoader(dataset=train_set, \n",
    "                                           batch_size=BATCH_SIZE, \n",
    "                                           shuffle=False)\n",
    "\n",
    "test_loader = torch.utils.data.DataLoader(dataset=test_set, \n",
    "                                          batch_size=BATCH_SIZE, \n",
    "                                          shuffle=False)\n",
    "val_loader = torch.utils.data.DataLoader(dataset=val_set, \n",
    "                                          batch_size=BATCH_SIZE, \n",
    "                                          shuffle=False)"
   ]
  },
  {
   "cell_type": "code",
   "execution_count": 641,
   "metadata": {},
   "outputs": [],
   "source": [
    "model = stockLSTM(INPUT_DIM, HIDDEN_DIM, OUTPUT_DIM)"
   ]
  },
  {
   "cell_type": "code",
   "execution_count": 642,
   "metadata": {},
   "outputs": [],
   "source": [
    "optimizer = torch.optim.Adam(model.parameters(), lr=LEARNING_RATE)\n",
    "DECAY_FACTOR = 0.0002\n",
    "DECAY_EPOCHS = 100\n",
    "START_DECAY_EPOCH = 100\n",
    "scheduler = torch.optim.lr_scheduler.StepLR(optimizer, step_size=DECAY_EPOCHS, gamma=DECAY_FACTOR)"
   ]
  },
  {
   "cell_type": "code",
   "execution_count": 643,
   "metadata": {},
   "outputs": [],
   "source": [
    "device = torch.device(\"cuda\" if torch.cuda.is_available() else \"cpu\")"
   ]
  },
  {
   "cell_type": "code",
   "execution_count": 644,
   "metadata": {},
   "outputs": [],
   "source": [
    "model = model.to(device)"
   ]
  },
  {
   "cell_type": "code",
   "execution_count": 645,
   "metadata": {},
   "outputs": [
    {
     "name": "stdout",
     "output_type": "stream",
     "text": [
      "Epoch 1 / 200\n",
      "----------\n"
     ]
    },
    {
     "name": "stderr",
     "output_type": "stream",
     "text": [
      "/home/aryaman.pandya/ml_accel/lib/python3.9/site-packages/torch/nn/_reduction.py:42: UserWarning:\n",
      "\n",
      "size_average and reduce args will be deprecated, please use reduction='mean' instead.\n",
      "\n"
     ]
    },
    {
     "name": "stdout",
     "output_type": "stream",
     "text": [
      "Step: 60/61, current Epoch loss: 0.3824\n",
      "Epoch: 1, validation loss: 1.0817\n",
      "Epoch 2 / 200\n",
      "----------\n",
      "Step: 60/61, current Epoch loss: 0.1330\n",
      "Epoch: 2, validation loss: 0.2752\n",
      "Epoch 3 / 200\n",
      "----------\n",
      "Step: 60/61, current Epoch loss: 0.1204\n",
      "Epoch: 3, validation loss: 0.0301\n",
      "Epoch 4 / 200\n",
      "----------\n",
      "Step: 60/61, current Epoch loss: 0.0180\n",
      "Epoch: 4, validation loss: 0.0121\n",
      "Epoch 5 / 200\n",
      "----------\n",
      "Step: 60/61, current Epoch loss: 0.0143\n",
      "Epoch: 5, validation loss: 0.0100\n",
      "Epoch 6 / 200\n",
      "----------\n",
      "Step: 60/61, current Epoch loss: 0.0148\n",
      "Epoch: 6, validation loss: 0.0152\n",
      "Epoch 7 / 200\n",
      "----------\n",
      "Step: 60/61, current Epoch loss: 0.0142\n",
      "Epoch: 7, validation loss: 0.0162\n",
      "Epoch 8 / 200\n",
      "----------\n",
      "Step: 60/61, current Epoch loss: 0.0104\n",
      "Epoch: 8, validation loss: 0.0152\n",
      "Epoch 9 / 200\n",
      "----------\n",
      "Step: 60/61, current Epoch loss: 0.0102\n",
      "Epoch: 9, validation loss: 0.0111\n",
      "Epoch 10 / 200\n",
      "----------\n",
      "Step: 60/61, current Epoch loss: 0.0065\n",
      "Epoch: 10, validation loss: 0.0089\n",
      "Epoch 11 / 200\n",
      "----------\n",
      "Step: 60/61, current Epoch loss: 0.0068\n",
      "Epoch: 11, validation loss: 0.0067\n",
      "Epoch 12 / 200\n",
      "----------\n",
      "Step: 60/61, current Epoch loss: 0.0046\n",
      "Epoch: 12, validation loss: 0.0055\n",
      "Epoch 13 / 200\n",
      "----------\n",
      "Step: 60/61, current Epoch loss: 0.0051\n",
      "Epoch: 13, validation loss: 0.0050\n",
      "Epoch 14 / 200\n",
      "----------\n",
      "Step: 60/61, current Epoch loss: 0.0041\n",
      "Epoch: 14, validation loss: 0.0048\n",
      "Epoch 15 / 200\n",
      "----------\n",
      "Step: 60/61, current Epoch loss: 0.0047\n",
      "Epoch: 15, validation loss: 0.0053\n",
      "Epoch 16 / 200\n",
      "----------\n",
      "Step: 60/61, current Epoch loss: 0.0051\n",
      "Epoch: 16, validation loss: 0.0057\n",
      "Epoch 17 / 200\n",
      "----------\n",
      "Step: 60/61, current Epoch loss: 0.0065\n",
      "Epoch: 17, validation loss: 0.0071\n",
      "Epoch 18 / 200\n",
      "----------\n",
      "Step: 60/61, current Epoch loss: 0.0091\n",
      "Epoch: 18, validation loss: 0.0087\n",
      "Epoch 19 / 200\n",
      "----------\n",
      "Step: 60/61, current Epoch loss: 0.0131\n",
      "Epoch: 19, validation loss: 0.0103\n",
      "Epoch 20 / 200\n",
      "----------\n",
      "Step: 60/61, current Epoch loss: 0.0180\n",
      "Epoch: 20, validation loss: 0.0121\n",
      "Epoch 21 / 200\n",
      "----------\n",
      "Step: 60/61, current Epoch loss: 0.0192\n",
      "Epoch: 21, validation loss: 0.0437\n",
      "Epoch 22 / 200\n",
      "----------\n",
      "Step: 60/61, current Epoch loss: 0.0251\n",
      "Epoch: 22, validation loss: 0.0034\n",
      "Epoch 23 / 200\n",
      "----------\n",
      "Step: 60/61, current Epoch loss: 0.0150\n",
      "Epoch: 23, validation loss: 0.0272\n",
      "Epoch 24 / 200\n",
      "----------\n",
      "Step: 60/61, current Epoch loss: 0.0298\n",
      "Epoch: 24, validation loss: 0.0136\n",
      "Epoch 25 / 200\n",
      "----------\n",
      "Step: 60/61, current Epoch loss: 0.0124\n",
      "Epoch: 25, validation loss: 0.0099\n",
      "Epoch 26 / 200\n",
      "----------\n",
      "Step: 60/61, current Epoch loss: 0.0055\n",
      "Epoch: 26, validation loss: 0.0067\n",
      "Epoch 27 / 200\n",
      "----------\n",
      "Step: 60/61, current Epoch loss: 0.0030\n",
      "Epoch: 27, validation loss: 0.0033\n",
      "Epoch 28 / 200\n",
      "----------\n",
      "Step: 60/61, current Epoch loss: 0.0031\n",
      "Epoch: 28, validation loss: 0.0033\n",
      "Epoch 29 / 200\n",
      "----------\n",
      "Step: 60/61, current Epoch loss: 0.0028\n",
      "Epoch: 29, validation loss: 0.0037\n",
      "Epoch 30 / 200\n",
      "----------\n",
      "Step: 60/61, current Epoch loss: 0.0029\n",
      "Epoch: 30, validation loss: 0.0040\n",
      "Epoch 31 / 200\n",
      "----------\n",
      "Step: 60/61, current Epoch loss: 0.0029\n",
      "Epoch: 31, validation loss: 0.0042\n",
      "Epoch 32 / 200\n",
      "----------\n",
      "Step: 60/61, current Epoch loss: 0.0030\n",
      "Epoch: 32, validation loss: 0.0046\n",
      "Epoch 33 / 200\n",
      "----------\n",
      "Step: 60/61, current Epoch loss: 0.0031\n",
      "Epoch: 33, validation loss: 0.0051\n",
      "Epoch 34 / 200\n",
      "----------\n",
      "Step: 60/61, current Epoch loss: 0.0033\n",
      "Epoch: 34, validation loss: 0.0060\n",
      "Epoch 35 / 200\n",
      "----------\n",
      "Step: 60/61, current Epoch loss: 0.0037\n",
      "Epoch: 35, validation loss: 0.0076\n",
      "Epoch 36 / 200\n",
      "----------\n",
      "Step: 60/61, current Epoch loss: 0.0042\n",
      "Epoch: 36, validation loss: 0.0099\n",
      "Epoch 37 / 200\n",
      "----------\n",
      "Step: 60/61, current Epoch loss: 0.0050\n",
      "Epoch: 37, validation loss: 0.0135\n",
      "Epoch 38 / 200\n",
      "----------\n",
      "Step: 60/61, current Epoch loss: 0.0062\n",
      "Epoch: 38, validation loss: 0.0188\n",
      "Epoch 39 / 200\n",
      "----------\n",
      "Step: 60/61, current Epoch loss: 0.0076\n",
      "Epoch: 39, validation loss: 0.0261\n",
      "Epoch 40 / 200\n",
      "----------\n",
      "Step: 60/61, current Epoch loss: 0.0089\n",
      "Epoch: 40, validation loss: 0.0348\n",
      "Epoch 41 / 200\n",
      "----------\n",
      "Step: 60/61, current Epoch loss: 0.0096\n",
      "Epoch: 41, validation loss: 0.0405\n",
      "Epoch 42 / 200\n",
      "----------\n",
      "Step: 60/61, current Epoch loss: 0.0091\n",
      "Epoch: 42, validation loss: 0.0374\n",
      "Epoch 43 / 200\n",
      "----------\n",
      "Step: 60/61, current Epoch loss: 0.0080\n",
      "Epoch: 43, validation loss: 0.0253\n",
      "Epoch 44 / 200\n",
      "----------\n",
      "Step: 60/61, current Epoch loss: 0.0071\n",
      "Epoch: 44, validation loss: 0.0189\n",
      "Epoch 45 / 200\n",
      "----------\n",
      "Step: 60/61, current Epoch loss: 0.0058\n",
      "Epoch: 45, validation loss: 0.0188\n",
      "Epoch 46 / 200\n",
      "----------\n",
      "Step: 60/61, current Epoch loss: 0.0051\n",
      "Epoch: 46, validation loss: 0.0169\n",
      "Epoch 47 / 200\n",
      "----------\n",
      "Step: 60/61, current Epoch loss: 0.0050\n",
      "Epoch: 47, validation loss: 0.0162\n",
      "Epoch 48 / 200\n",
      "----------\n",
      "Step: 60/61, current Epoch loss: 0.0050\n",
      "Epoch: 48, validation loss: 0.0157\n",
      "Epoch 49 / 200\n",
      "----------\n",
      "Step: 60/61, current Epoch loss: 0.0050\n",
      "Epoch: 49, validation loss: 0.0156\n",
      "Epoch 50 / 200\n",
      "----------\n",
      "Step: 60/61, current Epoch loss: 0.0049\n",
      "Epoch: 50, validation loss: 0.0163\n",
      "Epoch 51 / 200\n",
      "----------\n",
      "Step: 60/61, current Epoch loss: 0.0049\n",
      "Epoch: 51, validation loss: 0.0176\n",
      "Epoch 52 / 200\n",
      "----------\n",
      "Step: 60/61, current Epoch loss: 0.0052\n",
      "Epoch: 52, validation loss: 0.0199\n",
      "Epoch 53 / 200\n",
      "----------\n",
      "Step: 60/61, current Epoch loss: 0.0058\n",
      "Epoch: 53, validation loss: 0.0227\n",
      "Epoch 54 / 200\n",
      "----------\n",
      "Step: 60/61, current Epoch loss: 0.0064\n",
      "Epoch: 54, validation loss: 0.0270\n",
      "Epoch 55 / 200\n",
      "----------\n",
      "Step: 60/61, current Epoch loss: 0.0069\n",
      "Epoch: 55, validation loss: 0.0261\n",
      "Epoch 56 / 200\n",
      "----------\n",
      "Step: 60/61, current Epoch loss: 0.0081\n",
      "Epoch: 56, validation loss: 0.0320\n",
      "Epoch 57 / 200\n",
      "----------\n",
      "Step: 60/61, current Epoch loss: 0.0084\n",
      "Epoch: 57, validation loss: 0.0448\n",
      "Epoch 58 / 200\n",
      "----------\n",
      "Step: 60/61, current Epoch loss: 0.0094\n",
      "Epoch: 58, validation loss: 0.0400\n",
      "Epoch 59 / 200\n",
      "----------\n",
      "Step: 60/61, current Epoch loss: 0.0074\n",
      "Epoch: 59, validation loss: 0.0267\n",
      "Epoch 60 / 200\n",
      "----------\n",
      "Step: 60/61, current Epoch loss: 0.0057\n",
      "Epoch: 60, validation loss: 0.0183\n",
      "Epoch 61 / 200\n",
      "----------\n",
      "Step: 60/61, current Epoch loss: 0.0044\n",
      "Epoch: 61, validation loss: 0.0141\n",
      "Epoch 62 / 200\n",
      "----------\n",
      "Step: 60/61, current Epoch loss: 0.0042\n",
      "Epoch: 62, validation loss: 0.0155\n",
      "Epoch 63 / 200\n",
      "----------\n",
      "Step: 60/61, current Epoch loss: 0.0046\n",
      "Epoch: 63, validation loss: 0.0178\n",
      "Epoch 64 / 200\n",
      "----------\n",
      "Step: 60/61, current Epoch loss: 0.0053\n",
      "Epoch: 64, validation loss: 0.0191\n",
      "Epoch 65 / 200\n",
      "----------\n",
      "Step: 60/61, current Epoch loss: 0.0060\n",
      "Epoch: 65, validation loss: 0.0230\n",
      "Epoch 66 / 200\n",
      "----------\n",
      "Step: 60/61, current Epoch loss: 0.0064\n",
      "Epoch: 66, validation loss: 0.0231\n",
      "Epoch 67 / 200\n",
      "----------\n",
      "Step: 60/61, current Epoch loss: 0.0067\n",
      "Epoch: 67, validation loss: 0.0236\n",
      "Epoch 68 / 200\n",
      "----------\n",
      "Step: 60/61, current Epoch loss: 0.0062\n",
      "Epoch: 68, validation loss: 0.0208\n",
      "Epoch 69 / 200\n",
      "----------\n",
      "Step: 60/61, current Epoch loss: 0.0054\n",
      "Epoch: 69, validation loss: 0.0192\n",
      "Epoch 70 / 200\n",
      "----------\n",
      "Step: 60/61, current Epoch loss: 0.0051\n",
      "Epoch: 70, validation loss: 0.0198\n",
      "Epoch 71 / 200\n",
      "----------\n",
      "Step: 60/61, current Epoch loss: 0.0051\n",
      "Epoch: 71, validation loss: 0.0238\n",
      "Epoch 72 / 200\n",
      "----------\n",
      "Step: 60/61, current Epoch loss: 0.0060\n",
      "Epoch: 72, validation loss: 0.0240\n",
      "Epoch 73 / 200\n",
      "----------\n",
      "Step: 60/61, current Epoch loss: 0.0060\n",
      "Epoch: 73, validation loss: 0.0207\n",
      "Epoch 74 / 200\n",
      "----------\n",
      "Step: 60/61, current Epoch loss: 0.0061\n",
      "Epoch: 74, validation loss: 0.0213\n",
      "Epoch 75 / 200\n",
      "----------\n",
      "Step: 60/61, current Epoch loss: 0.0066\n",
      "Epoch: 75, validation loss: 0.0287\n",
      "Epoch 76 / 200\n",
      "----------\n",
      "Step: 60/61, current Epoch loss: 0.0065\n",
      "Epoch: 76, validation loss: 0.0285\n",
      "Epoch 77 / 200\n",
      "----------\n",
      "Step: 60/61, current Epoch loss: 0.0059\n",
      "Epoch: 77, validation loss: 0.0188\n",
      "Epoch 78 / 200\n",
      "----------\n",
      "Step: 60/61, current Epoch loss: 0.0056\n",
      "Epoch: 78, validation loss: 0.0202\n",
      "Epoch 79 / 200\n",
      "----------\n",
      "Step: 60/61, current Epoch loss: 0.0049\n",
      "Epoch: 79, validation loss: 0.0188\n",
      "Epoch 80 / 200\n",
      "----------\n",
      "Step: 60/61, current Epoch loss: 0.0048\n",
      "Epoch: 80, validation loss: 0.0214\n",
      "Epoch 81 / 200\n",
      "----------\n",
      "Step: 60/61, current Epoch loss: 0.0054\n",
      "Epoch: 81, validation loss: 0.0226\n",
      "Epoch 82 / 200\n",
      "----------\n",
      "Step: 60/61, current Epoch loss: 0.0054\n",
      "Epoch: 82, validation loss: 0.0175\n",
      "Epoch 83 / 200\n",
      "----------\n",
      "Step: 60/61, current Epoch loss: 0.0054\n",
      "Epoch: 83, validation loss: 0.0179\n",
      "Epoch 84 / 200\n",
      "----------\n",
      "Step: 60/61, current Epoch loss: 0.0055\n",
      "Epoch: 84, validation loss: 0.0179\n",
      "Epoch 85 / 200\n",
      "----------\n",
      "Step: 60/61, current Epoch loss: 0.0050\n",
      "Epoch: 85, validation loss: 0.0209\n",
      "Epoch 86 / 200\n",
      "----------\n",
      "Step: 60/61, current Epoch loss: 0.0053\n",
      "Epoch: 86, validation loss: 0.0210\n",
      "Epoch 87 / 200\n",
      "----------\n",
      "Step: 60/61, current Epoch loss: 0.0056\n",
      "Epoch: 87, validation loss: 0.0248\n",
      "Epoch 88 / 200\n",
      "----------\n",
      "Step: 60/61, current Epoch loss: 0.0057\n",
      "Epoch: 88, validation loss: 0.0207\n",
      "Epoch 89 / 200\n",
      "----------\n",
      "Step: 60/61, current Epoch loss: 0.0056\n",
      "Epoch: 89, validation loss: 0.0224\n",
      "Epoch 90 / 200\n",
      "----------\n",
      "Step: 60/61, current Epoch loss: 0.0056\n",
      "Epoch: 90, validation loss: 0.0167\n",
      "Epoch 91 / 200\n",
      "----------\n",
      "Step: 60/61, current Epoch loss: 0.0072\n",
      "Epoch: 91, validation loss: 0.0167\n",
      "Epoch 92 / 200\n",
      "----------\n",
      "Step: 60/61, current Epoch loss: 0.0058\n",
      "Epoch: 92, validation loss: 0.0242\n",
      "Epoch 93 / 200\n",
      "----------\n",
      "Step: 60/61, current Epoch loss: 0.0101\n",
      "Epoch: 93, validation loss: 0.0333\n",
      "Epoch 94 / 200\n",
      "----------\n",
      "Step: 60/61, current Epoch loss: 0.0071\n",
      "Epoch: 94, validation loss: 0.0110\n",
      "Epoch 95 / 200\n",
      "----------\n",
      "Step: 60/61, current Epoch loss: 0.0073\n",
      "Epoch: 95, validation loss: 0.0195\n",
      "Epoch 96 / 200\n",
      "----------\n",
      "Step: 60/61, current Epoch loss: 0.0034\n",
      "Epoch: 96, validation loss: 0.0054\n",
      "Epoch 97 / 200\n",
      "----------\n",
      "Step: 60/61, current Epoch loss: 0.0032\n",
      "Epoch: 97, validation loss: 0.0093\n",
      "Epoch 98 / 200\n",
      "----------\n",
      "Step: 60/61, current Epoch loss: 0.0051\n",
      "Epoch: 98, validation loss: 0.0145\n",
      "Epoch 99 / 200\n",
      "----------\n",
      "Step: 60/61, current Epoch loss: 0.0047\n",
      "Epoch: 99, validation loss: 0.0121\n",
      "Epoch 100 / 200\n",
      "----------\n",
      "Step: 60/61, current Epoch loss: 0.0061\n",
      "Epoch: 100, validation loss: 0.0227\n",
      "Epoch 101 / 200\n",
      "----------\n",
      "Step: 60/61, current Epoch loss: 0.0054\n",
      "Epoch: 101, validation loss: 0.0170\n",
      "Epoch 102 / 200\n",
      "----------\n",
      "Step: 60/61, current Epoch loss: 0.0052\n",
      "Epoch: 102, validation loss: 0.0149\n",
      "Epoch 103 / 200\n",
      "----------\n",
      "Step: 60/61, current Epoch loss: 0.0040\n",
      "Epoch: 103, validation loss: 0.0125\n",
      "Epoch 104 / 200\n",
      "----------\n",
      "Step: 60/61, current Epoch loss: 0.0036\n",
      "Epoch: 104, validation loss: 0.0120\n",
      "Epoch 105 / 200\n",
      "----------\n",
      "Step: 60/61, current Epoch loss: 0.0039\n",
      "Epoch: 105, validation loss: 0.0147\n",
      "Epoch 106 / 200\n",
      "----------\n",
      "Step: 60/61, current Epoch loss: 0.0046\n",
      "Epoch: 106, validation loss: 0.0165\n",
      "Epoch 107 / 200\n",
      "----------\n",
      "Step: 60/61, current Epoch loss: 0.0047\n",
      "Epoch: 107, validation loss: 0.0193\n",
      "Epoch 108 / 200\n",
      "----------\n",
      "Step: 60/61, current Epoch loss: 0.0052\n",
      "Epoch: 108, validation loss: 0.0206\n",
      "Epoch 109 / 200\n",
      "----------\n",
      "Step: 60/61, current Epoch loss: 0.0053\n",
      "Epoch: 109, validation loss: 0.0201\n",
      "Epoch 110 / 200\n",
      "----------\n",
      "Step: 60/61, current Epoch loss: 0.0051\n",
      "Epoch: 110, validation loss: 0.0199\n",
      "Epoch 111 / 200\n",
      "----------\n",
      "Step: 60/61, current Epoch loss: 0.0046\n",
      "Epoch: 111, validation loss: 0.0166\n",
      "Epoch 112 / 200\n",
      "----------\n",
      "Step: 60/61, current Epoch loss: 0.0043\n",
      "Epoch: 112, validation loss: 0.0167\n",
      "Epoch 113 / 200\n",
      "----------\n",
      "Step: 60/61, current Epoch loss: 0.0042\n",
      "Epoch: 113, validation loss: 0.0163\n",
      "Epoch 114 / 200\n",
      "----------\n",
      "Step: 60/61, current Epoch loss: 0.0044\n",
      "Epoch: 114, validation loss: 0.0180\n",
      "Epoch 115 / 200\n",
      "----------\n",
      "Step: 60/61, current Epoch loss: 0.0046\n",
      "Epoch: 115, validation loss: 0.0175\n",
      "Epoch 116 / 200\n",
      "----------\n",
      "Step: 60/61, current Epoch loss: 0.0048\n",
      "Epoch: 116, validation loss: 0.0213\n",
      "Epoch 117 / 200\n",
      "----------\n",
      "Step: 60/61, current Epoch loss: 0.0052\n",
      "Epoch: 117, validation loss: 0.0200\n",
      "Epoch 118 / 200\n",
      "----------\n",
      "Step: 60/61, current Epoch loss: 0.0060\n",
      "Epoch: 118, validation loss: 0.0265\n",
      "Epoch 119 / 200\n",
      "----------\n",
      "Step: 60/61, current Epoch loss: 0.0057\n",
      "Epoch: 119, validation loss: 0.0215\n",
      "Epoch 120 / 200\n",
      "----------\n",
      "Step: 60/61, current Epoch loss: 0.0057\n",
      "Epoch: 120, validation loss: 0.0205\n",
      "Epoch 121 / 200\n",
      "----------\n",
      "Step: 60/61, current Epoch loss: 0.0048\n",
      "Epoch: 121, validation loss: 0.0208\n",
      "Epoch 122 / 200\n",
      "----------\n",
      "Step: 60/61, current Epoch loss: 0.0047\n",
      "Epoch: 122, validation loss: 0.0162\n",
      "Epoch 123 / 200\n",
      "----------\n",
      "Step: 60/61, current Epoch loss: 0.0044\n",
      "Epoch: 123, validation loss: 0.0187\n",
      "Epoch 124 / 200\n",
      "----------\n",
      "Step: 60/61, current Epoch loss: 0.0043\n",
      "Epoch: 124, validation loss: 0.0155\n",
      "Epoch 125 / 200\n",
      "----------\n",
      "Step: 60/61, current Epoch loss: 0.0043\n",
      "Epoch: 125, validation loss: 0.0121\n",
      "Epoch 126 / 200\n",
      "----------\n",
      "Step: 60/61, current Epoch loss: 0.0041\n",
      "Epoch: 126, validation loss: 0.0110\n",
      "Epoch 127 / 200\n",
      "----------\n",
      "Step: 60/61, current Epoch loss: 0.0038\n",
      "Epoch: 127, validation loss: 0.0129\n",
      "Epoch 128 / 200\n",
      "----------\n",
      "Step: 60/61, current Epoch loss: 0.0038\n",
      "Epoch: 128, validation loss: 0.0155\n",
      "Epoch 129 / 200\n",
      "----------\n",
      "Step: 60/61, current Epoch loss: 0.0045\n",
      "Epoch: 129, validation loss: 0.0180\n",
      "Epoch 130 / 200\n",
      "----------\n",
      "Step: 60/61, current Epoch loss: 0.0049\n",
      "Epoch: 130, validation loss: 0.0162\n",
      "Epoch 131 / 200\n",
      "----------\n",
      "Step: 60/61, current Epoch loss: 0.0044\n",
      "Epoch: 131, validation loss: 0.0094\n",
      "Epoch 132 / 200\n",
      "----------\n",
      "Step: 60/61, current Epoch loss: 0.0048\n",
      "Epoch: 132, validation loss: 0.0147\n",
      "Epoch 133 / 200\n",
      "----------\n",
      "Step: 60/61, current Epoch loss: 0.0036\n",
      "Epoch: 133, validation loss: 0.0162\n",
      "Epoch 134 / 200\n",
      "----------\n",
      "Step: 60/61, current Epoch loss: 0.0043\n",
      "Epoch: 134, validation loss: 0.0112\n",
      "Epoch 135 / 200\n",
      "----------\n",
      "Step: 60/61, current Epoch loss: 0.0042\n",
      "Epoch: 135, validation loss: 0.0160\n",
      "Epoch 136 / 200\n",
      "----------\n",
      "Step: 60/61, current Epoch loss: 0.0044\n",
      "Epoch: 136, validation loss: 0.0143\n",
      "Epoch 137 / 200\n",
      "----------\n",
      "Step: 60/61, current Epoch loss: 0.0044\n",
      "Epoch: 137, validation loss: 0.0170\n",
      "Epoch 138 / 200\n",
      "----------\n",
      "Step: 60/61, current Epoch loss: 0.0047\n",
      "Epoch: 138, validation loss: 0.0246\n",
      "Epoch 139 / 200\n",
      "----------\n",
      "Step: 60/61, current Epoch loss: 0.0059\n",
      "Epoch: 139, validation loss: 0.0143\n",
      "Epoch 140 / 200\n",
      "----------\n",
      "Step: 60/61, current Epoch loss: 0.0051\n",
      "Epoch: 140, validation loss: 0.0133\n",
      "Epoch 141 / 200\n",
      "----------\n",
      "Step: 60/61, current Epoch loss: 0.0044\n",
      "Epoch: 141, validation loss: 0.0133\n",
      "Epoch 142 / 200\n",
      "----------\n",
      "Step: 60/61, current Epoch loss: 0.0055\n",
      "Epoch: 142, validation loss: 0.0078\n",
      "Epoch 143 / 200\n",
      "----------\n",
      "Step: 60/61, current Epoch loss: 0.0044\n",
      "Epoch: 143, validation loss: 0.0259\n",
      "Epoch 144 / 200\n",
      "----------\n",
      "Step: 60/61, current Epoch loss: 0.0049\n",
      "Epoch: 144, validation loss: 0.0054\n",
      "Epoch 145 / 200\n",
      "----------\n",
      "Step: 60/61, current Epoch loss: 0.0116\n",
      "Epoch: 145, validation loss: 0.0296\n",
      "Epoch 146 / 200\n",
      "----------\n",
      "Step: 60/61, current Epoch loss: 0.0257\n",
      "Epoch: 146, validation loss: 0.0143\n",
      "Epoch 147 / 200\n",
      "----------\n",
      "Step: 60/61, current Epoch loss: 0.0220\n",
      "Epoch: 147, validation loss: 0.0084\n",
      "Epoch 148 / 200\n",
      "----------\n",
      "Step: 60/61, current Epoch loss: 0.0198\n",
      "Epoch: 148, validation loss: 0.0034\n",
      "Epoch 149 / 200\n",
      "----------\n",
      "Step: 60/61, current Epoch loss: 0.0093\n",
      "Epoch: 149, validation loss: 0.0115\n",
      "Epoch 150 / 200\n",
      "----------\n",
      "Step: 60/61, current Epoch loss: 0.0075\n",
      "Epoch: 150, validation loss: 0.0087\n",
      "Epoch 151 / 200\n",
      "----------\n",
      "Step: 60/61, current Epoch loss: 0.0045\n",
      "Epoch: 151, validation loss: 0.0103\n",
      "Epoch 152 / 200\n",
      "----------\n",
      "Step: 60/61, current Epoch loss: 0.0042\n",
      "Epoch: 152, validation loss: 0.0140\n",
      "Epoch 153 / 200\n",
      "----------\n",
      "Step: 60/61, current Epoch loss: 0.0031\n",
      "Epoch: 153, validation loss: 0.0051\n",
      "Epoch 154 / 200\n",
      "----------\n",
      "Step: 60/61, current Epoch loss: 0.0026\n",
      "Epoch: 154, validation loss: 0.0039\n",
      "Epoch 155 / 200\n",
      "----------\n",
      "Step: 60/61, current Epoch loss: 0.0026\n",
      "Epoch: 155, validation loss: 0.0039\n",
      "Epoch 156 / 200\n",
      "----------\n",
      "Step: 60/61, current Epoch loss: 0.0027\n",
      "Epoch: 156, validation loss: 0.0040\n",
      "Epoch 157 / 200\n",
      "----------\n",
      "Step: 60/61, current Epoch loss: 0.0026\n",
      "Epoch: 157, validation loss: 0.0039\n",
      "Epoch 158 / 200\n",
      "----------\n",
      "Step: 60/61, current Epoch loss: 0.0026\n",
      "Epoch: 158, validation loss: 0.0043\n",
      "Epoch 159 / 200\n",
      "----------\n",
      "Step: 60/61, current Epoch loss: 0.0028\n",
      "Epoch: 159, validation loss: 0.0055\n",
      "Epoch 160 / 200\n",
      "----------\n",
      "Step: 60/61, current Epoch loss: 0.0031\n",
      "Epoch: 160, validation loss: 0.0066\n",
      "Epoch 161 / 200\n",
      "----------\n",
      "Step: 60/61, current Epoch loss: 0.0034\n",
      "Epoch: 161, validation loss: 0.0082\n",
      "Epoch 162 / 200\n",
      "----------\n",
      "Step: 60/61, current Epoch loss: 0.0036\n",
      "Epoch: 162, validation loss: 0.0108\n",
      "Epoch 163 / 200\n",
      "----------\n",
      "Step: 60/61, current Epoch loss: 0.0039\n",
      "Epoch: 163, validation loss: 0.0109\n",
      "Epoch 164 / 200\n",
      "----------\n",
      "Step: 60/61, current Epoch loss: 0.0039\n",
      "Epoch: 164, validation loss: 0.0105\n",
      "Epoch 165 / 200\n",
      "----------\n",
      "Step: 60/61, current Epoch loss: 0.0038\n",
      "Epoch: 165, validation loss: 0.0093\n",
      "Epoch 166 / 200\n",
      "----------\n",
      "Step: 60/61, current Epoch loss: 0.0038\n",
      "Epoch: 166, validation loss: 0.0092\n",
      "Epoch 167 / 200\n",
      "----------\n",
      "Step: 60/61, current Epoch loss: 0.0038\n",
      "Epoch: 167, validation loss: 0.0087\n",
      "Epoch 168 / 200\n",
      "----------\n",
      "Step: 60/61, current Epoch loss: 0.0039\n",
      "Epoch: 168, validation loss: 0.0087\n",
      "Epoch 169 / 200\n",
      "----------\n",
      "Step: 60/61, current Epoch loss: 0.0039\n",
      "Epoch: 169, validation loss: 0.0089\n",
      "Epoch 170 / 200\n",
      "----------\n",
      "Step: 60/61, current Epoch loss: 0.0040\n",
      "Epoch: 170, validation loss: 0.0096\n",
      "Epoch 171 / 200\n",
      "----------\n",
      "Step: 60/61, current Epoch loss: 0.0041\n",
      "Epoch: 171, validation loss: 0.0096\n",
      "Epoch 172 / 200\n",
      "----------\n",
      "Step: 60/61, current Epoch loss: 0.0040\n",
      "Epoch: 172, validation loss: 0.0102\n",
      "Epoch 173 / 200\n",
      "----------\n",
      "Step: 60/61, current Epoch loss: 0.0040\n",
      "Epoch: 173, validation loss: 0.0102\n",
      "Epoch 174 / 200\n",
      "----------\n",
      "Step: 60/61, current Epoch loss: 0.0040\n",
      "Epoch: 174, validation loss: 0.0111\n",
      "Epoch 175 / 200\n",
      "----------\n",
      "Step: 60/61, current Epoch loss: 0.0040\n",
      "Epoch: 175, validation loss: 0.0097\n",
      "Epoch 176 / 200\n",
      "----------\n",
      "Step: 60/61, current Epoch loss: 0.0038\n",
      "Epoch: 176, validation loss: 0.0118\n",
      "Epoch 177 / 200\n",
      "----------\n",
      "Step: 60/61, current Epoch loss: 0.0039\n",
      "Epoch: 177, validation loss: 0.0083\n",
      "Epoch 178 / 200\n",
      "----------\n",
      "Step: 60/61, current Epoch loss: 0.0037\n",
      "Epoch: 178, validation loss: 0.0121\n",
      "Epoch 179 / 200\n",
      "----------\n",
      "Step: 60/61, current Epoch loss: 0.0038\n",
      "Epoch: 179, validation loss: 0.0100\n",
      "Epoch 180 / 200\n",
      "----------\n",
      "Step: 60/61, current Epoch loss: 0.0039\n",
      "Epoch: 180, validation loss: 0.0107\n",
      "Epoch 181 / 200\n",
      "----------\n",
      "Step: 60/61, current Epoch loss: 0.0036\n",
      "Epoch: 181, validation loss: 0.0123\n",
      "Epoch 182 / 200\n",
      "----------\n",
      "Step: 60/61, current Epoch loss: 0.0039\n",
      "Epoch: 182, validation loss: 0.0112\n",
      "Epoch 183 / 200\n",
      "----------\n",
      "Step: 60/61, current Epoch loss: 0.0038\n",
      "Epoch: 183, validation loss: 0.0144\n",
      "Epoch 184 / 200\n",
      "----------\n",
      "Step: 60/61, current Epoch loss: 0.0039\n",
      "Epoch: 184, validation loss: 0.0117\n",
      "Epoch 185 / 200\n",
      "----------\n",
      "Step: 60/61, current Epoch loss: 0.0039\n",
      "Epoch: 185, validation loss: 0.0129\n",
      "Epoch 186 / 200\n",
      "----------\n",
      "Step: 60/61, current Epoch loss: 0.0036\n",
      "Epoch: 186, validation loss: 0.0131\n",
      "Epoch 187 / 200\n",
      "----------\n",
      "Step: 60/61, current Epoch loss: 0.0040\n",
      "Epoch: 187, validation loss: 0.0124\n",
      "Epoch 188 / 200\n",
      "----------\n",
      "Step: 60/61, current Epoch loss: 0.0038\n",
      "Epoch: 188, validation loss: 0.0165\n",
      "Epoch 189 / 200\n",
      "----------\n",
      "Step: 60/61, current Epoch loss: 0.0044\n",
      "Epoch: 189, validation loss: 0.0114\n",
      "Epoch 190 / 200\n",
      "----------\n",
      "Step: 60/61, current Epoch loss: 0.0042\n",
      "Epoch: 190, validation loss: 0.0208\n",
      "Epoch 191 / 200\n",
      "----------\n",
      "Step: 60/61, current Epoch loss: 0.0047\n",
      "Epoch: 191, validation loss: 0.0124\n",
      "Epoch 192 / 200\n",
      "----------\n",
      "Step: 60/61, current Epoch loss: 0.0047\n",
      "Epoch: 192, validation loss: 0.0246\n",
      "Epoch 193 / 200\n",
      "----------\n",
      "Step: 60/61, current Epoch loss: 0.0044\n",
      "Epoch: 193, validation loss: 0.0185\n",
      "Epoch 194 / 200\n",
      "----------\n",
      "Step: 60/61, current Epoch loss: 0.0053\n",
      "Epoch: 194, validation loss: 0.0125\n",
      "Epoch 195 / 200\n",
      "----------\n",
      "Step: 60/61, current Epoch loss: 0.0041\n",
      "Epoch: 195, validation loss: 0.0187\n",
      "Epoch 196 / 200\n",
      "----------\n",
      "Step: 60/61, current Epoch loss: 0.0040\n",
      "Epoch: 196, validation loss: 0.0114\n",
      "Epoch 197 / 200\n",
      "----------\n",
      "Step: 60/61, current Epoch loss: 0.0038\n",
      "Epoch: 197, validation loss: 0.0140\n",
      "Epoch 198 / 200\n",
      "----------\n",
      "Step: 60/61, current Epoch loss: 0.0034\n",
      "Epoch: 198, validation loss: 0.0122\n",
      "Epoch 199 / 200\n",
      "----------\n",
      "Step: 60/61, current Epoch loss: 0.0036\n",
      "Epoch: 199, validation loss: 0.0094\n",
      "Epoch 200 / 200\n",
      "----------\n",
      "Step: 60/61, current Epoch loss: 0.0033\n",
      "Epoch: 200, validation loss: 0.0134\n"
     ]
    }
   ],
   "source": [
    "losses = train_scratch_model(model=model, train_loader=train_loader, val_loader=val_loader, loss_function=torch.nn.MSELoss(size_average=True), optim=optimizer, epochs=NUM_EPOCHS, device=device, scheduler=scheduler, \\\n",
    "    start_decay=START_DECAY_EPOCH)"
   ]
  },
  {
   "cell_type": "markdown",
   "metadata": {},
   "source": [
    "# Notes \n",
    "After increasing the learning rate and de-coupling the output layer from the original lstm neural network we see performance boosts that get the LSTM to actually learn. The RNN still seems to outperform the LSTM on this task, but such short window inputs are not where LSTMs thrive. They thrive when they can capture long term dependencies that RNNs cannot. We will be exploring this idea further in the future. \n",
    "\n",
    "Initially, the prediction test curve appeared flat. My network produced a curve with a roughly correct \"shape\" but was off by orders of magnitude in terms of scaling, making it look flat when compared to the target output. Continued training didn't help; it seemed to plateau.\n",
    "\n",
    "Normalizing the data solves this problem. "
   ]
  },
  {
   "cell_type": "code",
   "execution_count": 646,
   "metadata": {},
   "outputs": [
    {
     "data": {
      "image/png": "[encoded data removed]",
      "text/plain": [
       "<Figure size 640x480 with 1 Axes>"
      ]
     },
     "metadata": {},
     "output_type": "display_data"
    }
   ],
   "source": [
    "import matplotlib.pyplot as plt\n",
    "plt.plot(losses)\n",
    "plt.show()"
   ]
  },
  {
   "cell_type": "code",
   "execution_count": 647,
   "metadata": {},
   "outputs": [
    {
     "data": {
      "application/vnd.plotly.v1+json": {
       "config": {
        "plotlyServerURL": "https://plot.ly"
       },
       "data": [
        {
         "mode": "lines+markers",
         "name": "Train",
         "type": "scatter",
         "x": [
          0,
          1,
          2,
          3,
          4,
          5,
          6,
          7,
          8,
          9,
          10,
          11,
          12,
          13,
          14,
          15,
          16,
          17,
          18,
          19,
          20,
          21,
          22,
          23,
          24,
          25,
          26,
          27,
          28,
          29,
          30,
          31,
          32,
          33,
          34,
          35,
          36,
          37,
          38,
          39,
          40,
          41,
          42,
          43,
          44,
          45,
          46,
          47,
          48,
          49,
          50,
          51,
          52,
          53,
          54,
          55,
          56,
          57,
          58,
          59,
          60,
          61,
          62,
          63,
          64,
          65,
          66,
          67,
          68,
          69,
          70,
          71,
          72,
          73,
          74,
          75,
          76,
          77,
          78,
          79,
          80,
          81,
          82,
          83,
          84,
          85,
          86,
          87,
          88,
          89,
          90,
          91,
          92,
          93,
          94,
          95,
          96,
          97,
          98,
          99,
          100,
          101,
          102,
          103,
          104,
          105,
          106,
          107,
          108,
          109,
          110,
          111,
          112,
          113,
          114,
          115,
          116,
          117,
          118,
          119,
          120,
          121,
          122,
          123,
          124,
          125,
          126,
          127,
          128,
          129,
          130,
          131,
          132,
          133,
          134,
          135,
          136,
          137,
          138,
          139,
          140,
          141,
          142,
          143,
          144,
          145,
          146,
          147,
          148,
          149,
          150,
          151,
          152,
          153,
          154,
          155,
          156,
          157,
          158,
          159,
          160,
          161,
          162,
          163,
          164,
          165,
          166,
          167,
          168,
          169,
          170,
          171,
          172,
          173,
          174,
          175,
          176,
          177,
          178,
          179,
          180,
          181,
          182,
          183,
          184,
          185,
          186,
          187,
          188,
          189,
          190,
          191,
          192,
          193,
          194,
          195,
          196,
          197,
          198,
          199
         ],
         "y": [
          0.382432511075361,
          0.13300267655868084,
          0.12044511430431157,
          0.018008834201221666,
          0.014285844647383783,
          0.014804252171112845,
          0.014165904143010267,
          0.01038038797317616,
          0.010211368487216533,
          0.006485517940018326,
          0.0068130852334434165,
          0.004628831469259845,
          0.005108717760109963,
          0.0041282564120289555,
          0.004717927856836468,
          0.0050806551764253525,
          0.006485160296627631,
          0.009137987655897935,
          0.01310806815745309,
          0.01804515973975261,
          0.019224397741102923,
          0.025098077080717,
          0.014995103763552228,
          0.029761951083006957,
          0.012440572875008608,
          0.005475833042874001,
          0.002990064646777076,
          0.003073250250114749,
          0.002826252045633737,
          0.0028576261189300566,
          0.0028943722796005507,
          0.002982796695626651,
          0.0031191921666807805,
          0.0033351769370104497,
          0.003680201968139348,
          0.004222419560149623,
          0.005038234271341935,
          0.0061764403673199315,
          0.007580434557166882,
          0.008947368737426586,
          0.009620875432544078,
          0.009131962967027599,
          0.007978552437756055,
          0.007070770859718323,
          0.0058479363477090375,
          0.005055002534936648,
          0.004976441306159055,
          0.005037483318301383,
          0.004959371809187966,
          0.004850213661363038,
          0.004939178604399785,
          0.005243034368322697,
          0.005757408043427859,
          0.006386780639877543,
          0.006900859354936983,
          0.008118551757070236,
          0.008417728803760838,
          0.009449002242763526,
          0.007392766000702977,
          0.005696222075494006,
          0.004419643417835081,
          0.004184562993759755,
          0.004621813108678907,
          0.00532601173229826,
          0.00597543059848249,
          0.006371708966131943,
          0.006660529785828355,
          0.006182719351879011,
          0.005443067440258649,
          0.005083234965665421,
          0.005103630265997102,
          0.006038153964618686,
          0.0060090969025623055,
          0.006105076568201184,
          0.006573624582961202,
          0.006525452881275365,
          0.005916319913618888,
          0.005605773435672745,
          0.00493635402720732,
          0.004794226265706432,
          0.005399591894335269,
          0.0054465990494160605,
          0.005436170898610726,
          0.0055141064299580956,
          0.005037976603489369,
          0.0052601349054990955,
          0.005609467678975004,
          0.005652334678840513,
          0.00561813949267768,
          0.005626363546859163,
          0.00717574030374332,
          0.0058231689947812505,
          0.01009690856250624,
          0.007057236596786727,
          0.00727058387225649,
          0.003435794614779297,
          0.00324220641584058,
          0.005146462301490828,
          0.004685269935483423,
          0.006119894873215041,
          0.0053973680153527916,
          0.005160331877899201,
          0.003991117766418029,
          0.003590561524227572,
          0.003888579182482014,
          0.004591223013509686,
          0.004709073015934943,
          0.005218807344984574,
          0.005315337868523784,
          0.005053764736415663,
          0.00456959436123725,
          0.004320013910182751,
          0.0042441469054513925,
          0.004373540555631431,
          0.004571565757214557,
          0.004845142008465094,
          0.005186978185277743,
          0.005984623802942224,
          0.0056889811244521605,
          0.005660639153696441,
          0.004843456640082877,
          0.004718773106772763,
          0.004387355935371791,
          0.00428705221953957,
          0.004325711181445513,
          0.004095198527890412,
          0.0038161234745833403,
          0.0038313007573985186,
          0.004545033391817318,
          0.004947029334046723,
          0.004363428697979543,
          0.004801152356473419,
          0.003623976973661532,
          0.004338459548307583,
          0.0042054223701901115,
          0.0043779945757705715,
          0.0044186427558694655,
          0.0047325183331849985,
          0.005890391917394784,
          0.0050934789391855395,
          0.004378955050682028,
          0.005487749784758004,
          0.004367421734787058,
          0.004873405797601056,
          0.01163077463861555,
          0.025696381629677488,
          0.022003128732709834,
          0.019793119568688174,
          0.009254058390312517,
          0.007511830779064136,
          0.004547519382322207,
          0.004218393297439131,
          0.003062524337049884,
          0.0026420807310690484,
          0.0026095904177054763,
          0.00268420619055784,
          0.0026450065895915033,
          0.002631418605839523,
          0.0027621330635156484,
          0.0030579550240266446,
          0.0033723589469445868,
          0.003583167793112807,
          0.0038634541851934046,
          0.003926655312534421,
          0.0037671040821199617,
          0.0037503118296929945,
          0.0038490668889911224,
          0.0039016538891398036,
          0.003908737937066083,
          0.003985705110244453,
          0.004067701514577493,
          0.00402935990714468,
          0.003983936983665141,
          0.003976825791566322,
          0.003960891760652885,
          0.003826306668148997,
          0.003860609922170018,
          0.0036995685630245136,
          0.0037739868392236533,
          0.003907346144357385,
          0.0036129306245129555,
          0.0039043899974785744,
          0.0038229110369381184,
          0.003905190949444659,
          0.003927680221386254,
          0.0036141468085891877,
          0.004042987452703528,
          0.0037968166114296766,
          0.004364701050023238,
          0.004151012617027542,
          0.004734494745207485,
          0.004738159160478972,
          0.004439316828696368,
          0.005345910926310656,
          0.004064633922340969,
          0.004027032759040594,
          0.003848766482163531,
          0.003422936012308734,
          0.003557143232319504,
          0.0033110976306488737
         ]
        }
       ],
       "layout": {
        "template": {
         "data": {
          "bar": [
           {
            "error_x": {
             "color": "#2a3f5f"
            },
            "error_y": {
             "color": "#2a3f5f"
            },
            "marker": {
             "line": {
              "color": "#E5ECF6",
              "width": 0.5
             },
             "pattern": {
              "fillmode": "overlay",
              "size": 10,
              "solidity": 0.2
             }
            },
            "type": "bar"
           }
          ],
          "barpolar": [
           {
            "marker": {
             "line": {
              "color": "#E5ECF6",
              "width": 0.5
             },
             "pattern": {
              "fillmode": "overlay",
              "size": 10,
              "solidity": 0.2
             }
            },
            "type": "barpolar"
           }
          ],
          "carpet": [
           {
            "aaxis": {
             "endlinecolor": "#2a3f5f",
             "gridcolor": "white",
             "linecolor": "white",
             "minorgridcolor": "white",
             "startlinecolor": "#2a3f5f"
            },
            "baxis": {
             "endlinecolor": "#2a3f5f",
             "gridcolor": "white",
             "linecolor": "white",
             "minorgridcolor": "white",
             "startlinecolor": "#2a3f5f"
            },
            "type": "carpet"
           }
          ],
          "choropleth": [
           {
            "colorbar": {
             "outlinewidth": 0,
             "ticks": ""
            },
            "type": "choropleth"
           }
          ],
          "contour": [
           {
            "colorbar": {
             "outlinewidth": 0,
             "ticks": ""
            },
            "colorscale": [
             [
              0,
              "#0d0887"
             ],
             [
              0.1111111111111111,
              "#46039f"
             ],
             [
              0.2222222222222222,
              "#7201a8"
             ],
             [
              0.3333333333333333,
              "#9c179e"
             ],
             [
              0.4444444444444444,
              "#bd3786"
             ],
             [
              0.5555555555555556,
              "#d8576b"
             ],
             [
              0.6666666666666666,
              "#ed7953"
             ],
             [
              0.7777777777777778,
              "#fb9f3a"
             ],
             [
              0.8888888888888888,
              "#fdca26"
             ],
             [
              1,
              "#f0f921"
             ]
            ],
            "type": "contour"
           }
          ],
          "contourcarpet": [
           {
            "colorbar": {
             "outlinewidth": 0,
             "ticks": ""
            },
            "type": "contourcarpet"
           }
          ],
          "heatmap": [
           {
            "colorbar": {
             "outlinewidth": 0,
             "ticks": ""
            },
            "colorscale": [
             [
              0,
              "#0d0887"
             ],
             [
              0.1111111111111111,
              "#46039f"
             ],
             [
              0.2222222222222222,
              "#7201a8"
             ],
             [
              0.3333333333333333,
              "#9c179e"
             ],
             [
              0.4444444444444444,
              "#bd3786"
             ],
             [
              0.5555555555555556,
              "#d8576b"
             ],
             [
              0.6666666666666666,
              "#ed7953"
             ],
             [
              0.7777777777777778,
              "#fb9f3a"
             ],
             [
              0.8888888888888888,
              "#fdca26"
             ],
             [
              1,
              "#f0f921"
             ]
            ],
            "type": "heatmap"
           }
          ],
          "heatmapgl": [
           {
            "colorbar": {
             "outlinewidth": 0,
             "ticks": ""
            },
            "colorscale": [
             [
              0,
              "#0d0887"
             ],
             [
              0.1111111111111111,
              "#46039f"
             ],
             [
              0.2222222222222222,
              "#7201a8"
             ],
             [
              0.3333333333333333,
              "#9c179e"
             ],
             [
              0.4444444444444444,
              "#bd3786"
             ],
             [
              0.5555555555555556,
              "#d8576b"
             ],
             [
              0.6666666666666666,
              "#ed7953"
             ],
             [
              0.7777777777777778,
              "#fb9f3a"
             ],
             [
              0.8888888888888888,
              "#fdca26"
             ],
             [
              1,
              "#f0f921"
             ]
            ],
            "type": "heatmapgl"
           }
          ],
          "histogram": [
           {
            "marker": {
             "pattern": {
              "fillmode": "overlay",
              "size": 10,
              "solidity": 0.2
             }
            },
            "type": "histogram"
           }
          ],
          "histogram2d": [
           {
            "colorbar": {
             "outlinewidth": 0,
             "ticks": ""
            },
            "colorscale": [
             [
              0,
              "#0d0887"
             ],
             [
              0.1111111111111111,
              "#46039f"
             ],
             [
              0.2222222222222222,
              "#7201a8"
             ],
             [
              0.3333333333333333,
              "#9c179e"
             ],
             [
              0.4444444444444444,
              "#bd3786"
             ],
             [
              0.5555555555555556,
              "#d8576b"
             ],
             [
              0.6666666666666666,
              "#ed7953"
             ],
             [
              0.7777777777777778,
              "#fb9f3a"
             ],
             [
              0.8888888888888888,
              "#fdca26"
             ],
             [
              1,
              "#f0f921"
             ]
            ],
            "type": "histogram2d"
           }
          ],
          "histogram2dcontour": [
           {
            "colorbar": {
             "outlinewidth": 0,
             "ticks": ""
            },
            "colorscale": [
             [
              0,
              "#0d0887"
             ],
             [
              0.1111111111111111,
              "#46039f"
             ],
             [
              0.2222222222222222,
              "#7201a8"
             ],
             [
              0.3333333333333333,
              "#9c179e"
             ],
             [
              0.4444444444444444,
              "#bd3786"
             ],
             [
              0.5555555555555556,
              "#d8576b"
             ],
             [
              0.6666666666666666,
              "#ed7953"
             ],
             [
              0.7777777777777778,
              "#fb9f3a"
             ],
             [
              0.8888888888888888,
              "#fdca26"
             ],
             [
              1,
              "#f0f921"
             ]
            ],
            "type": "histogram2dcontour"
           }
          ],
          "mesh3d": [
           {
            "colorbar": {
             "outlinewidth": 0,
             "ticks": ""
            },
            "type": "mesh3d"
           }
          ],
          "parcoords": [
           {
            "line": {
             "colorbar": {
              "outlinewidth": 0,
              "ticks": ""
             }
            },
            "type": "parcoords"
           }
          ],
          "pie": [
           {
            "automargin": true,
            "type": "pie"
           }
          ],
          "scatter": [
           {
            "fillpattern": {
             "fillmode": "overlay",
             "size": 10,
             "solidity": 0.2
            },
            "type": "scatter"
           }
          ],
          "scatter3d": [
           {
            "line": {
             "colorbar": {
              "outlinewidth": 0,
              "ticks": ""
             }
            },
            "marker": {
             "colorbar": {
              "outlinewidth": 0,
              "ticks": ""
             }
            },
            "type": "scatter3d"
           }
          ],
          "scattercarpet": [
           {
            "marker": {
             "colorbar": {
              "outlinewidth": 0,
              "ticks": ""
             }
            },
            "type": "scattercarpet"
           }
          ],
          "scattergeo": [
           {
            "marker": {
             "colorbar": {
              "outlinewidth": 0,
              "ticks": ""
             }
            },
            "type": "scattergeo"
           }
          ],
          "scattergl": [
           {
            "marker": {
             "colorbar": {
              "outlinewidth": 0,
              "ticks": ""
             }
            },
            "type": "scattergl"
           }
          ],
          "scattermapbox": [
           {
            "marker": {
             "colorbar": {
              "outlinewidth": 0,
              "ticks": ""
             }
            },
            "type": "scattermapbox"
           }
          ],
          "scatterpolar": [
           {
            "marker": {
             "colorbar": {
              "outlinewidth": 0,
              "ticks": ""
             }
            },
            "type": "scatterpolar"
           }
          ],
          "scatterpolargl": [
           {
            "marker": {
             "colorbar": {
              "outlinewidth": 0,
              "ticks": ""
             }
            },
            "type": "scatterpolargl"
           }
          ],
          "scatterternary": [
           {
            "marker": {
             "colorbar": {
              "outlinewidth": 0,
              "ticks": ""
             }
            },
            "type": "scatterternary"
           }
          ],
          "surface": [
           {
            "colorbar": {
             "outlinewidth": 0,
             "ticks": ""
            },
            "colorscale": [
             [
              0,
              "#0d0887"
             ],
             [
              0.1111111111111111,
              "#46039f"
             ],
             [
              0.2222222222222222,
              "#7201a8"
             ],
             [
              0.3333333333333333,
              "#9c179e"
             ],
             [
              0.4444444444444444,
              "#bd3786"
             ],
             [
              0.5555555555555556,
              "#d8576b"
             ],
             [
              0.6666666666666666,
              "#ed7953"
             ],
             [
              0.7777777777777778,
              "#fb9f3a"
             ],
             [
              0.8888888888888888,
              "#fdca26"
             ],
             [
              1,
              "#f0f921"
             ]
            ],
            "type": "surface"
           }
          ],
          "table": [
           {
            "cells": {
             "fill": {
              "color": "#EBF0F8"
             },
             "line": {
              "color": "white"
             }
            },
            "header": {
             "fill": {
              "color": "#C8D4E3"
             },
             "line": {
              "color": "white"
             }
            },
            "type": "table"
           }
          ]
         },
         "layout": {
          "annotationdefaults": {
           "arrowcolor": "#2a3f5f",
           "arrowhead": 0,
           "arrowwidth": 1
          },
          "autotypenumbers": "strict",
          "coloraxis": {
           "colorbar": {
            "outlinewidth": 0,
            "ticks": ""
           }
          },
          "colorscale": {
           "diverging": [
            [
             0,
             "#8e0152"
            ],
            [
             0.1,
             "#c51b7d"
            ],
            [
             0.2,
             "#de77ae"
            ],
            [
             0.3,
             "#f1b6da"
            ],
            [
             0.4,
             "#fde0ef"
            ],
            [
             0.5,
             "#f7f7f7"
            ],
            [
             0.6,
             "#e6f5d0"
            ],
            [
             0.7,
             "#b8e186"
            ],
            [
             0.8,
             "#7fbc41"
            ],
            [
             0.9,
             "#4d9221"
            ],
            [
             1,
             "#276419"
            ]
           ],
           "sequential": [
            [
             0,
             "#0d0887"
            ],
            [
             0.1111111111111111,
             "#46039f"
            ],
            [
             0.2222222222222222,
             "#7201a8"
            ],
            [
             0.3333333333333333,
             "#9c179e"
            ],
            [
             0.4444444444444444,
             "#bd3786"
            ],
            [
             0.5555555555555556,
             "#d8576b"
            ],
            [
             0.6666666666666666,
             "#ed7953"
            ],
            [
             0.7777777777777778,
             "#fb9f3a"
            ],
            [
             0.8888888888888888,
             "#fdca26"
            ],
            [
             1,
             "#f0f921"
            ]
           ],
           "sequentialminus": [
            [
             0,
             "#0d0887"
            ],
            [
             0.1111111111111111,
             "#46039f"
            ],
            [
             0.2222222222222222,
             "#7201a8"
            ],
            [
             0.3333333333333333,
             "#9c179e"
            ],
            [
             0.4444444444444444,
             "#bd3786"
            ],
            [
             0.5555555555555556,
             "#d8576b"
            ],
            [
             0.6666666666666666,
             "#ed7953"
            ],
            [
             0.7777777777777778,
             "#fb9f3a"
            ],
            [
             0.8888888888888888,
             "#fdca26"
            ],
            [
             1,
             "#f0f921"
            ]
           ]
          },
          "colorway": [
           "#636efa",
           "#EF553B",
           "#00cc96",
           "#ab63fa",
           "#FFA15A",
           "#19d3f3",
           "#FF6692",
           "#B6E880",
           "#FF97FF",
           "#FECB52"
          ],
          "font": {
           "color": "#2a3f5f"
          },
          "geo": {
           "bgcolor": "white",
           "lakecolor": "white",
           "landcolor": "#E5ECF6",
           "showlakes": true,
           "showland": true,
           "subunitcolor": "white"
          },
          "hoverlabel": {
           "align": "left"
          },
          "hovermode": "closest",
          "mapbox": {
           "style": "light"
          },
          "paper_bgcolor": "white",
          "plot_bgcolor": "#E5ECF6",
          "polar": {
           "angularaxis": {
            "gridcolor": "white",
            "linecolor": "white",
            "ticks": ""
           },
           "bgcolor": "#E5ECF6",
           "radialaxis": {
            "gridcolor": "white",
            "linecolor": "white",
            "ticks": ""
           }
          },
          "scene": {
           "xaxis": {
            "backgroundcolor": "#E5ECF6",
            "gridcolor": "white",
            "gridwidth": 2,
            "linecolor": "white",
            "showbackground": true,
            "ticks": "",
            "zerolinecolor": "white"
           },
           "yaxis": {
            "backgroundcolor": "#E5ECF6",
            "gridcolor": "white",
            "gridwidth": 2,
            "linecolor": "white",
            "showbackground": true,
            "ticks": "",
            "zerolinecolor": "white"
           },
           "zaxis": {
            "backgroundcolor": "#E5ECF6",
            "gridcolor": "white",
            "gridwidth": 2,
            "linecolor": "white",
            "showbackground": true,
            "ticks": "",
            "zerolinecolor": "white"
           }
          },
          "shapedefaults": {
           "line": {
            "color": "#2a3f5f"
           }
          },
          "ternary": {
           "aaxis": {
            "gridcolor": "white",
            "linecolor": "white",
            "ticks": ""
           },
           "baxis": {
            "gridcolor": "white",
            "linecolor": "white",
            "ticks": ""
           },
           "bgcolor": "#E5ECF6",
           "caxis": {
            "gridcolor": "white",
            "linecolor": "white",
            "ticks": ""
           }
          },
          "title": {
           "x": 0.05
          },
          "xaxis": {
           "automargin": true,
           "gridcolor": "white",
           "linecolor": "white",
           "ticks": "",
           "title": {
            "standoff": 15
           },
           "zerolinecolor": "white",
           "zerolinewidth": 2
          },
          "yaxis": {
           "automargin": true,
           "gridcolor": "white",
           "linecolor": "white",
           "ticks": "",
           "title": {
            "standoff": 15
           },
           "zerolinecolor": "white",
           "zerolinewidth": 2
          }
         }
        },
        "title": {
         "text": "Training Loss per Epoch"
        },
        "xaxis": {
         "title": {
          "text": "Epoch"
         }
        },
        "yaxis": {
         "title": {
          "text": "Loss"
         }
        }
       }
      }
     },
     "metadata": {},
     "output_type": "display_data"
    }
   ],
   "source": [
    "import plotly.graph_objects as go\n",
    "epochs = list(range(len(losses)))\n",
    "\n",
    "fig = go.Figure(data=go.Scatter(x=epochs, y=losses, mode='lines+markers', name='Train'))\n",
    "\n",
    "fig.update_layout(title='Training Loss per Epoch',\n",
    "                   xaxis_title='Epoch',\n",
    "                   yaxis_title='Loss')\n",
    "\n",
    "fig.show()"
   ]
  },
  {
   "cell_type": "markdown",
   "metadata": {},
   "source": [
    "## Evaluation"
   ]
  },
  {
   "cell_type": "code",
   "execution_count": 648,
   "metadata": {},
   "outputs": [],
   "source": [
    "targets = [] \n",
    "predicted = []\n",
    "\n",
    "model.eval()\n",
    "for i, (x, y) in enumerate(test_loader):\n",
    "        \n",
    "    x = x.to(device)\n",
    "    y = y.to(device)\n",
    "    y_pred = model(x)\n",
    "    predicted.append(y_pred.cpu().detach().numpy())\n",
    "    targets.append(y.cpu().detach().numpy())\n",
    "    "
   ]
  },
  {
   "cell_type": "code",
   "execution_count": 649,
   "metadata": {},
   "outputs": [
    {
     "name": "stdout",
     "output_type": "stream",
     "text": [
      "Mean Squared Error (MSE): 0.011883550323545933\n",
      "Root Mean Squared Error (RMSE): 0.1090116947889328\n"
     ]
    }
   ],
   "source": [
    "from sklearn.metrics import mean_squared_error\n",
    "target_long_array = np.concatenate(targets)\n",
    "predicted_long_array = np.concatenate(predicted)\n",
    "\n",
    "mse = mean_squared_error(target_long_array, predicted_long_array)\n",
    "print(f'Mean Squared Error (MSE): {mse}')\n",
    "rmse = np.sqrt(mse)\n",
    "print(f'Root Mean Squared Error (RMSE): {rmse}')"
   ]
  },
  {
   "cell_type": "code",
   "execution_count": 650,
   "metadata": {},
   "outputs": [],
   "source": [
    "target_list = target_long_array.tolist()\n",
    "predicted_list = predicted_long_array.tolist()"
   ]
  },
  {
   "cell_type": "code",
   "execution_count": 651,
   "metadata": {},
   "outputs": [
    {
     "data": {
      "application/vnd.plotly.v1+json": {
       "config": {
        "plotlyServerURL": "https://plot.ly"
       },
       "data": [
        {
         "mode": "lines+markers",
         "name": "Train",
         "type": "scatter",
         "x": [
          0,
          1,
          2,
          3,
          4,
          5,
          6,
          7,
          8,
          9,
          10,
          11,
          12,
          13,
          14,
          15,
          16,
          17,
          18,
          19,
          20,
          21,
          22,
          23,
          24,
          25,
          26,
          27,
          28,
          29,
          30,
          31,
          32,
          33,
          34,
          35,
          36,
          37,
          38,
          39,
          40,
          41,
          42,
          43,
          44,
          45,
          46,
          47,
          48,
          49,
          50,
          51,
          52,
          53,
          54,
          55,
          56,
          57,
          58,
          59,
          60,
          61,
          62,
          63,
          64,
          65,
          66,
          67,
          68,
          69,
          70,
          71,
          72,
          73,
          74,
          75,
          76,
          77,
          78,
          79,
          80,
          81,
          82,
          83,
          84,
          85,
          86,
          87,
          88,
          89,
          90,
          91,
          92,
          93,
          94,
          95,
          96,
          97,
          98,
          99,
          100,
          101,
          102,
          103,
          104,
          105,
          106,
          107,
          108,
          109,
          110,
          111,
          112,
          113,
          114,
          115,
          116,
          117,
          118,
          119,
          120,
          121,
          122,
          123,
          124,
          125,
          126,
          127,
          128,
          129,
          130,
          131,
          132,
          133,
          134,
          135,
          136,
          137,
          138,
          139,
          140,
          141,
          142,
          143,
          144,
          145,
          146,
          147,
          148,
          149,
          150,
          151,
          152,
          153,
          154,
          155,
          156,
          157,
          158,
          159,
          160,
          161,
          162,
          163,
          164,
          165,
          166,
          167,
          168,
          169,
          170,
          171,
          172,
          173,
          174,
          175,
          176,
          177,
          178,
          179,
          180,
          181,
          182,
          183,
          184,
          185,
          186,
          187,
          188,
          189,
          190,
          191,
          192,
          193,
          194,
          195,
          196,
          197,
          198,
          199,
          200,
          201,
          202,
          203,
          204,
          205,
          206,
          207,
          208,
          209,
          210,
          211,
          212,
          213,
          214,
          215,
          216,
          217,
          218,
          219,
          220,
          221,
          222,
          223,
          224,
          225,
          226,
          227,
          228,
          229,
          230,
          231,
          232,
          233,
          234,
          235,
          236,
          237,
          238,
          239,
          240,
          241,
          242,
          243,
          244,
          245,
          246,
          247,
          248,
          249,
          250,
          251,
          252,
          253,
          254,
          255,
          256,
          257,
          258,
          259,
          260,
          261,
          262,
          263,
          264,
          265,
          266,
          267,
          268,
          269,
          270,
          271,
          272,
          273,
          274,
          275,
          276,
          277,
          278,
          279,
          280,
          281,
          282,
          283,
          284,
          285,
          286,
          287,
          288,
          289,
          290,
          291,
          292,
          293,
          294,
          295,
          296,
          297,
          298,
          299,
          300,
          301,
          302,
          303,
          304,
          305,
          306,
          307,
          308,
          309,
          310,
          311,
          312,
          313,
          314,
          315,
          316,
          317,
          318,
          319,
          320,
          321,
          322,
          323,
          324,
          325,
          326,
          327,
          328,
          329,
          330,
          331,
          332,
          333,
          334,
          335,
          336,
          337,
          338,
          339,
          340,
          341,
          342,
          343,
          344,
          345,
          346,
          347,
          348,
          349,
          350,
          351,
          352,
          353,
          354,
          355,
          356,
          357,
          358,
          359,
          360,
          361,
          362,
          363,
          364,
          365,
          366,
          367,
          368,
          369,
          370,
          371,
          372,
          373,
          374,
          375,
          376,
          377,
          378,
          379,
          380,
          381,
          382,
          383,
          384,
          385,
          386,
          387,
          388,
          389,
          390,
          391,
          392,
          393,
          394,
          395,
          396,
          397,
          398,
          399,
          400,
          401,
          402,
          403,
          404,
          405,
          406,
          407,
          408,
          409,
          410,
          411,
          412,
          413,
          414,
          415,
          416,
          417,
          418,
          419,
          420,
          421,
          422,
          423,
          424,
          425,
          426,
          427,
          428,
          429,
          430,
          431,
          432,
          433,
          434,
          435,
          436,
          437,
          438,
          439,
          440,
          441,
          442,
          443,
          444,
          445,
          446,
          447,
          448,
          449,
          450,
          451,
          452,
          453,
          454,
          455,
          456,
          457,
          458,
          459,
          460,
          461,
          462,
          463,
          464,
          465,
          466,
          467,
          468,
          469,
          470,
          471,
          472,
          473,
          474,
          475,
          476,
          477,
          478,
          479,
          480,
          481,
          482,
          483,
          484,
          485,
          486,
          487,
          488,
          489,
          490,
          491,
          492,
          493,
          494,
          495,
          496,
          497,
          498,
          499,
          500,
          501,
          502,
          503,
          504,
          505,
          506,
          507,
          508,
          509,
          510,
          511,
          512,
          513,
          514,
          515,
          516,
          517,
          518,
          519,
          520,
          521,
          522,
          523,
          524,
          525,
          526,
          527,
          528,
          529,
          530,
          531,
          532,
          533,
          534,
          535,
          536,
          537,
          538,
          539,
          540,
          541,
          542,
          543,
          544,
          545,
          546,
          547,
          548,
          549,
          550,
          551,
          552,
          553,
          554,
          555,
          556,
          557,
          558,
          559,
          560,
          561,
          562,
          563,
          564,
          565,
          566,
          567,
          568,
          569,
          570,
          571,
          572,
          573,
          574,
          575,
          576,
          577,
          578,
          579,
          580,
          581,
          582,
          583,
          584,
          585,
          586,
          587,
          588,
          589,
          590,
          591,
          592,
          593
         ],
         "y": [
          0.28433194756507874,
          0.1552356481552124,
          -0.014530777931213379,
          -0.09877961874008179,
          0.09979146718978882,
          0.16472262144088745,
          0.1514902114868164,
          0.14691948890686035,
          -0.027456283569335938,
          0.04455554485321045,
          0.10620445013046265,
          0.012338817119598389,
          0.12131339311599731,
          0.05601614713668823,
          0.08912581205368042,
          0.12843918800354004,
          0.07328712940216064,
          0.13195687532424927,
          0.16319575905799866,
          0.15363705158233643,
          0.03134119510650635,
          0.09459298849105835,
          0.02905905246734619,
          0.005684196949005127,
          0.030125081539154053,
          0.06444305181503296,
          -0.022449851036071777,
          -0.029699325561523438,
          0.0467681884765625,
          0.012294352054595947,
          0.03878086805343628,
          0.17965707182884216,
          0.1851986050605774,
          0.2223600447177887,
          0.2973899245262146,
          0.29378658533096313,
          0.24046632647514343,
          0.18798303604125977,
          0.20797669887542725,
          0.20947200059890747,
          0.2213718295097351,
          0.17993831634521484,
          -0.09447550773620605,
          -0.09197831153869629,
          0.014867603778839111,
          0.03939557075500488,
          0.013787150382995605,
          -0.15896821022033691,
          -0.08615630865097046,
          -0.08512413501739502,
          -0.09525436162948608,
          -0.08722549676895142,
          -0.04402291774749756,
          -0.04567354917526245,
          -0.0963597297668457,
          -0.14925986528396606,
          -0.23275411128997803,
          -0.23271584510803223,
          -0.23978036642074585,
          -0.2875553369522095,
          -0.32243335247039795,
          -0.2742745876312256,
          -0.2639099359512329,
          -0.21314799785614014,
          -0.1837274432182312,
          -0.1376887559890747,
          -0.13286083936691284,
          -0.1323145627975464,
          -0.14993125200271606,
          -0.14180266857147217,
          -0.11531078815460205,
          -0.0624580979347229,
          -0.09650158882141113,
          -0.12607043981552124,
          -0.09034186601638794,
          -0.10747694969177246,
          -0.15022045373916626,
          -0.19369852542877197,
          -0.1920982003211975,
          -0.24662482738494873,
          -0.21541863679885864,
          -0.16247564554214478,
          -0.11612439155578613,
          -0.17407429218292236,
          -0.23374712467193604,
          -0.2265954613685608,
          -0.16216826438903809,
          -0.13564926385879517,
          -0.13953137397766113,
          -0.1590592861175537,
          -0.10822689533233643,
          -0.11126279830932617,
          -0.1581689715385437,
          -0.2096560001373291,
          -0.2170189619064331,
          -0.23246902227401733,
          -0.29055923223495483,
          -0.3262711763381958,
          -0.28701603412628174,
          -0.28821414709091187,
          -0.32922953367233276,
          -0.2915191650390625,
          -0.3559577465057373,
          -0.41057896614074707,
          -0.5700252056121826,
          -0.5578572750091553,
          -0.563579797744751,
          -0.5715153217315674,
          -0.5561729669570923,
          -0.5945498943328857,
          -0.5647408962249756,
          -0.4976940155029297,
          -0.49164724349975586,
          -0.5376511812210083,
          -0.49889957904815674,
          -0.42478370666503906,
          -0.39588212966918945,
          -0.43102896213531494,
          -0.5071802139282227,
          -0.6133219003677368,
          -0.6840125322341919,
          -0.6036107540130615,
          -0.5522714853286743,
          -0.46336936950683594,
          -0.3076542615890503,
          -0.27381718158721924,
          -0.25449419021606445,
          -0.28792238235473633,
          -0.2878882884979248,
          -0.2488006353378296,
          -0.3016599416732788,
          -0.33489012718200684,
          -0.257987916469574,
          -0.20039695501327515,
          -0.15531611442565918,
          -0.14960014820098877,
          -0.09477114677429199,
          -0.11404430866241455,
          -0.0875328779220581,
          -0.08939683437347412,
          -0.032990217208862305,
          -0.012314796447753906,
          -0.007143974304199219,
          0.04360854625701904,
          0.11747300624847412,
          0.12610101699829102,
          0.1711922287940979,
          0.1529729962348938,
          0.0579456090927124,
          0.14267098903656006,
          0.16079825162887573,
          0.1928912103176117,
          0.1600600779056549,
          0.2658016085624695,
          0.29935184121131897,
          0.2766090929508209,
          0.20015889406204224,
          0.20765721797943115,
          0.1436300277709961,
          0.189511239528656,
          0.18319258093833923,
          0.19840562343597412,
          0.25469207763671875,
          0.24761897325515747,
          0.26754313707351685,
          0.2935545742511749,
          0.004007101058959961,
          0.08308190107345581,
          0.1907629370689392,
          0.15946951508522034,
          0.17456942796707153,
          0.18243557214736938,
          0.22985047101974487,
          0.10947126150131226,
          0.07402539253234863,
          0.05246114730834961,
          0.017172694206237793,
          0.023678481578826904,
          0.09708946943283081,
          0.12794435024261475,
          0.130560040473938,
          0.21646785736083984,
          0.18137884140014648,
          0.1729852855205536,
          0.13269966840744019,
          0.19499868154525757,
          0.1426469087600708,
          0.12257039546966553,
          0.04169654846191406,
          0.12146621942520142,
          0.10598623752593994,
          0.15899506211280823,
          0.27581411600112915,
          0.30080050230026245,
          0.308199405670166,
          0.33506134152412415,
          0.2795805037021637,
          0.3235975205898285,
          0.2920793294906616,
          0.29173141717910767,
          0.3140435814857483,
          0.33421406149864197,
          0.30943477153778076,
          0.27600014209747314,
          0.24197524785995483,
          0.23892346024513245,
          0.22586026787757874,
          0.2421034574508667,
          0.27436307072639465,
          0.3296259939670563,
          0.3376513421535492,
          0.29337579011917114,
          0.3902056813240051,
          0.07457292079925537,
          -0.008542180061340332,
          0.0661466121673584,
          0.1604924499988556,
          0.2754727900028229,
          0.29588162899017334,
          0.2663770318031311,
          0.2885943353176117,
          0.29128551483154297,
          0.359178751707077,
          0.37841182947158813,
          0.43579450249671936,
          0.4564943313598633,
          0.5320348739624023,
          0.48530876636505127,
          0.49638205766677856,
          0.4809865355491638,
          0.5493313670158386,
          0.49334952235221863,
          0.5683737397193909,
          0.5675336718559265,
          0.5426192879676819,
          0.5427287220954895,
          0.5249040722846985,
          0.5035167932510376,
          0.5418873429298401,
          0.4989425241947174,
          0.515031635761261,
          0.5444244146347046,
          0.6023690700531006,
          0.5308008790016174,
          0.5428009033203125,
          0.5526293516159058,
          0.5976765751838684,
          0.5273439884185791,
          0.5467750430107117,
          0.5021631121635437,
          0.5047270059585571,
          0.5401064157485962,
          0.4807097315788269,
          0.4980895221233368,
          0.5047833323478699,
          0.4572088420391083,
          0.4582509994506836,
          0.44774365425109863,
          0.5007238984107971,
          0.47390738129615784,
          0.461969256401062,
          0.4910922050476074,
          0.4810044765472412,
          0.5125609040260315,
          0.5501869916915894,
          0.4406776428222656,
          0.3584110140800476,
          0.4777446389198303,
          0.35433274507522583,
          0.32579055428504944,
          0.3916141390800476,
          0.3093024492263794,
          0.365337073802948,
          0.3382536470890045,
          0.38276582956314087,
          0.3949321508407593,
          0.34943926334381104,
          0.3241279423236847,
          0.4323645234107971,
          0.46177858114242554,
          0.4443548619747162,
          0.4764258563518524,
          0.41811949014663696,
          0.3918791115283966,
          0.42335763573646545,
          0.4065127968788147,
          0.36866071820259094,
          0.4289626181125641,
          0.3330613374710083,
          0.3390452265739441,
          0.31688153743743896,
          0.34734612703323364,
          0.35345810651779175,
          0.2107071876525879,
          0.25280052423477173,
          0.2531317472457886,
          0.1869623064994812,
          0.22982260584831238,
          0.2358110249042511,
          0.2694172263145447,
          0.3221827745437622,
          0.28736016154289246,
          0.3310095965862274,
          0.28880101442337036,
          0.2644074857234955,
          0.2835061550140381,
          0.2822183072566986,
          0.40403831005096436,
          0.36120226979255676,
          0.3545185625553131,
          0.5589298605918884,
          0.5434449315071106,
          0.41927018761634827,
          0.4744567275047302,
          0.47725367546081543,
          0.4922672212123871,
          0.5111767053604126,
          0.5914325714111328,
          0.5602443218231201,
          0.5416129231452942,
          0.5917621850967407,
          0.6216651201248169,
          0.5730702877044678,
          0.5430808067321777,
          0.46970298886299133,
          0.5008240938186646,
          0.48808664083480835,
          0.5082802176475525,
          0.6625701189041138,
          0.6328235268592834,
          0.677043616771698,
          0.6297662854194641,
          0.7379469275474548,
          0.7126299142837524,
          0.695811927318573,
          0.6639350652694702,
          0.6778891086578369,
          0.7275698184967041,
          0.727274477481842,
          0.7154935598373413,
          0.7147305607795715,
          0.7256528735160828,
          0.6978451013565063,
          0.7021551728248596,
          0.690891444683075,
          0.7228564023971558,
          0.7889369130134583,
          0.7573974132537842,
          0.7784841060638428,
          0.7373422980308533,
          0.6651479005813599,
          0.7473684549331665,
          0.7602126598358154,
          0.7203339338302612,
          0.7466768622398376,
          0.7196310758590698,
          0.7097615599632263,
          0.8322433829307556,
          0.8303321599960327,
          0.9421661496162415,
          1.0147676467895508,
          0.9820191860198975,
          0.9599370956420898,
          0.9235339760780334,
          0.8964370489120483,
          0.8961327075958252,
          0.9058545827865601,
          0.9333356618881226,
          0.9308079481124878,
          0.9898568987846375,
          0.9367894530296326,
          0.9448862075805664,
          1.0127202272415161,
          0.9990578293800354,
          1.0207412242889404,
          1.061159610748291,
          1.0464303493499756,
          1.0247259140014648,
          1.0230774879455566,
          1.0437171459197998,
          1.0537731647491455,
          1.0410876274108887,
          0.9962502717971802,
          1.0101425647735596,
          1.0707544088363647,
          1.020979642868042,
          1.0068323612213135,
          1.0351438522338867,
          1.020430088043213,
          0.9985722303390503,
          0.9486687183380127,
          0.9689949154853821,
          0.9445160627365112,
          0.911946177482605,
          0.9333206415176392,
          0.9638752341270447,
          0.9195345640182495,
          0.9159224033355713,
          0.8894679546356201,
          0.8991054892539978,
          0.9172280430793762,
          0.8762382864952087,
          0.881055474281311,
          0.907632052898407,
          0.8851509094238281,
          0.8807907104492188,
          0.8975231051445007,
          0.9010329246520996,
          0.9000219702720642,
          0.8593168258666992,
          0.8476772904396057,
          0.851544201374054,
          0.821172833442688,
          0.8059423565864563,
          0.8146587610244751,
          0.7840111255645752,
          0.8220559358596802,
          0.806543231010437,
          0.6009829640388489,
          0.5548437833786011,
          0.5647612810134888,
          0.5369569063186646,
          0.5225186347961426,
          0.498836874961853,
          0.510606050491333,
          0.5035489797592163,
          0.4514268934726715,
          0.47697776556015015,
          0.45279330015182495,
          0.4743318557739258,
          0.3302534222602844,
          0.2975636422634125,
          0.26886290311813354,
          0.2413492500782013,
          0.22462964057922363,
          0.2172883152961731,
          0.2595387101173401,
          0.33357274532318115,
          0.22599124908447266,
          0.23415416479110718,
          0.2747170627117157,
          0.29281362891197205,
          0.2690301537513733,
          0.2898710370063782,
          0.31117314100265503,
          0.28126809000968933,
          0.25847187638282776,
          0.29437994956970215,
          0.2897963523864746,
          0.26866579055786133,
          0.2852635681629181,
          0.2807712256908417,
          0.23172476887702942,
          0.2794121205806732,
          0.34546157717704773,
          0.3741692900657654,
          0.33362409472465515,
          0.32375749945640564,
          0.33936041593551636,
          0.37819695472717285,
          0.34939831495285034,
          0.3599987030029297,
          0.315125048160553,
          0.3469008505344391,
          0.32936686277389526,
          0.3742389976978302,
          0.34734946489334106,
          0.37389785051345825,
          0.3244186043739319,
          0.3241194486618042,
          0.3886431157588959,
          0.30440279841423035,
          0.2761591672897339,
          0.30170848965644836,
          0.3135873079299927,
          0.3041556179523468,
          0.32527410984039307,
          0.3186476230621338,
          0.34204331040382385,
          0.2923416495323181,
          0.3380594849586487,
          0.10697120428085327,
          0.13396912813186646,
          0.10724908113479614,
          0.07380175590515137,
          0.08492177724838257,
          0.05877089500427246,
          0.05122417211532593,
          0.02696138620376587,
          0.03929060697555542,
          0.06075465679168701,
          0.03570687770843506,
          0.04938387870788574,
          0.0570223331451416,
          0.0045912861824035645,
          -0.040550291538238525,
          -0.05220985412597656,
          -0.04836982488632202,
          -0.045787155628204346,
          -0.030264973640441895,
          -0.03559243679046631,
          -0.02426302433013916,
          -0.07528996467590332,
          -0.10932707786560059,
          -0.09335553646087646,
          -0.07039892673492432,
          -0.03508460521697998,
          -0.008351325988769531,
          0.016098320484161377,
          -0.019392430782318115,
          -0.008204340934753418,
          -0.023312270641326904,
          -0.010564565658569336,
          0.022620320320129395,
          -0.004940807819366455,
          0.01435840129852295,
          -0.011617302894592285,
          -0.02765488624572754,
          0.043516457080841064,
          0.07914823293685913,
          0.08810007572174072,
          0.07112914323806763,
          0.04455673694610596,
          0.034409940242767334,
          0.03013467788696289,
          0.07827353477478027,
          0.06223791837692261,
          0.05644446611404419,
          0.07892680168151855,
          0.10218995809555054,
          0.07379549741744995,
          0.07137686014175415,
          0.052489638328552246,
          0.1032869815826416,
          0.10999089479446411,
          0.09981846809387207,
          0.10621881484985352,
          0.09782987833023071,
          0.12763822078704834,
          0.1656343936920166,
          0.14988726377487183,
          0.11408627033233643,
          0.11564326286315918,
          0.1068304181098938,
          0.09806126356124878,
          0.5327651500701904,
          0.6101749539375305,
          0.609721839427948,
          0.45599013566970825,
          0.3388463854789734,
          0.29482144117355347,
          0.3158884644508362,
          0.31694626808166504,
          0.3443877398967743,
          0.32985568046569824,
          0.33184704184532166,
          0.3065391182899475,
          0.247391015291214,
          0.23048025369644165,
          0.2507631778717041,
          0.25639575719833374,
          0.2119431495666504,
          0.17744863033294678,
          0.15333420038223267,
          0.1726875901222229,
          0.11049848794937134,
          0.18478012084960938,
          0.17668643593788147,
          0.23153868317604065,
          0.28010034561157227,
          0.2681153416633606,
          0.26912206411361694,
          0.27184411883354187,
          0.2881970703601837,
          0.3250032067298889,
          0.33370891213417053,
          0.36032310128211975,
          0.4172363877296448,
          0.3604241609573364,
          0.32590633630752563,
          0.3136667013168335,
          0.3613641858100891,
          0.37329673767089844,
          0.4198012351989746,
          0.3064819276332855,
          0.33509719371795654,
          0.2729761600494385,
          0.3154109716415405,
          0.3044852912425995,
          0.29704785346984863,
          0.24736452102661133,
          0.29116392135620117,
          0.29579097032546997,
          0.3064256012439728
         ]
        }
       ],
       "layout": {
        "template": {
         "data": {
          "bar": [
           {
            "error_x": {
             "color": "#2a3f5f"
            },
            "error_y": {
             "color": "#2a3f5f"
            },
            "marker": {
             "line": {
              "color": "#E5ECF6",
              "width": 0.5
             },
             "pattern": {
              "fillmode": "overlay",
              "size": 10,
              "solidity": 0.2
             }
            },
            "type": "bar"
           }
          ],
          "barpolar": [
           {
            "marker": {
             "line": {
              "color": "#E5ECF6",
              "width": 0.5
             },
             "pattern": {
              "fillmode": "overlay",
              "size": 10,
              "solidity": 0.2
             }
            },
            "type": "barpolar"
           }
          ],
          "carpet": [
           {
            "aaxis": {
             "endlinecolor": "#2a3f5f",
             "gridcolor": "white",
             "linecolor": "white",
             "minorgridcolor": "white",
             "startlinecolor": "#2a3f5f"
            },
            "baxis": {
             "endlinecolor": "#2a3f5f",
             "gridcolor": "white",
             "linecolor": "white",
             "minorgridcolor": "white",
             "startlinecolor": "#2a3f5f"
            },
            "type": "carpet"
           }
          ],
          "choropleth": [
           {
            "colorbar": {
             "outlinewidth": 0,
             "ticks": ""
            },
            "type": "choropleth"
           }
          ],
          "contour": [
           {
            "colorbar": {
             "outlinewidth": 0,
             "ticks": ""
            },
            "colorscale": [
             [
              0,
              "#0d0887"
             ],
             [
              0.1111111111111111,
              "#46039f"
             ],
             [
              0.2222222222222222,
              "#7201a8"
             ],
             [
              0.3333333333333333,
              "#9c179e"
             ],
             [
              0.4444444444444444,
              "#bd3786"
             ],
             [
              0.5555555555555556,
              "#d8576b"
             ],
             [
              0.6666666666666666,
              "#ed7953"
             ],
             [
              0.7777777777777778,
              "#fb9f3a"
             ],
             [
              0.8888888888888888,
              "#fdca26"
             ],
             [
              1,
              "#f0f921"
             ]
            ],
            "type": "contour"
           }
          ],
          "contourcarpet": [
           {
            "colorbar": {
             "outlinewidth": 0,
             "ticks": ""
            },
            "type": "contourcarpet"
           }
          ],
          "heatmap": [
           {
            "colorbar": {
             "outlinewidth": 0,
             "ticks": ""
            },
            "colorscale": [
             [
              0,
              "#0d0887"
             ],
             [
              0.1111111111111111,
              "#46039f"
             ],
             [
              0.2222222222222222,
              "#7201a8"
             ],
             [
              0.3333333333333333,
              "#9c179e"
             ],
             [
              0.4444444444444444,
              "#bd3786"
             ],
             [
              0.5555555555555556,
              "#d8576b"
             ],
             [
              0.6666666666666666,
              "#ed7953"
             ],
             [
              0.7777777777777778,
              "#fb9f3a"
             ],
             [
              0.8888888888888888,
              "#fdca26"
             ],
             [
              1,
              "#f0f921"
             ]
            ],
            "type": "heatmap"
           }
          ],
          "heatmapgl": [
           {
            "colorbar": {
             "outlinewidth": 0,
             "ticks": ""
            },
            "colorscale": [
             [
              0,
              "#0d0887"
             ],
             [
              0.1111111111111111,
              "#46039f"
             ],
             [
              0.2222222222222222,
              "#7201a8"
             ],
             [
              0.3333333333333333,
              "#9c179e"
             ],
             [
              0.4444444444444444,
              "#bd3786"
             ],
             [
              0.5555555555555556,
              "#d8576b"
             ],
             [
              0.6666666666666666,
              "#ed7953"
             ],
             [
              0.7777777777777778,
              "#fb9f3a"
             ],
             [
              0.8888888888888888,
              "#fdca26"
             ],
             [
              1,
              "#f0f921"
             ]
            ],
            "type": "heatmapgl"
           }
          ],
          "histogram": [
           {
            "marker": {
             "pattern": {
              "fillmode": "overlay",
              "size": 10,
              "solidity": 0.2
             }
            },
            "type": "histogram"
           }
          ],
          "histogram2d": [
           {
            "colorbar": {
             "outlinewidth": 0,
             "ticks": ""
            },
            "colorscale": [
             [
              0,
              "#0d0887"
             ],
             [
              0.1111111111111111,
              "#46039f"
             ],
             [
              0.2222222222222222,
              "#7201a8"
             ],
             [
              0.3333333333333333,
              "#9c179e"
             ],
             [
              0.4444444444444444,
              "#bd3786"
             ],
             [
              0.5555555555555556,
              "#d8576b"
             ],
             [
              0.6666666666666666,
              "#ed7953"
             ],
             [
              0.7777777777777778,
              "#fb9f3a"
             ],
             [
              0.8888888888888888,
              "#fdca26"
             ],
             [
              1,
              "#f0f921"
             ]
            ],
            "type": "histogram2d"
           }
          ],
          "histogram2dcontour": [
           {
            "colorbar": {
             "outlinewidth": 0,
             "ticks": ""
            },
            "colorscale": [
             [
              0,
              "#0d0887"
             ],
             [
              0.1111111111111111,
              "#46039f"
             ],
             [
              0.2222222222222222,
              "#7201a8"
             ],
             [
              0.3333333333333333,
              "#9c179e"
             ],
             [
              0.4444444444444444,
              "#bd3786"
             ],
             [
              0.5555555555555556,
              "#d8576b"
             ],
             [
              0.6666666666666666,
              "#ed7953"
             ],
             [
              0.7777777777777778,
              "#fb9f3a"
             ],
             [
              0.8888888888888888,
              "#fdca26"
             ],
             [
              1,
              "#f0f921"
             ]
            ],
            "type": "histogram2dcontour"
           }
          ],
          "mesh3d": [
           {
            "colorbar": {
             "outlinewidth": 0,
             "ticks": ""
            },
            "type": "mesh3d"
           }
          ],
          "parcoords": [
           {
            "line": {
             "colorbar": {
              "outlinewidth": 0,
              "ticks": ""
             }
            },
            "type": "parcoords"
           }
          ],
          "pie": [
           {
            "automargin": true,
            "type": "pie"
           }
          ],
          "scatter": [
           {
            "fillpattern": {
             "fillmode": "overlay",
             "size": 10,
             "solidity": 0.2
            },
            "type": "scatter"
           }
          ],
          "scatter3d": [
           {
            "line": {
             "colorbar": {
              "outlinewidth": 0,
              "ticks": ""
             }
            },
            "marker": {
             "colorbar": {
              "outlinewidth": 0,
              "ticks": ""
             }
            },
            "type": "scatter3d"
           }
          ],
          "scattercarpet": [
           {
            "marker": {
             "colorbar": {
              "outlinewidth": 0,
              "ticks": ""
             }
            },
            "type": "scattercarpet"
           }
          ],
          "scattergeo": [
           {
            "marker": {
             "colorbar": {
              "outlinewidth": 0,
              "ticks": ""
             }
            },
            "type": "scattergeo"
           }
          ],
          "scattergl": [
           {
            "marker": {
             "colorbar": {
              "outlinewidth": 0,
              "ticks": ""
             }
            },
            "type": "scattergl"
           }
          ],
          "scattermapbox": [
           {
            "marker": {
             "colorbar": {
              "outlinewidth": 0,
              "ticks": ""
             }
            },
            "type": "scattermapbox"
           }
          ],
          "scatterpolar": [
           {
            "marker": {
             "colorbar": {
              "outlinewidth": 0,
              "ticks": ""
             }
            },
            "type": "scatterpolar"
           }
          ],
          "scatterpolargl": [
           {
            "marker": {
             "colorbar": {
              "outlinewidth": 0,
              "ticks": ""
             }
            },
            "type": "scatterpolargl"
           }
          ],
          "scatterternary": [
           {
            "marker": {
             "colorbar": {
              "outlinewidth": 0,
              "ticks": ""
             }
            },
            "type": "scatterternary"
           }
          ],
          "surface": [
           {
            "colorbar": {
             "outlinewidth": 0,
             "ticks": ""
            },
            "colorscale": [
             [
              0,
              "#0d0887"
             ],
             [
              0.1111111111111111,
              "#46039f"
             ],
             [
              0.2222222222222222,
              "#7201a8"
             ],
             [
              0.3333333333333333,
              "#9c179e"
             ],
             [
              0.4444444444444444,
              "#bd3786"
             ],
             [
              0.5555555555555556,
              "#d8576b"
             ],
             [
              0.6666666666666666,
              "#ed7953"
             ],
             [
              0.7777777777777778,
              "#fb9f3a"
             ],
             [
              0.8888888888888888,
              "#fdca26"
             ],
             [
              1,
              "#f0f921"
             ]
            ],
            "type": "surface"
           }
          ],
          "table": [
           {
            "cells": {
             "fill": {
              "color": "#EBF0F8"
             },
             "line": {
              "color": "white"
             }
            },
            "header": {
             "fill": {
              "color": "#C8D4E3"
             },
             "line": {
              "color": "white"
             }
            },
            "type": "table"
           }
          ]
         },
         "layout": {
          "annotationdefaults": {
           "arrowcolor": "#2a3f5f",
           "arrowhead": 0,
           "arrowwidth": 1
          },
          "autotypenumbers": "strict",
          "coloraxis": {
           "colorbar": {
            "outlinewidth": 0,
            "ticks": ""
           }
          },
          "colorscale": {
           "diverging": [
            [
             0,
             "#8e0152"
            ],
            [
             0.1,
             "#c51b7d"
            ],
            [
             0.2,
             "#de77ae"
            ],
            [
             0.3,
             "#f1b6da"
            ],
            [
             0.4,
             "#fde0ef"
            ],
            [
             0.5,
             "#f7f7f7"
            ],
            [
             0.6,
             "#e6f5d0"
            ],
            [
             0.7,
             "#b8e186"
            ],
            [
             0.8,
             "#7fbc41"
            ],
            [
             0.9,
             "#4d9221"
            ],
            [
             1,
             "#276419"
            ]
           ],
           "sequential": [
            [
             0,
             "#0d0887"
            ],
            [
             0.1111111111111111,
             "#46039f"
            ],
            [
             0.2222222222222222,
             "#7201a8"
            ],
            [
             0.3333333333333333,
             "#9c179e"
            ],
            [
             0.4444444444444444,
             "#bd3786"
            ],
            [
             0.5555555555555556,
             "#d8576b"
            ],
            [
             0.6666666666666666,
             "#ed7953"
            ],
            [
             0.7777777777777778,
             "#fb9f3a"
            ],
            [
             0.8888888888888888,
             "#fdca26"
            ],
            [
             1,
             "#f0f921"
            ]
           ],
           "sequentialminus": [
            [
             0,
             "#0d0887"
            ],
            [
             0.1111111111111111,
             "#46039f"
            ],
            [
             0.2222222222222222,
             "#7201a8"
            ],
            [
             0.3333333333333333,
             "#9c179e"
            ],
            [
             0.4444444444444444,
             "#bd3786"
            ],
            [
             0.5555555555555556,
             "#d8576b"
            ],
            [
             0.6666666666666666,
             "#ed7953"
            ],
            [
             0.7777777777777778,
             "#fb9f3a"
            ],
            [
             0.8888888888888888,
             "#fdca26"
            ],
            [
             1,
             "#f0f921"
            ]
           ]
          },
          "colorway": [
           "#636efa",
           "#EF553B",
           "#00cc96",
           "#ab63fa",
           "#FFA15A",
           "#19d3f3",
           "#FF6692",
           "#B6E880",
           "#FF97FF",
           "#FECB52"
          ],
          "font": {
           "color": "#2a3f5f"
          },
          "geo": {
           "bgcolor": "white",
           "lakecolor": "white",
           "landcolor": "#E5ECF6",
           "showlakes": true,
           "showland": true,
           "subunitcolor": "white"
          },
          "hoverlabel": {
           "align": "left"
          },
          "hovermode": "closest",
          "mapbox": {
           "style": "light"
          },
          "paper_bgcolor": "white",
          "plot_bgcolor": "#E5ECF6",
          "polar": {
           "angularaxis": {
            "gridcolor": "white",
            "linecolor": "white",
            "ticks": ""
           },
           "bgcolor": "#E5ECF6",
           "radialaxis": {
            "gridcolor": "white",
            "linecolor": "white",
            "ticks": ""
           }
          },
          "scene": {
           "xaxis": {
            "backgroundcolor": "#E5ECF6",
            "gridcolor": "white",
            "gridwidth": 2,
            "linecolor": "white",
            "showbackground": true,
            "ticks": "",
            "zerolinecolor": "white"
           },
           "yaxis": {
            "backgroundcolor": "#E5ECF6",
            "gridcolor": "white",
            "gridwidth": 2,
            "linecolor": "white",
            "showbackground": true,
            "ticks": "",
            "zerolinecolor": "white"
           },
           "zaxis": {
            "backgroundcolor": "#E5ECF6",
            "gridcolor": "white",
            "gridwidth": 2,
            "linecolor": "white",
            "showbackground": true,
            "ticks": "",
            "zerolinecolor": "white"
           }
          },
          "shapedefaults": {
           "line": {
            "color": "#2a3f5f"
           }
          },
          "ternary": {
           "aaxis": {
            "gridcolor": "white",
            "linecolor": "white",
            "ticks": ""
           },
           "baxis": {
            "gridcolor": "white",
            "linecolor": "white",
            "ticks": ""
           },
           "bgcolor": "#E5ECF6",
           "caxis": {
            "gridcolor": "white",
            "linecolor": "white",
            "ticks": ""
           }
          },
          "title": {
           "x": 0.05
          },
          "xaxis": {
           "automargin": true,
           "gridcolor": "white",
           "linecolor": "white",
           "ticks": "",
           "title": {
            "standoff": 15
           },
           "zerolinecolor": "white",
           "zerolinewidth": 2
          },
          "yaxis": {
           "automargin": true,
           "gridcolor": "white",
           "linecolor": "white",
           "ticks": "",
           "title": {
            "standoff": 15
           },
           "zerolinecolor": "white",
           "zerolinewidth": 2
          }
         }
        },
        "title": {
         "text": "Predictions"
        },
        "xaxis": {
         "title": {
          "text": "Sample"
         }
        },
        "yaxis": {
         "title": {
          "text": "Close"
         }
        }
       }
      }
     },
     "metadata": {},
     "output_type": "display_data"
    }
   ],
   "source": [
    "import plotly.graph_objects as go\n",
    "epochs = list(range(len(losses)))\n",
    "predicted_list = [i[0] for i in predicted_list]\n",
    "x = [i for i in range(len(predicted_list))]\n",
    "fig = go.Figure(data=go.Scatter(x=x, y=predicted_list, mode='lines+markers', name='Train'))\n",
    "\n",
    "fig.update_layout(title='Predictions',\n",
    "                   xaxis_title='Sample',\n",
    "                   yaxis_title='Close')\n",
    "\n",
    "fig.show()"
   ]
  },
  {
   "cell_type": "code",
   "execution_count": 652,
   "metadata": {},
   "outputs": [
    {
     "name": "stdout",
     "output_type": "stream",
     "text": [
      "594\n"
     ]
    }
   ],
   "source": [
    "print(len(predicted_list))"
   ]
  },
  {
   "cell_type": "code",
   "execution_count": 653,
   "metadata": {},
   "outputs": [
    {
     "name": "stdout",
     "output_type": "stream",
     "text": [
      "[0.28433194756507874, 0.1552356481552124, -0.014530777931213379, -0.09877961874008179, 0.09979146718978882, 0.16472262144088745, 0.1514902114868164, 0.14691948890686035, -0.027456283569335938, 0.04455554485321045, 0.10620445013046265, 0.012338817119598389, 0.12131339311599731, 0.05601614713668823, 0.08912581205368042, 0.12843918800354004, 0.07328712940216064, 0.13195687532424927, 0.16319575905799866, 0.15363705158233643, 0.03134119510650635, 0.09459298849105835, 0.02905905246734619, 0.005684196949005127, 0.030125081539154053, 0.06444305181503296, -0.022449851036071777, -0.029699325561523438, 0.0467681884765625, 0.012294352054595947, 0.03878086805343628, 0.17965707182884216, 0.1851986050605774, 0.2223600447177887, 0.2973899245262146, 0.29378658533096313, 0.24046632647514343, 0.18798303604125977, 0.20797669887542725, 0.20947200059890747, 0.2213718295097351, 0.17993831634521484, -0.09447550773620605, -0.09197831153869629, 0.014867603778839111, 0.03939557075500488, 0.013787150382995605, -0.15896821022033691, -0.08615630865097046, -0.08512413501739502, -0.09525436162948608, -0.08722549676895142, -0.04402291774749756, -0.04567354917526245, -0.0963597297668457, -0.14925986528396606, -0.23275411128997803, -0.23271584510803223, -0.23978036642074585, -0.2875553369522095, -0.32243335247039795, -0.2742745876312256, -0.2639099359512329, -0.21314799785614014, -0.1837274432182312, -0.1376887559890747, -0.13286083936691284, -0.1323145627975464, -0.14993125200271606, -0.14180266857147217, -0.11531078815460205, -0.0624580979347229, -0.09650158882141113, -0.12607043981552124, -0.09034186601638794, -0.10747694969177246, -0.15022045373916626, -0.19369852542877197, -0.1920982003211975, -0.24662482738494873, -0.21541863679885864, -0.16247564554214478, -0.11612439155578613, -0.17407429218292236, -0.23374712467193604, -0.2265954613685608, -0.16216826438903809, -0.13564926385879517, -0.13953137397766113, -0.1590592861175537, -0.10822689533233643, -0.11126279830932617, -0.1581689715385437, -0.2096560001373291, -0.2170189619064331, -0.23246902227401733, -0.29055923223495483, -0.3262711763381958, -0.28701603412628174, -0.28821414709091187, -0.32922953367233276, -0.2915191650390625, -0.3559577465057373, -0.41057896614074707, -0.5700252056121826, -0.5578572750091553, -0.563579797744751, -0.5715153217315674, -0.5561729669570923, -0.5945498943328857, -0.5647408962249756, -0.4976940155029297, -0.49164724349975586, -0.5376511812210083, -0.49889957904815674, -0.42478370666503906, -0.39588212966918945, -0.43102896213531494, -0.5071802139282227, -0.6133219003677368, -0.6840125322341919, -0.6036107540130615, -0.5522714853286743, -0.46336936950683594, -0.3076542615890503, -0.27381718158721924, -0.25449419021606445, -0.28792238235473633, -0.2878882884979248, -0.2488006353378296, -0.3016599416732788, -0.33489012718200684, -0.257987916469574, -0.20039695501327515, -0.15531611442565918, -0.14960014820098877, -0.09477114677429199, -0.11404430866241455, -0.0875328779220581, -0.08939683437347412, -0.032990217208862305, -0.012314796447753906, -0.007143974304199219, 0.04360854625701904, 0.11747300624847412, 0.12610101699829102, 0.1711922287940979, 0.1529729962348938, 0.0579456090927124, 0.14267098903656006, 0.16079825162887573, 0.1928912103176117, 0.1600600779056549, 0.2658016085624695, 0.29935184121131897, 0.2766090929508209, 0.20015889406204224, 0.20765721797943115, 0.1436300277709961, 0.189511239528656, 0.18319258093833923, 0.19840562343597412, 0.25469207763671875, 0.24761897325515747, 0.26754313707351685, 0.2935545742511749, 0.004007101058959961, 0.08308190107345581, 0.1907629370689392, 0.15946951508522034, 0.17456942796707153, 0.18243557214736938, 0.22985047101974487, 0.10947126150131226, 0.07402539253234863, 0.05246114730834961, 0.017172694206237793, 0.023678481578826904, 0.09708946943283081, 0.12794435024261475, 0.130560040473938, 0.21646785736083984, 0.18137884140014648, 0.1729852855205536, 0.13269966840744019, 0.19499868154525757, 0.1426469087600708, 0.12257039546966553, 0.04169654846191406, 0.12146621942520142, 0.10598623752593994, 0.15899506211280823, 0.27581411600112915, 0.30080050230026245, 0.308199405670166, 0.33506134152412415, 0.2795805037021637, 0.3235975205898285, 0.2920793294906616, 0.29173141717910767, 0.3140435814857483, 0.33421406149864197, 0.30943477153778076, 0.27600014209747314, 0.24197524785995483, 0.23892346024513245, 0.22586026787757874, 0.2421034574508667, 0.27436307072639465, 0.3296259939670563, 0.3376513421535492, 0.29337579011917114, 0.3902056813240051, 0.07457292079925537, -0.008542180061340332, 0.0661466121673584, 0.1604924499988556, 0.2754727900028229, 0.29588162899017334, 0.2663770318031311, 0.2885943353176117, 0.29128551483154297, 0.359178751707077, 0.37841182947158813, 0.43579450249671936, 0.4564943313598633, 0.5320348739624023, 0.48530876636505127, 0.49638205766677856, 0.4809865355491638, 0.5493313670158386, 0.49334952235221863, 0.5683737397193909, 0.5675336718559265, 0.5426192879676819, 0.5427287220954895, 0.5249040722846985, 0.5035167932510376, 0.5418873429298401, 0.4989425241947174, 0.515031635761261, 0.5444244146347046, 0.6023690700531006, 0.5308008790016174, 0.5428009033203125, 0.5526293516159058, 0.5976765751838684, 0.5273439884185791, 0.5467750430107117, 0.5021631121635437, 0.5047270059585571, 0.5401064157485962, 0.4807097315788269, 0.4980895221233368, 0.5047833323478699, 0.4572088420391083, 0.4582509994506836, 0.44774365425109863, 0.5007238984107971, 0.47390738129615784, 0.461969256401062, 0.4910922050476074, 0.4810044765472412, 0.5125609040260315, 0.5501869916915894, 0.4406776428222656, 0.3584110140800476, 0.4777446389198303, 0.35433274507522583, 0.32579055428504944, 0.3916141390800476, 0.3093024492263794, 0.365337073802948, 0.3382536470890045, 0.38276582956314087, 0.3949321508407593, 0.34943926334381104, 0.3241279423236847, 0.4323645234107971, 0.46177858114242554, 0.4443548619747162, 0.4764258563518524, 0.41811949014663696, 0.3918791115283966, 0.42335763573646545, 0.4065127968788147, 0.36866071820259094, 0.4289626181125641, 0.3330613374710083, 0.3390452265739441, 0.31688153743743896, 0.34734612703323364, 0.35345810651779175, 0.2107071876525879, 0.25280052423477173, 0.2531317472457886, 0.1869623064994812, 0.22982260584831238, 0.2358110249042511, 0.2694172263145447, 0.3221827745437622, 0.28736016154289246, 0.3310095965862274, 0.28880101442337036, 0.2644074857234955, 0.2835061550140381, 0.2822183072566986, 0.40403831005096436, 0.36120226979255676, 0.3545185625553131, 0.5589298605918884, 0.5434449315071106, 0.41927018761634827, 0.4744567275047302, 0.47725367546081543, 0.4922672212123871, 0.5111767053604126, 0.5914325714111328, 0.5602443218231201, 0.5416129231452942, 0.5917621850967407, 0.6216651201248169, 0.5730702877044678, 0.5430808067321777, 0.46970298886299133, 0.5008240938186646, 0.48808664083480835, 0.5082802176475525, 0.6625701189041138, 0.6328235268592834, 0.677043616771698, 0.6297662854194641, 0.7379469275474548, 0.7126299142837524, 0.695811927318573, 0.6639350652694702, 0.6778891086578369, 0.7275698184967041, 0.727274477481842, 0.7154935598373413, 0.7147305607795715, 0.7256528735160828, 0.6978451013565063, 0.7021551728248596, 0.690891444683075, 0.7228564023971558, 0.7889369130134583, 0.7573974132537842, 0.7784841060638428, 0.7373422980308533, 0.6651479005813599, 0.7473684549331665, 0.7602126598358154, 0.7203339338302612, 0.7466768622398376, 0.7196310758590698, 0.7097615599632263, 0.8322433829307556, 0.8303321599960327, 0.9421661496162415, 1.0147676467895508, 0.9820191860198975, 0.9599370956420898, 0.9235339760780334, 0.8964370489120483, 0.8961327075958252, 0.9058545827865601, 0.9333356618881226, 0.9308079481124878, 0.9898568987846375, 0.9367894530296326, 0.9448862075805664, 1.0127202272415161, 0.9990578293800354, 1.0207412242889404, 1.061159610748291, 1.0464303493499756, 1.0247259140014648, 1.0230774879455566, 1.0437171459197998, 1.0537731647491455, 1.0410876274108887, 0.9962502717971802, 1.0101425647735596, 1.0707544088363647, 1.020979642868042, 1.0068323612213135, 1.0351438522338867, 1.020430088043213, 0.9985722303390503, 0.9486687183380127, 0.9689949154853821, 0.9445160627365112, 0.911946177482605, 0.9333206415176392, 0.9638752341270447, 0.9195345640182495, 0.9159224033355713, 0.8894679546356201, 0.8991054892539978, 0.9172280430793762, 0.8762382864952087, 0.881055474281311, 0.907632052898407, 0.8851509094238281, 0.8807907104492188, 0.8975231051445007, 0.9010329246520996, 0.9000219702720642, 0.8593168258666992, 0.8476772904396057, 0.851544201374054, 0.821172833442688, 0.8059423565864563, 0.8146587610244751, 0.7840111255645752, 0.8220559358596802, 0.806543231010437, 0.6009829640388489, 0.5548437833786011, 0.5647612810134888, 0.5369569063186646, 0.5225186347961426, 0.498836874961853, 0.510606050491333, 0.5035489797592163, 0.4514268934726715, 0.47697776556015015, 0.45279330015182495, 0.4743318557739258, 0.3302534222602844, 0.2975636422634125, 0.26886290311813354, 0.2413492500782013, 0.22462964057922363, 0.2172883152961731, 0.2595387101173401, 0.33357274532318115, 0.22599124908447266, 0.23415416479110718, 0.2747170627117157, 0.29281362891197205, 0.2690301537513733, 0.2898710370063782, 0.31117314100265503, 0.28126809000968933, 0.25847187638282776, 0.29437994956970215, 0.2897963523864746, 0.26866579055786133, 0.2852635681629181, 0.2807712256908417, 0.23172476887702942, 0.2794121205806732, 0.34546157717704773, 0.3741692900657654, 0.33362409472465515, 0.32375749945640564, 0.33936041593551636, 0.37819695472717285, 0.34939831495285034, 0.3599987030029297, 0.315125048160553, 0.3469008505344391, 0.32936686277389526, 0.3742389976978302, 0.34734946489334106, 0.37389785051345825, 0.3244186043739319, 0.3241194486618042, 0.3886431157588959, 0.30440279841423035, 0.2761591672897339, 0.30170848965644836, 0.3135873079299927, 0.3041556179523468, 0.32527410984039307, 0.3186476230621338, 0.34204331040382385, 0.2923416495323181, 0.3380594849586487, 0.10697120428085327, 0.13396912813186646, 0.10724908113479614, 0.07380175590515137, 0.08492177724838257, 0.05877089500427246, 0.05122417211532593, 0.02696138620376587, 0.03929060697555542, 0.06075465679168701, 0.03570687770843506, 0.04938387870788574, 0.0570223331451416, 0.0045912861824035645, -0.040550291538238525, -0.05220985412597656, -0.04836982488632202, -0.045787155628204346, -0.030264973640441895, -0.03559243679046631, -0.02426302433013916, -0.07528996467590332, -0.10932707786560059, -0.09335553646087646, -0.07039892673492432, -0.03508460521697998, -0.008351325988769531, 0.016098320484161377, -0.019392430782318115, -0.008204340934753418, -0.023312270641326904, -0.010564565658569336, 0.022620320320129395, -0.004940807819366455, 0.01435840129852295, -0.011617302894592285, -0.02765488624572754, 0.043516457080841064, 0.07914823293685913, 0.08810007572174072, 0.07112914323806763, 0.04455673694610596, 0.034409940242767334, 0.03013467788696289, 0.07827353477478027, 0.06223791837692261, 0.05644446611404419, 0.07892680168151855, 0.10218995809555054, 0.07379549741744995, 0.07137686014175415, 0.052489638328552246, 0.1032869815826416, 0.10999089479446411, 0.09981846809387207, 0.10621881484985352, 0.09782987833023071, 0.12763822078704834, 0.1656343936920166, 0.14988726377487183, 0.11408627033233643, 0.11564326286315918, 0.1068304181098938, 0.09806126356124878, 0.5327651500701904, 0.6101749539375305, 0.609721839427948, 0.45599013566970825, 0.3388463854789734, 0.29482144117355347, 0.3158884644508362, 0.31694626808166504, 0.3443877398967743, 0.32985568046569824, 0.33184704184532166, 0.3065391182899475, 0.247391015291214, 0.23048025369644165, 0.2507631778717041, 0.25639575719833374, 0.2119431495666504, 0.17744863033294678, 0.15333420038223267, 0.1726875901222229, 0.11049848794937134, 0.18478012084960938, 0.17668643593788147, 0.23153868317604065, 0.28010034561157227, 0.2681153416633606, 0.26912206411361694, 0.27184411883354187, 0.2881970703601837, 0.3250032067298889, 0.33370891213417053, 0.36032310128211975, 0.4172363877296448, 0.3604241609573364, 0.32590633630752563, 0.3136667013168335, 0.3613641858100891, 0.37329673767089844, 0.4198012351989746, 0.3064819276332855, 0.33509719371795654, 0.2729761600494385, 0.3154109716415405, 0.3044852912425995, 0.29704785346984863, 0.24736452102661133, 0.29116392135620117, 0.29579097032546997, 0.3064256012439728]\n"
     ]
    }
   ],
   "source": [
    "print(predicted_list)"
   ]
  },
  {
   "cell_type": "code",
   "execution_count": 654,
   "metadata": {},
   "outputs": [
    {
     "data": {
      "image/png": "[encoded data removed]",
      "text/plain": [
       "<Figure size 640x480 with 1 Axes>"
      ]
     },
     "metadata": {},
     "output_type": "display_data"
    }
   ],
   "source": [
    "fig, ax = plt.subplots()\n",
    "\n",
    "# Add the targets and predictions to the plot\n",
    "ax.plot(target_list, label='Targets')\n",
    "ax.plot(predicted_list, label='Predictions')\n",
    "\n",
    "# Add labels and title\n",
    "ax.set_xlabel('Index')\n",
    "ax.set_ylabel('Values')\n",
    "ax.set_title('Targets and Predictions')\n",
    "\n",
    "# Add a legend\n",
    "ax.legend()\n",
    "\n",
    "# Show the plot\n",
    "plt.show()"
   ]
  }
 ],
 "metadata": {
  "kernelspec": {
   "display_name": "ml_accel",
   "language": "python",
   "name": "python3"
  },
  "language_info": {
   "codemirror_mode": {
    "name": "ipython",
    "version": 3
   },
   "file_extension": ".py",
   "mimetype": "text/x-python",
   "name": "python",
   "nbconvert_exporter": "python",
   "pygments_lexer": "ipython3",
   "version": "3.9.1"
  },
  "orig_nbformat": 4
 },
 "nbformat": 4,
 "nbformat_minor": 2
}
